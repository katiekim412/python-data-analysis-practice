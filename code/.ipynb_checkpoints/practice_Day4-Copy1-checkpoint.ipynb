{
 "cells": [
  {
   "cell_type": "code",
   "execution_count": 1,
   "id": "1565a068-7334-4c01-ae7b-3f5a5c67ee60",
   "metadata": {},
   "outputs": [],
   "source": [
    "import requests\n",
    "import xmltodict\n",
    "import json\n",
    "from pprint import pprint\n",
    "from tqdm.notebook import tqdm\n",
    "import pandas as pd"
   ]
  },
  {
   "cell_type": "code",
   "execution_count": 2,
   "id": "1932ba98-814d-4616-87b4-7aab0a709cff",
   "metadata": {},
   "outputs": [],
   "source": [
    "url = 'https://openapi.gg.go.kr/GgHosptlM'"
   ]
  },
  {
   "cell_type": "code",
   "execution_count": 3,
   "id": "cee2dc3c-e1e1-48b0-b021-190d8ca63597",
   "metadata": {},
   "outputs": [],
   "source": [
    "api_key = '557a4f86f7064f3aad5ef136c0efb6dc'"
   ]
  },
  {
   "cell_type": "code",
   "execution_count": 4,
   "id": "b059c598-bf15-48c7-bcef-9ade2b0da20b",
   "metadata": {},
   "outputs": [],
   "source": [
    "query = {\n",
    "    'KEY': api_key, \n",
    "    'pSize': 100, \n",
    "    'pIndex': 1, \n",
    "    'Type': 'xml', \n",
    "    'baseDt': '202401'\n",
    "}"
   ]
  },
  {
   "cell_type": "code",
   "execution_count": null,
   "id": "0d2eec6e-1218-4633-a064-71aaa34ff8d4",
   "metadata": {},
   "outputs": [],
   "source": [
    "res = requests.get(url = url, params = query)"
   ]
  },
  {
   "cell_type": "code",
   "execution_count": null,
   "id": "d9ad3569-d7bc-4992-ab7d-98a1eae1182c",
   "metadata": {},
   "outputs": [],
   "source": [
    "res.status_code"
   ]
  },
  {
   "cell_type": "code",
   "execution_count": null,
   "id": "6ddbeaa2-5505-4c6b-a226-535e57655ef3",
   "metadata": {},
   "outputs": [],
   "source": [
    "res.headers['content-type']"
   ]
  },
  {
   "cell_type": "code",
   "execution_count": null,
   "id": "a9113f0f-d7b8-4dd4-b457-6a692fc35f09",
   "metadata": {},
   "outputs": [],
   "source": [
    "res.text\n",
    "type(res.text)"
   ]
  },
  {
   "cell_type": "raw",
   "id": "8cb56ace-b378-4c15-b9b3-eb28a773a207",
   "metadata": {},
   "source": [
    "# xml -> dict\n",
    "dat = xmltodict.parse(res.text)\n",
    "type(dat)"
   ]
  },
  {
   "cell_type": "code",
   "execution_count": null,
   "id": "12a3ed08-45a9-4c9e-9e3f-1ca1f59c9f25",
   "metadata": {},
   "outputs": [],
   "source": [
    "# json -> dict\n",
    "dat = json.loads(res.text)\n",
    "type(dat)"
   ]
  },
  {
   "cell_type": "code",
   "execution_count": null,
   "id": "762947a4-a76f-44f7-9064-c2d6c13afc74",
   "metadata": {
    "scrolled": true
   },
   "outputs": [],
   "source": [
    "pprint(dat)"
   ]
  },
  {
   "cell_type": "code",
   "execution_count": null,
   "id": "89a6869b-c73d-4581-b2aa-f3e896c3dfa3",
   "metadata": {},
   "outputs": [],
   "source": [
    "totalCount = int(dat['responseJson']['header']['totalCount'])\n",
    "totalCount"
   ]
  },
  {
   "cell_type": "code",
   "execution_count": null,
   "id": "ab672998-b5b4-418f-951c-00cb0596987e",
   "metadata": {},
   "outputs": [],
   "source": [
    "rows = 100\n",
    "pages = int(totalCount / rows) + 1\n",
    "pages"
   ]
  },
  {
   "cell_type": "code",
   "execution_count": null,
   "id": "ff05c476-e796-4f05-a0b5-9c1e8cfc2fcc",
   "metadata": {},
   "outputs": [],
   "source": [
    "df = pd.DataFrame(data = dat['responseJson']['body']['item'])\n",
    "df.shape"
   ]
  },
  {
   "cell_type": "code",
   "execution_count": null,
   "id": "47b1a6d1-f5a3-41c6-8a4e-b7168cef2a75",
   "metadata": {},
   "outputs": [],
   "source": [
    "def mprcTotalCount(ymonth, rows = 100):\n",
    "    url = 'http://apis.data.go.kr/1192000/select0090List/getselect0090List'\n",
    "    query = {\n",
    "        'serviceKey': 'PBJct2NnY43P0PBlqdr3cVao2RJ5bJ0BQOgV9PIOdQFjCCG259NS9FMREH8bJILFOMoxa35pQsOSmLw7Qawprg==', \n",
    "        'numOfRows': rows, \n",
    "        'pageNo': 1, \n",
    "        'type': 'json', \n",
    "        'baseDt': ymonth\n",
    "    }\n",
    "    res = requests.get(url = url, params = query)\n",
    "    dat = json.loads(res.text)\n",
    "    totalCount = int(dat['responseJson']['header']['totalCount'])\n",
    "    pages = int(totalCount / rows) + 1\n",
    "    return totalCount, pages"
   ]
  },
  {
   "cell_type": "code",
   "execution_count": null,
   "id": "ddf8638b-56ce-451e-9d48-480b373166d9",
   "metadata": {},
   "outputs": [],
   "source": [
    "totalCount, pages = mprcTotalCount(ymonth = '202401')\n",
    "print(totalCount)\n",
    "print(pages)"
   ]
  },
  {
   "cell_type": "code",
   "execution_count": null,
   "id": "54c36e8f-48b4-4870-9cd3-808514f3652a",
   "metadata": {},
   "outputs": [],
   "source": [
    "def mprcDataFrame(ymonth, rows = 100, page = 1):\n",
    "    url = 'http://apis.data.go.kr/1192000/select0090List/getselect0090List'\n",
    "    query = {\n",
    "        'serviceKey': 'PBJct2NnY43P0PBlqdr3cVao2RJ5bJ0BQOgV9PIOdQFjCCG259NS9FMREH8bJILFOMoxa35pQsOSmLw7Qawprg==', \n",
    "        'numOfRows': rows, \n",
    "        'pageNo': page, \n",
    "        'type': 'json', \n",
    "        'baseDt': ymonth\n",
    "    }\n",
    "    res = requests.get(url = url, params = query)\n",
    "    dat = json.loads(res.text)\n",
    "    df = pd.DataFrame(data = dat['responseJson']['body']['item'])\n",
    "    return df"
   ]
  },
  {
   "cell_type": "code",
   "execution_count": null,
   "id": "2e630515-76ae-41e6-806b-9d909c898e58",
   "metadata": {},
   "outputs": [],
   "source": [
    "df = mprcDataFrame(ymonth = '202401')\n",
    "df.shape"
   ]
  },
  {
   "cell_type": "code",
   "execution_count": null,
   "id": "eaa59fa8-4dce-41b4-b2c4-f3e9549eafb2",
   "metadata": {},
   "outputs": [],
   "source": [
    "dfs = pd.DataFrame()\n",
    "for page in tqdm(range(pages)):\n",
    "    page += 1\n",
    "    df = mprcDataFrame(ymonth = '202401', page = page)\n",
    "    dfs = pd.concat(objs = [dfs, df])"
   ]
  },
  {
   "cell_type": "code",
   "execution_count": null,
   "id": "ce4006e4-ccd2-446f-8dc8-f9ce78f6c3d8",
   "metadata": {},
   "outputs": [],
   "source": [
    "dfs.shape"
   ]
  },
  {
   "cell_type": "code",
   "execution_count": null,
   "id": "949d6780-f1ab-4b45-988d-d1b83fe2dc59",
   "metadata": {},
   "outputs": [],
   "source": [
    "def mprcDataset(ymonth):\n",
    "    totalCount, pages = mprcTotalCount(ymonth = ymonth)\n",
    "    dfs = pd.DataFrame()\n",
    "    for page in tqdm(range(pages)):\n",
    "        page += 1\n",
    "        df = mprcDataFrame(ymonth = ymonth, page = page)\n",
    "        dfs = pd.concat(objs = [dfs, df])\n",
    "    return dfs"
   ]
  },
  {
   "cell_type": "code",
   "execution_count": null,
   "id": "fe055695-964d-426d-86c5-385d32b860c4",
   "metadata": {},
   "outputs": [],
   "source": [
    "df = mprcDataset(ymonth = '202401')\n",
    "df.shape"
   ]
  },
  {
   "cell_type": "code",
   "execution_count": null,
   "id": "d66343fd-b881-49e0-a782-7792cdfd330a",
   "metadata": {},
   "outputs": [],
   "source": [
    "ymonths = range(202401, 202413)\n",
    "dfs = pd.DataFrame()\n",
    "for ymonth in tqdm(ymonths):\n",
    "    df = mprcDataset(ymonth = ymonth)\n",
    "    dfs = pd.concat(objs = [dfs, df])"
   ]
  },
  {
   "cell_type": "code",
   "execution_count": null,
   "id": "28e2e90e-8233-4228-90a2-3d8133dd0034",
   "metadata": {},
   "outputs": [],
   "source": [
    "dfs.shape"
   ]
  },
  {
   "cell_type": "code",
   "execution_count": null,
   "id": "547e7330-f0b4-4df4-a25c-47dfa234a8ad",
   "metadata": {},
   "outputs": [],
   "source": [
    "dfs"
   ]
  },
  {
   "cell_type": "code",
   "execution_count": null,
   "id": "632ef2c1-eeec-4894-a890-8c54a0cb8b9e",
   "metadata": {},
   "outputs": [],
   "source": [
    "dfs = dfs.reset_index(drop = True)"
   ]
  },
  {
   "cell_type": "code",
   "execution_count": null,
   "id": "65fa8e82-b543-43bf-b9fd-517d1135dedb",
   "metadata": {},
   "outputs": [],
   "source": [
    "import os"
   ]
  },
  {
   "cell_type": "code",
   "execution_count": null,
   "id": "e0796b72-7b99-46ca-9baf-953a7c38b5f8",
   "metadata": {},
   "outputs": [],
   "source": [
    "os.getcwd()"
   ]
  },
  {
   "cell_type": "code",
   "execution_count": null,
   "id": "b7b24d9c-d861-47fd-9bf8-18880b5657b6",
   "metadata": {},
   "outputs": [],
   "source": [
    "os.chdir(path = 'C:\\\\Users\\\\user\\\\Documents\\\\project\\\\data')\n",
    "os.getcwd()"
   ]
  },
  {
   "cell_type": "code",
   "execution_count": null,
   "id": "8e01208f-7d5b-4b65-8d64-c2496187b565",
   "metadata": {},
   "outputs": [],
   "source": [
    "%time dfs.to_excel('MPRC_2024.xlsx', index = False)"
   ]
  },
  {
   "cell_type": "code",
   "execution_count": null,
   "id": "955beaf1-7667-48c6-a33b-33c75fe5dac7",
   "metadata": {},
   "outputs": [],
   "source": [
    "%time dfs.to_csv('MPRC_2024.csv', index = False, encoding = 'CP949')"
   ]
  },
  {
   "cell_type": "code",
   "execution_count": null,
   "id": "960729dc-2af6-47df-8b28-9e420bb3d26e",
   "metadata": {},
   "outputs": [],
   "source": [
    "os.listdir()"
   ]
  },
  {
   "cell_type": "code",
   "execution_count": null,
   "id": "d83b87ae-737a-45c1-a56b-ad2906f60a39",
   "metadata": {},
   "outputs": [],
   "source": []
  },
  {
   "cell_type": "code",
   "execution_count": null,
   "id": "f447981e-583e-4ce1-a114-4210a7deff2f",
   "metadata": {},
   "outputs": [],
   "source": []
  },
  {
   "cell_type": "code",
   "execution_count": null,
   "id": "b877f27f-6584-4d1e-868e-3e564547e87a",
   "metadata": {},
   "outputs": [],
   "source": [
    "import os\n",
    "import numpy as np\n",
    "import pandas as pd"
   ]
  },
  {
   "cell_type": "code",
   "execution_count": null,
   "id": "85fb2e4e-2336-41c8-8a34-c0efeeab2686",
   "metadata": {},
   "outputs": [],
   "source": [
    "os.getcwd()"
   ]
  },
  {
   "cell_type": "code",
   "execution_count": null,
   "id": "6688f0a5-e5e5-4bf1-8868-0a89b27eee25",
   "metadata": {},
   "outputs": [],
   "source": [
    "# 상대 경로: '.'(현재 폴더), '..'(부모 폴더)\n",
    "os.chdir(path = '../data')\n",
    "os.getcwd()"
   ]
  },
  {
   "cell_type": "code",
   "execution_count": null,
   "id": "13b5bf3f-13da-4aca-a152-ac031178efb1",
   "metadata": {},
   "outputs": [],
   "source": [
    "os.listdir()"
   ]
  },
  {
   "cell_type": "code",
   "execution_count": null,
   "id": "42fbe670-6365-40b4-b230-adaf43826bac",
   "metadata": {},
   "outputs": [],
   "source": [
    "os.chdir(path = '../code')\n",
    "os.listdir()"
   ]
  },
  {
   "cell_type": "code",
   "execution_count": null,
   "id": "c39b0513-c4a8-490f-ad87-35b217a90fd1",
   "metadata": {},
   "outputs": [],
   "source": [
    "os.chdir(path = '../data')\n",
    "os.getcwd()"
   ]
  },
  {
   "cell_type": "code",
   "execution_count": null,
   "id": "287a45aa-0751-4062-aa86-f4965e576a68",
   "metadata": {},
   "outputs": [],
   "source": [
    "os.listdir()"
   ]
  },
  {
   "cell_type": "code",
   "execution_count": null,
   "id": "596a2902-f7f8-4ab7-b85d-2384ee979448",
   "metadata": {},
   "outputs": [],
   "source": [
    "%time df = pd.read_excel('MPRC_2024.xlsx')"
   ]
  },
  {
   "cell_type": "code",
   "execution_count": null,
   "id": "9cb74a8a-39dc-4430-a519-b81f850190b6",
   "metadata": {},
   "outputs": [],
   "source": [
    "%time df = pd.read_csv('MPRC_2024.csv', encoding = 'CP949')"
   ]
  },
  {
   "cell_type": "code",
   "execution_count": null,
   "id": "c04b81b8-3f6a-472d-90d7-2a95473aac0a",
   "metadata": {},
   "outputs": [],
   "source": [
    "df.head(n = 3)"
   ]
  },
  {
   "cell_type": "code",
   "execution_count": null,
   "id": "660b455f-e332-4d83-9b57-e101d8618652",
   "metadata": {},
   "outputs": [],
   "source": [
    "df.tail()"
   ]
  },
  {
   "cell_type": "code",
   "execution_count": null,
   "id": "a3abfbc6-bbc8-4c96-be82-bdeb6cf066a2",
   "metadata": {},
   "outputs": [],
   "source": [
    "# 재현 가능한 결과를 얻기 위해 초기값을 고정해줍니다.\n",
    "df.sample(random_state = 1)"
   ]
  },
  {
   "cell_type": "code",
   "execution_count": null,
   "id": "77e6974a-80a7-45bd-be1a-69853245c3e3",
   "metadata": {},
   "outputs": [],
   "source": [
    "df.info()"
   ]
  },
  {
   "cell_type": "code",
   "execution_count": null,
   "id": "c6bc5c33-0379-4629-878f-90c462a72135",
   "metadata": {},
   "outputs": [],
   "source": [
    "df.columns"
   ]
  },
  {
   "cell_type": "code",
   "execution_count": null,
   "id": "9af7d54b-5379-4a24-81ae-24a153e91cab",
   "metadata": {},
   "outputs": [],
   "source": [
    "df.columns = ['기준년월', '국가코드', '수산물코드', '수출입코드', '국가명',\n",
    "              '경제블럭명', '수산물명', '수출입명', '중량', '달러']"
   ]
  },
  {
   "cell_type": "code",
   "execution_count": null,
   "id": "d84bddd6-17bd-4366-8ec6-39dce24128ce",
   "metadata": {},
   "outputs": [],
   "source": [
    "df.head()"
   ]
  },
  {
   "cell_type": "code",
   "execution_count": null,
   "id": "e0748973-c991-45f4-8133-78ee4cce5471",
   "metadata": {},
   "outputs": [],
   "source": [
    "# df.drop(columns = ['국가코드', '수산물코드', '수출입코드', '경제블럭명'], inplace = True)\n",
    "df = df.drop(columns = ['국가코드', '수산물코드', '수출입코드', '경제블럭명'])"
   ]
  },
  {
   "cell_type": "code",
   "execution_count": null,
   "id": "1e497dac-067d-4b66-aec4-bd9dfef65afc",
   "metadata": {},
   "outputs": [],
   "source": [
    "df.shape"
   ]
  },
  {
   "cell_type": "code",
   "execution_count": null,
   "id": "eee19cd5-a875-42b8-abba-0767c7839658",
   "metadata": {},
   "outputs": [],
   "source": [
    "df.dtypes"
   ]
  },
  {
   "cell_type": "code",
   "execution_count": null,
   "id": "d1f79bbe-bec7-42c7-bd0e-869a621d1086",
   "metadata": {},
   "outputs": [],
   "source": [
    "df['기준년월'] = df['기준년월'].astype(str)"
   ]
  },
  {
   "cell_type": "code",
   "execution_count": null,
   "id": "3aabb5e0-d9ee-4058-8073-60d030875fd7",
   "metadata": {},
   "outputs": [],
   "source": [
    "df.dtypes"
   ]
  },
  {
   "cell_type": "code",
   "execution_count": null,
   "id": "eb74c959-6de0-434d-91f8-8922efbbf929",
   "metadata": {},
   "outputs": [],
   "source": [
    "df.head()"
   ]
  },
  {
   "cell_type": "code",
   "execution_count": null,
   "id": "832331d2-5710-499a-a1de-71340a2c9bf9",
   "metadata": {},
   "outputs": [],
   "source": [
    "df['수산물명'].unique()"
   ]
  },
  {
   "cell_type": "code",
   "execution_count": null,
   "id": "ab7b056f-bf9b-41cf-9241-0d8fe6c9b37f",
   "metadata": {},
   "outputs": [],
   "source": [
    "df['수산물명'].nunique()"
   ]
  },
  {
   "cell_type": "code",
   "execution_count": null,
   "id": "7a620d59-a5c5-454c-8844-e53f1a181801",
   "metadata": {},
   "outputs": [],
   "source": [
    "df['수산물명'].value_counts().sort_index().to_excel('MPRC_List.xlsx')"
   ]
  },
  {
   "cell_type": "code",
   "execution_count": null,
   "id": "b42a2b6d-e65e-4501-b67a-41ea8ad24143",
   "metadata": {},
   "outputs": [],
   "source": [
    "df['수산물명'].head()"
   ]
  },
  {
   "cell_type": "code",
   "execution_count": null,
   "id": "51ff67d9-8d17-46b5-842b-ba581bc8596b",
   "metadata": {},
   "outputs": [],
   "source": [
    "# str accessor(접근자): 시리즈 원소에 대해 문자열을 처리하는 특별한 객체\n",
    "# 문자열을 처리하는 다양한 함수를 가지고 있음(모듈)\n",
    "# raw-string은 문자열 안에 있는 모든 이스케이프의 기능을 해제합니다.\n",
    "df['수산물명'] = df['수산물명'].str.replace(pat = r'(\\(|\\[|\\{).+', repl = '', regex = True)"
   ]
  },
  {
   "cell_type": "code",
   "execution_count": null,
   "id": "b5eb2a5d-ee0e-42b6-bfb8-60cfed680863",
   "metadata": {},
   "outputs": [],
   "source": [
    "df['수산물명'].value_counts().sort_index().to_excel('MPRC_List_2.xlsx')"
   ]
  },
  {
   "cell_type": "code",
   "execution_count": null,
   "id": "c8e833c5-bf69-48e2-ad6d-c72d99f1a0b1",
   "metadata": {},
   "outputs": [],
   "source": [
    "cond = (df['국가명'] == '일본')\n",
    "cond"
   ]
  },
  {
   "cell_type": "code",
   "execution_count": null,
   "id": "9f8f3ad5-f863-4977-86be-0c98ab0a6eff",
   "metadata": {},
   "outputs": [],
   "source": [
    "cond.sum()"
   ]
  },
  {
   "cell_type": "code",
   "execution_count": null,
   "id": "4875abb6-2326-4382-8152-3f26898e70cc",
   "metadata": {},
   "outputs": [],
   "source": [
    "# 불리언 인덱싱: 조건에 맞는 행 또는 열만 선택하기\n",
    "jpn = df.loc[cond, :]"
   ]
  },
  {
   "cell_type": "code",
   "execution_count": null,
   "id": "b96e6224-d831-43a6-8ded-1ca88ee5d396",
   "metadata": {},
   "outputs": [],
   "source": [
    "jpn.shape"
   ]
  },
  {
   "cell_type": "code",
   "execution_count": null,
   "id": "16f7db69-159e-492a-9390-36ad2e8943b4",
   "metadata": {},
   "outputs": [],
   "source": [
    "jpn.head()"
   ]
  },
  {
   "cell_type": "code",
   "execution_count": null,
   "id": "9a61a82e-25b8-496f-8e2a-ea9539d27930",
   "metadata": {},
   "outputs": [],
   "source": [
    "jpn['달러'].sum()"
   ]
  },
  {
   "cell_type": "code",
   "execution_count": null,
   "id": "a418db75-eb60-4317-8d73-26b984b9a0f6",
   "metadata": {},
   "outputs": [],
   "source": [
    "jpn.loc[jpn['수출입명'] == '수출', '달러'].sum()"
   ]
  },
  {
   "cell_type": "code",
   "execution_count": null,
   "id": "ebcba58d-1610-4857-8b62-996ce8f5dfdc",
   "metadata": {},
   "outputs": [],
   "source": [
    "jpn.loc[jpn['수출입명'] == '수입', '달러'].sum()"
   ]
  },
  {
   "cell_type": "code",
   "execution_count": null,
   "id": "2cf72156-11e4-4458-a454-0d83e0a4e7c2",
   "metadata": {},
   "outputs": [],
   "source": [
    "jpn.groupby(by = '수출입명')['달러'].sum()"
   ]
  },
  {
   "cell_type": "code",
   "execution_count": null,
   "id": "860c0ac4-8cee-4847-b4b5-a08e031c6b1b",
   "metadata": {},
   "outputs": [],
   "source": [
    "jpn.groupby(by = '수산물명')['달러'].sum().sort_values()"
   ]
  },
  {
   "cell_type": "code",
   "execution_count": null,
   "id": "3238f4dd-5bec-4c81-ba0d-ea5d197d2385",
   "metadata": {},
   "outputs": [],
   "source": [
    "jpn.loc[jpn['수출입명'] == '수출', :].groupby(by = '수산물명')['달러'].sum().sort_values()"
   ]
  },
  {
   "cell_type": "code",
   "execution_count": null,
   "id": "ec4fe28c-e6bf-4041-8aba-457cc42d17e8",
   "metadata": {},
   "outputs": [],
   "source": [
    "jpn.loc[jpn['수출입명'] == '수입', :].groupby(by = '수산물명')['달러'].sum().sort_values()"
   ]
  },
  {
   "cell_type": "code",
   "execution_count": null,
   "id": "7c990949-a00f-4e2c-9c14-65dcf0e23551",
   "metadata": {},
   "outputs": [],
   "source": [
    "jpn.groupby(by = ['수출입명', '수산물명'])['달러'].sum().sort_values()"
   ]
  },
  {
   "cell_type": "code",
   "execution_count": null,
   "id": "0fa01d93-e62f-4f23-a240-c3f9e28d241e",
   "metadata": {},
   "outputs": [],
   "source": [
    "pvt = pd.pivot_table(data = jpn, index = '수산물명', columns = '수출입명', \n",
    "                     values = '달러', aggfunc = 'sum', fill_value = 0)"
   ]
  },
  {
   "cell_type": "code",
   "execution_count": null,
   "id": "5a012a9c-96a6-4865-9fba-5bbf5e9cff85",
   "metadata": {},
   "outputs": [],
   "source": [
    "pvt.head()"
   ]
  },
  {
   "cell_type": "code",
   "execution_count": null,
   "id": "e2b0b3f3-d7b1-4982-b561-2964bd25cf8b",
   "metadata": {},
   "outputs": [],
   "source": [
    "pvt.columns"
   ]
  },
  {
   "cell_type": "code",
   "execution_count": null,
   "id": "c51ca0fe-521e-4351-8ccd-423c9b32820e",
   "metadata": {},
   "outputs": [],
   "source": [
    "pvt.index"
   ]
  },
  {
   "cell_type": "code",
   "execution_count": null,
   "id": "b3acdca8-c9b7-4c78-9275-ab82c7724977",
   "metadata": {},
   "outputs": [],
   "source": [
    "pvt = pvt.reset_index()"
   ]
  },
  {
   "cell_type": "code",
   "execution_count": null,
   "id": "1d0ada97-57dd-4bec-8909-fd75f6fc9316",
   "metadata": {},
   "outputs": [],
   "source": [
    "pvt.columns.name = None"
   ]
  },
  {
   "cell_type": "code",
   "execution_count": null,
   "id": "edf2948f-1ff1-47f6-8dab-530c68bc04b8",
   "metadata": {},
   "outputs": [],
   "source": [
    "pvt.head()"
   ]
  },
  {
   "cell_type": "code",
   "execution_count": null,
   "id": "ed3b1e8e-a970-449b-b603-d49c75446e8b",
   "metadata": {},
   "outputs": [],
   "source": [
    "pvt['무역수지'] = pvt['수출'] - pvt['수입']"
   ]
  },
  {
   "cell_type": "code",
   "execution_count": null,
   "id": "4870f0ab-985f-408e-a44b-ff235e8e19ba",
   "metadata": {
    "scrolled": true
   },
   "outputs": [],
   "source": [
    "pvt.head()"
   ]
  },
  {
   "cell_type": "code",
   "execution_count": null,
   "id": "06572d7b-9b95-4864-91e9-64248cb173d8",
   "metadata": {},
   "outputs": [],
   "source": [
    "pvt.sort_values(by = '무역수지', ascending = False)"
   ]
  },
  {
   "cell_type": "code",
   "execution_count": null,
   "id": "0fcbb008-fca7-4334-ae90-651b3d3c5404",
   "metadata": {},
   "outputs": [],
   "source": [
    "def mprcItemIndex(nation):\n",
    "    cond = (df['국가명'] == nation)\n",
    "    nat = df.loc[cond, :]\n",
    "    pvt = pd.pivot_table(data = nat, index = '수산물명', columns = '수출입명', \n",
    "                         values = '달러', aggfunc = 'sum', fill_value = 0)\n",
    "    pvt = pvt.reset_index()\n",
    "    pvt.columns.name = None\n",
    "    pvt['무역수지'] = pvt['수출'] - pvt['수입']\n",
    "    pvt = pvt.sort_values(by = '무역수지', ascending = False)\n",
    "    return pvt"
   ]
  },
  {
   "cell_type": "code",
   "execution_count": null,
   "id": "ffd4ef82-e09e-4583-bde3-6692fec21b31",
   "metadata": {},
   "outputs": [],
   "source": [
    "mprcItemIndex(nation = '일본')"
   ]
  },
  {
   "cell_type": "code",
   "execution_count": null,
   "id": "4a6f7e51-04c0-4f24-8f69-bb3ca60057b6",
   "metadata": {},
   "outputs": [],
   "source": [
    "# 수출입 상대 국가 개수를 구해보세요.\n",
    "df['국가명'].nunique()"
   ]
  },
  {
   "cell_type": "code",
   "execution_count": null,
   "id": "a2e6d5b3-3962-44cb-83a1-288cc9bbc59c",
   "metadata": {},
   "outputs": [],
   "source": [
    "# 인덱스에 '국가명', 컬럼스에 '수출입명'으로 설정하고 '달러' 합계를 피벗 테이블로 생성합니다.\n",
    "# '수출'에서 '수입'을 뺀 '무역수지'를 추가하고 내림차순 정렬하세요.\n",
    "pvt = pd.pivot_table(data = df, index = '국가명', columns = '수출입명', \n",
    "                     values = '달러', aggfunc = 'sum', fill_value = 0)\n",
    "pvt = pvt.reset_index()\n",
    "pvt.columns.name = None\n",
    "pvt['무역수지'] = pvt['수출'] - pvt['수입']\n",
    "pvt = pvt.sort_values(by = '무역수지', ascending = False)"
   ]
  },
  {
   "cell_type": "code",
   "execution_count": null,
   "id": "67862fdb-26a9-403f-93d9-1e1a9e058788",
   "metadata": {},
   "outputs": [],
   "source": [
    "pvt"
   ]
  },
  {
   "cell_type": "code",
   "execution_count": null,
   "id": "e72aeff9-85ce-40d7-9aba-30e18c430115",
   "metadata": {},
   "outputs": [],
   "source": [
    "mprcItemIndex(nation = '미국')"
   ]
  },
  {
   "cell_type": "code",
   "execution_count": null,
   "id": "2bcd3188-ca6e-4203-90fd-1ce3636a758f",
   "metadata": {},
   "outputs": [],
   "source": [
    "mprcItemIndex(nation = '중국')"
   ]
  },
  {
   "cell_type": "code",
   "execution_count": null,
   "id": "89a498d4-e583-48d7-81b1-fd6273fd377c",
   "metadata": {},
   "outputs": [],
   "source": [
    "mprcItemIndex(nation = '러시아')"
   ]
  },
  {
   "cell_type": "code",
   "execution_count": null,
   "id": "c6ecc044-cbf1-46aa-966b-73bdb96af48f",
   "metadata": {},
   "outputs": [],
   "source": [
    "mprcItemIndex(nation = '베트남')"
   ]
  },
  {
   "cell_type": "code",
   "execution_count": null,
   "id": "93b77444-ac2d-4ee2-9468-5f4b5e2159d2",
   "metadata": {},
   "outputs": [],
   "source": [
    "mprcItemIndex(nation = '노르웨이')"
   ]
  },
  {
   "cell_type": "code",
   "execution_count": null,
   "id": "edb7aa22-82d9-4c06-8d91-be06807d0be9",
   "metadata": {},
   "outputs": [],
   "source": [
    "mprcItemIndex(nation = '페루')"
   ]
  },
  {
   "cell_type": "code",
   "execution_count": null,
   "id": "b6ca2627-0b80-4237-8eca-e5e6187a59b8",
   "metadata": {},
   "outputs": [],
   "source": [
    "mprcItemIndex(nation = '태국')"
   ]
  },
  {
   "cell_type": "code",
   "execution_count": null,
   "id": "b0c8cf74-2610-4835-8719-9a8150b06b14",
   "metadata": {},
   "outputs": [],
   "source": [
    "mprcItemIndex(nation = '프랑스')"
   ]
  },
  {
   "cell_type": "code",
   "execution_count": null,
   "id": "ebc11c7a-535d-4d87-a70e-21221270ecbf",
   "metadata": {},
   "outputs": [],
   "source": [
    "mprcItemIndex(nation = '나이지리아')"
   ]
  },
  {
   "cell_type": "code",
   "execution_count": null,
   "id": "34398929-2592-460d-a978-44abc8bbd9e8",
   "metadata": {},
   "outputs": [],
   "source": [
    "pvt = pd.pivot_table(data = df, index = '기준년월', columns = '수출입명', \n",
    "                     values = '달러', aggfunc = 'sum', fill_value = 0)\n",
    "pvt = pvt.reset_index()\n",
    "pvt.columns.name = None\n",
    "pvt['무역수지'] = pvt['수출'] - pvt['수입']\n",
    "pvt = pvt.sort_values(by = '무역수지', ascending = False)"
   ]
  },
  {
   "cell_type": "code",
   "execution_count": null,
   "id": "1b2bd957-c61a-4b58-a279-61df9a8120a8",
   "metadata": {},
   "outputs": [],
   "source": [
    "pvt"
   ]
  },
  {
   "cell_type": "code",
   "execution_count": null,
   "id": "3afa74bd-bca5-4da8-987b-7ddad6336f73",
   "metadata": {},
   "outputs": [],
   "source": [
    "cond = (df['기준년월'] == '202412')\n",
    "mon = df.loc[cond, :]\n",
    "pvt = pd.pivot_table(data = mon, index = '수산물명', columns = '수출입명', \n",
    "                     values = '달러', aggfunc = 'sum', fill_value = 0)\n",
    "pvt = pvt.reset_index()\n",
    "pvt.columns.name = None\n",
    "pvt['무역수지'] = pvt['수출'] - pvt['수입']\n",
    "pvt = pvt.sort_values(by = '무역수지', ascending = False)"
   ]
  },
  {
   "cell_type": "code",
   "execution_count": null,
   "id": "85b710e5-80df-48a5-91d5-3f7b6a82e83a",
   "metadata": {},
   "outputs": [],
   "source": [
    "pvt"
   ]
  },
  {
   "cell_type": "code",
   "execution_count": null,
   "id": "4526a0d9-980c-43a1-ba38-c3b5dbd3f3c9",
   "metadata": {},
   "outputs": [],
   "source": []
  },
  {
   "cell_type": "code",
   "execution_count": null,
   "id": "bedb93c3-ca5b-437d-8924-bc41383c2f03",
   "metadata": {},
   "outputs": [],
   "source": []
  },
  {
   "cell_type": "code",
   "execution_count": null,
   "id": "9134ea5a-f2b0-420b-9b1f-5a8b46824b52",
   "metadata": {},
   "outputs": [],
   "source": []
  },
  {
   "cell_type": "code",
   "execution_count": 1,
   "id": "a18d44eb-e79a-4e78-9ff5-9c3e56a7b9c2",
   "metadata": {},
   "outputs": [],
   "source": [
    "import os\n",
    "import numpy as np\n",
    "import pandas as pd"
   ]
  },
  {
   "cell_type": "code",
   "execution_count": 2,
   "id": "477b0fd9-8085-4125-a656-5d6608776fb9",
   "metadata": {},
   "outputs": [
    {
     "data": {
      "text/plain": [
       "'C:\\\\Users\\\\user\\\\Documents\\\\project\\\\code'"
      ]
     },
     "execution_count": 2,
     "metadata": {},
     "output_type": "execute_result"
    }
   ],
   "source": [
    "os.getcwd()"
   ]
  },
  {
   "cell_type": "code",
   "execution_count": 3,
   "id": "d2835e5d-479c-427c-8bca-98c956baa997",
   "metadata": {},
   "outputs": [
    {
     "data": {
      "text/plain": [
       "'C:\\\\Users\\\\user\\\\Documents\\\\project\\\\data'"
      ]
     },
     "execution_count": 3,
     "metadata": {},
     "output_type": "execute_result"
    }
   ],
   "source": [
    "os.chdir(path = r'C:\\Users\\user\\Documents\\project\\data')\n",
    "os.getcwd()"
   ]
  },
  {
   "cell_type": "code",
   "execution_count": 4,
   "id": "be0d60ed-66e4-422b-9ee8-1850427b456c",
   "metadata": {
    "collapsed": true,
    "jupyter": {
     "outputs_hidden": true
    }
   },
   "outputs": [
    {
     "data": {
      "text/plain": [
       "['KBO_Hitter_Stats_2024.csv',\n",
       " 'KBO_Pitcher_Stats_2024.csv',\n",
       " 'MPRC_2024.csv',\n",
       " 'MPRC_2024.xlsx',\n",
       " 'MPRC_List.xlsx',\n",
       " 'MPRC_List_2.xlsx']"
      ]
     },
     "execution_count": 4,
     "metadata": {},
     "output_type": "execute_result"
    }
   ],
   "source": [
    "os.listdir()"
   ]
  },
  {
   "cell_type": "code",
   "execution_count": 6,
   "id": "3f5ae39b-f80c-4f8d-9f39-0b45f9b2c3ba",
   "metadata": {},
   "outputs": [],
   "source": [
    "df = pd.read_csv('KBO_Hitter_Stats_2024.csv', encoding = 'CP949')"
   ]
  },
  {
   "cell_type": "code",
   "execution_count": 7,
   "id": "42c75e92-19f5-4af3-8b09-af130ff1da58",
   "metadata": {
    "collapsed": true,
    "jupyter": {
     "outputs_hidden": true
    }
   },
   "outputs": [
    {
     "data": {
      "text/html": [
       "<div>\n",
       "<style scoped>\n",
       "    .dataframe tbody tr th:only-of-type {\n",
       "        vertical-align: middle;\n",
       "    }\n",
       "\n",
       "    .dataframe tbody tr th {\n",
       "        vertical-align: top;\n",
       "    }\n",
       "\n",
       "    .dataframe thead th {\n",
       "        text-align: right;\n",
       "    }\n",
       "</style>\n",
       "<table border=\"1\" class=\"dataframe\">\n",
       "  <thead>\n",
       "    <tr style=\"text-align: right;\">\n",
       "      <th></th>\n",
       "      <th>선수명</th>\n",
       "      <th>팀명</th>\n",
       "      <th>경기</th>\n",
       "      <th>타석</th>\n",
       "      <th>타수</th>\n",
       "      <th>안타</th>\n",
       "      <th>홈런</th>\n",
       "      <th>득점</th>\n",
       "      <th>타점</th>\n",
       "      <th>볼넷</th>\n",
       "      <th>삼진</th>\n",
       "      <th>도루</th>\n",
       "      <th>BABIP</th>\n",
       "      <th>타율</th>\n",
       "      <th>출루율</th>\n",
       "      <th>장타율</th>\n",
       "      <th>OPS</th>\n",
       "      <th>wOBA</th>\n",
       "      <th>WAR</th>\n",
       "    </tr>\n",
       "  </thead>\n",
       "  <tbody>\n",
       "    <tr>\n",
       "      <th>0</th>\n",
       "      <td>김도영</td>\n",
       "      <td>KIA</td>\n",
       "      <td>141</td>\n",
       "      <td>625</td>\n",
       "      <td>544</td>\n",
       "      <td>189</td>\n",
       "      <td>38</td>\n",
       "      <td>143</td>\n",
       "      <td>109</td>\n",
       "      <td>66</td>\n",
       "      <td>110</td>\n",
       "      <td>40</td>\n",
       "      <td>0.375</td>\n",
       "      <td>0.347</td>\n",
       "      <td>0.420</td>\n",
       "      <td>0.647</td>\n",
       "      <td>1.067</td>\n",
       "      <td>0.442</td>\n",
       "      <td>9.33</td>\n",
       "    </tr>\n",
       "    <tr>\n",
       "      <th>1</th>\n",
       "      <td>로하스</td>\n",
       "      <td>KT</td>\n",
       "      <td>144</td>\n",
       "      <td>670</td>\n",
       "      <td>572</td>\n",
       "      <td>188</td>\n",
       "      <td>32</td>\n",
       "      <td>108</td>\n",
       "      <td>112</td>\n",
       "      <td>88</td>\n",
       "      <td>115</td>\n",
       "      <td>2</td>\n",
       "      <td>0.364</td>\n",
       "      <td>0.329</td>\n",
       "      <td>0.421</td>\n",
       "      <td>0.568</td>\n",
       "      <td>0.989</td>\n",
       "      <td>0.421</td>\n",
       "      <td>7.14</td>\n",
       "    </tr>\n",
       "    <tr>\n",
       "      <th>2</th>\n",
       "      <td>구자욱</td>\n",
       "      <td>삼성</td>\n",
       "      <td>129</td>\n",
       "      <td>568</td>\n",
       "      <td>493</td>\n",
       "      <td>169</td>\n",
       "      <td>33</td>\n",
       "      <td>92</td>\n",
       "      <td>115</td>\n",
       "      <td>55</td>\n",
       "      <td>73</td>\n",
       "      <td>13</td>\n",
       "      <td>0.346</td>\n",
       "      <td>0.343</td>\n",
       "      <td>0.417</td>\n",
       "      <td>0.627</td>\n",
       "      <td>1.044</td>\n",
       "      <td>0.438</td>\n",
       "      <td>6.85</td>\n",
       "    </tr>\n",
       "    <tr>\n",
       "      <th>3</th>\n",
       "      <td>송성문</td>\n",
       "      <td>Hero</td>\n",
       "      <td>142</td>\n",
       "      <td>602</td>\n",
       "      <td>527</td>\n",
       "      <td>179</td>\n",
       "      <td>19</td>\n",
       "      <td>88</td>\n",
       "      <td>104</td>\n",
       "      <td>64</td>\n",
       "      <td>82</td>\n",
       "      <td>20</td>\n",
       "      <td>0.369</td>\n",
       "      <td>0.340</td>\n",
       "      <td>0.409</td>\n",
       "      <td>0.518</td>\n",
       "      <td>0.927</td>\n",
       "      <td>0.402</td>\n",
       "      <td>6.16</td>\n",
       "    </tr>\n",
       "    <tr>\n",
       "      <th>4</th>\n",
       "      <td>최정</td>\n",
       "      <td>SSG</td>\n",
       "      <td>129</td>\n",
       "      <td>550</td>\n",
       "      <td>468</td>\n",
       "      <td>136</td>\n",
       "      <td>37</td>\n",
       "      <td>93</td>\n",
       "      <td>107</td>\n",
       "      <td>55</td>\n",
       "      <td>114</td>\n",
       "      <td>5</td>\n",
       "      <td>0.306</td>\n",
       "      <td>0.291</td>\n",
       "      <td>0.384</td>\n",
       "      <td>0.594</td>\n",
       "      <td>0.978</td>\n",
       "      <td>0.410</td>\n",
       "      <td>6.02</td>\n",
       "    </tr>\n",
       "  </tbody>\n",
       "</table>\n",
       "</div>"
      ],
      "text/plain": [
       "   선수명    팀명   경기   타석   타수   안타  홈런   득점   타점  볼넷   삼진  도루  BABIP     타율  \\\n",
       "0  김도영   KIA  141  625  544  189  38  143  109  66  110  40  0.375  0.347   \n",
       "1  로하스    KT  144  670  572  188  32  108  112  88  115   2  0.364  0.329   \n",
       "2  구자욱    삼성  129  568  493  169  33   92  115  55   73  13  0.346  0.343   \n",
       "3  송성문  Hero  142  602  527  179  19   88  104  64   82  20  0.369  0.340   \n",
       "4   최정   SSG  129  550  468  136  37   93  107  55  114   5  0.306  0.291   \n",
       "\n",
       "     출루율    장타율    OPS   wOBA   WAR  \n",
       "0  0.420  0.647  1.067  0.442  9.33  \n",
       "1  0.421  0.568  0.989  0.421  7.14  \n",
       "2  0.417  0.627  1.044  0.438  6.85  \n",
       "3  0.409  0.518  0.927  0.402  6.16  \n",
       "4  0.384  0.594  0.978  0.410  6.02  "
      ]
     },
     "execution_count": 7,
     "metadata": {},
     "output_type": "execute_result"
    }
   ],
   "source": [
    "df.head()"
   ]
  },
  {
   "cell_type": "code",
   "execution_count": 8,
   "id": "a3fdc0e5-fa15-40e1-8086-f50115477bac",
   "metadata": {},
   "outputs": [
    {
     "name": "stdout",
     "output_type": "stream",
     "text": [
      "<class 'pandas.core.frame.DataFrame'>\n",
      "RangeIndex: 310 entries, 0 to 309\n",
      "Data columns (total 19 columns):\n",
      " #   Column  Non-Null Count  Dtype  \n",
      "---  ------  --------------  -----  \n",
      " 0   선수명     310 non-null    object \n",
      " 1   팀명      310 non-null    object \n",
      " 2   경기      310 non-null    int64  \n",
      " 3   타석      310 non-null    int64  \n",
      " 4   타수      310 non-null    int64  \n",
      " 5   안타      310 non-null    int64  \n",
      " 6   홈런      310 non-null    int64  \n",
      " 7   득점      310 non-null    int64  \n",
      " 8   타점      310 non-null    int64  \n",
      " 9   볼넷      310 non-null    int64  \n",
      " 10  삼진      310 non-null    int64  \n",
      " 11  도루      310 non-null    int64  \n",
      " 12  BABIP   291 non-null    float64\n",
      " 13  타율      302 non-null    float64\n",
      " 14  출루율     302 non-null    float64\n",
      " 15  장타율     302 non-null    float64\n",
      " 16  OPS     302 non-null    float64\n",
      " 17  wOBA    302 non-null    float64\n",
      " 18  WAR     302 non-null    float64\n",
      "dtypes: float64(7), int64(10), object(2)\n",
      "memory usage: 46.1+ KB\n"
     ]
    }
   ],
   "source": [
    "df.info()"
   ]
  },
  {
   "cell_type": "code",
   "execution_count": 9,
   "id": "ff4f87ed-20fc-48b9-980a-70727a6491ea",
   "metadata": {
    "collapsed": true,
    "jupyter": {
     "outputs_hidden": true
    }
   },
   "outputs": [
    {
     "data": {
      "text/html": [
       "<div>\n",
       "<style scoped>\n",
       "    .dataframe tbody tr th:only-of-type {\n",
       "        vertical-align: middle;\n",
       "    }\n",
       "\n",
       "    .dataframe tbody tr th {\n",
       "        vertical-align: top;\n",
       "    }\n",
       "\n",
       "    .dataframe thead th {\n",
       "        text-align: right;\n",
       "    }\n",
       "</style>\n",
       "<table border=\"1\" class=\"dataframe\">\n",
       "  <thead>\n",
       "    <tr style=\"text-align: right;\">\n",
       "      <th></th>\n",
       "      <th>선수명</th>\n",
       "      <th>팀명</th>\n",
       "      <th>경기</th>\n",
       "      <th>타석</th>\n",
       "      <th>타수</th>\n",
       "      <th>안타</th>\n",
       "      <th>홈런</th>\n",
       "      <th>득점</th>\n",
       "      <th>타점</th>\n",
       "      <th>볼넷</th>\n",
       "      <th>삼진</th>\n",
       "      <th>도루</th>\n",
       "      <th>BABIP</th>\n",
       "      <th>타율</th>\n",
       "      <th>출루율</th>\n",
       "      <th>장타율</th>\n",
       "      <th>OPS</th>\n",
       "      <th>wOBA</th>\n",
       "      <th>WAR</th>\n",
       "    </tr>\n",
       "  </thead>\n",
       "  <tbody>\n",
       "    <tr>\n",
       "      <th>300</th>\n",
       "      <td>전의산</td>\n",
       "      <td>SSG</td>\n",
       "      <td>34</td>\n",
       "      <td>63</td>\n",
       "      <td>57</td>\n",
       "      <td>5</td>\n",
       "      <td>1</td>\n",
       "      <td>3</td>\n",
       "      <td>3</td>\n",
       "      <td>5</td>\n",
       "      <td>15</td>\n",
       "      <td>0</td>\n",
       "      <td>0.095</td>\n",
       "      <td>0.088</td>\n",
       "      <td>0.159</td>\n",
       "      <td>0.140</td>\n",
       "      <td>0.299</td>\n",
       "      <td>0.147</td>\n",
       "      <td>-1.26</td>\n",
       "    </tr>\n",
       "    <tr>\n",
       "      <th>301</th>\n",
       "      <td>김태진</td>\n",
       "      <td>Hero</td>\n",
       "      <td>81</td>\n",
       "      <td>202</td>\n",
       "      <td>189</td>\n",
       "      <td>42</td>\n",
       "      <td>0</td>\n",
       "      <td>26</td>\n",
       "      <td>10</td>\n",
       "      <td>7</td>\n",
       "      <td>27</td>\n",
       "      <td>0</td>\n",
       "      <td>0.258</td>\n",
       "      <td>0.222</td>\n",
       "      <td>0.249</td>\n",
       "      <td>0.286</td>\n",
       "      <td>0.535</td>\n",
       "      <td>0.237</td>\n",
       "      <td>-1.35</td>\n",
       "    </tr>\n",
       "    <tr>\n",
       "      <th>302</th>\n",
       "      <td>이선우</td>\n",
       "      <td>롯데</td>\n",
       "      <td>7</td>\n",
       "      <td>0</td>\n",
       "      <td>0</td>\n",
       "      <td>0</td>\n",
       "      <td>0</td>\n",
       "      <td>1</td>\n",
       "      <td>0</td>\n",
       "      <td>0</td>\n",
       "      <td>0</td>\n",
       "      <td>0</td>\n",
       "      <td>NaN</td>\n",
       "      <td>NaN</td>\n",
       "      <td>NaN</td>\n",
       "      <td>NaN</td>\n",
       "      <td>NaN</td>\n",
       "      <td>NaN</td>\n",
       "      <td>NaN</td>\n",
       "    </tr>\n",
       "    <tr>\n",
       "      <th>303</th>\n",
       "      <td>추재현</td>\n",
       "      <td>롯데</td>\n",
       "      <td>2</td>\n",
       "      <td>0</td>\n",
       "      <td>0</td>\n",
       "      <td>0</td>\n",
       "      <td>0</td>\n",
       "      <td>1</td>\n",
       "      <td>0</td>\n",
       "      <td>0</td>\n",
       "      <td>0</td>\n",
       "      <td>1</td>\n",
       "      <td>NaN</td>\n",
       "      <td>NaN</td>\n",
       "      <td>NaN</td>\n",
       "      <td>NaN</td>\n",
       "      <td>NaN</td>\n",
       "      <td>NaN</td>\n",
       "      <td>NaN</td>\n",
       "    </tr>\n",
       "    <tr>\n",
       "      <th>304</th>\n",
       "      <td>김대현</td>\n",
       "      <td>LG</td>\n",
       "      <td>1</td>\n",
       "      <td>0</td>\n",
       "      <td>0</td>\n",
       "      <td>0</td>\n",
       "      <td>0</td>\n",
       "      <td>0</td>\n",
       "      <td>0</td>\n",
       "      <td>0</td>\n",
       "      <td>0</td>\n",
       "      <td>1</td>\n",
       "      <td>NaN</td>\n",
       "      <td>NaN</td>\n",
       "      <td>NaN</td>\n",
       "      <td>NaN</td>\n",
       "      <td>NaN</td>\n",
       "      <td>NaN</td>\n",
       "      <td>NaN</td>\n",
       "    </tr>\n",
       "    <tr>\n",
       "      <th>305</th>\n",
       "      <td>이승호</td>\n",
       "      <td>Hero</td>\n",
       "      <td>1</td>\n",
       "      <td>0</td>\n",
       "      <td>0</td>\n",
       "      <td>0</td>\n",
       "      <td>0</td>\n",
       "      <td>0</td>\n",
       "      <td>0</td>\n",
       "      <td>0</td>\n",
       "      <td>0</td>\n",
       "      <td>0</td>\n",
       "      <td>NaN</td>\n",
       "      <td>NaN</td>\n",
       "      <td>NaN</td>\n",
       "      <td>NaN</td>\n",
       "      <td>NaN</td>\n",
       "      <td>NaN</td>\n",
       "      <td>NaN</td>\n",
       "    </tr>\n",
       "    <tr>\n",
       "      <th>306</th>\n",
       "      <td>채현우</td>\n",
       "      <td>SSG</td>\n",
       "      <td>1</td>\n",
       "      <td>0</td>\n",
       "      <td>0</td>\n",
       "      <td>0</td>\n",
       "      <td>0</td>\n",
       "      <td>0</td>\n",
       "      <td>0</td>\n",
       "      <td>0</td>\n",
       "      <td>0</td>\n",
       "      <td>0</td>\n",
       "      <td>NaN</td>\n",
       "      <td>NaN</td>\n",
       "      <td>NaN</td>\n",
       "      <td>NaN</td>\n",
       "      <td>NaN</td>\n",
       "      <td>NaN</td>\n",
       "      <td>NaN</td>\n",
       "    </tr>\n",
       "    <tr>\n",
       "      <th>307</th>\n",
       "      <td>김강현</td>\n",
       "      <td>롯데</td>\n",
       "      <td>1</td>\n",
       "      <td>0</td>\n",
       "      <td>0</td>\n",
       "      <td>0</td>\n",
       "      <td>0</td>\n",
       "      <td>0</td>\n",
       "      <td>0</td>\n",
       "      <td>0</td>\n",
       "      <td>0</td>\n",
       "      <td>0</td>\n",
       "      <td>NaN</td>\n",
       "      <td>NaN</td>\n",
       "      <td>NaN</td>\n",
       "      <td>NaN</td>\n",
       "      <td>NaN</td>\n",
       "      <td>NaN</td>\n",
       "      <td>NaN</td>\n",
       "    </tr>\n",
       "    <tr>\n",
       "      <th>308</th>\n",
       "      <td>신준우</td>\n",
       "      <td>Hero</td>\n",
       "      <td>1</td>\n",
       "      <td>0</td>\n",
       "      <td>0</td>\n",
       "      <td>0</td>\n",
       "      <td>0</td>\n",
       "      <td>0</td>\n",
       "      <td>0</td>\n",
       "      <td>0</td>\n",
       "      <td>0</td>\n",
       "      <td>0</td>\n",
       "      <td>NaN</td>\n",
       "      <td>NaN</td>\n",
       "      <td>NaN</td>\n",
       "      <td>NaN</td>\n",
       "      <td>NaN</td>\n",
       "      <td>NaN</td>\n",
       "      <td>NaN</td>\n",
       "    </tr>\n",
       "    <tr>\n",
       "      <th>309</th>\n",
       "      <td>심휘윤</td>\n",
       "      <td>Hero</td>\n",
       "      <td>1</td>\n",
       "      <td>0</td>\n",
       "      <td>0</td>\n",
       "      <td>0</td>\n",
       "      <td>0</td>\n",
       "      <td>0</td>\n",
       "      <td>0</td>\n",
       "      <td>0</td>\n",
       "      <td>0</td>\n",
       "      <td>0</td>\n",
       "      <td>NaN</td>\n",
       "      <td>NaN</td>\n",
       "      <td>NaN</td>\n",
       "      <td>NaN</td>\n",
       "      <td>NaN</td>\n",
       "      <td>NaN</td>\n",
       "      <td>NaN</td>\n",
       "    </tr>\n",
       "  </tbody>\n",
       "</table>\n",
       "</div>"
      ],
      "text/plain": [
       "     선수명    팀명  경기   타석   타수  안타  홈런  득점  타점  볼넷  삼진  도루  BABIP     타율    출루율  \\\n",
       "300  전의산   SSG  34   63   57   5   1   3   3   5  15   0  0.095  0.088  0.159   \n",
       "301  김태진  Hero  81  202  189  42   0  26  10   7  27   0  0.258  0.222  0.249   \n",
       "302  이선우    롯데   7    0    0   0   0   1   0   0   0   0    NaN    NaN    NaN   \n",
       "303  추재현    롯데   2    0    0   0   0   1   0   0   0   1    NaN    NaN    NaN   \n",
       "304  김대현    LG   1    0    0   0   0   0   0   0   0   1    NaN    NaN    NaN   \n",
       "305  이승호  Hero   1    0    0   0   0   0   0   0   0   0    NaN    NaN    NaN   \n",
       "306  채현우   SSG   1    0    0   0   0   0   0   0   0   0    NaN    NaN    NaN   \n",
       "307  김강현    롯데   1    0    0   0   0   0   0   0   0   0    NaN    NaN    NaN   \n",
       "308  신준우  Hero   1    0    0   0   0   0   0   0   0   0    NaN    NaN    NaN   \n",
       "309  심휘윤  Hero   1    0    0   0   0   0   0   0   0   0    NaN    NaN    NaN   \n",
       "\n",
       "       장타율    OPS   wOBA   WAR  \n",
       "300  0.140  0.299  0.147 -1.26  \n",
       "301  0.286  0.535  0.237 -1.35  \n",
       "302    NaN    NaN    NaN   NaN  \n",
       "303    NaN    NaN    NaN   NaN  \n",
       "304    NaN    NaN    NaN   NaN  \n",
       "305    NaN    NaN    NaN   NaN  \n",
       "306    NaN    NaN    NaN   NaN  \n",
       "307    NaN    NaN    NaN   NaN  \n",
       "308    NaN    NaN    NaN   NaN  \n",
       "309    NaN    NaN    NaN   NaN  "
      ]
     },
     "execution_count": 9,
     "metadata": {},
     "output_type": "execute_result"
    }
   ],
   "source": [
    "df.tail(n = 10)"
   ]
  },
  {
   "cell_type": "code",
   "execution_count": 11,
   "id": "4a4ec8f4-159b-40bd-b5e6-36889318e595",
   "metadata": {},
   "outputs": [],
   "source": [
    "df = df.fillna(value = 0)"
   ]
  },
  {
   "cell_type": "code",
   "execution_count": 12,
   "id": "452831de-3078-4b01-bb02-ff42160bfc0a",
   "metadata": {
    "collapsed": true,
    "jupyter": {
     "outputs_hidden": true
    }
   },
   "outputs": [
    {
     "name": "stdout",
     "output_type": "stream",
     "text": [
      "<class 'pandas.core.frame.DataFrame'>\n",
      "RangeIndex: 310 entries, 0 to 309\n",
      "Data columns (total 19 columns):\n",
      " #   Column  Non-Null Count  Dtype  \n",
      "---  ------  --------------  -----  \n",
      " 0   선수명     310 non-null    object \n",
      " 1   팀명      310 non-null    object \n",
      " 2   경기      310 non-null    int64  \n",
      " 3   타석      310 non-null    int64  \n",
      " 4   타수      310 non-null    int64  \n",
      " 5   안타      310 non-null    int64  \n",
      " 6   홈런      310 non-null    int64  \n",
      " 7   득점      310 non-null    int64  \n",
      " 8   타점      310 non-null    int64  \n",
      " 9   볼넷      310 non-null    int64  \n",
      " 10  삼진      310 non-null    int64  \n",
      " 11  도루      310 non-null    int64  \n",
      " 12  BABIP   310 non-null    float64\n",
      " 13  타율      310 non-null    float64\n",
      " 14  출루율     310 non-null    float64\n",
      " 15  장타율     310 non-null    float64\n",
      " 16  OPS     310 non-null    float64\n",
      " 17  wOBA    310 non-null    float64\n",
      " 18  WAR     310 non-null    float64\n",
      "dtypes: float64(7), int64(10), object(2)\n",
      "memory usage: 46.1+ KB\n"
     ]
    }
   ],
   "source": [
    "df.info()"
   ]
  },
  {
   "cell_type": "code",
   "execution_count": 15,
   "id": "6aee8368-c6db-4fa8-9f36-425b5e21de12",
   "metadata": {},
   "outputs": [
    {
     "data": {
      "text/plain": [
       "팀명\n",
       "Hero    36\n",
       "롯데      35\n",
       "삼성      34\n",
       "두산      33\n",
       "LG      32\n",
       "KT      32\n",
       "SSG     30\n",
       "NC      27\n",
       "한화      26\n",
       "KIA     25\n",
       "Name: 선수명, dtype: int64"
      ]
     },
     "execution_count": 15,
     "metadata": {},
     "output_type": "execute_result"
    }
   ],
   "source": [
    "df.groupby(by = '팀명')['선수명'].count().sort_values(ascending = False)"
   ]
  },
  {
   "cell_type": "code",
   "execution_count": 16,
   "id": "d2be63a9-ef20-456a-b5ff-10ac9fa07deb",
   "metadata": {
    "collapsed": true,
    "jupyter": {
     "outputs_hidden": true
    }
   },
   "outputs": [
    {
     "data": {
      "text/plain": [
       "팀명\n",
       "Hero    5015\n",
       "KIA     5124\n",
       "KT      5072\n",
       "LG      4919\n",
       "NC      5009\n",
       "SSG     5001\n",
       "두산      4975\n",
       "롯데      5110\n",
       "삼성      4975\n",
       "한화      5005\n",
       "Name: 타수, dtype: int64"
      ]
     },
     "execution_count": 16,
     "metadata": {},
     "output_type": "execute_result"
    }
   ],
   "source": [
    "df.groupby(by = '팀명')['타수'].sum()"
   ]
  },
  {
   "cell_type": "code",
   "execution_count": 17,
   "id": "ca7b570b-7c73-4a15-b082-8acea7e27541",
   "metadata": {
    "collapsed": true,
    "jupyter": {
     "outputs_hidden": true
    }
   },
   "outputs": [
    {
     "data": {
      "text/plain": [
       "팀명\n",
       "Hero    1327\n",
       "KIA     1542\n",
       "KT      1413\n",
       "LG      1394\n",
       "NC      1371\n",
       "SSG     1367\n",
       "두산      1375\n",
       "롯데      1454\n",
       "삼성      1336\n",
       "한화      1351\n",
       "Name: 안타, dtype: int64"
      ]
     },
     "execution_count": 17,
     "metadata": {},
     "output_type": "execute_result"
    }
   ],
   "source": [
    "df.groupby(by = '팀명')['안타'].sum()"
   ]
  },
  {
   "cell_type": "code",
   "execution_count": 21,
   "id": "c14f5d55-c3e9-45bf-bd69-65ea61403273",
   "metadata": {
    "collapsed": true,
    "jupyter": {
     "outputs_hidden": true
    }
   },
   "outputs": [
    {
     "data": {
      "text/html": [
       "<div>\n",
       "<style scoped>\n",
       "    .dataframe tbody tr th:only-of-type {\n",
       "        vertical-align: middle;\n",
       "    }\n",
       "\n",
       "    .dataframe tbody tr th {\n",
       "        vertical-align: top;\n",
       "    }\n",
       "\n",
       "    .dataframe thead th {\n",
       "        text-align: right;\n",
       "    }\n",
       "</style>\n",
       "<table border=\"1\" class=\"dataframe\">\n",
       "  <thead>\n",
       "    <tr style=\"text-align: right;\">\n",
       "      <th></th>\n",
       "      <th>팀명</th>\n",
       "      <th>타수</th>\n",
       "      <th>안타</th>\n",
       "      <th>타율</th>\n",
       "    </tr>\n",
       "  </thead>\n",
       "  <tbody>\n",
       "    <tr>\n",
       "      <th>0</th>\n",
       "      <td>KIA</td>\n",
       "      <td>5124</td>\n",
       "      <td>1542</td>\n",
       "      <td>0.301</td>\n",
       "    </tr>\n",
       "    <tr>\n",
       "      <th>1</th>\n",
       "      <td>KT</td>\n",
       "      <td>5072</td>\n",
       "      <td>1413</td>\n",
       "      <td>0.279</td>\n",
       "    </tr>\n",
       "    <tr>\n",
       "      <th>2</th>\n",
       "      <td>삼성</td>\n",
       "      <td>4975</td>\n",
       "      <td>1336</td>\n",
       "      <td>0.269</td>\n",
       "    </tr>\n",
       "    <tr>\n",
       "      <th>3</th>\n",
       "      <td>Hero</td>\n",
       "      <td>5015</td>\n",
       "      <td>1327</td>\n",
       "      <td>0.265</td>\n",
       "    </tr>\n",
       "    <tr>\n",
       "      <th>4</th>\n",
       "      <td>SSG</td>\n",
       "      <td>5001</td>\n",
       "      <td>1367</td>\n",
       "      <td>0.273</td>\n",
       "    </tr>\n",
       "    <tr>\n",
       "      <th>5</th>\n",
       "      <td>LG</td>\n",
       "      <td>4919</td>\n",
       "      <td>1394</td>\n",
       "      <td>0.283</td>\n",
       "    </tr>\n",
       "    <tr>\n",
       "      <th>6</th>\n",
       "      <td>NC</td>\n",
       "      <td>5009</td>\n",
       "      <td>1371</td>\n",
       "      <td>0.274</td>\n",
       "    </tr>\n",
       "    <tr>\n",
       "      <th>7</th>\n",
       "      <td>롯데</td>\n",
       "      <td>5110</td>\n",
       "      <td>1454</td>\n",
       "      <td>0.285</td>\n",
       "    </tr>\n",
       "    <tr>\n",
       "      <th>8</th>\n",
       "      <td>두산</td>\n",
       "      <td>4975</td>\n",
       "      <td>1375</td>\n",
       "      <td>0.276</td>\n",
       "    </tr>\n",
       "    <tr>\n",
       "      <th>9</th>\n",
       "      <td>한화</td>\n",
       "      <td>5005</td>\n",
       "      <td>1351</td>\n",
       "      <td>0.270</td>\n",
       "    </tr>\n",
       "  </tbody>\n",
       "</table>\n",
       "</div>"
      ],
      "text/plain": [
       "     팀명    타수    안타     타율\n",
       "0   KIA  5124  1542  0.301\n",
       "1    KT  5072  1413  0.279\n",
       "2    삼성  4975  1336  0.269\n",
       "3  Hero  5015  1327  0.265\n",
       "4   SSG  5001  1367  0.273\n",
       "5    LG  4919  1394  0.283\n",
       "6    NC  5009  1371  0.274\n",
       "7    롯데  5110  1454  0.285\n",
       "8    두산  4975  1375  0.276\n",
       "9    한화  5005  1351  0.270"
      ]
     },
     "execution_count": 21,
     "metadata": {},
     "output_type": "execute_result"
    }
   ],
   "source": [
    "pvt = pd.pivot_table(data = df, index = '팀명', values = ['타수', '안타'], \n",
    "                     aggfunc = 'sum', sort = False)\n",
    "pvt = pvt.reset_index()\n",
    "pvt['타율'] = pvt['안타'] / pvt['타수']\n",
    "pvt['타율'] = pvt['타율'].round(3)\n",
    "pvt"
   ]
  },
  {
   "cell_type": "code",
   "execution_count": 23,
   "id": "60bc2610-e946-4d38-a5c2-e2507d222baf",
   "metadata": {},
   "outputs": [
    {
     "data": {
      "text/plain": [
       "팀명\n",
       "삼성      185\n",
       "NC      172\n",
       "KIA     163\n",
       "SSG     152\n",
       "두산      150\n",
       "KT      145\n",
       "한화      127\n",
       "롯데      125\n",
       "LG      115\n",
       "Hero    104\n",
       "Name: 홈런, dtype: int64"
      ]
     },
     "execution_count": 23,
     "metadata": {},
     "output_type": "execute_result"
    }
   ],
   "source": [
    "df.groupby(by = '팀명')['홈런'].sum().sort_values(ascending = False)"
   ]
  },
  {
   "cell_type": "code",
   "execution_count": 24,
   "id": "68fd1702-52f8-4af4-8d6e-ace0622f3719",
   "metadata": {},
   "outputs": [
    {
     "data": {
      "text/plain": [
       "팀명\n",
       "KIA     6.520000\n",
       "NC      6.370370\n",
       "삼성      5.441176\n",
       "SSG     5.066667\n",
       "한화      4.884615\n",
       "두산      4.545455\n",
       "KT      4.531250\n",
       "LG      3.593750\n",
       "롯데      3.571429\n",
       "Hero    2.888889\n",
       "Name: 홈런, dtype: float64"
      ]
     },
     "execution_count": 24,
     "metadata": {},
     "output_type": "execute_result"
    }
   ],
   "source": [
    "df.groupby(by = '팀명')['홈런'].mean().sort_values(ascending = False)"
   ]
  },
  {
   "cell_type": "code",
   "execution_count": 25,
   "id": "035f80f9-a89c-4031-aa25-507a52c3ae49",
   "metadata": {
    "collapsed": true,
    "jupyter": {
     "outputs_hidden": true
    }
   },
   "outputs": [
    {
     "data": {
      "text/plain": [
       "팀명\n",
       "KIA     118\n",
       "두산      109\n",
       "SSG     103\n",
       "삼성       97\n",
       "KT       97\n",
       "한화       93\n",
       "LG       93\n",
       "NC       86\n",
       "롯데       74\n",
       "Hero     56\n",
       "Name: 홈런, dtype: int64"
      ]
     },
     "execution_count": 25,
     "metadata": {},
     "output_type": "execute_result"
    }
   ],
   "source": [
    "# 규정타석: 팀 경기수(144) * 3.1\n",
    "cond = (df['타석'] >= 144*3.1)\n",
    "df.loc[cond, :].groupby(by = '팀명')['홈런'].sum().sort_values(ascending = False)"
   ]
  },
  {
   "cell_type": "code",
   "execution_count": 26,
   "id": "7ada6dd7-f40f-4d19-af2c-a4824cb04ef0",
   "metadata": {
    "collapsed": true,
    "jupyter": {
     "outputs_hidden": true
    }
   },
   "outputs": [
    {
     "data": {
      "text/plain": [
       "팀명\n",
       "SSG     20.600000\n",
       "KT      19.400000\n",
       "삼성      19.400000\n",
       "한화      18.600000\n",
       "두산      18.166667\n",
       "NC      17.200000\n",
       "KIA     16.857143\n",
       "Hero    14.000000\n",
       "LG      13.285714\n",
       "롯데      12.333333\n",
       "Name: 홈런, dtype: float64"
      ]
     },
     "execution_count": 26,
     "metadata": {},
     "output_type": "execute_result"
    }
   ],
   "source": [
    "df.loc[cond, :].groupby(by = '팀명')['홈런'].mean().sort_values(ascending = False)"
   ]
  },
  {
   "cell_type": "code",
   "execution_count": 27,
   "id": "c8e4fc2a-59ef-44cf-a758-ea2dcfe01697",
   "metadata": {
    "collapsed": true,
    "jupyter": {
     "outputs_hidden": true
    }
   },
   "outputs": [
    {
     "data": {
      "text/plain": [
       "팀명\n",
       "KIA     7\n",
       "LG      7\n",
       "롯데      6\n",
       "두산      6\n",
       "SSG     5\n",
       "KT      5\n",
       "삼성      5\n",
       "NC      5\n",
       "한화      5\n",
       "Hero    4\n",
       "Name: 홈런, dtype: int64"
      ]
     },
     "execution_count": 27,
     "metadata": {},
     "output_type": "execute_result"
    }
   ],
   "source": [
    "df.loc[cond, :].groupby(by = '팀명')['홈런'].count().sort_values(ascending = False)"
   ]
  },
  {
   "cell_type": "code",
   "execution_count": 31,
   "id": "72cad2c1-b3ad-42a9-926c-b590585df509",
   "metadata": {
    "collapsed": true,
    "jupyter": {
     "outputs_hidden": true
    }
   },
   "outputs": [
    {
     "data": {
      "text/html": [
       "<div>\n",
       "<style scoped>\n",
       "    .dataframe tbody tr th:only-of-type {\n",
       "        vertical-align: middle;\n",
       "    }\n",
       "\n",
       "    .dataframe tbody tr th {\n",
       "        vertical-align: top;\n",
       "    }\n",
       "\n",
       "    .dataframe thead th {\n",
       "        text-align: right;\n",
       "    }\n",
       "</style>\n",
       "<table border=\"1\" class=\"dataframe\">\n",
       "  <thead>\n",
       "    <tr style=\"text-align: right;\">\n",
       "      <th></th>\n",
       "      <th>선수명</th>\n",
       "      <th>팀명</th>\n",
       "      <th>경기</th>\n",
       "      <th>타석</th>\n",
       "      <th>타수</th>\n",
       "      <th>안타</th>\n",
       "      <th>홈런</th>\n",
       "      <th>득점</th>\n",
       "      <th>타점</th>\n",
       "      <th>볼넷</th>\n",
       "      <th>삼진</th>\n",
       "      <th>도루</th>\n",
       "      <th>BABIP</th>\n",
       "      <th>타율</th>\n",
       "      <th>출루율</th>\n",
       "      <th>장타율</th>\n",
       "      <th>OPS</th>\n",
       "      <th>wOBA</th>\n",
       "      <th>WAR</th>\n",
       "      <th>타자유형</th>\n",
       "    </tr>\n",
       "  </thead>\n",
       "  <tbody>\n",
       "    <tr>\n",
       "      <th>179</th>\n",
       "      <td>오영수</td>\n",
       "      <td>NC</td>\n",
       "      <td>20</td>\n",
       "      <td>34</td>\n",
       "      <td>30</td>\n",
       "      <td>6</td>\n",
       "      <td>3</td>\n",
       "      <td>4</td>\n",
       "      <td>5</td>\n",
       "      <td>2</td>\n",
       "      <td>6</td>\n",
       "      <td>0</td>\n",
       "      <td>0.136</td>\n",
       "      <td>0.200</td>\n",
       "      <td>0.265</td>\n",
       "      <td>0.500</td>\n",
       "      <td>0.765</td>\n",
       "      <td>0.311</td>\n",
       "      <td>-0.06</td>\n",
       "      <td>똑딱이</td>\n",
       "    </tr>\n",
       "    <tr>\n",
       "      <th>221</th>\n",
       "      <td>황재균</td>\n",
       "      <td>KT</td>\n",
       "      <td>137</td>\n",
       "      <td>536</td>\n",
       "      <td>493</td>\n",
       "      <td>128</td>\n",
       "      <td>13</td>\n",
       "      <td>60</td>\n",
       "      <td>58</td>\n",
       "      <td>34</td>\n",
       "      <td>95</td>\n",
       "      <td>4</td>\n",
       "      <td>0.297</td>\n",
       "      <td>0.260</td>\n",
       "      <td>0.309</td>\n",
       "      <td>0.383</td>\n",
       "      <td>0.692</td>\n",
       "      <td>0.306</td>\n",
       "      <td>-0.19</td>\n",
       "      <td>슬러거</td>\n",
       "    </tr>\n",
       "    <tr>\n",
       "      <th>219</th>\n",
       "      <td>신범수</td>\n",
       "      <td>SSG</td>\n",
       "      <td>11</td>\n",
       "      <td>29</td>\n",
       "      <td>27</td>\n",
       "      <td>6</td>\n",
       "      <td>0</td>\n",
       "      <td>4</td>\n",
       "      <td>2</td>\n",
       "      <td>1</td>\n",
       "      <td>5</td>\n",
       "      <td>0</td>\n",
       "      <td>0.273</td>\n",
       "      <td>0.222</td>\n",
       "      <td>0.276</td>\n",
       "      <td>0.333</td>\n",
       "      <td>0.609</td>\n",
       "      <td>0.276</td>\n",
       "      <td>-0.18</td>\n",
       "      <td>똑딱이</td>\n",
       "    </tr>\n",
       "    <tr>\n",
       "      <th>257</th>\n",
       "      <td>김동엽</td>\n",
       "      <td>삼성</td>\n",
       "      <td>8</td>\n",
       "      <td>21</td>\n",
       "      <td>18</td>\n",
       "      <td>2</td>\n",
       "      <td>0</td>\n",
       "      <td>1</td>\n",
       "      <td>2</td>\n",
       "      <td>1</td>\n",
       "      <td>5</td>\n",
       "      <td>0</td>\n",
       "      <td>0.143</td>\n",
       "      <td>0.111</td>\n",
       "      <td>0.190</td>\n",
       "      <td>0.167</td>\n",
       "      <td>0.357</td>\n",
       "      <td>0.148</td>\n",
       "      <td>-0.41</td>\n",
       "      <td>똑딱이</td>\n",
       "    </tr>\n",
       "    <tr>\n",
       "      <th>248</th>\n",
       "      <td>안치영</td>\n",
       "      <td>KT</td>\n",
       "      <td>31</td>\n",
       "      <td>48</td>\n",
       "      <td>44</td>\n",
       "      <td>11</td>\n",
       "      <td>0</td>\n",
       "      <td>12</td>\n",
       "      <td>3</td>\n",
       "      <td>2</td>\n",
       "      <td>12</td>\n",
       "      <td>0</td>\n",
       "      <td>0.344</td>\n",
       "      <td>0.250</td>\n",
       "      <td>0.283</td>\n",
       "      <td>0.250</td>\n",
       "      <td>0.533</td>\n",
       "      <td>0.249</td>\n",
       "      <td>-0.36</td>\n",
       "      <td>똑딱이</td>\n",
       "    </tr>\n",
       "  </tbody>\n",
       "</table>\n",
       "</div>"
      ],
      "text/plain": [
       "     선수명   팀명   경기   타석   타수   안타  홈런  득점  타점  볼넷  삼진  도루  BABIP     타율  \\\n",
       "179  오영수   NC   20   34   30    6   3   4   5   2   6   0  0.136  0.200   \n",
       "221  황재균   KT  137  536  493  128  13  60  58  34  95   4  0.297  0.260   \n",
       "219  신범수  SSG   11   29   27    6   0   4   2   1   5   0  0.273  0.222   \n",
       "257  김동엽   삼성    8   21   18    2   0   1   2   1   5   0  0.143  0.111   \n",
       "248  안치영   KT   31   48   44   11   0  12   3   2  12   0  0.344  0.250   \n",
       "\n",
       "       출루율    장타율    OPS   wOBA   WAR 타자유형  \n",
       "179  0.265  0.500  0.765  0.311 -0.06  똑딱이  \n",
       "221  0.309  0.383  0.692  0.306 -0.19  슬러거  \n",
       "219  0.276  0.333  0.609  0.276 -0.18  똑딱이  \n",
       "257  0.190  0.167  0.357  0.148 -0.41  똑딱이  \n",
       "248  0.283  0.250  0.533  0.249 -0.36  똑딱이  "
      ]
     },
     "execution_count": 31,
     "metadata": {},
     "output_type": "execute_result"
    }
   ],
   "source": [
    "cond = (df['홈런'] >= 10)\n",
    "df.loc[cond, '타자유형'] = '슬러거'\n",
    "df.loc[~cond, '타자유형'] = '똑딱이'\n",
    "df.sample(n = 5, random_state = 1234)"
   ]
  },
  {
   "cell_type": "code",
   "execution_count": 33,
   "id": "4a093d56-6e39-479b-a696-6501cf3e3eb0",
   "metadata": {},
   "outputs": [],
   "source": [
    "df['타자유형'] = np.where(cond, '슬러거', '똑딱이')"
   ]
  },
  {
   "cell_type": "code",
   "execution_count": 39,
   "id": "04619d73-faf2-4b28-84ad-df2d2b1c9eaf",
   "metadata": {
    "collapsed": true,
    "jupyter": {
     "outputs_hidden": true
    }
   },
   "outputs": [
    {
     "data": {
      "text/html": [
       "<div>\n",
       "<style scoped>\n",
       "    .dataframe tbody tr th:only-of-type {\n",
       "        vertical-align: middle;\n",
       "    }\n",
       "\n",
       "    .dataframe tbody tr th {\n",
       "        vertical-align: top;\n",
       "    }\n",
       "\n",
       "    .dataframe thead th {\n",
       "        text-align: right;\n",
       "    }\n",
       "</style>\n",
       "<table border=\"1\" class=\"dataframe\">\n",
       "  <thead>\n",
       "    <tr style=\"text-align: right;\">\n",
       "      <th>타자유형</th>\n",
       "      <th>똑딱이</th>\n",
       "      <th>슬러거</th>\n",
       "    </tr>\n",
       "    <tr>\n",
       "      <th>팀명</th>\n",
       "      <th></th>\n",
       "      <th></th>\n",
       "    </tr>\n",
       "  </thead>\n",
       "  <tbody>\n",
       "    <tr>\n",
       "      <th>Hero</th>\n",
       "      <td>86.111111</td>\n",
       "      <td>13.888889</td>\n",
       "    </tr>\n",
       "    <tr>\n",
       "      <th>KIA</th>\n",
       "      <td>84.000000</td>\n",
       "      <td>16.000000</td>\n",
       "    </tr>\n",
       "    <tr>\n",
       "      <th>KT</th>\n",
       "      <td>84.375000</td>\n",
       "      <td>15.625000</td>\n",
       "    </tr>\n",
       "    <tr>\n",
       "      <th>LG</th>\n",
       "      <td>87.500000</td>\n",
       "      <td>12.500000</td>\n",
       "    </tr>\n",
       "    <tr>\n",
       "      <th>NC</th>\n",
       "      <td>74.074074</td>\n",
       "      <td>25.925926</td>\n",
       "    </tr>\n",
       "    <tr>\n",
       "      <th>SSG</th>\n",
       "      <td>76.666667</td>\n",
       "      <td>23.333333</td>\n",
       "    </tr>\n",
       "    <tr>\n",
       "      <th>두산</th>\n",
       "      <td>81.818182</td>\n",
       "      <td>18.181818</td>\n",
       "    </tr>\n",
       "    <tr>\n",
       "      <th>롯데</th>\n",
       "      <td>85.714286</td>\n",
       "      <td>14.285714</td>\n",
       "    </tr>\n",
       "    <tr>\n",
       "      <th>삼성</th>\n",
       "      <td>82.352941</td>\n",
       "      <td>17.647059</td>\n",
       "    </tr>\n",
       "    <tr>\n",
       "      <th>한화</th>\n",
       "      <td>80.769231</td>\n",
       "      <td>19.230769</td>\n",
       "    </tr>\n",
       "    <tr>\n",
       "      <th>합계</th>\n",
       "      <td>82.580645</td>\n",
       "      <td>17.419355</td>\n",
       "    </tr>\n",
       "  </tbody>\n",
       "</table>\n",
       "</div>"
      ],
      "text/plain": [
       "타자유형        똑딱이        슬러거\n",
       "팀명                        \n",
       "Hero  86.111111  13.888889\n",
       "KIA   84.000000  16.000000\n",
       "KT    84.375000  15.625000\n",
       "LG    87.500000  12.500000\n",
       "NC    74.074074  25.925926\n",
       "SSG   76.666667  23.333333\n",
       "두산    81.818182  18.181818\n",
       "롯데    85.714286  14.285714\n",
       "삼성    82.352941  17.647059\n",
       "한화    80.769231  19.230769\n",
       "합계    82.580645  17.419355"
      ]
     },
     "execution_count": 39,
     "metadata": {},
     "output_type": "execute_result"
    }
   ],
   "source": [
    "pd.crosstab(index = df['팀명'], columns = df['타자유형'], \n",
    "            margins = True, margins_name = '합계', \n",
    "            normalize = 'index') * 100"
   ]
  },
  {
   "cell_type": "code",
   "execution_count": 40,
   "id": "24847fe5-7750-4ada-a1f3-cff1f342ba06",
   "metadata": {
    "collapsed": true,
    "jupyter": {
     "outputs_hidden": true
    }
   },
   "outputs": [
    {
     "data": {
      "text/plain": [
       "0      False\n",
       "1      False\n",
       "2      False\n",
       "3      False\n",
       "4      False\n",
       "       ...  \n",
       "305    False\n",
       "306    False\n",
       "307    False\n",
       "308    False\n",
       "309    False\n",
       "Name: 팀명, Length: 310, dtype: bool"
      ]
     },
     "execution_count": 40,
     "metadata": {},
     "output_type": "execute_result"
    }
   ],
   "source": [
    "df['팀명'] == 'NC'"
   ]
  },
  {
   "cell_type": "code",
   "execution_count": 44,
   "id": "df555d02-cd05-40b1-b59b-217d3df69b98",
   "metadata": {
    "collapsed": true,
    "jupyter": {
     "outputs_hidden": true
    }
   },
   "outputs": [
    {
     "data": {
      "text/plain": [
       "7      데이비슨\n",
       "12      권희동\n",
       "19      박건우\n",
       "54      김휘집\n",
       "64      서호철\n",
       "135     김형준\n",
       "265     김성욱\n",
       "Name: 선수명, dtype: object"
      ]
     },
     "execution_count": 44,
     "metadata": {},
     "output_type": "execute_result"
    }
   ],
   "source": [
    "cond = (df['팀명'] == 'NC') & (df['타자유형'] == '슬러거')\n",
    "df.loc[cond, '선수명']"
   ]
  },
  {
   "cell_type": "code",
   "execution_count": 49,
   "id": "8444e6b8-9ed8-47fe-a7d6-34f47d0e8b4c",
   "metadata": {
    "collapsed": true,
    "jupyter": {
     "outputs_hidden": true
    }
   },
   "outputs": [
    {
     "data": {
      "text/html": [
       "<div>\n",
       "<style scoped>\n",
       "    .dataframe tbody tr th:only-of-type {\n",
       "        vertical-align: middle;\n",
       "    }\n",
       "\n",
       "    .dataframe tbody tr th {\n",
       "        vertical-align: top;\n",
       "    }\n",
       "\n",
       "    .dataframe thead th {\n",
       "        text-align: right;\n",
       "    }\n",
       "</style>\n",
       "<table border=\"1\" class=\"dataframe\">\n",
       "  <thead>\n",
       "    <tr style=\"text-align: right;\">\n",
       "      <th></th>\n",
       "      <th>팀명</th>\n",
       "      <th>선수명</th>\n",
       "      <th>볼넷</th>\n",
       "      <th>삼진</th>\n",
       "      <th>볼삼비</th>\n",
       "    </tr>\n",
       "  </thead>\n",
       "  <tbody>\n",
       "    <tr>\n",
       "      <th>15</th>\n",
       "      <td>삼성</td>\n",
       "      <td>김지찬</td>\n",
       "      <td>60</td>\n",
       "      <td>40</td>\n",
       "      <td>1.500000</td>\n",
       "    </tr>\n",
       "    <tr>\n",
       "      <th>26</th>\n",
       "      <td>두산</td>\n",
       "      <td>허경민</td>\n",
       "      <td>36</td>\n",
       "      <td>25</td>\n",
       "      <td>1.440000</td>\n",
       "    </tr>\n",
       "    <tr>\n",
       "      <th>35</th>\n",
       "      <td>LG</td>\n",
       "      <td>신민재</td>\n",
       "      <td>64</td>\n",
       "      <td>46</td>\n",
       "      <td>1.391304</td>\n",
       "    </tr>\n",
       "    <tr>\n",
       "      <th>51</th>\n",
       "      <td>LG</td>\n",
       "      <td>문성주</td>\n",
       "      <td>49</td>\n",
       "      <td>38</td>\n",
       "      <td>1.289474</td>\n",
       "    </tr>\n",
       "    <tr>\n",
       "      <th>79</th>\n",
       "      <td>KIA</td>\n",
       "      <td>이창진</td>\n",
       "      <td>45</td>\n",
       "      <td>36</td>\n",
       "      <td>1.250000</td>\n",
       "    </tr>\n",
       "    <tr>\n",
       "      <th>12</th>\n",
       "      <td>NC</td>\n",
       "      <td>권희동</td>\n",
       "      <td>77</td>\n",
       "      <td>63</td>\n",
       "      <td>1.222222</td>\n",
       "    </tr>\n",
       "    <tr>\n",
       "      <th>83</th>\n",
       "      <td>삼성</td>\n",
       "      <td>맥키넌</td>\n",
       "      <td>39</td>\n",
       "      <td>33</td>\n",
       "      <td>1.181818</td>\n",
       "    </tr>\n",
       "    <tr>\n",
       "      <th>53</th>\n",
       "      <td>KIA</td>\n",
       "      <td>서건창</td>\n",
       "      <td>36</td>\n",
       "      <td>31</td>\n",
       "      <td>1.161290</td>\n",
       "    </tr>\n",
       "    <tr>\n",
       "      <th>43</th>\n",
       "      <td>KIA</td>\n",
       "      <td>박찬호</td>\n",
       "      <td>48</td>\n",
       "      <td>44</td>\n",
       "      <td>1.090909</td>\n",
       "    </tr>\n",
       "    <tr>\n",
       "      <th>6</th>\n",
       "      <td>LG</td>\n",
       "      <td>홍창기</td>\n",
       "      <td>96</td>\n",
       "      <td>93</td>\n",
       "      <td>1.032258</td>\n",
       "    </tr>\n",
       "  </tbody>\n",
       "</table>\n",
       "</div>"
      ],
      "text/plain": [
       "     팀명  선수명  볼넷  삼진       볼삼비\n",
       "15   삼성  김지찬  60  40  1.500000\n",
       "26   두산  허경민  36  25  1.440000\n",
       "35   LG  신민재  64  46  1.391304\n",
       "51   LG  문성주  49  38  1.289474\n",
       "79  KIA  이창진  45  36  1.250000\n",
       "12   NC  권희동  77  63  1.222222\n",
       "83   삼성  맥키넌  39  33  1.181818\n",
       "53  KIA  서건창  36  31  1.161290\n",
       "43  KIA  박찬호  48  44  1.090909\n",
       "6    LG  홍창기  96  93  1.032258"
      ]
     },
     "execution_count": 49,
     "metadata": {},
     "output_type": "execute_result"
    }
   ],
   "source": [
    "# 선수별 볼삼비(= 볼넷 / 삼진)를 추가하고 볼삼비가 높은 순으로 내림차순 정렬해서\n",
    "# 상위 10명의 선수를 확인해보세요. 단, 타수가 100 이상인 선수만으로 실행합니다.\n",
    "df['볼삼비'] = df['볼넷'] / df['삼진']\n",
    "cond = df['타수'] >= 100\n",
    "cols = ['팀명', '선수명', '볼넷', '삼진', '볼삼비']\n",
    "df.loc[cond, cols].sort_values(by = '볼삼비', ascending = False).head(n = 10)"
   ]
  },
  {
   "cell_type": "code",
   "execution_count": 50,
   "id": "80c561cf-13f6-42f5-a456-96b6f20a670f",
   "metadata": {},
   "outputs": [],
   "source": [
    "import matplotlib.pyplot as plt\n",
    "import seaborn as sns"
   ]
  },
  {
   "cell_type": "code",
   "execution_count": 53,
   "id": "985c3ff8-4126-4536-9b82-fffbcd7cf0f9",
   "metadata": {},
   "outputs": [],
   "source": [
    "plt.rc(group = 'font', family = 'Malgun Gothic', size = 10)"
   ]
  },
  {
   "cell_type": "code",
   "execution_count": 56,
   "id": "b37acc85-dbee-4749-b996-041d22908885",
   "metadata": {},
   "outputs": [
    {
     "data": {
      "text/html": [
       "<div>\n",
       "<style scoped>\n",
       "    .dataframe tbody tr th:only-of-type {\n",
       "        vertical-align: middle;\n",
       "    }\n",
       "\n",
       "    .dataframe tbody tr th {\n",
       "        vertical-align: top;\n",
       "    }\n",
       "\n",
       "    .dataframe thead th {\n",
       "        text-align: right;\n",
       "    }\n",
       "</style>\n",
       "<table border=\"1\" class=\"dataframe\">\n",
       "  <thead>\n",
       "    <tr style=\"text-align: right;\">\n",
       "      <th></th>\n",
       "      <th>팀명</th>\n",
       "      <th>타수</th>\n",
       "      <th>안타</th>\n",
       "      <th>타율</th>\n",
       "    </tr>\n",
       "  </thead>\n",
       "  <tbody>\n",
       "    <tr>\n",
       "      <th>0</th>\n",
       "      <td>KIA</td>\n",
       "      <td>5124</td>\n",
       "      <td>1542</td>\n",
       "      <td>0.301</td>\n",
       "    </tr>\n",
       "    <tr>\n",
       "      <th>7</th>\n",
       "      <td>롯데</td>\n",
       "      <td>5110</td>\n",
       "      <td>1454</td>\n",
       "      <td>0.285</td>\n",
       "    </tr>\n",
       "    <tr>\n",
       "      <th>5</th>\n",
       "      <td>LG</td>\n",
       "      <td>4919</td>\n",
       "      <td>1394</td>\n",
       "      <td>0.283</td>\n",
       "    </tr>\n",
       "    <tr>\n",
       "      <th>1</th>\n",
       "      <td>KT</td>\n",
       "      <td>5072</td>\n",
       "      <td>1413</td>\n",
       "      <td>0.279</td>\n",
       "    </tr>\n",
       "    <tr>\n",
       "      <th>8</th>\n",
       "      <td>두산</td>\n",
       "      <td>4975</td>\n",
       "      <td>1375</td>\n",
       "      <td>0.276</td>\n",
       "    </tr>\n",
       "    <tr>\n",
       "      <th>6</th>\n",
       "      <td>NC</td>\n",
       "      <td>5009</td>\n",
       "      <td>1371</td>\n",
       "      <td>0.274</td>\n",
       "    </tr>\n",
       "    <tr>\n",
       "      <th>4</th>\n",
       "      <td>SSG</td>\n",
       "      <td>5001</td>\n",
       "      <td>1367</td>\n",
       "      <td>0.273</td>\n",
       "    </tr>\n",
       "    <tr>\n",
       "      <th>9</th>\n",
       "      <td>한화</td>\n",
       "      <td>5005</td>\n",
       "      <td>1351</td>\n",
       "      <td>0.270</td>\n",
       "    </tr>\n",
       "    <tr>\n",
       "      <th>2</th>\n",
       "      <td>삼성</td>\n",
       "      <td>4975</td>\n",
       "      <td>1336</td>\n",
       "      <td>0.269</td>\n",
       "    </tr>\n",
       "    <tr>\n",
       "      <th>3</th>\n",
       "      <td>Hero</td>\n",
       "      <td>5015</td>\n",
       "      <td>1327</td>\n",
       "      <td>0.265</td>\n",
       "    </tr>\n",
       "  </tbody>\n",
       "</table>\n",
       "</div>"
      ],
      "text/plain": [
       "     팀명    타수    안타     타율\n",
       "0   KIA  5124  1542  0.301\n",
       "7    롯데  5110  1454  0.285\n",
       "5    LG  4919  1394  0.283\n",
       "1    KT  5072  1413  0.279\n",
       "8    두산  4975  1375  0.276\n",
       "6    NC  5009  1371  0.274\n",
       "4   SSG  5001  1367  0.273\n",
       "9    한화  5005  1351  0.270\n",
       "2    삼성  4975  1336  0.269\n",
       "3  Hero  5015  1327  0.265"
      ]
     },
     "execution_count": 56,
     "metadata": {},
     "output_type": "execute_result"
    }
   ],
   "source": [
    "pvt = pvt.sort_values(by = '타율', ascending = False)\n",
    "pvt"
   ]
  },
  {
   "cell_type": "code",
   "execution_count": 75,
   "id": "92660084-253d-4844-bfec-385c29d24c8f",
   "metadata": {},
   "outputs": [
    {
     "name": "stdout",
     "output_type": "stream",
     "text": [
      "(0, 0.301)\n",
      "(1, 0.285)\n",
      "(2, 0.283)\n",
      "(3, 0.279)\n",
      "(4, 0.276)\n",
      "(5, 0.274)\n",
      "(6, 0.273)\n",
      "(7, 0.27)\n",
      "(8, 0.269)\n",
      "(9, 0.265)\n"
     ]
    }
   ],
   "source": [
    "for i in enumerate(pvt['타율']):\n",
    "    print(i)"
   ]
  },
  {
   "cell_type": "code",
   "execution_count": 79,
   "id": "f002c723-87cc-4d0d-aa48-f21bdc34c23c",
   "metadata": {},
   "outputs": [
    {
     "data": {
      "image/png": "[encoded data removed]",
      "text/plain": [
       "<Figure size 640x480 with 1 Axes>"
      ]
     },
     "metadata": {},
     "output_type": "display_data"
    }
   ],
   "source": [
    "sns.barplot(data = pvt, x = '팀명', y = '타율', facecolor = '0.8', edgecolor = '0')\n",
    "plt.xlim(-1, 10)\n",
    "plt.ylim(0, 0.35)\n",
    "for i, v in enumerate(pvt['타율']):\n",
    "    plt.text(x = i, y = v - 0.006, s = f'{v:.3f}', ha = 'center', va = 'top', \n",
    "             fontsize = 8, fontweight = 'bold', color = 'red')\n",
    "plt.title(label = '2024 KBO 팀타율')\n",
    "plt.savefig(fname = 'test.png')\n",
    "plt.show()"
   ]
  },
  {
   "cell_type": "code",
   "execution_count": 81,
   "id": "62673136-536d-4031-a94d-d832ebd319df",
   "metadata": {},
   "outputs": [
    {
     "data": {
      "text/plain": [
       "np.float64(0.0)"
      ]
     },
     "execution_count": 81,
     "metadata": {},
     "output_type": "execute_result"
    }
   ],
   "source": [
    "df['타율'].min()"
   ]
  },
  {
   "cell_type": "code",
   "execution_count": 82,
   "id": "626449a5-1919-498f-8bf8-7458bb6cb00b",
   "metadata": {},
   "outputs": [
    {
     "data": {
      "text/plain": [
       "np.float64(0.667)"
      ]
     },
     "execution_count": 82,
     "metadata": {},
     "output_type": "execute_result"
    }
   ],
   "source": [
    "df['타율'].max()"
   ]
  },
  {
   "cell_type": "code",
   "execution_count": 83,
   "id": "3160251c-b937-41eb-b929-32545a0cdc08",
   "metadata": {},
   "outputs": [
    {
     "data": {
      "text/plain": [
       "min    0.000\n",
       "max    0.667\n",
       "Name: 타율, dtype: float64"
      ]
     },
     "execution_count": 83,
     "metadata": {},
     "output_type": "execute_result"
    }
   ],
   "source": [
    "df['타율'].agg(func = ['min', 'max'])"
   ]
  },
  {
   "cell_type": "code",
   "execution_count": 87,
   "id": "6c7049c8-1b79-4215-bba9-0db124957de9",
   "metadata": {},
   "outputs": [
    {
     "data": {
      "image/png": "[encoded data removed]",
      "text/plain": [
       "<Figure size 640x480 with 1 Axes>"
      ]
     },
     "metadata": {},
     "output_type": "display_data"
    }
   ],
   "source": [
    "# sns.histplot(data = df, x = '타율', binrange = (0, 0.7), bins = 14)\n",
    "sns.histplot(data = df, x = '타율', binrange = (0, 0.7), binwidth = 0.05)\n",
    "plt.show()"
   ]
  },
  {
   "cell_type": "code",
   "execution_count": 88,
   "id": "def83522-8493-4ebc-996a-7a55bfe9b058",
   "metadata": {},
   "outputs": [
    {
     "data": {
      "text/plain": [
       "min      0\n",
       "max    574\n",
       "Name: 타수, dtype: int64"
      ]
     },
     "execution_count": 88,
     "metadata": {},
     "output_type": "execute_result"
    }
   ],
   "source": [
    "df['타수'].agg(func = ['min', 'max'])"
   ]
  },
  {
   "cell_type": "code",
   "execution_count": 92,
   "id": "d2e0ea9c-d63d-403d-b40a-abfbbd658291",
   "metadata": {},
   "outputs": [],
   "source": [
    "cond = (df['팀명'] == 'KIA') | (df['팀명'] == '삼성')"
   ]
  },
  {
   "cell_type": "code",
   "execution_count": 93,
   "id": "65163931-332f-4380-b688-cfc9701c2e21",
   "metadata": {},
   "outputs": [
    {
     "data": {
      "image/png": "[encoded data removed]",
      "text/plain": [
       "<Figure size 640x480 with 1 Axes>"
      ]
     },
     "metadata": {},
     "output_type": "display_data"
    }
   ],
   "source": [
    "sns.histplot(data = df.loc[cond, :], x = '타수', binrange = (0, 600), binwidth = 50, hue = '팀명')\n",
    "plt.show()"
   ]
  },
  {
   "cell_type": "code",
   "execution_count": 96,
   "id": "cc1c6fd1-33c1-46e5-a63b-c74e9b098b2f",
   "metadata": {},
   "outputs": [],
   "source": [
    "plt.rc(group = 'axes', unicode_minus = False)"
   ]
  },
  {
   "cell_type": "code",
   "execution_count": 100,
   "id": "ca1e53c2-94da-48a9-a432-3c7f88bc2627",
   "metadata": {},
   "outputs": [],
   "source": [
    "cond = df['팀명'].isin(values = ['KIA', '한화'])"
   ]
  },
  {
   "cell_type": "code",
   "execution_count": 101,
   "id": "90866d89-72b6-4115-a9ab-79a5b499144a",
   "metadata": {},
   "outputs": [
    {
     "data": {
      "image/png": "[encoded data removed]",
      "text/plain": [
       "<Figure size 640x480 with 1 Axes>"
      ]
     },
     "metadata": {},
     "output_type": "display_data"
    }
   ],
   "source": [
    "sns.kdeplot(data = df.loc[cond, :], x = '타수', hue = '팀명', fill = True)\n",
    "plt.show()"
   ]
  },
  {
   "cell_type": "code",
   "execution_count": 105,
   "id": "73cdc632-59c3-4a20-b36a-7f6b5272946d",
   "metadata": {},
   "outputs": [
    {
     "data": {
      "image/png": "[encoded data removed]",
      "text/plain": [
       "<Figure size 640x480 with 1 Axes>"
      ]
     },
     "metadata": {},
     "output_type": "display_data"
    }
   ],
   "source": [
    "cond = df['타석'] >= 144*3.1\n",
    "sns.scatterplot(data = df.loc[cond, :], x = '출루율', y = '장타율')\n",
    "plt.axvline(x = df.loc[cond, '출루율'].mean(), color = 'red', linewidth = 0.5, linestyle = '--')\n",
    "plt.axhline(y = df.loc[cond, '장타율'].mean(), color = 'red', linewidth = 0.5, linestyle = '--')\n",
    "plt.show()"
   ]
  },
  {
   "cell_type": "code",
   "execution_count": null,
   "id": "33f6594d-eb06-4a92-9798-a97ff8d755f1",
   "metadata": {},
   "outputs": [],
   "source": []
  }
 ],
 "metadata": {
  "kernelspec": {
   "display_name": "Python 3 (ipykernel)",
   "language": "python",
   "name": "python3"
  },
  "language_info": {
   "codemirror_mode": {
    "name": "ipython",
    "version": 3
   },
   "file_extension": ".py",
   "mimetype": "text/x-python",
   "name": "python",
   "nbconvert_exporter": "python",
   "pygments_lexer": "ipython3",
   "version": "3.12.10"
  }
 },
 "nbformat": 4,
 "nbformat_minor": 5
}
