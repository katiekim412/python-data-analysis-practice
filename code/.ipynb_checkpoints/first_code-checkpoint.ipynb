{
 "cells": [
  {
   "cell_type": "markdown",
   "id": "93a82ac1-6a08-4d2d-ac3f-f3f218d6505b",
   "metadata": {},
   "source": [
    "# 첫 번째 코드"
   ]
  },
  {
   "cell_type": "markdown",
   "id": "054d3587-12fc-425e-8da5-15c11c880fdc",
   "metadata": {},
   "source": [
    "## 파이썬 문법 기초\n",
    "- **변수와 객체**\n",
    "- _단순 자료형_\n",
    "  - 정수\n",
    "  - 실수\n",
    "  - 문자열\n",
    "  - 부울\n",
    "- ~복합 자료형~"
   ]
  },
  {
   "cell_type": "code",
   "execution_count": 1,
   "id": "649d6a44-a166-471a-bbf2-30cc6d76242e",
   "metadata": {},
   "outputs": [
    {
     "name": "stdout",
     "output_type": "stream",
     "text": [
      "hello world\n"
     ]
    }
   ],
   "source": [
    "print('hello world')"
   ]
  },
  {
   "cell_type": "code",
   "execution_count": 2,
   "id": "60f9a4f6-e5d4-4377-80cf-c9ada1cf8fdb",
   "metadata": {},
   "outputs": [
    {
     "name": "stdout",
     "output_type": "stream",
     "text": [
      "hello world\n"
     ]
    }
   ],
   "source": [
    "print('hello world')"
   ]
  },
  {
   "cell_type": "code",
   "execution_count": 3,
   "id": "019e1a7b-b267-414f-952b-536dd66a8124",
   "metadata": {
    "jupyter": {
     "source_hidden": true
    }
   },
   "outputs": [
    {
     "data": {
      "text/plain": [
       "2"
      ]
     },
     "execution_count": 3,
     "metadata": {},
     "output_type": "execute_result"
    }
   ],
   "source": [
    "# 코드 실행했을 때 객체가 생성되면 output 순번이 같이 출력됨\n",
    "1 + 1"
   ]
  },
  {
   "cell_type": "raw",
   "id": "a60348ef-4075-4847-ab32-6de5f96a23e0",
   "metadata": {
    "collapsed": true,
    "jupyter": {
     "outputs_hidden": true
    },
    "scrolled": true
   },
   "source": [
    "name = input('당신의 이름은?')\n",
    "print(name)\n",
    "name + '고객님'"
   ]
  },
  {
   "cell_type": "code",
   "execution_count": null,
   "id": "3dbea460-5aca-405e-b659-ae8f660d26bf",
   "metadata": {},
   "outputs": [],
   "source": [
    "print(name)"
   ]
  },
  {
   "cell_type": "code",
   "execution_count": null,
   "id": "e6bc4e0a-7ac5-4132-8c80-e6d8968ad4f0",
   "metadata": {},
   "outputs": [],
   "source": [
    "1 + 1 "
   ]
  },
  {
   "cell_type": "raw",
   "id": "03cb7fc0-dce9-4f34-b7cb-0eac161c1f0d",
   "metadata": {},
   "source": []
  }
 ],
 "metadata": {
  "kernelspec": {
   "display_name": "Python 3 (ipykernel)",
   "language": "python",
   "name": "python3"
  },
  "language_info": {
   "codemirror_mode": {
    "name": "ipython",
    "version": 3
   },
   "file_extension": ".py",
   "mimetype": "text/x-python",
   "name": "python",
   "nbconvert_exporter": "python",
   "pygments_lexer": "ipython3",
   "version": "3.12.10"
  }
 },
 "nbformat": 4,
 "nbformat_minor": 5
}
