{
 "cells": [
  {
   "cell_type": "raw",
   "id": "d4d06190-15d2-4e7e-9f04-4bbb395aa8f6",
   "metadata": {},
   "source": [
    "!pip install bs4 xmltodict tqdm"
   ]
  },
  {
   "cell_type": "code",
   "execution_count": null,
   "id": "714b0adc-8dc2-45b9-847a-f9a9cb08c336",
   "metadata": {},
   "outputs": [],
   "source": [
    "import requests"
   ]
  },
  {
   "cell_type": "code",
   "execution_count": null,
   "id": "0879d360-f212-4bef-928f-45caa1486c9f",
   "metadata": {},
   "outputs": [],
   "source": [
    "ticker = '000660'"
   ]
  },
  {
   "cell_type": "code",
   "execution_count": null,
   "id": "e0cf5c3d-803c-49b5-af51-c48b018f5ee3",
   "metadata": {},
   "outputs": [],
   "source": [
    "url = f'https://finance.naver.com/item/main.naver?code={ticker}'\n",
    "print(url)"
   ]
  },
  {
   "cell_type": "code",
   "execution_count": null,
   "id": "255ca8f2-fed7-4217-852e-a717846a2f3e",
   "metadata": {},
   "outputs": [],
   "source": [
    "res = requests.get(url = url)"
   ]
  },
  {
   "cell_type": "code",
   "execution_count": null,
   "id": "cd20b0d4-1f2c-4d58-bcad-2690ca628550",
   "metadata": {},
   "outputs": [],
   "source": [
    "res.status_code"
   ]
  },
  {
   "cell_type": "code",
   "execution_count": null,
   "id": "011b91f2-2e2d-4205-bfe8-c88cb7da937d",
   "metadata": {},
   "outputs": [],
   "source": [
    "res.headers['content-type']"
   ]
  },
  {
   "cell_type": "code",
   "execution_count": null,
   "id": "6f18f028-e904-4094-b04e-fc55fd1ca4a3",
   "metadata": {},
   "outputs": [],
   "source": [
    "len(res.text)"
   ]
  },
  {
   "cell_type": "code",
   "execution_count": null,
   "id": "61fa46c2-75e4-4c9e-aa9a-05ac24420cdf",
   "metadata": {},
   "outputs": [],
   "source": [
    "from bs4 import BeautifulSoup as BTS"
   ]
  },
  {
   "cell_type": "code",
   "execution_count": null,
   "id": "b25c72e0-61b4-46e8-8c95-1a810fbc4bb2",
   "metadata": {},
   "outputs": [],
   "source": [
    "soup = BTS(markup = res.text, features = 'html.parser')"
   ]
  },
  {
   "cell_type": "code",
   "execution_count": null,
   "id": "12568172-ebdf-4663-9ba2-b4395cc6241d",
   "metadata": {},
   "outputs": [],
   "source": [
    "items = soup.select('#rate_info_krx > div > p.no_today > em > span')\n",
    "len(items)"
   ]
  },
  {
   "cell_type": "code",
   "execution_count": null,
   "id": "5c19c710-535a-4aa0-9c6b-696be298db97",
   "metadata": {},
   "outputs": [],
   "source": [
    "items[0].text"
   ]
  },
  {
   "cell_type": "code",
   "execution_count": null,
   "id": "7dfe53e8-4cb9-4b54-98d3-7f4692b44599",
   "metadata": {},
   "outputs": [],
   "source": [
    "def stock_price(ticker):\n",
    "    url = f'https://finance.naver.com/item/main.naver?code={ticker}'\n",
    "    res = requests.get(url = url)\n",
    "    soup = BTS(markup = res.text, features = 'html.parser')\n",
    "    items = soup.select('#rate_info_krx > div > p.no_today > em > span')\n",
    "    return items[0].text"
   ]
  },
  {
   "cell_type": "code",
   "execution_count": null,
   "id": "f09b10b9-4bc5-4b6a-825d-8a309a740007",
   "metadata": {},
   "outputs": [],
   "source": [
    "stock_price(ticker = '005930')"
   ]
  },
  {
   "cell_type": "code",
   "execution_count": null,
   "id": "dbfa188a-1396-41a7-850b-82f7a43cde79",
   "metadata": {},
   "outputs": [],
   "source": [
    "stock_price(ticker = '000660')"
   ]
  },
  {
   "cell_type": "code",
   "execution_count": null,
   "id": "0258ae5e-3212-4e6d-bb97-120358c7a39c",
   "metadata": {},
   "outputs": [],
   "source": [
    "tickers = ['005930', '000660', '207940', '373220', '012450']\n",
    "compNms = ['삼성전자', '하이닉스', '삼성바로', '엔지엔솔', '한화에스']"
   ]
  },
  {
   "cell_type": "code",
   "execution_count": null,
   "id": "8bec644a-65ee-4581-85e1-4fcfe8ea1742",
   "metadata": {},
   "outputs": [],
   "source": [
    "for ticker in tickers:\n",
    "    price = stock_price(ticker)\n",
    "    print(price)"
   ]
  },
  {
   "cell_type": "code",
   "execution_count": null,
   "id": "8f1915ab-a58a-4629-85e6-f8971a4f0f52",
   "metadata": {},
   "outputs": [],
   "source": [
    "for ticker, compNm in zip(tickers, compNms):\n",
    "    price = stock_price(ticker)\n",
    "    print(price)"
   ]
  },
  {
   "cell_type": "code",
   "execution_count": null,
   "id": "75fbb44c-3b0c-4a42-b027-b4ca3b4bdbbe",
   "metadata": {},
   "outputs": [],
   "source": [
    "import time"
   ]
  },
  {
   "cell_type": "code",
   "execution_count": null,
   "id": "2a2404a8-14a7-4120-a98b-e0be5503e2c2",
   "metadata": {},
   "outputs": [],
   "source": [
    "for ticker, compNm in zip(tickers, compNms):\n",
    "    price = stock_price(ticker)\n",
    "    print(f'{compNm}의 현재 가격은 {price}입니다.')\n",
    "    time.sleep(1)"
   ]
  },
  {
   "cell_type": "code",
   "execution_count": null,
   "id": "37d94327-d1ec-4e9c-80f1-1275d09a2145",
   "metadata": {},
   "outputs": [],
   "source": []
  },
  {
   "cell_type": "code",
   "execution_count": null,
   "id": "1957ec3a-a860-4006-800c-f3fca880649e",
   "metadata": {},
   "outputs": [],
   "source": [
    "import requests\n",
    "from bs4 import BeautifulSoup as BTS"
   ]
  },
  {
   "cell_type": "code",
   "execution_count": null,
   "id": "d3259c9b-63a4-4787-86e1-53c200f0bb0e",
   "metadata": {},
   "outputs": [],
   "source": [
    "url = 'https://finance.naver.com/sise/sise_market_sum.naver'"
   ]
  },
  {
   "cell_type": "code",
   "execution_count": null,
   "id": "67e72575-21f9-4eee-bfc3-0a34f277cd64",
   "metadata": {},
   "outputs": [],
   "source": [
    "res = requests.get(url)"
   ]
  },
  {
   "cell_type": "code",
   "execution_count": null,
   "id": "744b1487-1c98-439e-a15d-5c81f9bf66c0",
   "metadata": {},
   "outputs": [],
   "source": [
    "res.status_code"
   ]
  },
  {
   "cell_type": "code",
   "execution_count": null,
   "id": "a0908961-137d-4ccb-b55d-7fbac12541b9",
   "metadata": {},
   "outputs": [],
   "source": [
    "res.headers['content-type']"
   ]
  },
  {
   "cell_type": "code",
   "execution_count": null,
   "id": "54d78b95-2876-4087-855b-d6e4b52f5271",
   "metadata": {},
   "outputs": [],
   "source": [
    "soup = BTS(markup = res.text, features = 'html.parser') "
   ]
  },
  {
   "cell_type": "code",
   "execution_count": null,
   "id": "68e2be00-d001-47e0-a412-bff25c53fdc5",
   "metadata": {},
   "outputs": [],
   "source": [
    "items = soup.select('td.number:nth-child(3)')\n",
    "len(items)"
   ]
  },
  {
   "cell_type": "code",
   "execution_count": null,
   "id": "2abb125e-5701-4047-a803-041330b8600a",
   "metadata": {},
   "outputs": [],
   "source": [
    "result = []\n",
    "for item in items:\n",
    "    result.append(item.text)\n",
    "result    "
   ]
  },
  {
   "cell_type": "code",
   "execution_count": null,
   "id": "38844ae5-a925-4744-91ca-dc1bb64f85ec",
   "metadata": {
    "scrolled": true
   },
   "outputs": [],
   "source": [
    "[item.text for item in items]"
   ]
  },
  {
   "cell_type": "code",
   "execution_count": null,
   "id": "8cdb1795-4888-4058-8085-879fb930d199",
   "metadata": {},
   "outputs": [],
   "source": [
    "# 종목명 50개를 리스트로 생성해보세요.\n",
    "items = soup.select('#contentarea > div.box_type_l > table.type_2 > tbody > tr > td:nth-child(2) > a')\n",
    "len(items)"
   ]
  },
  {
   "cell_type": "code",
   "execution_count": null,
   "id": "0fea5d52-7300-4beb-b887-dbb4a307f4fd",
   "metadata": {},
   "outputs": [],
   "source": [
    "# 전일비\n",
    "items = soup.select('#contentarea > div.box_type_l > table.type_2 > tbody > tr > td:nth-child(4) > em')\n",
    "len(items)"
   ]
  },
  {
   "cell_type": "code",
   "execution_count": null,
   "id": "586d7914-a253-45b8-8858-0c50f13d1cf2",
   "metadata": {},
   "outputs": [],
   "source": [
    "items = soup.select('td:nth-child(4) > span')\n",
    "len(items)"
   ]
  },
  {
   "cell_type": "code",
   "execution_count": null,
   "id": "97ad286f-c6bd-44b6-ab82-c7775315b655",
   "metadata": {},
   "outputs": [],
   "source": [
    "[item.text.strip() for item in items]"
   ]
  },
  {
   "cell_type": "code",
   "execution_count": null,
   "id": "517c7641-e798-4116-83ae-20d65fce468d",
   "metadata": {},
   "outputs": [],
   "source": []
  },
  {
   "cell_type": "code",
   "execution_count": null,
   "id": "2b97794b-721b-4808-94f8-07483c6ec6b8",
   "metadata": {},
   "outputs": [],
   "source": []
  },
  {
   "cell_type": "code",
   "execution_count": null,
   "id": "bddc1427-b4de-4c88-bfce-af59d1711bb5",
   "metadata": {},
   "outputs": [],
   "source": [
    "import requests\n",
    "from bs4 import BeautifulSoup as BTS"
   ]
  },
  {
   "cell_type": "code",
   "execution_count": null,
   "id": "a477bc7c-09f2-421c-b386-d08ff71a8a65",
   "metadata": {},
   "outputs": [],
   "source": [
    "url = 'https://finance.naver.com/marketindex/'"
   ]
  },
  {
   "cell_type": "code",
   "execution_count": null,
   "id": "56fdcf8d-b3eb-464d-97f4-3463ea010df0",
   "metadata": {},
   "outputs": [],
   "source": [
    "res = requests.get(url)"
   ]
  },
  {
   "cell_type": "code",
   "execution_count": null,
   "id": "6577b404-73c3-4cf1-9d9b-a11539c252b4",
   "metadata": {},
   "outputs": [],
   "source": [
    "res.status_code"
   ]
  },
  {
   "cell_type": "code",
   "execution_count": null,
   "id": "dcd4b7f5-05fb-4757-b040-b5d678da2fb6",
   "metadata": {},
   "outputs": [],
   "source": [
    "res.headers['content-type']"
   ]
  },
  {
   "cell_type": "code",
   "execution_count": null,
   "id": "166a7bf6-a144-4cf9-8ff2-a2087e64736a",
   "metadata": {},
   "outputs": [],
   "source": [
    "soup = BTS(markup = res.text, features = 'html.parser')"
   ]
  },
  {
   "cell_type": "code",
   "execution_count": null,
   "id": "3f8e50c0-b1b2-435f-b9fd-830d8748e8ef",
   "metadata": {},
   "outputs": [],
   "source": [
    "items = soup.select('#exchangeList > li > a.head > h3')\n",
    "len(items)"
   ]
  },
  {
   "cell_type": "code",
   "execution_count": null,
   "id": "0f9c9e44-ff19-49ca-8f94-ca3b8e542810",
   "metadata": {},
   "outputs": [],
   "source": [
    "[item.text for item in items]"
   ]
  },
  {
   "cell_type": "code",
   "execution_count": null,
   "id": "bdf02aaa-95b5-4e2d-9161-2205d88b9d1b",
   "metadata": {},
   "outputs": [],
   "source": [
    "class MyBTS(BTS):\n",
    "    def html_text(self, css): \n",
    "        items = self.select(css)\n",
    "        return [item.text for item in items]"
   ]
  },
  {
   "cell_type": "code",
   "execution_count": null,
   "id": "5b0e3a8d-9497-4abf-9acd-95b224ea43e6",
   "metadata": {},
   "outputs": [],
   "source": [
    "soup2 = MyBTS(markup = res.text, features = 'html.parser')"
   ]
  },
  {
   "cell_type": "code",
   "execution_count": null,
   "id": "c94c10e2-5a11-4ad4-9316-098b122d5754",
   "metadata": {},
   "outputs": [],
   "source": [
    "soup.h"
   ]
  },
  {
   "cell_type": "code",
   "execution_count": null,
   "id": "650d3636-3037-457f-bc85-27005b812bc0",
   "metadata": {},
   "outputs": [],
   "source": [
    "soup2.html_text(css = '#exchangeList > li > a.head > h3')"
   ]
  },
  {
   "cell_type": "code",
   "execution_count": null,
   "id": "a01b626b-6d82-42a0-981d-ce950fb7516f",
   "metadata": {},
   "outputs": [],
   "source": [
    "soup2.html_text(css ='#exchangeList > li > a.head > div > span.value')"
   ]
  },
  {
   "cell_type": "code",
   "execution_count": null,
   "id": "cd444544-b4c1-4e61-8150-08fd8237b2a4",
   "metadata": {},
   "outputs": [],
   "source": [
    "soup2.html_text(css ='#exchangeList > li > a.head > div > span.change')"
   ]
  },
  {
   "cell_type": "code",
   "execution_count": null,
   "id": "1ed68e3d-c9d1-4025-b7eb-fc9a693bcf56",
   "metadata": {},
   "outputs": [],
   "source": []
  },
  {
   "cell_type": "code",
   "execution_count": 5,
   "id": "236f457b-2a44-46f7-a6cb-5400adb9665f",
   "metadata": {},
   "outputs": [],
   "source": [
    "import requests\n",
    "from bs4 import BeautifulSoup as BTS"
   ]
  },
  {
   "cell_type": "code",
   "execution_count": 6,
   "id": "3d4f7a63-adaf-4ac9-aaa1-c3d5d1505203",
   "metadata": {},
   "outputs": [],
   "source": [
    "url = 'https://finance.naver.com/news/mainnews.naver'"
   ]
  },
  {
   "cell_type": "code",
   "execution_count": 7,
   "id": "6e9e5ab0-8427-45f8-a9e9-00dab7f73be6",
   "metadata": {},
   "outputs": [],
   "source": [
    "query = {\n",
    "'date': '2025-05-21',\n",
    "'page': 1\n",
    "}"
   ]
  },
  {
   "cell_type": "code",
   "execution_count": 11,
   "id": "4aef7972-e494-4cc3-a60e-121ca07a3574",
   "metadata": {},
   "outputs": [],
   "source": [
    "res = requests.get(url = url, params = query)"
   ]
  },
  {
   "cell_type": "code",
   "execution_count": 12,
   "id": "4447438c-e953-4915-943f-b474acdd676a",
   "metadata": {},
   "outputs": [
    {
     "data": {
      "text/plain": [
       "200"
      ]
     },
     "execution_count": 12,
     "metadata": {},
     "output_type": "execute_result"
    }
   ],
   "source": [
    "res.status_code"
   ]
  },
  {
   "cell_type": "code",
   "execution_count": 13,
   "id": "e5383e33-bd1c-48d5-9333-17254ce7a31d",
   "metadata": {},
   "outputs": [
    {
     "data": {
      "text/plain": [
       "'text/html;charset=EUC-KR'"
      ]
     },
     "execution_count": 13,
     "metadata": {},
     "output_type": "execute_result"
    }
   ],
   "source": [
    "res.headers['content-type']"
   ]
  },
  {
   "cell_type": "code",
   "execution_count": 14,
   "id": "ffb5adef-c7df-42fc-8978-ab1604cb5e70",
   "metadata": {},
   "outputs": [],
   "source": [
    "soup = BTS(markup = res.text, features = 'html.parser')"
   ]
  },
  {
   "cell_type": "code",
   "execution_count": 44,
   "id": "8026b5bd-a8bc-43a3-b785-f55c0937e489",
   "metadata": {},
   "outputs": [
    {
     "data": {
      "text/plain": [
       "20"
      ]
     },
     "execution_count": 44,
     "metadata": {},
     "output_type": "execute_result"
    }
   ],
   "source": [
    "items = soup.select('.articleSubject > a')\n",
    "len(items)"
   ]
  },
  {
   "cell_type": "code",
   "execution_count": 45,
   "id": "46368b92-7ffe-41b3-8f38-453be6e41456",
   "metadata": {},
   "outputs": [
    {
     "data": {
      "text/plain": [
       "'/news/news_read.naver?article_id=0001078342&office_id=417&mode=mainnews&type=&date=2025-05-21&page=1'"
      ]
     },
     "execution_count": 45,
     "metadata": {},
     "output_type": "execute_result"
    }
   ],
   "source": [
    "items[0]['href']"
   ]
  },
  {
   "cell_type": "code",
   "execution_count": 38,
   "id": "fa36db23-1b59-40fe-9463-9a9a774a2973",
   "metadata": {
    "collapsed": true,
    "jupyter": {
     "outputs_hidden": true
    },
    "scrolled": true
   },
   "outputs": [
    {
     "data": {
      "text/plain": [
       "['KB증권 \"두산에너빌리티, SMR·대형 원전 모두 호재\"',\n",
       " '머스크, 테슬라 로보택시 내달 출시…초반엔 운행 범위 제한',\n",
       " '\"코인으로 수억 벌어\" 자랑하더니…20~30대 \\'이 수법\\' 딱 걸렸다',\n",
       " '빈살만·트럼프, 남다른 ‘브로맨스’…“AI반도체·방산주 유망”',\n",
       " '제이앤PE, 현대힘스 매각 속도 낸다',\n",
       " \"100억 통째로 받을 수 있었는데…개미들 '화들짝' 알고보니  [분석+]\",\n",
       " \"증권가 선호주에 증권주도 '속속' 합류…하반기 더 담을까?\",\n",
       " '시프트업 ‘승리의 여신: 니케’, 中 흥행 기대감 ‘UP’',\n",
       " '“주도주 전환의 시그널”…변곡점 장세 경고 [진짜 주식 2부]',\n",
       " '‘양자 테마’ 떨어질 때 상장하길 잘했네… 양자컴퓨터 ETF, 등락률 상위권',\n",
       " '수익률 상위 1% 투자자, LNG 자재 기업 주목 [주식 초고수는 지금]',\n",
       " 'K증시 이끈 ‘불닭’… 삼양식품 2년새 주가 948%↑',\n",
       " '“젠슨 황이 사랑한다” 각별한 대접 받는 세계 1위 ‘韓 회사’…5월만 14%↑, 더 오를까 [종목Pick]',\n",
       " '“통장 보면 한숨만 나와요”…주가 올라도 못 웃은 서학개미들, 문제는 환율',\n",
       " '\"다시 가즈아!\" 비트코인 살아났다…급등 코인 관련주, 무엇?',\n",
       " '공모주 시장 살아나나…5월 신규 상장주 강세 눈길',\n",
       " '박현주 해외 진출 전략 통했다…미래에셋운용 운용자산 400조 넘어',\n",
       " '뚝심의 KH그룹... 美 항암 바이오투자 7년 만에 ‘나스닥 상장’ 결실',\n",
       " \"미래에셋운용, 해외 진출 22년 만에 운용자산 '400조 시대' 열었다\",\n",
       " '“한판에 7500억이라고?”…15년전 ‘그날’ 기념하는 비트코인 피자데이 [매일코인]']"
      ]
     },
     "execution_count": 38,
     "metadata": {},
     "output_type": "execute_result"
    }
   ],
   "source": [
    "[item.text for item in items]"
   ]
  },
  {
   "cell_type": "code",
   "execution_count": 39,
   "id": "43061158-f23e-42a6-9c0a-a20798b55218",
   "metadata": {
    "collapsed": true,
    "jupyter": {
     "outputs_hidden": true
    },
    "scrolled": true
   },
   "outputs": [
    {
     "data": {
      "text/plain": [
       "['/news/news_read.naver?article_id=0001078342&office_id=417&mode=mainnews&type=&date=2025-05-21&page=1',\n",
       " '/news/news_read.naver?article_id=0005596134&office_id=277&mode=mainnews&type=&date=2025-05-21&page=1',\n",
       " '/news/news_read.naver?article_id=0005197214&office_id=008&mode=mainnews&type=&date=2025-05-21&page=1',\n",
       " '/news/news_read.naver?article_id=0002474355&office_id=016&mode=mainnews&type=&date=2025-05-21&page=1',\n",
       " '/news/news_read.naver?article_id=0005496196&office_id=009&mode=mainnews&type=&date=2025-05-21&page=1',\n",
       " '/news/news_read.naver?article_id=0005134664&office_id=015&mode=mainnews&type=&date=2025-05-21&page=1',\n",
       " '/news/news_read.naver?article_id=0000391792&office_id=629&mode=mainnews&type=&date=2025-05-21&page=1',\n",
       " '/news/news_read.naver?article_id=0005496184&office_id=009&mode=mainnews&type=&date=2025-05-21&page=1',\n",
       " '/news/news_read.naver?article_id=0001210023&office_id=215&mode=mainnews&type=&date=2025-05-21&page=1',\n",
       " '/news/news_read.naver?article_id=0001078861&office_id=366&mode=mainnews&type=&date=2025-05-21&page=1',\n",
       " '/news/news_read.naver?article_id=0004487901&office_id=011&mode=mainnews&type=&date=2025-05-21&page=1',\n",
       " '/news/news_read.naver?article_id=0002710995&office_id=021&mode=mainnews&type=&date=2025-05-21&page=1',\n",
       " '/news/news_read.naver?article_id=0002474245&office_id=016&mode=mainnews&type=&date=2025-05-21&page=1',\n",
       " '/news/news_read.naver?article_id=0005496140&office_id=009&mode=mainnews&type=&date=2025-05-21&page=1',\n",
       " '/news/news_read.naver?article_id=0005197117&office_id=008&mode=mainnews&type=&date=2025-05-21&page=1',\n",
       " '/news/news_read.naver?article_id=0013255542&office_id=003&mode=mainnews&type=&date=2025-05-21&page=1',\n",
       " '/news/news_read.naver?article_id=0005197115&office_id=008&mode=mainnews&type=&date=2025-05-21&page=1',\n",
       " '/news/news_read.naver?article_id=0005352579&office_id=014&mode=mainnews&type=&date=2025-05-21&page=1',\n",
       " '/news/news_read.naver?article_id=0008264008&office_id=421&mode=mainnews&type=&date=2025-05-21&page=1',\n",
       " '/news/news_read.naver?article_id=0005496084&office_id=009&mode=mainnews&type=&date=2025-05-21&page=1']"
      ]
     },
     "execution_count": 39,
     "metadata": {},
     "output_type": "execute_result"
    }
   ],
   "source": [
    "[item['href'] for item in items]"
   ]
  },
  {
   "cell_type": "code",
   "execution_count": 49,
   "id": "5c219279-d48f-4210-bf1b-541036d36b96",
   "metadata": {},
   "outputs": [],
   "source": [
    "class MyBTS(BTS):\n",
    "    def html_text(self, css):\n",
    "        items = self.select(css)\n",
    "        return [item.text for item in items]\n",
    "    def html_attr(self, css, key = 'href'):\n",
    "        items = self.select(css)\n",
    "        return [item[key] for item in items] "
   ]
  },
  {
   "cell_type": "code",
   "execution_count": 52,
   "id": "7beb6f04-4e2e-463d-9b02-fd7fd66dde76",
   "metadata": {},
   "outputs": [],
   "source": [
    "soup2 = MyBTS(markup = res.text, features = 'html.parser')"
   ]
  },
  {
   "cell_type": "code",
   "execution_count": 53,
   "id": "c925bbd1-d7ff-4190-9360-51a083d87b39",
   "metadata": {
    "collapsed": true,
    "jupyter": {
     "outputs_hidden": true
    },
    "scrolled": true
   },
   "outputs": [
    {
     "data": {
      "text/plain": [
       "['KB증권 \"두산에너빌리티, SMR·대형 원전 모두 호재\"',\n",
       " '머스크, 테슬라 로보택시 내달 출시…초반엔 운행 범위 제한',\n",
       " '\"코인으로 수억 벌어\" 자랑하더니…20~30대 \\'이 수법\\' 딱 걸렸다',\n",
       " '빈살만·트럼프, 남다른 ‘브로맨스’…“AI반도체·방산주 유망”',\n",
       " '제이앤PE, 현대힘스 매각 속도 낸다',\n",
       " \"100억 통째로 받을 수 있었는데…개미들 '화들짝' 알고보니  [분석+]\",\n",
       " \"증권가 선호주에 증권주도 '속속' 합류…하반기 더 담을까?\",\n",
       " '시프트업 ‘승리의 여신: 니케’, 中 흥행 기대감 ‘UP’',\n",
       " '“주도주 전환의 시그널”…변곡점 장세 경고 [진짜 주식 2부]',\n",
       " '‘양자 테마’ 떨어질 때 상장하길 잘했네… 양자컴퓨터 ETF, 등락률 상위권',\n",
       " '수익률 상위 1% 투자자, LNG 자재 기업 주목 [주식 초고수는 지금]',\n",
       " 'K증시 이끈 ‘불닭’… 삼양식품 2년새 주가 948%↑',\n",
       " '“젠슨 황이 사랑한다” 각별한 대접 받는 세계 1위 ‘韓 회사’…5월만 14%↑, 더 오를까 [종목Pick]',\n",
       " '“통장 보면 한숨만 나와요”…주가 올라도 못 웃은 서학개미들, 문제는 환율',\n",
       " '\"다시 가즈아!\" 비트코인 살아났다…급등 코인 관련주, 무엇?',\n",
       " '공모주 시장 살아나나…5월 신규 상장주 강세 눈길',\n",
       " '박현주 해외 진출 전략 통했다…미래에셋운용 운용자산 400조 넘어',\n",
       " '뚝심의 KH그룹... 美 항암 바이오투자 7년 만에 ‘나스닥 상장’ 결실',\n",
       " \"미래에셋운용, 해외 진출 22년 만에 운용자산 '400조 시대' 열었다\",\n",
       " '“한판에 7500억이라고?”…15년전 ‘그날’ 기념하는 비트코인 피자데이 [매일코인]']"
      ]
     },
     "execution_count": 53,
     "metadata": {},
     "output_type": "execute_result"
    }
   ],
   "source": [
    "soup2.html_text(css = '.articleSubject > a')"
   ]
  },
  {
   "cell_type": "code",
   "execution_count": 54,
   "id": "bb0a36ad-6f9c-473a-ac97-c6142c155873",
   "metadata": {
    "collapsed": true,
    "jupyter": {
     "outputs_hidden": true
    },
    "scrolled": true
   },
   "outputs": [
    {
     "data": {
      "text/plain": [
       "['/news/news_read.naver?article_id=0001078342&office_id=417&mode=mainnews&type=&date=2025-05-21&page=1',\n",
       " '/news/news_read.naver?article_id=0005596134&office_id=277&mode=mainnews&type=&date=2025-05-21&page=1',\n",
       " '/news/news_read.naver?article_id=0005197214&office_id=008&mode=mainnews&type=&date=2025-05-21&page=1',\n",
       " '/news/news_read.naver?article_id=0002474355&office_id=016&mode=mainnews&type=&date=2025-05-21&page=1',\n",
       " '/news/news_read.naver?article_id=0005496196&office_id=009&mode=mainnews&type=&date=2025-05-21&page=1',\n",
       " '/news/news_read.naver?article_id=0005134664&office_id=015&mode=mainnews&type=&date=2025-05-21&page=1',\n",
       " '/news/news_read.naver?article_id=0000391792&office_id=629&mode=mainnews&type=&date=2025-05-21&page=1',\n",
       " '/news/news_read.naver?article_id=0005496184&office_id=009&mode=mainnews&type=&date=2025-05-21&page=1',\n",
       " '/news/news_read.naver?article_id=0001210023&office_id=215&mode=mainnews&type=&date=2025-05-21&page=1',\n",
       " '/news/news_read.naver?article_id=0001078861&office_id=366&mode=mainnews&type=&date=2025-05-21&page=1',\n",
       " '/news/news_read.naver?article_id=0004487901&office_id=011&mode=mainnews&type=&date=2025-05-21&page=1',\n",
       " '/news/news_read.naver?article_id=0002710995&office_id=021&mode=mainnews&type=&date=2025-05-21&page=1',\n",
       " '/news/news_read.naver?article_id=0002474245&office_id=016&mode=mainnews&type=&date=2025-05-21&page=1',\n",
       " '/news/news_read.naver?article_id=0005496140&office_id=009&mode=mainnews&type=&date=2025-05-21&page=1',\n",
       " '/news/news_read.naver?article_id=0005197117&office_id=008&mode=mainnews&type=&date=2025-05-21&page=1',\n",
       " '/news/news_read.naver?article_id=0013255542&office_id=003&mode=mainnews&type=&date=2025-05-21&page=1',\n",
       " '/news/news_read.naver?article_id=0005197115&office_id=008&mode=mainnews&type=&date=2025-05-21&page=1',\n",
       " '/news/news_read.naver?article_id=0005352579&office_id=014&mode=mainnews&type=&date=2025-05-21&page=1',\n",
       " '/news/news_read.naver?article_id=0008264008&office_id=421&mode=mainnews&type=&date=2025-05-21&page=1',\n",
       " '/news/news_read.naver?article_id=0005496084&office_id=009&mode=mainnews&type=&date=2025-05-21&page=1']"
      ]
     },
     "execution_count": 54,
     "metadata": {},
     "output_type": "execute_result"
    }
   ],
   "source": [
    "soup2.html_attr(css = '.articleSubject > a')"
   ]
  },
  {
   "cell_type": "code",
   "execution_count": null,
   "id": "7a16d69f-e163-4622-8f7d-1d27b229bdd6",
   "metadata": {},
   "outputs": [],
   "source": []
  },
  {
   "cell_type": "code",
   "execution_count": 64,
   "id": "060691ce-7339-4c73-bfd1-2659e17b3250",
   "metadata": {},
   "outputs": [
    {
     "data": {
      "text/plain": [
       "20"
      ]
     },
     "execution_count": 64,
     "metadata": {},
     "output_type": "execute_result"
    }
   ],
   "source": [
    "items = soup.select('span.press')\n",
    "len(items)"
   ]
  },
  {
   "cell_type": "code",
   "execution_count": 65,
   "id": "f703a7c9-4961-4d4c-bac9-881690b67013",
   "metadata": {
    "scrolled": true
   },
   "outputs": [
    {
     "data": {
      "text/plain": [
       "['머니S ',\n",
       " '아시아경제 ',\n",
       " '머니투데이 ',\n",
       " '헤럴드경제 ',\n",
       " '매일경제 ',\n",
       " '한국경제 ',\n",
       " '더팩트 ',\n",
       " '매일경제 ',\n",
       " '한국경제TV ',\n",
       " '조선비즈 ',\n",
       " '서울경제 ',\n",
       " '문화일보 ',\n",
       " '헤럴드경제 ',\n",
       " '매일경제 ',\n",
       " '머니투데이 ',\n",
       " '뉴시스 ',\n",
       " '머니투데이 ',\n",
       " '파이낸셜뉴스 ',\n",
       " '뉴스1 ',\n",
       " '매일경제 ']"
      ]
     },
     "execution_count": 65,
     "metadata": {},
     "output_type": "execute_result"
    }
   ],
   "source": [
    "[item.text for item in items]"
   ]
  },
  {
   "cell_type": "code",
   "execution_count": 66,
   "id": "588b8e27-23c6-4b4a-b7e5-87d891005a30",
   "metadata": {},
   "outputs": [
    {
     "data": {
      "text/plain": [
       "20"
      ]
     },
     "execution_count": 66,
     "metadata": {},
     "output_type": "execute_result"
    }
   ],
   "source": [
    "items = soup.select('span.wdate')\n",
    "len(items)"
   ]
  },
  {
   "cell_type": "code",
   "execution_count": 67,
   "id": "b8befae0-e0c3-4dad-9648-29f6f89f8551",
   "metadata": {},
   "outputs": [
    {
     "data": {
      "text/plain": [
       "['2025-05-21 14:18:58',\n",
       " '2025-05-21 13:58:53',\n",
       " '2025-05-21 13:58:48',\n",
       " '2025-05-21 13:49:08',\n",
       " '2025-05-21 13:38:13',\n",
       " '2025-05-21 13:37:10',\n",
       " '2025-05-21 13:26:16',\n",
       " '2025-05-21 13:06:14',\n",
       " '2025-05-21 12:56:52',\n",
       " '2025-05-21 12:14:08',\n",
       " '2025-05-21 11:48:11',\n",
       " '2025-05-21 11:47:19',\n",
       " '2025-05-21 11:24:11',\n",
       " '2025-05-21 11:16:15',\n",
       " '2025-05-21 10:57:19',\n",
       " '2025-05-21 10:57:05',\n",
       " '2025-05-21 10:54:54',\n",
       " '2025-05-21 10:40:18',\n",
       " '2025-05-21 10:38:16',\n",
       " '2025-05-21 10:34:12']"
      ]
     },
     "execution_count": 67,
     "metadata": {},
     "output_type": "execute_result"
    }
   ],
   "source": [
    "[item.text for item in items]"
   ]
  },
  {
   "cell_type": "code",
   "execution_count": 68,
   "id": "33823242-a4ec-4a97-be27-467b99ea95d8",
   "metadata": {
    "scrolled": true
   },
   "outputs": [
    {
     "data": {
      "text/plain": [
       "['머니S ',\n",
       " '아시아경제 ',\n",
       " '머니투데이 ',\n",
       " '헤럴드경제 ',\n",
       " '매일경제 ',\n",
       " '한국경제 ',\n",
       " '더팩트 ',\n",
       " '매일경제 ',\n",
       " '한국경제TV ',\n",
       " '조선비즈 ',\n",
       " '서울경제 ',\n",
       " '문화일보 ',\n",
       " '헤럴드경제 ',\n",
       " '매일경제 ',\n",
       " '머니투데이 ',\n",
       " '뉴시스 ',\n",
       " '머니투데이 ',\n",
       " '파이낸셜뉴스 ',\n",
       " '뉴스1 ',\n",
       " '매일경제 ']"
      ]
     },
     "execution_count": 68,
     "metadata": {},
     "output_type": "execute_result"
    }
   ],
   "source": [
    "soup2.html_text(css = '.articleSummary > span.press')"
   ]
  },
  {
   "cell_type": "code",
   "execution_count": 69,
   "id": "7dfb48f6-0a76-4d30-8e87-a33642f40f57",
   "metadata": {
    "collapsed": true,
    "jupyter": {
     "outputs_hidden": true
    },
    "scrolled": true
   },
   "outputs": [
    {
     "data": {
      "text/plain": [
       "['2025-05-21 14:18:58',\n",
       " '2025-05-21 13:58:53',\n",
       " '2025-05-21 13:58:48',\n",
       " '2025-05-21 13:49:08',\n",
       " '2025-05-21 13:38:13',\n",
       " '2025-05-21 13:37:10',\n",
       " '2025-05-21 13:26:16',\n",
       " '2025-05-21 13:06:14',\n",
       " '2025-05-21 12:56:52',\n",
       " '2025-05-21 12:14:08',\n",
       " '2025-05-21 11:48:11',\n",
       " '2025-05-21 11:47:19',\n",
       " '2025-05-21 11:24:11',\n",
       " '2025-05-21 11:16:15',\n",
       " '2025-05-21 10:57:19',\n",
       " '2025-05-21 10:57:05',\n",
       " '2025-05-21 10:54:54',\n",
       " '2025-05-21 10:40:18',\n",
       " '2025-05-21 10:38:16',\n",
       " '2025-05-21 10:34:12']"
      ]
     },
     "execution_count": 69,
     "metadata": {},
     "output_type": "execute_result"
    }
   ],
   "source": [
    "soup2.html_text(css = '.articleSummary > span.wdate')"
   ]
  },
  {
   "cell_type": "code",
   "execution_count": 70,
   "id": "049e4f09-3a8d-4b3a-aa45-7eedfa01467e",
   "metadata": {},
   "outputs": [],
   "source": [
    "import pandas as pd"
   ]
  },
  {
   "cell_type": "code",
   "execution_count": 73,
   "id": "f6322791-80fb-4bce-b978-00f8de963fdb",
   "metadata": {},
   "outputs": [
    {
     "data": {
      "text/html": [
       "<div>\n",
       "<style scoped>\n",
       "    .dataframe tbody tr th:only-of-type {\n",
       "        vertical-align: middle;\n",
       "    }\n",
       "\n",
       "    .dataframe tbody tr th {\n",
       "        vertical-align: top;\n",
       "    }\n",
       "\n",
       "    .dataframe thead th {\n",
       "        text-align: right;\n",
       "    }\n",
       "</style>\n",
       "<table border=\"1\" class=\"dataframe\">\n",
       "  <thead>\n",
       "    <tr style=\"text-align: right;\">\n",
       "      <th></th>\n",
       "      <th>제목</th>\n",
       "      <th>링크</th>\n",
       "      <th>언론사</th>\n",
       "      <th>등록일</th>\n",
       "    </tr>\n",
       "  </thead>\n",
       "  <tbody>\n",
       "    <tr>\n",
       "      <th>0</th>\n",
       "      <td>KB증권 \"두산에너빌리티, SMR·대형 원전 모두 호재\"</td>\n",
       "      <td>/news/news_read.naver?article_id=0001078342&amp;of...</td>\n",
       "      <td>머니S</td>\n",
       "      <td>2025-05-21 14:18:58</td>\n",
       "    </tr>\n",
       "    <tr>\n",
       "      <th>1</th>\n",
       "      <td>머스크, 테슬라 로보택시 내달 출시…초반엔 운행 범위 제한</td>\n",
       "      <td>/news/news_read.naver?article_id=0005596134&amp;of...</td>\n",
       "      <td>아시아경제</td>\n",
       "      <td>2025-05-21 13:58:53</td>\n",
       "    </tr>\n",
       "    <tr>\n",
       "      <th>2</th>\n",
       "      <td>\"코인으로 수억 벌어\" 자랑하더니…20~30대 '이 수법' 딱 걸렸다</td>\n",
       "      <td>/news/news_read.naver?article_id=0005197214&amp;of...</td>\n",
       "      <td>머니투데이</td>\n",
       "      <td>2025-05-21 13:58:48</td>\n",
       "    </tr>\n",
       "    <tr>\n",
       "      <th>3</th>\n",
       "      <td>빈살만·트럼프, 남다른 ‘브로맨스’…“AI반도체·방산주 유망”</td>\n",
       "      <td>/news/news_read.naver?article_id=0002474355&amp;of...</td>\n",
       "      <td>헤럴드경제</td>\n",
       "      <td>2025-05-21 13:49:08</td>\n",
       "    </tr>\n",
       "    <tr>\n",
       "      <th>4</th>\n",
       "      <td>제이앤PE, 현대힘스 매각 속도 낸다</td>\n",
       "      <td>/news/news_read.naver?article_id=0005496196&amp;of...</td>\n",
       "      <td>매일경제</td>\n",
       "      <td>2025-05-21 13:38:13</td>\n",
       "    </tr>\n",
       "    <tr>\n",
       "      <th>5</th>\n",
       "      <td>100억 통째로 받을 수 있었는데…개미들 '화들짝' 알고보니  [분석+]</td>\n",
       "      <td>/news/news_read.naver?article_id=0005134664&amp;of...</td>\n",
       "      <td>한국경제</td>\n",
       "      <td>2025-05-21 13:37:10</td>\n",
       "    </tr>\n",
       "    <tr>\n",
       "      <th>6</th>\n",
       "      <td>증권가 선호주에 증권주도 '속속' 합류…하반기 더 담을까?</td>\n",
       "      <td>/news/news_read.naver?article_id=0000391792&amp;of...</td>\n",
       "      <td>더팩트</td>\n",
       "      <td>2025-05-21 13:26:16</td>\n",
       "    </tr>\n",
       "    <tr>\n",
       "      <th>7</th>\n",
       "      <td>시프트업 ‘승리의 여신: 니케’, 中 흥행 기대감 ‘UP’</td>\n",
       "      <td>/news/news_read.naver?article_id=0005496184&amp;of...</td>\n",
       "      <td>매일경제</td>\n",
       "      <td>2025-05-21 13:06:14</td>\n",
       "    </tr>\n",
       "    <tr>\n",
       "      <th>8</th>\n",
       "      <td>“주도주 전환의 시그널”…변곡점 장세 경고 [진짜 주식 2부]</td>\n",
       "      <td>/news/news_read.naver?article_id=0001210023&amp;of...</td>\n",
       "      <td>한국경제TV</td>\n",
       "      <td>2025-05-21 12:56:52</td>\n",
       "    </tr>\n",
       "    <tr>\n",
       "      <th>9</th>\n",
       "      <td>‘양자 테마’ 떨어질 때 상장하길 잘했네… 양자컴퓨터 ETF, 등락률 상위권</td>\n",
       "      <td>/news/news_read.naver?article_id=0001078861&amp;of...</td>\n",
       "      <td>조선비즈</td>\n",
       "      <td>2025-05-21 12:14:08</td>\n",
       "    </tr>\n",
       "    <tr>\n",
       "      <th>10</th>\n",
       "      <td>수익률 상위 1% 투자자, LNG 자재 기업 주목 [주식 초고수는 지금]</td>\n",
       "      <td>/news/news_read.naver?article_id=0004487901&amp;of...</td>\n",
       "      <td>서울경제</td>\n",
       "      <td>2025-05-21 11:48:11</td>\n",
       "    </tr>\n",
       "    <tr>\n",
       "      <th>11</th>\n",
       "      <td>K증시 이끈 ‘불닭’… 삼양식품 2년새 주가 948%↑</td>\n",
       "      <td>/news/news_read.naver?article_id=0002710995&amp;of...</td>\n",
       "      <td>문화일보</td>\n",
       "      <td>2025-05-21 11:47:19</td>\n",
       "    </tr>\n",
       "    <tr>\n",
       "      <th>12</th>\n",
       "      <td>“젠슨 황이 사랑한다” 각별한 대접 받는 세계 1위 ‘韓 회사’…5월만 14%↑, ...</td>\n",
       "      <td>/news/news_read.naver?article_id=0002474245&amp;of...</td>\n",
       "      <td>헤럴드경제</td>\n",
       "      <td>2025-05-21 11:24:11</td>\n",
       "    </tr>\n",
       "    <tr>\n",
       "      <th>13</th>\n",
       "      <td>“통장 보면 한숨만 나와요”…주가 올라도 못 웃은 서학개미들, 문제는 환율</td>\n",
       "      <td>/news/news_read.naver?article_id=0005496140&amp;of...</td>\n",
       "      <td>매일경제</td>\n",
       "      <td>2025-05-21 11:16:15</td>\n",
       "    </tr>\n",
       "    <tr>\n",
       "      <th>14</th>\n",
       "      <td>\"다시 가즈아!\" 비트코인 살아났다…급등 코인 관련주, 무엇?</td>\n",
       "      <td>/news/news_read.naver?article_id=0005197117&amp;of...</td>\n",
       "      <td>머니투데이</td>\n",
       "      <td>2025-05-21 10:57:19</td>\n",
       "    </tr>\n",
       "    <tr>\n",
       "      <th>15</th>\n",
       "      <td>공모주 시장 살아나나…5월 신규 상장주 강세 눈길</td>\n",
       "      <td>/news/news_read.naver?article_id=0013255542&amp;of...</td>\n",
       "      <td>뉴시스</td>\n",
       "      <td>2025-05-21 10:57:05</td>\n",
       "    </tr>\n",
       "    <tr>\n",
       "      <th>16</th>\n",
       "      <td>박현주 해외 진출 전략 통했다…미래에셋운용 운용자산 400조 넘어</td>\n",
       "      <td>/news/news_read.naver?article_id=0005197115&amp;of...</td>\n",
       "      <td>머니투데이</td>\n",
       "      <td>2025-05-21 10:54:54</td>\n",
       "    </tr>\n",
       "    <tr>\n",
       "      <th>17</th>\n",
       "      <td>뚝심의 KH그룹... 美 항암 바이오투자 7년 만에 ‘나스닥 상장’ 결실</td>\n",
       "      <td>/news/news_read.naver?article_id=0005352579&amp;of...</td>\n",
       "      <td>파이낸셜뉴스</td>\n",
       "      <td>2025-05-21 10:40:18</td>\n",
       "    </tr>\n",
       "    <tr>\n",
       "      <th>18</th>\n",
       "      <td>미래에셋운용, 해외 진출 22년 만에 운용자산 '400조 시대' 열었다</td>\n",
       "      <td>/news/news_read.naver?article_id=0008264008&amp;of...</td>\n",
       "      <td>뉴스1</td>\n",
       "      <td>2025-05-21 10:38:16</td>\n",
       "    </tr>\n",
       "    <tr>\n",
       "      <th>19</th>\n",
       "      <td>“한판에 7500억이라고?”…15년전 ‘그날’ 기념하는 비트코인 피자데이 [매일코인]</td>\n",
       "      <td>/news/news_read.naver?article_id=0005496084&amp;of...</td>\n",
       "      <td>매일경제</td>\n",
       "      <td>2025-05-21 10:34:12</td>\n",
       "    </tr>\n",
       "  </tbody>\n",
       "</table>\n",
       "</div>"
      ],
      "text/plain": [
       "                                                   제목  \\\n",
       "0                     KB증권 \"두산에너빌리티, SMR·대형 원전 모두 호재\"   \n",
       "1                    머스크, 테슬라 로보택시 내달 출시…초반엔 운행 범위 제한   \n",
       "2              \"코인으로 수억 벌어\" 자랑하더니…20~30대 '이 수법' 딱 걸렸다   \n",
       "3                  빈살만·트럼프, 남다른 ‘브로맨스’…“AI반도체·방산주 유망”   \n",
       "4                                제이앤PE, 현대힘스 매각 속도 낸다   \n",
       "5            100억 통째로 받을 수 있었는데…개미들 '화들짝' 알고보니  [분석+]   \n",
       "6                    증권가 선호주에 증권주도 '속속' 합류…하반기 더 담을까?   \n",
       "7                    시프트업 ‘승리의 여신: 니케’, 中 흥행 기대감 ‘UP’   \n",
       "8                  “주도주 전환의 시그널”…변곡점 장세 경고 [진짜 주식 2부]   \n",
       "9          ‘양자 테마’ 떨어질 때 상장하길 잘했네… 양자컴퓨터 ETF, 등락률 상위권   \n",
       "10           수익률 상위 1% 투자자, LNG 자재 기업 주목 [주식 초고수는 지금]   \n",
       "11                     K증시 이끈 ‘불닭’… 삼양식품 2년새 주가 948%↑   \n",
       "12  “젠슨 황이 사랑한다” 각별한 대접 받는 세계 1위 ‘韓 회사’…5월만 14%↑, ...   \n",
       "13          “통장 보면 한숨만 나와요”…주가 올라도 못 웃은 서학개미들, 문제는 환율   \n",
       "14                 \"다시 가즈아!\" 비트코인 살아났다…급등 코인 관련주, 무엇?   \n",
       "15                        공모주 시장 살아나나…5월 신규 상장주 강세 눈길   \n",
       "16               박현주 해외 진출 전략 통했다…미래에셋운용 운용자산 400조 넘어   \n",
       "17           뚝심의 KH그룹... 美 항암 바이오투자 7년 만에 ‘나스닥 상장’ 결실   \n",
       "18            미래에셋운용, 해외 진출 22년 만에 운용자산 '400조 시대' 열었다   \n",
       "19    “한판에 7500억이라고?”…15년전 ‘그날’ 기념하는 비트코인 피자데이 [매일코인]   \n",
       "\n",
       "                                                   링크      언론사  \\\n",
       "0   /news/news_read.naver?article_id=0001078342&of...     머니S    \n",
       "1   /news/news_read.naver?article_id=0005596134&of...   아시아경제    \n",
       "2   /news/news_read.naver?article_id=0005197214&of...   머니투데이    \n",
       "3   /news/news_read.naver?article_id=0002474355&of...   헤럴드경제    \n",
       "4   /news/news_read.naver?article_id=0005496196&of...    매일경제    \n",
       "5   /news/news_read.naver?article_id=0005134664&of...    한국경제    \n",
       "6   /news/news_read.naver?article_id=0000391792&of...     더팩트    \n",
       "7   /news/news_read.naver?article_id=0005496184&of...    매일경제    \n",
       "8   /news/news_read.naver?article_id=0001210023&of...  한국경제TV    \n",
       "9   /news/news_read.naver?article_id=0001078861&of...    조선비즈    \n",
       "10  /news/news_read.naver?article_id=0004487901&of...    서울경제    \n",
       "11  /news/news_read.naver?article_id=0002710995&of...    문화일보    \n",
       "12  /news/news_read.naver?article_id=0002474245&of...   헤럴드경제    \n",
       "13  /news/news_read.naver?article_id=0005496140&of...    매일경제    \n",
       "14  /news/news_read.naver?article_id=0005197117&of...   머니투데이    \n",
       "15  /news/news_read.naver?article_id=0013255542&of...     뉴시스    \n",
       "16  /news/news_read.naver?article_id=0005197115&of...   머니투데이    \n",
       "17  /news/news_read.naver?article_id=0005352579&of...  파이낸셜뉴스    \n",
       "18  /news/news_read.naver?article_id=0008264008&of...     뉴스1    \n",
       "19  /news/news_read.naver?article_id=0005496084&of...    매일경제    \n",
       "\n",
       "                    등록일  \n",
       "0   2025-05-21 14:18:58  \n",
       "1   2025-05-21 13:58:53  \n",
       "2   2025-05-21 13:58:48  \n",
       "3   2025-05-21 13:49:08  \n",
       "4   2025-05-21 13:38:13  \n",
       "5   2025-05-21 13:37:10  \n",
       "6   2025-05-21 13:26:16  \n",
       "7   2025-05-21 13:06:14  \n",
       "8   2025-05-21 12:56:52  \n",
       "9   2025-05-21 12:14:08  \n",
       "10  2025-05-21 11:48:11  \n",
       "11  2025-05-21 11:47:19  \n",
       "12  2025-05-21 11:24:11  \n",
       "13  2025-05-21 11:16:15  \n",
       "14  2025-05-21 10:57:19  \n",
       "15  2025-05-21 10:57:05  \n",
       "16  2025-05-21 10:54:54  \n",
       "17  2025-05-21 10:40:18  \n",
       "18  2025-05-21 10:38:16  \n",
       "19  2025-05-21 10:34:12  "
      ]
     },
     "execution_count": 73,
     "metadata": {},
     "output_type": "execute_result"
    }
   ],
   "source": [
    "pd.DataFrame(data = {\n",
    "    '제목' : soup2.html_text(css = '.articleSubject > a'),\n",
    "    '링크' : soup2.html_attr(css = '.articleSubject > a'),\n",
    "    '언론사' : soup2.html_text(css = '.articleSummary > span.press'),\n",
    "    '등록일' : soup2.html_text(css = '.articleSummary > span.wdate')\n",
    "})"
   ]
  },
  {
   "cell_type": "code",
   "execution_count": null,
   "id": "a244f5ff-beda-4281-97f7-2e0971adc706",
   "metadata": {},
   "outputs": [],
   "source": []
  }
 ],
 "metadata": {
  "kernelspec": {
   "display_name": "Python 3 (ipykernel)",
   "language": "python",
   "name": "python3"
  },
  "language_info": {
   "codemirror_mode": {
    "name": "ipython",
    "version": 3
   },
   "file_extension": ".py",
   "mimetype": "text/x-python",
   "name": "python",
   "nbconvert_exporter": "python",
   "pygments_lexer": "ipython3",
   "version": "3.12.10"
  }
 },
 "nbformat": 4,
 "nbformat_minor": 5
}
