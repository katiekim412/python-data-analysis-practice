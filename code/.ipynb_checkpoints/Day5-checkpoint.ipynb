{
 "cells": [
  {
   "cell_type": "code",
   "execution_count": 1,
   "id": "1a38eabb-f760-4d14-b231-39b460767f7b",
   "metadata": {},
   "outputs": [],
   "source": [
    "import numpy as np"
   ]
  },
  {
   "cell_type": "code",
   "execution_count": 2,
   "id": "e1b96f05-e4bb-4f03-bc0a-0949cf02e104",
   "metadata": {},
   "outputs": [
    {
     "data": {
      "text/plain": [
       "[1, 2.0, '3']"
      ]
     },
     "execution_count": 2,
     "metadata": {},
     "output_type": "execute_result"
    }
   ],
   "source": [
    "li1 = [1, 2.0, '3']\n",
    "li1"
   ]
  },
  {
   "cell_type": "code",
   "execution_count": 3,
   "id": "d98e78b2-fc22-4afb-a945-c421da414253",
   "metadata": {},
   "outputs": [
    {
     "data": {
      "text/plain": [
       "array(['1', '2.0', '3'], dtype='<U32')"
      ]
     },
     "execution_count": 3,
     "metadata": {},
     "output_type": "execute_result"
    }
   ],
   "source": [
    "ar1 = np.array(object = li1)\n",
    "ar1"
   ]
  },
  {
   "cell_type": "code",
   "execution_count": 4,
   "id": "c7015f6c-06f8-4596-abdd-c24bd7d77f1b",
   "metadata": {},
   "outputs": [
    {
     "data": {
      "text/plain": [
       "numpy.ndarray"
      ]
     },
     "execution_count": 4,
     "metadata": {},
     "output_type": "execute_result"
    }
   ],
   "source": [
    "type(ar1)"
   ]
  },
  {
   "cell_type": "code",
   "execution_count": 5,
   "id": "2b32d5e7-9b5f-4154-9b05-2c5dd25f4707",
   "metadata": {},
   "outputs": [
    {
     "data": {
      "text/plain": [
       "1"
      ]
     },
     "execution_count": 5,
     "metadata": {},
     "output_type": "execute_result"
    }
   ],
   "source": [
    "ar1.ndim"
   ]
  },
  {
   "cell_type": "code",
   "execution_count": 6,
   "id": "d3119474-0be9-466c-be32-e797aae82f89",
   "metadata": {},
   "outputs": [
    {
     "data": {
      "text/plain": [
       "(3,)"
      ]
     },
     "execution_count": 6,
     "metadata": {},
     "output_type": "execute_result"
    }
   ],
   "source": [
    "ar1.shape"
   ]
  },
  {
   "cell_type": "code",
   "execution_count": 7,
   "id": "95a2d452-e3e3-4c2e-9006-8f4d5a6c4c80",
   "metadata": {},
   "outputs": [
    {
     "data": {
      "text/plain": [
       "3"
      ]
     },
     "execution_count": 7,
     "metadata": {},
     "output_type": "execute_result"
    }
   ],
   "source": [
    "ar1.size"
   ]
  },
  {
   "cell_type": "code",
   "execution_count": 8,
   "id": "d3ed01d2-219c-4dd9-aa1a-e5ff91819198",
   "metadata": {},
   "outputs": [
    {
     "data": {
      "text/plain": [
       "dtype('<U32')"
      ]
     },
     "execution_count": 8,
     "metadata": {},
     "output_type": "execute_result"
    }
   ],
   "source": [
    "ar1.dtype"
   ]
  },
  {
   "cell_type": "code",
   "execution_count": 9,
   "id": "5ef74e9a-d771-4f16-b2cc-cf6542c813b8",
   "metadata": {},
   "outputs": [
    {
     "data": {
      "text/plain": [
       "array(['1', '2.0', '3'], dtype='<U32')"
      ]
     },
     "execution_count": 9,
     "metadata": {},
     "output_type": "execute_result"
    }
   ],
   "source": [
    "ar1"
   ]
  },
  {
   "cell_type": "raw",
   "id": "cee7417b-c699-4312-b3c2-c6b3bc0deea5",
   "metadata": {
    "scrolled": true
   },
   "source": [
    "ar1.astype(int)"
   ]
  },
  {
   "cell_type": "code",
   "execution_count": 10,
   "id": "b9c6a721-390f-4673-ba7e-eda2248112fd",
   "metadata": {},
   "outputs": [
    {
     "data": {
      "text/plain": [
       "array([1., 2., 3.])"
      ]
     },
     "execution_count": 10,
     "metadata": {},
     "output_type": "execute_result"
    }
   ],
   "source": [
    "ar1.astype(float)"
   ]
  },
  {
   "cell_type": "code",
   "execution_count": 11,
   "id": "a33275e1-74ac-4e52-9209-9be11dbe3874",
   "metadata": {},
   "outputs": [
    {
     "data": {
      "text/plain": [
       "array([1, 2, 3])"
      ]
     },
     "execution_count": 11,
     "metadata": {},
     "output_type": "execute_result"
    }
   ],
   "source": [
    "#method chaining\n",
    "ar1.astype(float).astype(int)"
   ]
  },
  {
   "cell_type": "code",
   "execution_count": 12,
   "id": "5935df0e-ffb5-4a52-b1cc-eeeb82eb1055",
   "metadata": {},
   "outputs": [
    {
     "data": {
      "text/plain": [
       "array(['1', '2', '3'], dtype='<U21')"
      ]
     },
     "execution_count": 12,
     "metadata": {},
     "output_type": "execute_result"
    }
   ],
   "source": [
    "ar1.astype(float).astype(int).astype(str)"
   ]
  },
  {
   "cell_type": "code",
   "execution_count": 13,
   "id": "99fa4830-315f-49a4-ae79-a74aecd91180",
   "metadata": {},
   "outputs": [
    {
     "data": {
      "text/plain": [
       "array([1., 2., 3.])"
      ]
     },
     "execution_count": 13,
     "metadata": {},
     "output_type": "execute_result"
    }
   ],
   "source": [
    "np.array(object = li1, dtype = float)"
   ]
  },
  {
   "cell_type": "code",
   "execution_count": 14,
   "id": "39a4754b-277a-4868-8630-9a21b9ca4eb6",
   "metadata": {},
   "outputs": [
    {
     "data": {
      "text/plain": [
       "array(['1', '2.0', '3'], dtype='<U3')"
      ]
     },
     "execution_count": 14,
     "metadata": {},
     "output_type": "execute_result"
    }
   ],
   "source": [
    "np.array(object = li1, dtype = str)"
   ]
  },
  {
   "cell_type": "code",
   "execution_count": 15,
   "id": "5dfa8ccb-ef08-4837-af8f-b868dfa0f886",
   "metadata": {},
   "outputs": [
    {
     "data": {
      "text/plain": [
       "array([1, 2.0, '3'], dtype=object)"
      ]
     },
     "execution_count": 15,
     "metadata": {},
     "output_type": "execute_result"
    }
   ],
   "source": [
    "np.array(object = li1, dtype = object)"
   ]
  },
  {
   "cell_type": "code",
   "execution_count": 16,
   "id": "a9306e29-5a10-4d16-987f-4f708e22c650",
   "metadata": {},
   "outputs": [
    {
     "data": {
      "text/plain": [
       "[0, 1, 2, 3, 4, 5]"
      ]
     },
     "execution_count": 16,
     "metadata": {},
     "output_type": "execute_result"
    }
   ],
   "source": [
    "list(range(6))"
   ]
  },
  {
   "cell_type": "code",
   "execution_count": 17,
   "id": "bb286885-ffab-4866-a7f5-ce950e781c5a",
   "metadata": {},
   "outputs": [
    {
     "data": {
      "text/plain": [
       "[1, 2, 3, 4, 5]"
      ]
     },
     "execution_count": 17,
     "metadata": {},
     "output_type": "execute_result"
    }
   ],
   "source": [
    "list(range(1,6))"
   ]
  },
  {
   "cell_type": "code",
   "execution_count": 18,
   "id": "14f0ac91-1a62-4c76-9877-85f141b6b061",
   "metadata": {},
   "outputs": [
    {
     "data": {
      "text/plain": [
       "[1, 3, 5]"
      ]
     },
     "execution_count": 18,
     "metadata": {},
     "output_type": "execute_result"
    }
   ],
   "source": [
    "list(range(1,6,2))"
   ]
  },
  {
   "cell_type": "raw",
   "id": "f034f0ff-de51-4d91-8a4a-ef0d2a9f1eb0",
   "metadata": {
    "scrolled": true
   },
   "source": [
    "list(range(0,1,0.1))"
   ]
  },
  {
   "cell_type": "code",
   "execution_count": 19,
   "id": "2792c7bd-4fa7-4910-a877-c9ba4abab539",
   "metadata": {},
   "outputs": [
    {
     "data": {
      "text/plain": [
       "array([0, 1, 2, 3, 4, 5])"
      ]
     },
     "execution_count": 19,
     "metadata": {},
     "output_type": "execute_result"
    }
   ],
   "source": [
    "np.arange(6)"
   ]
  },
  {
   "cell_type": "code",
   "execution_count": 20,
   "id": "6e4f5825-2c90-40a0-a433-82a18bf7543a",
   "metadata": {},
   "outputs": [
    {
     "data": {
      "text/plain": [
       "array([1, 2, 3, 4, 5])"
      ]
     },
     "execution_count": 20,
     "metadata": {},
     "output_type": "execute_result"
    }
   ],
   "source": [
    "np.arange(1,6)"
   ]
  },
  {
   "cell_type": "code",
   "execution_count": 21,
   "id": "341cf2c7-eb60-4ef5-8b94-5a70a958a6c8",
   "metadata": {},
   "outputs": [
    {
     "data": {
      "text/plain": [
       "array([1, 3, 5])"
      ]
     },
     "execution_count": 21,
     "metadata": {},
     "output_type": "execute_result"
    }
   ],
   "source": [
    "np.arange(1,6,2)"
   ]
  },
  {
   "cell_type": "code",
   "execution_count": 22,
   "id": "403f7fef-6248-4e32-ab4d-7f8416eb5e54",
   "metadata": {},
   "outputs": [
    {
     "data": {
      "text/plain": [
       "array([0. , 0.1, 0.2, 0.3, 0.4, 0.5, 0.6, 0.7, 0.8, 0.9])"
      ]
     },
     "execution_count": 22,
     "metadata": {},
     "output_type": "execute_result"
    }
   ],
   "source": [
    "np.arange(0,1,0.1)"
   ]
  },
  {
   "cell_type": "code",
   "execution_count": 23,
   "id": "10802c63-ba43-45f6-be1b-3cb6b9cd0a15",
   "metadata": {},
   "outputs": [
    {
     "data": {
      "text/plain": [
       "array([0. , 0.1, 0.2, 0.3, 0.4, 0.5, 0.6, 0.7, 0.8, 0.9, 1. ])"
      ]
     },
     "execution_count": 23,
     "metadata": {},
     "output_type": "execute_result"
    }
   ],
   "source": [
    "np.arange(0,1.1,0.1)"
   ]
  },
  {
   "cell_type": "code",
   "execution_count": 24,
   "id": "e49fb64d-e51a-4a0d-8ac9-d181d60c8c0a",
   "metadata": {},
   "outputs": [
    {
     "data": {
      "text/plain": [
       "array([0. , 0.1, 0.2, 0.3, 0.4, 0.5, 0.6, 0.7, 0.8, 0.9, 1. ])"
      ]
     },
     "execution_count": 24,
     "metadata": {},
     "output_type": "execute_result"
    }
   ],
   "source": [
    "np.linspace(0,1,10+1)"
   ]
  },
  {
   "cell_type": "code",
   "execution_count": 25,
   "id": "e3f9fbd2-61dd-4d2c-b6d2-a5546a07e93d",
   "metadata": {
    "scrolled": true
   },
   "outputs": [
    {
     "data": {
      "text/plain": [
       "array([80.        , 79.83333333, 79.66666667, 79.5       , 79.33333333,\n",
       "       79.16666667, 79.        , 78.83333333, 78.66666667, 78.5       ,\n",
       "       78.33333333, 78.16666667, 78.        , 77.83333333, 77.66666667,\n",
       "       77.5       , 77.33333333, 77.16666667, 77.        , 76.83333333,\n",
       "       76.66666667, 76.5       , 76.33333333, 76.16666667, 76.        ,\n",
       "       75.83333333, 75.66666667, 75.5       , 75.33333333, 75.16666667,\n",
       "       75.        ])"
      ]
     },
     "execution_count": 25,
     "metadata": {},
     "output_type": "execute_result"
    }
   ],
   "source": [
    "np.linspace(80,75,30+1)"
   ]
  },
  {
   "cell_type": "code",
   "execution_count": 26,
   "id": "5619b2b2-1a66-47b0-b4fa-d5cd565aa272",
   "metadata": {},
   "outputs": [
    {
     "data": {
      "text/plain": [
       "array(['1', '2.0', '3', '1', '2.0', '3'], dtype='<U32')"
      ]
     },
     "execution_count": 26,
     "metadata": {},
     "output_type": "execute_result"
    }
   ],
   "source": [
    "np.tile(ar1, 2)"
   ]
  },
  {
   "cell_type": "code",
   "execution_count": 27,
   "id": "bc99cc6c-d377-4c9e-80a4-b2cb57be013c",
   "metadata": {},
   "outputs": [
    {
     "data": {
      "text/plain": [
       "array(['1', '1', '2.0', '2.0', '3', '3'], dtype='<U32')"
      ]
     },
     "execution_count": 27,
     "metadata": {},
     "output_type": "execute_result"
    }
   ],
   "source": [
    "np.repeat(ar1, 2)"
   ]
  },
  {
   "cell_type": "code",
   "execution_count": 28,
   "id": "10a1eba6-a700-49c0-8ce4-da5b354dbd80",
   "metadata": {},
   "outputs": [
    {
     "data": {
      "text/plain": [
       "array(['1', '1', '1', '2.0', '2.0', '3'], dtype='<U32')"
      ]
     },
     "execution_count": 28,
     "metadata": {},
     "output_type": "execute_result"
    }
   ],
   "source": [
    "np.repeat(ar1, [3,2,1])"
   ]
  },
  {
   "cell_type": "code",
   "execution_count": 29,
   "id": "a08639ce-7efc-4db5-a714-ccfcd19ab780",
   "metadata": {},
   "outputs": [
    {
     "data": {
      "text/plain": [
       "array([ 1,  3,  5,  7,  9, 11])"
      ]
     },
     "execution_count": 29,
     "metadata": {},
     "output_type": "execute_result"
    }
   ],
   "source": [
    "ar1 = np.arange(1, 12, 2)\n",
    "ar1"
   ]
  },
  {
   "cell_type": "code",
   "execution_count": 30,
   "id": "4085f030-fd16-48d7-9864-e8153c8a80b8",
   "metadata": {},
   "outputs": [
    {
     "data": {
      "text/plain": [
       "np.int64(1)"
      ]
     },
     "execution_count": 30,
     "metadata": {},
     "output_type": "execute_result"
    }
   ],
   "source": [
    "ar1[0]"
   ]
  },
  {
   "cell_type": "code",
   "execution_count": 31,
   "id": "b4d2022d-3b94-410a-9e78-9665f819873c",
   "metadata": {},
   "outputs": [
    {
     "data": {
      "text/plain": [
       "np.int64(3)"
      ]
     },
     "execution_count": 31,
     "metadata": {},
     "output_type": "execute_result"
    }
   ],
   "source": [
    "ar1[1]"
   ]
  },
  {
   "cell_type": "code",
   "execution_count": 32,
   "id": "c6050e39-42b2-4008-9ea8-45ed375418e8",
   "metadata": {},
   "outputs": [
    {
     "data": {
      "text/plain": [
       "np.int64(11)"
      ]
     },
     "execution_count": 32,
     "metadata": {},
     "output_type": "execute_result"
    }
   ],
   "source": [
    "ar1[-1]"
   ]
  },
  {
   "cell_type": "code",
   "execution_count": 33,
   "id": "aa422209-00ce-41dc-be9f-98841efb3d92",
   "metadata": {},
   "outputs": [
    {
     "data": {
      "text/plain": [
       "11"
      ]
     },
     "execution_count": 33,
     "metadata": {},
     "output_type": "execute_result"
    }
   ],
   "source": [
    "ar1[-1].item()"
   ]
  },
  {
   "cell_type": "code",
   "execution_count": 34,
   "id": "c0c615c2-8271-42c1-9ff4-063bd267c57a",
   "metadata": {},
   "outputs": [
    {
     "data": {
      "text/plain": [
       "array([1, 3, 5])"
      ]
     },
     "execution_count": 34,
     "metadata": {},
     "output_type": "execute_result"
    }
   ],
   "source": [
    "ar1[0:3]"
   ]
  },
  {
   "cell_type": "code",
   "execution_count": 35,
   "id": "e3317263-20e1-4dd7-997e-b6de561e6e49",
   "metadata": {},
   "outputs": [
    {
     "data": {
      "text/plain": [
       "array([1, 3, 5])"
      ]
     },
     "execution_count": 35,
     "metadata": {},
     "output_type": "execute_result"
    }
   ],
   "source": [
    "ar1[:3]"
   ]
  },
  {
   "cell_type": "code",
   "execution_count": 36,
   "id": "82905a7c-bf3e-4d8f-a8ef-1037304ba266",
   "metadata": {},
   "outputs": [
    {
     "data": {
      "text/plain": [
       "array([ 7,  9, 11])"
      ]
     },
     "execution_count": 36,
     "metadata": {},
     "output_type": "execute_result"
    }
   ],
   "source": [
    "ar1[3:]"
   ]
  },
  {
   "cell_type": "code",
   "execution_count": 37,
   "id": "050b3722-d3e2-467a-a290-deaf917edafb",
   "metadata": {},
   "outputs": [
    {
     "data": {
      "text/plain": [
       "array([ 1,  3,  5,  7,  9, 11])"
      ]
     },
     "execution_count": 37,
     "metadata": {},
     "output_type": "execute_result"
    }
   ],
   "source": [
    "ar1[:]"
   ]
  },
  {
   "cell_type": "code",
   "execution_count": 38,
   "id": "a6b09c00-7903-4b30-9d6a-0295e2e06faa",
   "metadata": {},
   "outputs": [
    {
     "data": {
      "text/plain": [
       "array([7, 3, 5])"
      ]
     },
     "execution_count": 38,
     "metadata": {},
     "output_type": "execute_result"
    }
   ],
   "source": [
    "ar1[[3,1,2]]"
   ]
  },
  {
   "cell_type": "code",
   "execution_count": 39,
   "id": "a8f33fba-d949-4e2f-b721-9e4613720aab",
   "metadata": {},
   "outputs": [
    {
     "data": {
      "text/plain": [
       "array([7, 7, 7])"
      ]
     },
     "execution_count": 39,
     "metadata": {},
     "output_type": "execute_result"
    }
   ],
   "source": [
    "ar1[[3,3,3]]"
   ]
  },
  {
   "cell_type": "code",
   "execution_count": 40,
   "id": "de6c207b-a43a-4489-b61b-02e95aba5802",
   "metadata": {},
   "outputs": [
    {
     "data": {
      "text/plain": [
       "array([ 7,  9, 11])"
      ]
     },
     "execution_count": 40,
     "metadata": {},
     "output_type": "execute_result"
    }
   ],
   "source": [
    "ar1[[False,False,False,True,True,True]]"
   ]
  },
  {
   "cell_type": "code",
   "execution_count": 41,
   "id": "4c05167d-9931-47ce-8580-a9937f2b1f01",
   "metadata": {},
   "outputs": [
    {
     "data": {
      "text/plain": [
       "array([ 7,  9, 11])"
      ]
     },
     "execution_count": 41,
     "metadata": {},
     "output_type": "execute_result"
    }
   ],
   "source": [
    "ar1[ar1 >= 7]"
   ]
  },
  {
   "cell_type": "code",
   "execution_count": 42,
   "id": "047207bf-3c54-4fed-930b-f628f6c2c09a",
   "metadata": {},
   "outputs": [
    {
     "data": {
      "text/plain": [
       "array([7, 7, 7])"
      ]
     },
     "execution_count": 42,
     "metadata": {},
     "output_type": "execute_result"
    }
   ],
   "source": [
    "ar1[[3]*3]"
   ]
  },
  {
   "cell_type": "code",
   "execution_count": 43,
   "id": "464e2c29-3fe7-410d-8d8f-42b09d508046",
   "metadata": {},
   "outputs": [
    {
     "data": {
      "text/plain": [
       "array([7, 7, 7])"
      ]
     },
     "execution_count": 43,
     "metadata": {},
     "output_type": "execute_result"
    }
   ],
   "source": [
    "ar1[np.tile(3,3)]"
   ]
  },
  {
   "cell_type": "code",
   "execution_count": 44,
   "id": "59045b2c-0799-4d0b-80ee-b648180024c3",
   "metadata": {},
   "outputs": [
    {
     "data": {
      "text/plain": [
       "array([ 7,  9, 11])"
      ]
     },
     "execution_count": 44,
     "metadata": {},
     "output_type": "execute_result"
    }
   ],
   "source": [
    "ar1[[False]*3 + [True]*3]"
   ]
  },
  {
   "cell_type": "code",
   "execution_count": 45,
   "id": "63e26eef-dbc8-498e-b413-8dd3a0ed1ec9",
   "metadata": {},
   "outputs": [
    {
     "data": {
      "text/plain": [
       "array([ 7,  9, 11])"
      ]
     },
     "execution_count": 45,
     "metadata": {},
     "output_type": "execute_result"
    }
   ],
   "source": [
    "ar1[np.repeat([False, True], 3)]"
   ]
  },
  {
   "cell_type": "code",
   "execution_count": 46,
   "id": "86f1e21c-bdaf-4731-9992-de10f51f800f",
   "metadata": {},
   "outputs": [
    {
     "data": {
      "text/plain": [
       "[[1, 2, 3], [7, 9, 11]]"
      ]
     },
     "execution_count": 46,
     "metadata": {},
     "output_type": "execute_result"
    }
   ],
   "source": [
    "li2 = [[1,2,3],[7,9,11]]\n",
    "li2"
   ]
  },
  {
   "cell_type": "code",
   "execution_count": 47,
   "id": "8a8120f9-4a7a-4d3d-8c23-ede791b0eae6",
   "metadata": {},
   "outputs": [
    {
     "data": {
      "text/plain": [
       "array([[ 1,  2,  3],\n",
       "       [ 7,  9, 11]])"
      ]
     },
     "execution_count": 47,
     "metadata": {},
     "output_type": "execute_result"
    }
   ],
   "source": [
    "ar2 = np.array(object = li2)\n",
    "ar2"
   ]
  },
  {
   "cell_type": "code",
   "execution_count": 48,
   "id": "c7bd87a5-c608-4f0c-8e62-9dd028010baa",
   "metadata": {},
   "outputs": [
    {
     "data": {
      "text/plain": [
       "numpy.ndarray"
      ]
     },
     "execution_count": 48,
     "metadata": {},
     "output_type": "execute_result"
    }
   ],
   "source": [
    "type(ar2)"
   ]
  },
  {
   "cell_type": "code",
   "execution_count": 49,
   "id": "0f80bd4d-9697-4ec4-a355-2b616dae0225",
   "metadata": {},
   "outputs": [
    {
     "data": {
      "text/plain": [
       "2"
      ]
     },
     "execution_count": 49,
     "metadata": {},
     "output_type": "execute_result"
    }
   ],
   "source": [
    "ar2.ndim"
   ]
  },
  {
   "cell_type": "code",
   "execution_count": 50,
   "id": "7b2a8651-bfcb-4503-b3a0-eff4ed357a09",
   "metadata": {},
   "outputs": [
    {
     "data": {
      "text/plain": [
       "(2, 3)"
      ]
     },
     "execution_count": 50,
     "metadata": {},
     "output_type": "execute_result"
    }
   ],
   "source": [
    "ar2.shape"
   ]
  },
  {
   "cell_type": "code",
   "execution_count": 51,
   "id": "5b90714e-eb93-4e82-b06b-01f59acd3311",
   "metadata": {},
   "outputs": [
    {
     "data": {
      "text/plain": [
       "6"
      ]
     },
     "execution_count": 51,
     "metadata": {},
     "output_type": "execute_result"
    }
   ],
   "source": [
    "ar2.size"
   ]
  },
  {
   "cell_type": "code",
   "execution_count": 52,
   "id": "8c548f94-05b9-4fa8-ae71-0490a5739f9f",
   "metadata": {},
   "outputs": [
    {
     "data": {
      "text/plain": [
       "dtype('int64')"
      ]
     },
     "execution_count": 52,
     "metadata": {},
     "output_type": "execute_result"
    }
   ],
   "source": [
    "ar2.dtype"
   ]
  },
  {
   "cell_type": "code",
   "execution_count": 53,
   "id": "e92424f0-9e91-467d-bfb8-e25dc8964d91",
   "metadata": {},
   "outputs": [
    {
     "data": {
      "text/plain": [
       "array([[ 1,  2,  3],\n",
       "       [ 7,  9, 11]])"
      ]
     },
     "execution_count": 53,
     "metadata": {},
     "output_type": "execute_result"
    }
   ],
   "source": [
    "ar2"
   ]
  },
  {
   "cell_type": "code",
   "execution_count": 54,
   "id": "f43bc5a0-a28c-4c38-8a4f-abbe90d8c927",
   "metadata": {},
   "outputs": [
    {
     "data": {
      "text/plain": [
       "np.int64(1)"
      ]
     },
     "execution_count": 54,
     "metadata": {},
     "output_type": "execute_result"
    }
   ],
   "source": [
    "ar2[0,0]"
   ]
  },
  {
   "cell_type": "code",
   "execution_count": 55,
   "id": "4f40021d-b713-400d-89e0-7207df136f05",
   "metadata": {},
   "outputs": [
    {
     "data": {
      "text/plain": [
       "array([1, 2, 3])"
      ]
     },
     "execution_count": 55,
     "metadata": {},
     "output_type": "execute_result"
    }
   ],
   "source": [
    "ar2[0]"
   ]
  },
  {
   "cell_type": "code",
   "execution_count": 56,
   "id": "98260cc0-422a-4f6c-9fdb-cebc53fc1a97",
   "metadata": {},
   "outputs": [
    {
     "data": {
      "text/plain": [
       "array([1, 2, 3])"
      ]
     },
     "execution_count": 56,
     "metadata": {},
     "output_type": "execute_result"
    }
   ],
   "source": [
    "ar2[0, :]"
   ]
  },
  {
   "cell_type": "code",
   "execution_count": 57,
   "id": "3cc3d77a-4981-4618-8dfb-7eed7fa312f4",
   "metadata": {},
   "outputs": [
    {
     "data": {
      "text/plain": [
       "array([[1, 2],\n",
       "       [7, 9]])"
      ]
     },
     "execution_count": 57,
     "metadata": {},
     "output_type": "execute_result"
    }
   ],
   "source": [
    "ar2[0:2, 0:2]"
   ]
  },
  {
   "cell_type": "code",
   "execution_count": 58,
   "id": "0288a5a4-0404-4be1-94c8-b35c4260b4b4",
   "metadata": {},
   "outputs": [
    {
     "data": {
      "text/plain": [
       "array([[ 2,  3],\n",
       "       [ 9, 11]])"
      ]
     },
     "execution_count": 58,
     "metadata": {},
     "output_type": "execute_result"
    }
   ],
   "source": [
    "ar2[:, 1:3]"
   ]
  },
  {
   "cell_type": "code",
   "execution_count": 59,
   "id": "208b0bf7-8c81-45fe-b161-129be6c84a21",
   "metadata": {},
   "outputs": [
    {
     "data": {
      "text/plain": [
       "array([[ 3,  2],\n",
       "       [11,  9]])"
      ]
     },
     "execution_count": 59,
     "metadata": {},
     "output_type": "execute_result"
    }
   ],
   "source": [
    "ar2[:, [2,1]]"
   ]
  },
  {
   "cell_type": "code",
   "execution_count": 60,
   "id": "2171bf84-176b-4ed6-ab2e-3a31f3009bdd",
   "metadata": {},
   "outputs": [
    {
     "data": {
      "text/plain": [
       "array([ 1,  3,  5,  7,  9, 11])"
      ]
     },
     "execution_count": 60,
     "metadata": {},
     "output_type": "execute_result"
    }
   ],
   "source": [
    "ar1"
   ]
  },
  {
   "cell_type": "code",
   "execution_count": 61,
   "id": "246143e6-ca6c-4e24-8059-62a0b9cbc0c1",
   "metadata": {},
   "outputs": [
    {
     "data": {
      "text/plain": [
       "array([[ 1,  3,  5],\n",
       "       [ 7,  9, 11]])"
      ]
     },
     "execution_count": 61,
     "metadata": {},
     "output_type": "execute_result"
    }
   ],
   "source": [
    "ar1.reshape(2,3)"
   ]
  },
  {
   "cell_type": "code",
   "execution_count": 62,
   "id": "08e35a3e-d7d1-4b08-a1c8-45e1f1cf8f81",
   "metadata": {},
   "outputs": [
    {
     "data": {
      "text/plain": [
       "array([[ 1,  5,  9],\n",
       "       [ 3,  7, 11]])"
      ]
     },
     "execution_count": 62,
     "metadata": {},
     "output_type": "execute_result"
    }
   ],
   "source": [
    "ar1.reshape(2,3, order = 'F')"
   ]
  },
  {
   "cell_type": "code",
   "execution_count": 63,
   "id": "c875d0f9-dbbf-4f82-a092-bfcd9f1a449c",
   "metadata": {},
   "outputs": [
    {
     "data": {
      "text/plain": [
       "array([[ 1,  3,  5],\n",
       "       [ 7,  9, 11]])"
      ]
     },
     "execution_count": 63,
     "metadata": {},
     "output_type": "execute_result"
    }
   ],
   "source": [
    "ar2 = ar1.reshape(2, -1)\n",
    "ar2"
   ]
  },
  {
   "cell_type": "code",
   "execution_count": 64,
   "id": "939f7a09-b42d-4ba5-9474-423dec529434",
   "metadata": {},
   "outputs": [
    {
     "data": {
      "text/plain": [
       "array([ 1,  3,  5,  7,  9, 11])"
      ]
     },
     "execution_count": 64,
     "metadata": {},
     "output_type": "execute_result"
    }
   ],
   "source": [
    "ar2.flatten()"
   ]
  },
  {
   "cell_type": "code",
   "execution_count": 65,
   "id": "e54c6d5d-bb89-4b14-99f5-99ca7aee9566",
   "metadata": {},
   "outputs": [
    {
     "data": {
      "text/plain": [
       "array([ 1,  3,  5,  7,  9, 11])"
      ]
     },
     "execution_count": 65,
     "metadata": {},
     "output_type": "execute_result"
    }
   ],
   "source": [
    "ar2.ravel()"
   ]
  },
  {
   "cell_type": "code",
   "execution_count": 66,
   "id": "3642904a-0d9e-4448-b918-59fcebfb21d6",
   "metadata": {},
   "outputs": [
    {
     "data": {
      "text/plain": [
       "array([[1, 2, 3]])"
      ]
     },
     "execution_count": 66,
     "metadata": {},
     "output_type": "execute_result"
    }
   ],
   "source": [
    "np.array([[0,1,2]]) +1"
   ]
  },
  {
   "cell_type": "code",
   "execution_count": 67,
   "id": "2edfc15f-cd02-4dee-8fc0-b2f5f652390c",
   "metadata": {},
   "outputs": [
    {
     "data": {
      "text/plain": [
       "array([ 1,  4,  9, 16, 25])"
      ]
     },
     "execution_count": 67,
     "metadata": {},
     "output_type": "execute_result"
    }
   ],
   "source": [
    "ar1 = np.array([i**2 for i in range(1, 6)])\n",
    "ar1"
   ]
  },
  {
   "cell_type": "code",
   "execution_count": 68,
   "id": "ff13fae7-1872-4e4e-9599-70547f97677e",
   "metadata": {},
   "outputs": [
    {
     "data": {
      "text/plain": [
       "array([2, 2, 2])"
      ]
     },
     "execution_count": 68,
     "metadata": {},
     "output_type": "execute_result"
    }
   ],
   "source": [
    "np.diff(ar1, n=2)"
   ]
  },
  {
   "cell_type": "code",
   "execution_count": 69,
   "id": "ee46b353-f0aa-4a80-adc1-0e6358e02d16",
   "metadata": {},
   "outputs": [],
   "source": [
    "ar1 = np.array(object = [1,5,0,3,7,8,3,5,0,8])"
   ]
  },
  {
   "cell_type": "code",
   "execution_count": 70,
   "id": "91fae7e4-0a1d-43ad-a2cf-63905d5d4ad9",
   "metadata": {},
   "outputs": [
    {
     "data": {
      "text/plain": [
       "np.int64(0)"
      ]
     },
     "execution_count": 70,
     "metadata": {},
     "output_type": "execute_result"
    }
   ],
   "source": [
    "np.min(ar1)"
   ]
  },
  {
   "cell_type": "code",
   "execution_count": 71,
   "id": "79254e96-9f28-4dc4-a900-623402e9874d",
   "metadata": {},
   "outputs": [
    {
     "data": {
      "text/plain": [
       "np.int64(8)"
      ]
     },
     "execution_count": 71,
     "metadata": {},
     "output_type": "execute_result"
    }
   ],
   "source": [
    "np.max(ar1)"
   ]
  },
  {
   "cell_type": "code",
   "execution_count": 72,
   "id": "5c7643dd-dcf4-4e87-99aa-e86a317a8db2",
   "metadata": {},
   "outputs": [
    {
     "data": {
      "text/plain": [
       "np.int64(2)"
      ]
     },
     "execution_count": 72,
     "metadata": {},
     "output_type": "execute_result"
    }
   ],
   "source": [
    "np.argmin(ar1)"
   ]
  },
  {
   "cell_type": "code",
   "execution_count": 73,
   "id": "9a9ad69e-f882-4bd6-919a-16bdab292f30",
   "metadata": {},
   "outputs": [
    {
     "data": {
      "text/plain": [
       "np.int64(5)"
      ]
     },
     "execution_count": 73,
     "metadata": {},
     "output_type": "execute_result"
    }
   ],
   "source": [
    "np.argmax(ar1)"
   ]
  },
  {
   "cell_type": "code",
   "execution_count": 74,
   "id": "037f1ebe-599c-40b1-9e38-2bfa20d713b8",
   "metadata": {},
   "outputs": [
    {
     "data": {
      "text/plain": [
       "array([2, 8, 0, 3, 6, 1, 7, 4, 5, 9])"
      ]
     },
     "execution_count": 74,
     "metadata": {},
     "output_type": "execute_result"
    }
   ],
   "source": [
    "np.argsort(ar1)"
   ]
  },
  {
   "cell_type": "code",
   "execution_count": 75,
   "id": "af0bdc69-4057-43b2-9306-0461950e7a2c",
   "metadata": {},
   "outputs": [
    {
     "data": {
      "text/plain": [
       "2"
      ]
     },
     "execution_count": 75,
     "metadata": {},
     "output_type": "execute_result"
    }
   ],
   "source": [
    "ar1.tolist().count(np.min(ar1))"
   ]
  },
  {
   "cell_type": "code",
   "execution_count": 76,
   "id": "06bffeca-2e54-4443-8cd6-9300832970cb",
   "metadata": {},
   "outputs": [
    {
     "data": {
      "text/plain": [
       "0.417022004702574"
      ]
     },
     "execution_count": 76,
     "metadata": {},
     "output_type": "execute_result"
    }
   ],
   "source": [
    "np.random.seed(1)\n",
    "np.random.rand()"
   ]
  },
  {
   "cell_type": "code",
   "execution_count": 77,
   "id": "9e59660b-e1cf-4114-80fa-d5019137ede0",
   "metadata": {},
   "outputs": [
    {
     "data": {
      "text/plain": [
       "0.417022004702574"
      ]
     },
     "execution_count": 77,
     "metadata": {},
     "output_type": "execute_result"
    }
   ],
   "source": [
    "np.random.seed(1)\n",
    "np.random.rand()"
   ]
  },
  {
   "cell_type": "code",
   "execution_count": 78,
   "id": "65791769-8201-4046-a5ce-08189737eef9",
   "metadata": {},
   "outputs": [
    {
     "name": "stdout",
     "output_type": "stream",
     "text": [
      "0.7203244934421581\n",
      "0.00011437481734488664\n",
      "0.30233257263183977\n",
      "0.14675589081711304\n",
      "0.0923385947687978\n"
     ]
    }
   ],
   "source": [
    "for i in range(5):\n",
    "    print(np.random.rand())"
   ]
  },
  {
   "cell_type": "code",
   "execution_count": 79,
   "id": "3f44c36e-3170-4a4d-bcf6-54a23ca9e769",
   "metadata": {},
   "outputs": [
    {
     "name": "stdout",
     "output_type": "stream",
     "text": [
      "0.417022004702574\n",
      "0.417022004702574\n",
      "0.417022004702574\n",
      "0.417022004702574\n",
      "0.417022004702574\n"
     ]
    }
   ],
   "source": [
    "for i in range(5):\n",
    "    np.random.seed(1)\n",
    "    print(np.random.rand())"
   ]
  },
  {
   "cell_type": "code",
   "execution_count": 80,
   "id": "9c33b912-4235-48de-956e-7817fa4e011b",
   "metadata": {},
   "outputs": [
    {
     "name": "stdout",
     "output_type": "stream",
     "text": [
      "0.417022004702574\n",
      "0.7203244934421581\n",
      "0.00011437481734488664\n",
      "0.30233257263183977\n",
      "0.14675589081711304\n"
     ]
    }
   ],
   "source": [
    "np.random.seed(1)\n",
    "for i in range(5):\n",
    "    print(np.random.rand())"
   ]
  },
  {
   "cell_type": "code",
   "execution_count": 81,
   "id": "943d482c-1a82-4f56-bd12-ce132b4088ae",
   "metadata": {},
   "outputs": [
    {
     "name": "stdout",
     "output_type": "stream",
     "text": [
      "0.417022004702574\n",
      "0.7203244934421581\n",
      "0.00011437481734488664\n",
      "0.30233257263183977\n",
      "0.14675589081711304\n"
     ]
    }
   ],
   "source": [
    "np.random.seed(1)\n",
    "for i in range(5):\n",
    "    print(np.random.rand())"
   ]
  },
  {
   "cell_type": "code",
   "execution_count": 82,
   "id": "359135b8-e24a-4357-9e03-8df8484a0ec2",
   "metadata": {},
   "outputs": [
    {
     "data": {
      "text/plain": [
       "0"
      ]
     },
     "execution_count": 82,
     "metadata": {},
     "output_type": "execute_result"
    }
   ],
   "source": [
    "np.random.randint(5)"
   ]
  },
  {
   "cell_type": "code",
   "execution_count": 83,
   "id": "46d02b05-96dd-40fa-b8e8-e95f7f851b56",
   "metadata": {},
   "outputs": [
    {
     "data": {
      "text/plain": [
       "array([2, 5, 6, 5, 2], dtype=int32)"
      ]
     },
     "execution_count": 83,
     "metadata": {},
     "output_type": "execute_result"
    }
   ],
   "source": [
    "np.random.randint(1, 7, 5)"
   ]
  },
  {
   "cell_type": "code",
   "execution_count": 84,
   "id": "e4c73867-ac56-458c-9311-3e23403c3cab",
   "metadata": {},
   "outputs": [],
   "source": [
    "dice = np.random.randint(1, 7, 100000)"
   ]
  },
  {
   "cell_type": "code",
   "execution_count": 85,
   "id": "525e4181-7d0e-452f-b53f-68104c2bd2cb",
   "metadata": {},
   "outputs": [
    {
     "name": "stdout",
     "output_type": "stream",
     "text": [
      "16724\n",
      "16643\n",
      "16724\n",
      "16553\n",
      "16699\n",
      "16657\n"
     ]
    }
   ],
   "source": [
    "for i in range(1,7):\n",
    "    print(dice.tolist().count(i))"
   ]
  },
  {
   "cell_type": "code",
   "execution_count": 86,
   "id": "51e3bfa6-fc04-4654-8d93-c2115ed2fae5",
   "metadata": {},
   "outputs": [
    {
     "name": "stdout",
     "output_type": "stream",
     "text": [
      "[4, 17, 20, 21, 26, 37]\n",
      "[3, 20, 28, 29, 34, 37]\n",
      "[9, 10, 11, 12, 16, 17]\n",
      "[2, 12, 17, 18, 20, 27]\n",
      "[13, 18, 19, 21, 34, 36]\n",
      "[3, 17, 29, 34, 42, 44]\n",
      "[3, 10, 13, 18, 25, 26]\n",
      "[7, 26, 39, 41, 42, 43]\n",
      "[3, 11, 16, 22, 29, 43]\n",
      "[1, 2, 22, 35, 43, 44]\n"
     ]
    }
   ],
   "source": [
    "for i in range(10):\n",
    "    lotto = np.random.choice(a = range(1, 46), size =6, replace =False)\n",
    "    print(sorted(lotto.tolist()))"
   ]
  },
  {
   "cell_type": "code",
   "execution_count": 87,
   "id": "1262965c-47be-4fee-a7f9-3bae426c239f",
   "metadata": {},
   "outputs": [],
   "source": [
    "import pandas as pd"
   ]
  },
  {
   "cell_type": "code",
   "execution_count": 88,
   "id": "6c837615-03b8-4af8-af4d-1be98a7d1f25",
   "metadata": {},
   "outputs": [
    {
     "data": {
      "text/plain": [
       "[1, 2.0, '3']"
      ]
     },
     "execution_count": 88,
     "metadata": {},
     "output_type": "execute_result"
    }
   ],
   "source": [
    "li1"
   ]
  },
  {
   "cell_type": "code",
   "execution_count": 89,
   "id": "dbd1a932-ec58-4403-8477-4d725153b2e3",
   "metadata": {},
   "outputs": [
    {
     "data": {
      "text/plain": [
       "array(['1', '2.0', '3'], dtype='<U32')"
      ]
     },
     "execution_count": 89,
     "metadata": {},
     "output_type": "execute_result"
    }
   ],
   "source": [
    "np.array(object =li1)"
   ]
  },
  {
   "cell_type": "code",
   "execution_count": 90,
   "id": "7222a3a3-dcbd-4cd0-a94e-23000e456efa",
   "metadata": {},
   "outputs": [
    {
     "data": {
      "text/plain": [
       "0      1\n",
       "1    2.0\n",
       "2      3\n",
       "dtype: object"
      ]
     },
     "execution_count": 90,
     "metadata": {},
     "output_type": "execute_result"
    }
   ],
   "source": [
    "sr = pd.Series(data =li1)\n",
    "sr"
   ]
  },
  {
   "cell_type": "code",
   "execution_count": 91,
   "id": "f7b58001-5008-4941-a3fa-38d8ac702b5e",
   "metadata": {},
   "outputs": [
    {
     "data": {
      "text/plain": [
       "pandas.core.series.Series"
      ]
     },
     "execution_count": 91,
     "metadata": {},
     "output_type": "execute_result"
    }
   ],
   "source": [
    "type(sr)"
   ]
  },
  {
   "cell_type": "code",
   "execution_count": 92,
   "id": "e06b1b45-27ab-4456-ac2a-0f521dda9787",
   "metadata": {},
   "outputs": [
    {
     "name": "stdout",
     "output_type": "stream",
     "text": [
      "<class 'int'>\n",
      "<class 'float'>\n",
      "<class 'str'>\n"
     ]
    }
   ],
   "source": [
    "for i in sr:\n",
    "    print(type(i))"
   ]
  },
  {
   "cell_type": "raw",
   "id": "d2fad7da-2ced-4d0f-9af8-f8f9df01ae3d",
   "metadata": {
    "collapsed": true,
    "jupyter": {
     "outputs_hidden": true
    }
   },
   "source": [
    "sr + 1"
   ]
  },
  {
   "cell_type": "raw",
   "id": "8d76990e-b2a5-49b6-befd-9d650513fdcd",
   "metadata": {
    "scrolled": true
   },
   "source": [
    "sr + '1'"
   ]
  },
  {
   "cell_type": "code",
   "execution_count": 93,
   "id": "47fa6fdd-7753-48d8-a747-10d817b04aed",
   "metadata": {},
   "outputs": [
    {
     "data": {
      "text/plain": [
       "0      11\n",
       "1    2.01\n",
       "2      31\n",
       "dtype: object"
      ]
     },
     "execution_count": 93,
     "metadata": {},
     "output_type": "execute_result"
    }
   ],
   "source": [
    "sr.astype(str)+ '1'"
   ]
  },
  {
   "cell_type": "code",
   "execution_count": 94,
   "id": "80b6a5a2-5a62-44a1-8ae8-6e5fff55295e",
   "metadata": {},
   "outputs": [
    {
     "data": {
      "text/plain": [
       "0    2\n",
       "1    3\n",
       "2    4\n",
       "dtype: int64"
      ]
     },
     "execution_count": 94,
     "metadata": {},
     "output_type": "execute_result"
    }
   ],
   "source": [
    "sr.astype(int)+ 1"
   ]
  },
  {
   "cell_type": "code",
   "execution_count": 95,
   "id": "a7d9c103-6443-489e-9f34-683d95e9b315",
   "metadata": {},
   "outputs": [
    {
     "data": {
      "text/plain": [
       "0    2.0\n",
       "1    3.0\n",
       "2    4.0\n",
       "dtype: float64"
      ]
     },
     "execution_count": 95,
     "metadata": {},
     "output_type": "execute_result"
    }
   ],
   "source": [
    "sr.astype(float)+ 1"
   ]
  },
  {
   "cell_type": "code",
   "execution_count": 96,
   "id": "0d413853-313e-4416-85be-923b07641d16",
   "metadata": {},
   "outputs": [],
   "source": [
    "sr = sr.astype(float)"
   ]
  },
  {
   "cell_type": "code",
   "execution_count": 97,
   "id": "c5aa297e-f157-4f60-9d0c-aecfdbc214cc",
   "metadata": {},
   "outputs": [
    {
     "data": {
      "text/plain": [
       "(3,)"
      ]
     },
     "execution_count": 97,
     "metadata": {},
     "output_type": "execute_result"
    }
   ],
   "source": [
    "sr.shape"
   ]
  },
  {
   "cell_type": "code",
   "execution_count": 98,
   "id": "4ce386b2-6156-4746-8cf9-c8996e8f3f0f",
   "metadata": {},
   "outputs": [
    {
     "data": {
      "text/plain": [
       "3"
      ]
     },
     "execution_count": 98,
     "metadata": {},
     "output_type": "execute_result"
    }
   ],
   "source": [
    "sr.size"
   ]
  },
  {
   "cell_type": "code",
   "execution_count": 99,
   "id": "1ed6af49-038b-4cf9-979b-3142f2137fcd",
   "metadata": {},
   "outputs": [
    {
     "data": {
      "text/plain": [
       "dtype('float64')"
      ]
     },
     "execution_count": 99,
     "metadata": {},
     "output_type": "execute_result"
    }
   ],
   "source": [
    "sr.dtype"
   ]
  },
  {
   "cell_type": "code",
   "execution_count": 100,
   "id": "bad2eed6-ae14-459a-918d-0c6ec4d0ca98",
   "metadata": {},
   "outputs": [
    {
     "data": {
      "text/plain": [
       "RangeIndex(start=0, stop=3, step=1)"
      ]
     },
     "execution_count": 100,
     "metadata": {},
     "output_type": "execute_result"
    }
   ],
   "source": [
    "sr.index"
   ]
  },
  {
   "cell_type": "code",
   "execution_count": 101,
   "id": "f31851e4-88c2-440d-ae52-d8d59f318328",
   "metadata": {},
   "outputs": [
    {
     "data": {
      "text/plain": [
       "array([1., 2., 3.])"
      ]
     },
     "execution_count": 101,
     "metadata": {},
     "output_type": "execute_result"
    }
   ],
   "source": [
    "sr.values"
   ]
  },
  {
   "cell_type": "code",
   "execution_count": 102,
   "id": "6d4ca348-5e1c-40d5-a2cd-ff83b7113668",
   "metadata": {},
   "outputs": [
    {
     "data": {
      "text/plain": [
       "0    1.0\n",
       "1    2.0\n",
       "2    3.0\n",
       "dtype: float64"
      ]
     },
     "execution_count": 102,
     "metadata": {},
     "output_type": "execute_result"
    }
   ],
   "source": [
    "sr"
   ]
  },
  {
   "cell_type": "code",
   "execution_count": 104,
   "id": "5ce0f53d-d738-4287-acbf-4b109e9a3ae2",
   "metadata": {},
   "outputs": [
    {
     "data": {
      "text/plain": [
       "1    1.0\n",
       "2    2.0\n",
       "3    3.0\n",
       "dtype: float64"
      ]
     },
     "execution_count": 104,
     "metadata": {},
     "output_type": "execute_result"
    }
   ],
   "source": [
    "sr.index = [1,2,3]\n",
    "sr"
   ]
  },
  {
   "cell_type": "code",
   "execution_count": 105,
   "id": "c98b073a-6f5a-4da5-90c7-38e5d7e1b2bb",
   "metadata": {},
   "outputs": [
    {
     "data": {
      "text/plain": [
       "1    1.0\n",
       "1    2.0\n",
       "1    3.0\n",
       "dtype: float64"
      ]
     },
     "execution_count": 105,
     "metadata": {},
     "output_type": "execute_result"
    }
   ],
   "source": [
    "sr.index = [1,1,1]\n",
    "sr"
   ]
  },
  {
   "cell_type": "code",
   "execution_count": 106,
   "id": "5bf6fcfd-e96d-4a93-8367-aae633f7fd23",
   "metadata": {},
   "outputs": [
    {
     "data": {
      "text/plain": [
       "1.0    1.0\n",
       "2.0    2.0\n",
       "3.0    3.0\n",
       "dtype: float64"
      ]
     },
     "execution_count": 106,
     "metadata": {},
     "output_type": "execute_result"
    }
   ],
   "source": [
    "sr.index = [1.0,2.0,3.0]\n",
    "sr"
   ]
  },
  {
   "cell_type": "code",
   "execution_count": 108,
   "id": "dd5c23a3-f285-4e8a-ac18-b0ab150d3d46",
   "metadata": {},
   "outputs": [
    {
     "data": {
      "text/plain": [
       "a    1.0\n",
       "b    2.0\n",
       "c    3.0\n",
       "dtype: float64"
      ]
     },
     "execution_count": 108,
     "metadata": {},
     "output_type": "execute_result"
    }
   ],
   "source": [
    "sr.index = ['a','b','c']\n",
    "sr"
   ]
  },
  {
   "cell_type": "code",
   "execution_count": 109,
   "id": "ba3a1046-0147-48ea-92fe-1699cdc9b98d",
   "metadata": {},
   "outputs": [
    {
     "data": {
      "text/plain": [
       "a      1\n",
       "b    2.0\n",
       "c      3\n",
       "dtype: object"
      ]
     },
     "execution_count": 109,
     "metadata": {},
     "output_type": "execute_result"
    }
   ],
   "source": [
    "pd.Series(data = li1, index= ['a','b','c'])"
   ]
  },
  {
   "cell_type": "code",
   "execution_count": 110,
   "id": "1309e885-e73d-4996-9d7c-81e126a0834a",
   "metadata": {},
   "outputs": [
    {
     "data": {
      "text/plain": [
       "a      1\n",
       "b    2.0\n",
       "c      3\n",
       "dtype: object"
      ]
     },
     "execution_count": 110,
     "metadata": {},
     "output_type": "execute_result"
    }
   ],
   "source": [
    "pd.Series(data = {'a':1, 'b':2.0, 'c': '3'})"
   ]
  },
  {
   "cell_type": "code",
   "execution_count": 112,
   "id": "876dfb52-9c42-417d-adc4-662563aeb7c2",
   "metadata": {},
   "outputs": [
    {
     "data": {
      "text/plain": [
       "c    3.0\n",
       "dtype: float64"
      ]
     },
     "execution_count": 112,
     "metadata": {},
     "output_type": "execute_result"
    }
   ],
   "source": [
    "sr[sr == 3]"
   ]
  },
  {
   "cell_type": "code",
   "execution_count": 113,
   "id": "059cf04c-c807-4860-9ba8-bda9a43ff374",
   "metadata": {},
   "outputs": [
    {
     "name": "stderr",
     "output_type": "stream",
     "text": [
      "C:\\Users\\user\\AppData\\Local\\Temp\\ipykernel_14404\\3717362250.py:1: FutureWarning: Series.__getitem__ treating keys as positions is deprecated. In a future version, integer keys will always be treated as labels (consistent with DataFrame behavior). To access a value by position, use `ser.iloc[pos]`\n",
      "  sr[0]\n"
     ]
    },
    {
     "data": {
      "text/plain": [
       "np.float64(1.0)"
      ]
     },
     "execution_count": 113,
     "metadata": {},
     "output_type": "execute_result"
    }
   ],
   "source": [
    "sr[0]"
   ]
  },
  {
   "cell_type": "code",
   "execution_count": 114,
   "id": "b17bf857-e618-466c-bbc3-0d7509c03d90",
   "metadata": {},
   "outputs": [
    {
     "data": {
      "text/plain": [
       "np.float64(1.0)"
      ]
     },
     "execution_count": 114,
     "metadata": {},
     "output_type": "execute_result"
    }
   ],
   "source": [
    "sr.iloc[0]"
   ]
  },
  {
   "cell_type": "code",
   "execution_count": 115,
   "id": "37f4741c-a749-4217-92fd-f5f4c67fcada",
   "metadata": {},
   "outputs": [
    {
     "data": {
      "text/plain": [
       "np.float64(1.0)"
      ]
     },
     "execution_count": 115,
     "metadata": {},
     "output_type": "execute_result"
    }
   ],
   "source": [
    "sr['a']"
   ]
  },
  {
   "cell_type": "code",
   "execution_count": 116,
   "id": "dfe95579-1600-45a4-81cb-ccf5becf6b90",
   "metadata": {},
   "outputs": [
    {
     "data": {
      "text/plain": [
       "np.float64(1.0)"
      ]
     },
     "execution_count": 116,
     "metadata": {},
     "output_type": "execute_result"
    }
   ],
   "source": [
    "sr.loc['a']"
   ]
  },
  {
   "cell_type": "code",
   "execution_count": 117,
   "id": "26469711-b5c1-4cfa-9c68-6cb72f29e95c",
   "metadata": {},
   "outputs": [
    {
     "data": {
      "text/plain": [
       "a    1.0\n",
       "b    2.0\n",
       "c    3.0\n",
       "dtype: float64"
      ]
     },
     "execution_count": 117,
     "metadata": {},
     "output_type": "execute_result"
    }
   ],
   "source": [
    "sr[0:3]"
   ]
  },
  {
   "cell_type": "code",
   "execution_count": 118,
   "id": "5cffc853-7b54-47fa-9ace-c7d7b33868f5",
   "metadata": {},
   "outputs": [
    {
     "data": {
      "text/plain": [
       "a    1.0\n",
       "b    2.0\n",
       "c    3.0\n",
       "dtype: float64"
      ]
     },
     "execution_count": 118,
     "metadata": {},
     "output_type": "execute_result"
    }
   ],
   "source": [
    "sr['a':'c']"
   ]
  },
  {
   "cell_type": "code",
   "execution_count": 119,
   "id": "b2eff48d-27d0-44e2-a49a-38fe90b80bfa",
   "metadata": {},
   "outputs": [
    {
     "data": {
      "text/plain": [
       "c    1\n",
       "a    2\n",
       "b    3\n",
       "dtype: int64"
      ]
     },
     "execution_count": 119,
     "metadata": {},
     "output_type": "execute_result"
    }
   ],
   "source": [
    "sr0 = pd.Series(data=[1,2,3], index=['c', 'a', 'b'])\n",
    "sr0"
   ]
  },
  {
   "cell_type": "code",
   "execution_count": 120,
   "id": "7afbfc68-b507-43fd-ab52-20ee7517ed88",
   "metadata": {},
   "outputs": [
    {
     "data": {
      "text/plain": [
       "Series([], dtype: int64)"
      ]
     },
     "execution_count": 120,
     "metadata": {},
     "output_type": "execute_result"
    }
   ],
   "source": [
    "sr0['a':'c']"
   ]
  },
  {
   "cell_type": "code",
   "execution_count": 123,
   "id": "4e5fa02a-bf14-44b4-b4c3-f9c001135959",
   "metadata": {},
   "outputs": [
    {
     "data": {
      "text/plain": [
       "c    1\n",
       "a    2\n",
       "dtype: int64"
      ]
     },
     "execution_count": 123,
     "metadata": {},
     "output_type": "execute_result"
    }
   ],
   "source": [
    "sr0['c':'a']"
   ]
  },
  {
   "cell_type": "code",
   "execution_count": 125,
   "id": "417d4571-f0ee-4a31-8f5c-d997045fc50b",
   "metadata": {},
   "outputs": [
    {
     "data": {
      "text/plain": [
       "c    1\n",
       "a    2\n",
       "dtype: int64"
      ]
     },
     "execution_count": 125,
     "metadata": {},
     "output_type": "execute_result"
    }
   ],
   "source": [
    "sr0.loc['c':'a']"
   ]
  },
  {
   "cell_type": "code",
   "execution_count": 126,
   "id": "20e2b264-0d5e-4af7-8fba-0162d27a70ed",
   "metadata": {},
   "outputs": [
    {
     "data": {
      "text/plain": [
       "c    1\n",
       "a    2\n",
       "dtype: int64"
      ]
     },
     "execution_count": 126,
     "metadata": {},
     "output_type": "execute_result"
    }
   ],
   "source": [
    "sr0.iloc[0:2]"
   ]
  },
  {
   "cell_type": "code",
   "execution_count": 127,
   "id": "147acf31-26c6-424b-b75f-fb1bcc24973c",
   "metadata": {},
   "outputs": [
    {
     "data": {
      "text/plain": [
       "a    1.0\n",
       "b    2.0\n",
       "c    3.0\n",
       "dtype: float64"
      ]
     },
     "execution_count": 127,
     "metadata": {},
     "output_type": "execute_result"
    }
   ],
   "source": [
    "sr"
   ]
  },
  {
   "cell_type": "code",
   "execution_count": 128,
   "id": "c43ee6ca-66d0-43fa-905a-39beac2c42f4",
   "metadata": {},
   "outputs": [
    {
     "name": "stderr",
     "output_type": "stream",
     "text": [
      "C:\\Users\\user\\AppData\\Local\\Temp\\ipykernel_14404\\3491809151.py:1: FutureWarning: Series.__getitem__ treating keys as positions is deprecated. In a future version, integer keys will always be treated as labels (consistent with DataFrame behavior). To access a value by position, use `ser.iloc[pos]`\n",
      "  sr[[0,2]]\n"
     ]
    },
    {
     "data": {
      "text/plain": [
       "a    1.0\n",
       "c    3.0\n",
       "dtype: float64"
      ]
     },
     "execution_count": 128,
     "metadata": {},
     "output_type": "execute_result"
    }
   ],
   "source": [
    "sr[[0,2]]"
   ]
  },
  {
   "cell_type": "code",
   "execution_count": 129,
   "id": "7dc5043a-e918-4b06-a810-0e6724b53212",
   "metadata": {},
   "outputs": [
    {
     "data": {
      "text/plain": [
       "a    1.0\n",
       "c    3.0\n",
       "dtype: float64"
      ]
     },
     "execution_count": 129,
     "metadata": {},
     "output_type": "execute_result"
    }
   ],
   "source": [
    "sr[['a' , 'c']]"
   ]
  },
  {
   "cell_type": "code",
   "execution_count": 130,
   "id": "2a142170-94be-4156-933c-4377df97877e",
   "metadata": {},
   "outputs": [
    {
     "data": {
      "text/plain": [
       "c    3.0\n",
       "dtype: float64"
      ]
     },
     "execution_count": 130,
     "metadata": {},
     "output_type": "execute_result"
    }
   ],
   "source": [
    "sr[[False, False, True]]"
   ]
  },
  {
   "cell_type": "code",
   "execution_count": 131,
   "id": "19ddc817-ef58-449f-b9b0-a2ca761b5863",
   "metadata": {},
   "outputs": [
    {
     "data": {
      "text/plain": [
       "c    3.0\n",
       "dtype: float64"
      ]
     },
     "execution_count": 131,
     "metadata": {},
     "output_type": "execute_result"
    }
   ],
   "source": [
    "sr[sr>=3]"
   ]
  },
  {
   "cell_type": "code",
   "execution_count": 132,
   "id": "57cad087-9566-41c7-b613-7157a714b83d",
   "metadata": {},
   "outputs": [
    {
     "data": {
      "text/plain": [
       "np.float64(1.0)"
      ]
     },
     "execution_count": 132,
     "metadata": {},
     "output_type": "execute_result"
    }
   ],
   "source": [
    "sr.iloc[0]"
   ]
  },
  {
   "cell_type": "code",
   "execution_count": 133,
   "id": "7867ba5c-f31c-468e-8da8-b68dee112301",
   "metadata": {},
   "outputs": [
    {
     "data": {
      "text/plain": [
       "a    1.0\n",
       "b    2.0\n",
       "c    3.0\n",
       "dtype: float64"
      ]
     },
     "execution_count": 133,
     "metadata": {},
     "output_type": "execute_result"
    }
   ],
   "source": [
    "sr.iloc[0:3]"
   ]
  },
  {
   "cell_type": "code",
   "execution_count": 134,
   "id": "389e368a-1731-45b3-98ef-a4426d461a84",
   "metadata": {},
   "outputs": [
    {
     "data": {
      "text/plain": [
       "a    1.0\n",
       "dtype: float64"
      ]
     },
     "execution_count": 134,
     "metadata": {},
     "output_type": "execute_result"
    }
   ],
   "source": [
    "sr.iloc[[0]]"
   ]
  },
  {
   "cell_type": "code",
   "execution_count": 135,
   "id": "a17675d4-dcca-4a55-b03a-741d71d657e5",
   "metadata": {},
   "outputs": [
    {
     "data": {
      "text/plain": [
       "a    1.0\n",
       "c    3.0\n",
       "dtype: float64"
      ]
     },
     "execution_count": 135,
     "metadata": {},
     "output_type": "execute_result"
    }
   ],
   "source": [
    "sr.iloc[[0,2]]"
   ]
  },
  {
   "cell_type": "code",
   "execution_count": 138,
   "id": "b483cd1b-e0be-4e7e-92a6-050974a3af25",
   "metadata": {
    "collapsed": true,
    "jupyter": {
     "outputs_hidden": true
    },
    "scrolled": true
   },
   "outputs": [
    {
     "ename": "ValueError",
     "evalue": "iLocation based boolean indexing cannot use an indexable as a mask",
     "output_type": "error",
     "traceback": [
      "\u001b[31m---------------------------------------------------------------------------\u001b[39m",
      "\u001b[31mValueError\u001b[39m                                Traceback (most recent call last)",
      "\u001b[36mCell\u001b[39m\u001b[36m \u001b[39m\u001b[32mIn[138]\u001b[39m\u001b[32m, line 1\u001b[39m\n\u001b[32m----> \u001b[39m\u001b[32m1\u001b[39m \u001b[43msr\u001b[49m\u001b[43m.\u001b[49m\u001b[43miloc\u001b[49m\u001b[43m[\u001b[49m\u001b[43msr\u001b[49m\u001b[43m \u001b[49m\u001b[43m<\u001b[49m\u001b[43m \u001b[49m\u001b[32;43m3\u001b[39;49m\u001b[43m]\u001b[49m\n",
      "\u001b[36mFile \u001b[39m\u001b[32m~\\AppData\\Local\\Programs\\Python\\Python312\\Lib\\site-packages\\pandas\\core\\indexing.py:1191\u001b[39m, in \u001b[36m_LocationIndexer.__getitem__\u001b[39m\u001b[34m(self, key)\u001b[39m\n\u001b[32m   1189\u001b[39m maybe_callable = com.apply_if_callable(key, \u001b[38;5;28mself\u001b[39m.obj)\n\u001b[32m   1190\u001b[39m maybe_callable = \u001b[38;5;28mself\u001b[39m._check_deprecated_callable_usage(key, maybe_callable)\n\u001b[32m-> \u001b[39m\u001b[32m1191\u001b[39m \u001b[38;5;28;01mreturn\u001b[39;00m \u001b[38;5;28;43mself\u001b[39;49m\u001b[43m.\u001b[49m\u001b[43m_getitem_axis\u001b[49m\u001b[43m(\u001b[49m\u001b[43mmaybe_callable\u001b[49m\u001b[43m,\u001b[49m\u001b[43m \u001b[49m\u001b[43maxis\u001b[49m\u001b[43m=\u001b[49m\u001b[43maxis\u001b[49m\u001b[43m)\u001b[49m\n",
      "\u001b[36mFile \u001b[39m\u001b[32m~\\AppData\\Local\\Programs\\Python\\Python312\\Lib\\site-packages\\pandas\\core\\indexing.py:1738\u001b[39m, in \u001b[36m_iLocIndexer._getitem_axis\u001b[39m\u001b[34m(self, key, axis)\u001b[39m\n\u001b[32m   1735\u001b[39m     key = np.asarray(key)\n\u001b[32m   1737\u001b[39m \u001b[38;5;28;01mif\u001b[39;00m com.is_bool_indexer(key):\n\u001b[32m-> \u001b[39m\u001b[32m1738\u001b[39m     \u001b[38;5;28;43mself\u001b[39;49m\u001b[43m.\u001b[49m\u001b[43m_validate_key\u001b[49m\u001b[43m(\u001b[49m\u001b[43mkey\u001b[49m\u001b[43m,\u001b[49m\u001b[43m \u001b[49m\u001b[43maxis\u001b[49m\u001b[43m)\u001b[49m\n\u001b[32m   1739\u001b[39m     \u001b[38;5;28;01mreturn\u001b[39;00m \u001b[38;5;28mself\u001b[39m._getbool_axis(key, axis=axis)\n\u001b[32m   1741\u001b[39m \u001b[38;5;66;03m# a list of integers\u001b[39;00m\n",
      "\u001b[36mFile \u001b[39m\u001b[32m~\\AppData\\Local\\Programs\\Python\\Python312\\Lib\\site-packages\\pandas\\core\\indexing.py:1583\u001b[39m, in \u001b[36m_iLocIndexer._validate_key\u001b[39m\u001b[34m(self, key, axis)\u001b[39m\n\u001b[32m   1577\u001b[39m         \u001b[38;5;28;01mif\u001b[39;00m key.index.inferred_type == \u001b[33m\"\u001b[39m\u001b[33minteger\u001b[39m\u001b[33m\"\u001b[39m:\n\u001b[32m   1578\u001b[39m             \u001b[38;5;28;01mraise\u001b[39;00m \u001b[38;5;167;01mNotImplementedError\u001b[39;00m(\n\u001b[32m   1579\u001b[39m                 \u001b[33m\"\u001b[39m\u001b[33miLocation based boolean \u001b[39m\u001b[33m\"\u001b[39m\n\u001b[32m   1580\u001b[39m                 \u001b[33m\"\u001b[39m\u001b[33mindexing on an integer type \u001b[39m\u001b[33m\"\u001b[39m\n\u001b[32m   1581\u001b[39m                 \u001b[33m\"\u001b[39m\u001b[33mis not available\u001b[39m\u001b[33m\"\u001b[39m\n\u001b[32m   1582\u001b[39m             )\n\u001b[32m-> \u001b[39m\u001b[32m1583\u001b[39m         \u001b[38;5;28;01mraise\u001b[39;00m \u001b[38;5;167;01mValueError\u001b[39;00m(\n\u001b[32m   1584\u001b[39m             \u001b[33m\"\u001b[39m\u001b[33miLocation based boolean indexing cannot use \u001b[39m\u001b[33m\"\u001b[39m\n\u001b[32m   1585\u001b[39m             \u001b[33m\"\u001b[39m\u001b[33man indexable as a mask\u001b[39m\u001b[33m\"\u001b[39m\n\u001b[32m   1586\u001b[39m         )\n\u001b[32m   1587\u001b[39m     \u001b[38;5;28;01mreturn\u001b[39;00m\n\u001b[32m   1589\u001b[39m \u001b[38;5;28;01mif\u001b[39;00m \u001b[38;5;28misinstance\u001b[39m(key, \u001b[38;5;28mslice\u001b[39m):\n",
      "\u001b[31mValueError\u001b[39m: iLocation based boolean indexing cannot use an indexable as a mask"
     ]
    }
   ],
   "source": [
    "sr.iloc[sr < 3]"
   ]
  },
  {
   "cell_type": "code",
   "execution_count": 139,
   "id": "7bce9036-296f-4fc9-8143-b7e530931c50",
   "metadata": {},
   "outputs": [
    {
     "data": {
      "text/plain": [
       "np.float64(1.0)"
      ]
     },
     "execution_count": 139,
     "metadata": {},
     "output_type": "execute_result"
    }
   ],
   "source": [
    "sr.loc['a']"
   ]
  },
  {
   "cell_type": "code",
   "execution_count": 140,
   "id": "8f8b252e-534f-4b5c-9823-5ef510e1382b",
   "metadata": {},
   "outputs": [
    {
     "data": {
      "text/plain": [
       "a    1.0\n",
       "b    2.0\n",
       "c    3.0\n",
       "dtype: float64"
      ]
     },
     "execution_count": 140,
     "metadata": {},
     "output_type": "execute_result"
    }
   ],
   "source": [
    "sr.loc['a':'c']"
   ]
  },
  {
   "cell_type": "code",
   "execution_count": 141,
   "id": "fd521c35-4053-4276-ba34-76d3e3619942",
   "metadata": {},
   "outputs": [
    {
     "data": {
      "text/plain": [
       "a    1.0\n",
       "dtype: float64"
      ]
     },
     "execution_count": 141,
     "metadata": {},
     "output_type": "execute_result"
    }
   ],
   "source": [
    "sr.loc[['a']]"
   ]
  },
  {
   "cell_type": "code",
   "execution_count": 142,
   "id": "0217caf3-0a56-49eb-9992-8333ec8df755",
   "metadata": {},
   "outputs": [
    {
     "data": {
      "text/plain": [
       "a    1.0\n",
       "c    3.0\n",
       "dtype: float64"
      ]
     },
     "execution_count": 142,
     "metadata": {},
     "output_type": "execute_result"
    }
   ],
   "source": [
    "sr.loc[['a', 'c']]"
   ]
  },
  {
   "cell_type": "code",
   "execution_count": 149,
   "id": "0232a788-a35d-4551-8ab9-f3ea96699971",
   "metadata": {},
   "outputs": [
    {
     "data": {
      "text/plain": [
       "a    1.0\n",
       "b    2.0\n",
       "dtype: float64"
      ]
     },
     "execution_count": 149,
     "metadata": {},
     "output_type": "execute_result"
    }
   ],
   "source": [
    "sr.loc[sr <3]"
   ]
  },
  {
   "cell_type": "code",
   "execution_count": 165,
   "id": "96a3c627-19ac-4fbc-bb4f-da9456b0aac3",
   "metadata": {},
   "outputs": [
    {
     "data": {
      "text/plain": [
       "1      1\n",
       "2    2.0\n",
       "3      3\n",
       "dtype: object"
      ]
     },
     "execution_count": 165,
     "metadata": {},
     "output_type": "execute_result"
    }
   ],
   "source": [
    "sr1 = pd.Series(data = li1, index = range(1,4))\n",
    "sr1"
   ]
  },
  {
   "cell_type": "code",
   "execution_count": 166,
   "id": "02326128-9675-48da-b950-b9e99b537ca2",
   "metadata": {
    "collapsed": true,
    "jupyter": {
     "outputs_hidden": true
    },
    "scrolled": true
   },
   "outputs": [
    {
     "ename": "KeyError",
     "evalue": "0",
     "output_type": "error",
     "traceback": [
      "\u001b[31m---------------------------------------------------------------------------\u001b[39m",
      "\u001b[31mValueError\u001b[39m                                Traceback (most recent call last)",
      "\u001b[36mFile \u001b[39m\u001b[32m~\\AppData\\Local\\Programs\\Python\\Python312\\Lib\\site-packages\\pandas\\core\\indexes\\range.py:413\u001b[39m, in \u001b[36mRangeIndex.get_loc\u001b[39m\u001b[34m(self, key)\u001b[39m\n\u001b[32m    412\u001b[39m \u001b[38;5;28;01mtry\u001b[39;00m:\n\u001b[32m--> \u001b[39m\u001b[32m413\u001b[39m     \u001b[38;5;28;01mreturn\u001b[39;00m \u001b[38;5;28;43mself\u001b[39;49m\u001b[43m.\u001b[49m\u001b[43m_range\u001b[49m\u001b[43m.\u001b[49m\u001b[43mindex\u001b[49m\u001b[43m(\u001b[49m\u001b[43mnew_key\u001b[49m\u001b[43m)\u001b[49m\n\u001b[32m    414\u001b[39m \u001b[38;5;28;01mexcept\u001b[39;00m \u001b[38;5;167;01mValueError\u001b[39;00m \u001b[38;5;28;01mas\u001b[39;00m err:\n",
      "\u001b[31mValueError\u001b[39m: 0 is not in range",
      "\nThe above exception was the direct cause of the following exception:\n",
      "\u001b[31mKeyError\u001b[39m                                  Traceback (most recent call last)",
      "\u001b[36mCell\u001b[39m\u001b[36m \u001b[39m\u001b[32mIn[166]\u001b[39m\u001b[32m, line 1\u001b[39m\n\u001b[32m----> \u001b[39m\u001b[32m1\u001b[39m \u001b[43msr1\u001b[49m\u001b[43m[\u001b[49m\u001b[32;43m0\u001b[39;49m\u001b[43m]\u001b[49m\n",
      "\u001b[36mFile \u001b[39m\u001b[32m~\\AppData\\Local\\Programs\\Python\\Python312\\Lib\\site-packages\\pandas\\core\\series.py:1121\u001b[39m, in \u001b[36mSeries.__getitem__\u001b[39m\u001b[34m(self, key)\u001b[39m\n\u001b[32m   1118\u001b[39m     \u001b[38;5;28;01mreturn\u001b[39;00m \u001b[38;5;28mself\u001b[39m._values[key]\n\u001b[32m   1120\u001b[39m \u001b[38;5;28;01melif\u001b[39;00m key_is_scalar:\n\u001b[32m-> \u001b[39m\u001b[32m1121\u001b[39m     \u001b[38;5;28;01mreturn\u001b[39;00m \u001b[38;5;28;43mself\u001b[39;49m\u001b[43m.\u001b[49m\u001b[43m_get_value\u001b[49m\u001b[43m(\u001b[49m\u001b[43mkey\u001b[49m\u001b[43m)\u001b[49m\n\u001b[32m   1123\u001b[39m \u001b[38;5;66;03m# Convert generator to list before going through hashable part\u001b[39;00m\n\u001b[32m   1124\u001b[39m \u001b[38;5;66;03m# (We will iterate through the generator there to check for slices)\u001b[39;00m\n\u001b[32m   1125\u001b[39m \u001b[38;5;28;01mif\u001b[39;00m is_iterator(key):\n",
      "\u001b[36mFile \u001b[39m\u001b[32m~\\AppData\\Local\\Programs\\Python\\Python312\\Lib\\site-packages\\pandas\\core\\series.py:1237\u001b[39m, in \u001b[36mSeries._get_value\u001b[39m\u001b[34m(self, label, takeable)\u001b[39m\n\u001b[32m   1234\u001b[39m     \u001b[38;5;28;01mreturn\u001b[39;00m \u001b[38;5;28mself\u001b[39m._values[label]\n\u001b[32m   1236\u001b[39m \u001b[38;5;66;03m# Similar to Index.get_value, but we do not fall back to positional\u001b[39;00m\n\u001b[32m-> \u001b[39m\u001b[32m1237\u001b[39m loc = \u001b[38;5;28;43mself\u001b[39;49m\u001b[43m.\u001b[49m\u001b[43mindex\u001b[49m\u001b[43m.\u001b[49m\u001b[43mget_loc\u001b[49m\u001b[43m(\u001b[49m\u001b[43mlabel\u001b[49m\u001b[43m)\u001b[49m\n\u001b[32m   1239\u001b[39m \u001b[38;5;28;01mif\u001b[39;00m is_integer(loc):\n\u001b[32m   1240\u001b[39m     \u001b[38;5;28;01mreturn\u001b[39;00m \u001b[38;5;28mself\u001b[39m._values[loc]\n",
      "\u001b[36mFile \u001b[39m\u001b[32m~\\AppData\\Local\\Programs\\Python\\Python312\\Lib\\site-packages\\pandas\\core\\indexes\\range.py:415\u001b[39m, in \u001b[36mRangeIndex.get_loc\u001b[39m\u001b[34m(self, key)\u001b[39m\n\u001b[32m    413\u001b[39m         \u001b[38;5;28;01mreturn\u001b[39;00m \u001b[38;5;28mself\u001b[39m._range.index(new_key)\n\u001b[32m    414\u001b[39m     \u001b[38;5;28;01mexcept\u001b[39;00m \u001b[38;5;167;01mValueError\u001b[39;00m \u001b[38;5;28;01mas\u001b[39;00m err:\n\u001b[32m--> \u001b[39m\u001b[32m415\u001b[39m         \u001b[38;5;28;01mraise\u001b[39;00m \u001b[38;5;167;01mKeyError\u001b[39;00m(key) \u001b[38;5;28;01mfrom\u001b[39;00m\u001b[38;5;250m \u001b[39m\u001b[34;01merr\u001b[39;00m\n\u001b[32m    416\u001b[39m \u001b[38;5;28;01mif\u001b[39;00m \u001b[38;5;28misinstance\u001b[39m(key, Hashable):\n\u001b[32m    417\u001b[39m     \u001b[38;5;28;01mraise\u001b[39;00m \u001b[38;5;167;01mKeyError\u001b[39;00m(key)\n",
      "\u001b[31mKeyError\u001b[39m: 0"
     ]
    }
   ],
   "source": [
    "sr1[0]"
   ]
  },
  {
   "cell_type": "code",
   "execution_count": 163,
   "id": "13014921-187c-4bc4-baa1-8ede6744a800",
   "metadata": {},
   "outputs": [
    {
     "data": {
      "text/plain": [
       "1"
      ]
     },
     "execution_count": 163,
     "metadata": {},
     "output_type": "execute_result"
    }
   ],
   "source": [
    "sr1.iloc[0]"
   ]
  },
  {
   "cell_type": "code",
   "execution_count": 168,
   "id": "ed72124f-b25b-43bb-ae62-a50871dfdaa1",
   "metadata": {},
   "outputs": [
    {
     "data": {
      "text/plain": [
       "2.0"
      ]
     },
     "execution_count": 168,
     "metadata": {},
     "output_type": "execute_result"
    }
   ],
   "source": [
    "sr1.iloc[1]"
   ]
  },
  {
   "cell_type": "code",
   "execution_count": 170,
   "id": "661309dc-2d82-4da6-a917-81ae1cd92295",
   "metadata": {},
   "outputs": [
    {
     "data": {
      "text/plain": [
       "1      1\n",
       "1    2.0\n",
       "1      3\n",
       "dtype: object"
      ]
     },
     "execution_count": 170,
     "metadata": {},
     "output_type": "execute_result"
    }
   ],
   "source": [
    "sr2 = pd.Series(data = li1, index = [1]*3)\n",
    "sr2"
   ]
  },
  {
   "cell_type": "code",
   "execution_count": 171,
   "id": "248018f4-a032-46f2-b307-99ebb97253ae",
   "metadata": {},
   "outputs": [
    {
     "data": {
      "text/plain": [
       "1      1\n",
       "1    2.0\n",
       "1      3\n",
       "dtype: object"
      ]
     },
     "execution_count": 171,
     "metadata": {},
     "output_type": "execute_result"
    }
   ],
   "source": [
    "sr2.loc[1]"
   ]
  },
  {
   "cell_type": "code",
   "execution_count": 172,
   "id": "21c1a87e-6d19-45ab-b075-e3f9b4b7ac97",
   "metadata": {},
   "outputs": [
    {
     "data": {
      "text/plain": [
       "1"
      ]
     },
     "execution_count": 172,
     "metadata": {},
     "output_type": "execute_result"
    }
   ],
   "source": [
    "sr2.iloc[0]"
   ]
  },
  {
   "cell_type": "code",
   "execution_count": 173,
   "id": "cbf11a4f-f53e-4d24-8992-76e8b7870371",
   "metadata": {},
   "outputs": [
    {
     "data": {
      "text/plain": [
       "a    1.0\n",
       "b    2.0\n",
       "c    3.0\n",
       "d    4.0\n",
       "dtype: float64"
      ]
     },
     "execution_count": 173,
     "metadata": {},
     "output_type": "execute_result"
    }
   ],
   "source": [
    "sr.loc['d'] =4\n",
    "sr"
   ]
  },
  {
   "cell_type": "code",
   "execution_count": 175,
   "id": "d2bf13cd-e21a-46fb-b0a3-ce02f0764eb9",
   "metadata": {},
   "outputs": [
    {
     "data": {
      "text/plain": [
       "a    1.0\n",
       "b    2.0\n",
       "c    3.0\n",
       "d    5.0\n",
       "dtype: float64"
      ]
     },
     "execution_count": 175,
     "metadata": {},
     "output_type": "execute_result"
    }
   ],
   "source": [
    "sr.loc['d'] =5\n",
    "sr"
   ]
  },
  {
   "cell_type": "code",
   "execution_count": 176,
   "id": "73dc9647-eede-488a-a5ad-11b50f0dcf1a",
   "metadata": {},
   "outputs": [
    {
     "data": {
      "text/plain": [
       "a    1.0\n",
       "b    2.0\n",
       "c    3.0\n",
       "dtype: float64"
      ]
     },
     "execution_count": 176,
     "metadata": {},
     "output_type": "execute_result"
    }
   ],
   "source": [
    "sr.drop(index = 'd')"
   ]
  },
  {
   "cell_type": "code",
   "execution_count": 177,
   "id": "077b0939-b0cc-46d3-9865-6c021713a39e",
   "metadata": {},
   "outputs": [
    {
     "data": {
      "text/plain": [
       "a    1.0\n",
       "b    2.0\n",
       "c    3.0\n",
       "d    5.0\n",
       "dtype: float64"
      ]
     },
     "execution_count": 177,
     "metadata": {},
     "output_type": "execute_result"
    }
   ],
   "source": [
    "sr"
   ]
  },
  {
   "cell_type": "code",
   "execution_count": 178,
   "id": "7ec809a7-d2c4-495a-8646-d591b40e62e0",
   "metadata": {},
   "outputs": [
    {
     "data": {
      "text/plain": [
       "a    True\n",
       "b    True\n",
       "c    True\n",
       "d    True\n",
       "dtype: bool"
      ]
     },
     "execution_count": 178,
     "metadata": {},
     "output_type": "execute_result"
    }
   ],
   "source": [
    "sr >= 1"
   ]
  },
  {
   "cell_type": "code",
   "execution_count": 180,
   "id": "5e1764f2-d142-4703-83e8-dfbfbf92b75a",
   "metadata": {},
   "outputs": [
    {
     "data": {
      "text/plain": [
       "a     True\n",
       "b     True\n",
       "c    False\n",
       "d    False\n",
       "dtype: bool"
      ]
     },
     "execution_count": 180,
     "metadata": {},
     "output_type": "execute_result"
    }
   ],
   "source": [
    "(sr >= 1) & (sr <3)"
   ]
  },
  {
   "cell_type": "code",
   "execution_count": 181,
   "id": "5989c9dc-07f1-44a0-98f5-a974d017d4d5",
   "metadata": {},
   "outputs": [
    {
     "data": {
      "text/plain": [
       "a    True\n",
       "b    True\n",
       "c    True\n",
       "d    True\n",
       "dtype: bool"
      ]
     },
     "execution_count": 181,
     "metadata": {},
     "output_type": "execute_result"
    }
   ],
   "source": [
    "(sr >= 1) | (sr <3)"
   ]
  },
  {
   "cell_type": "code",
   "execution_count": 182,
   "id": "53d4d046-4157-4c16-82d5-9567ad43fc32",
   "metadata": {},
   "outputs": [
    {
     "data": {
      "text/plain": [
       "a    False\n",
       "b    False\n",
       "c     True\n",
       "d     True\n",
       "dtype: bool"
      ]
     },
     "execution_count": 182,
     "metadata": {},
     "output_type": "execute_result"
    }
   ],
   "source": [
    "(sr >= 1) ^ (sr <3)"
   ]
  },
  {
   "cell_type": "code",
   "execution_count": 184,
   "id": "e2bc41de-351a-4c0a-818f-27327a0b60aa",
   "metadata": {},
   "outputs": [
    {
     "data": {
      "text/plain": [
       "a    False\n",
       "b    False\n",
       "c     True\n",
       "d     True\n",
       "dtype: bool"
      ]
     },
     "execution_count": 184,
     "metadata": {},
     "output_type": "execute_result"
    }
   ],
   "source": [
    "~((sr >= 1) & (sr <3))"
   ]
  },
  {
   "cell_type": "code",
   "execution_count": 185,
   "id": "c54d3dca-833e-4955-8f24-5b47b2f2e6f0",
   "metadata": {},
   "outputs": [
    {
     "data": {
      "text/plain": [
       "1      1\n",
       "2    2.0\n",
       "3      3\n",
       "dtype: object"
      ]
     },
     "execution_count": 185,
     "metadata": {},
     "output_type": "execute_result"
    }
   ],
   "source": [
    "sr1"
   ]
  },
  {
   "cell_type": "code",
   "execution_count": 186,
   "id": "1847d7b7-a249-4a65-8cb9-edba20c3c5f1",
   "metadata": {},
   "outputs": [],
   "source": [
    "sr3 = sr1"
   ]
  },
  {
   "cell_type": "code",
   "execution_count": 189,
   "id": "b0c922d6-62b0-458e-993b-2a27c4db8f8b",
   "metadata": {},
   "outputs": [
    {
     "data": {
      "text/plain": [
       "True"
      ]
     },
     "execution_count": 189,
     "metadata": {},
     "output_type": "execute_result"
    }
   ],
   "source": [
    "id(sr1) == id(sr3)"
   ]
  },
  {
   "cell_type": "code",
   "execution_count": 190,
   "id": "1b56b459-006f-43a9-b2c2-bc3c8168c77b",
   "metadata": {},
   "outputs": [
    {
     "data": {
      "text/plain": [
       "1      2\n",
       "2    2.0\n",
       "3      3\n",
       "dtype: object"
      ]
     },
     "execution_count": 190,
     "metadata": {},
     "output_type": "execute_result"
    }
   ],
   "source": [
    "sr3.iloc[0] = 2\n",
    "sr3"
   ]
  },
  {
   "cell_type": "code",
   "execution_count": 191,
   "id": "06296c61-65a3-4563-8645-37590abcf1fb",
   "metadata": {},
   "outputs": [
    {
     "data": {
      "text/plain": [
       "1      2\n",
       "2    2.0\n",
       "3      3\n",
       "dtype: object"
      ]
     },
     "execution_count": 191,
     "metadata": {},
     "output_type": "execute_result"
    }
   ],
   "source": [
    "sr1"
   ]
  },
  {
   "cell_type": "code",
   "execution_count": 192,
   "id": "45f26802-103d-43a9-a99c-396989ddef17",
   "metadata": {},
   "outputs": [],
   "source": [
    "sr4 = sr1.copy()"
   ]
  },
  {
   "cell_type": "code",
   "execution_count": 193,
   "id": "3fac7ada-6f41-4b2a-b6d4-c9770e07f7b3",
   "metadata": {},
   "outputs": [
    {
     "data": {
      "text/plain": [
       "False"
      ]
     },
     "execution_count": 193,
     "metadata": {},
     "output_type": "execute_result"
    }
   ],
   "source": [
    "id(sr1) == id(sr4)"
   ]
  },
  {
   "cell_type": "code",
   "execution_count": 195,
   "id": "7d5b0511-3dbf-46bd-beea-e5063f94d855",
   "metadata": {},
   "outputs": [
    {
     "data": {
      "text/plain": [
       "1      1\n",
       "2    2.0\n",
       "3      3\n",
       "dtype: object"
      ]
     },
     "execution_count": 195,
     "metadata": {},
     "output_type": "execute_result"
    }
   ],
   "source": [
    "sr4.iloc[0] =1\n",
    "sr4"
   ]
  },
  {
   "cell_type": "code",
   "execution_count": 196,
   "id": "7de90f15-94d9-4a30-bc5a-97aa75b618ca",
   "metadata": {},
   "outputs": [
    {
     "data": {
      "text/plain": [
       "1      2\n",
       "2    2.0\n",
       "3      3\n",
       "dtype: object"
      ]
     },
     "execution_count": 196,
     "metadata": {},
     "output_type": "execute_result"
    }
   ],
   "source": [
    "sr1"
   ]
  },
  {
   "cell_type": "code",
   "execution_count": 198,
   "id": "36fdf565-c33b-4e1b-a5fb-8b4614588e19",
   "metadata": {},
   "outputs": [
    {
     "data": {
      "text/plain": [
       "[[1, 2], [3, 4], [5.0, '6']]"
      ]
     },
     "execution_count": 198,
     "metadata": {},
     "output_type": "execute_result"
    }
   ],
   "source": [
    "li2 = [[1,2], [3,4], [5.0,'6']]\n",
    "li2"
   ]
  },
  {
   "cell_type": "code",
   "execution_count": 199,
   "id": "3bf96304-7c46-4b89-a21e-6a8a5d8f2137",
   "metadata": {},
   "outputs": [
    {
     "data": {
      "text/plain": [
       "array([['1', '2'],\n",
       "       ['3', '4'],\n",
       "       ['5.0', '6']], dtype='<U32')"
      ]
     },
     "execution_count": 199,
     "metadata": {},
     "output_type": "execute_result"
    }
   ],
   "source": [
    "np.array(object = li2)"
   ]
  },
  {
   "cell_type": "code",
   "execution_count": 201,
   "id": "1bad0617-bbf9-4765-b8ca-7d12158c143e",
   "metadata": {},
   "outputs": [
    {
     "data": {
      "text/html": [
       "<div>\n",
       "<style scoped>\n",
       "    .dataframe tbody tr th:only-of-type {\n",
       "        vertical-align: middle;\n",
       "    }\n",
       "\n",
       "    .dataframe tbody tr th {\n",
       "        vertical-align: top;\n",
       "    }\n",
       "\n",
       "    .dataframe thead th {\n",
       "        text-align: right;\n",
       "    }\n",
       "</style>\n",
       "<table border=\"1\" class=\"dataframe\">\n",
       "  <thead>\n",
       "    <tr style=\"text-align: right;\">\n",
       "      <th></th>\n",
       "      <th>0</th>\n",
       "      <th>1</th>\n",
       "    </tr>\n",
       "  </thead>\n",
       "  <tbody>\n",
       "    <tr>\n",
       "      <th>0</th>\n",
       "      <td>1.0</td>\n",
       "      <td>2</td>\n",
       "    </tr>\n",
       "    <tr>\n",
       "      <th>1</th>\n",
       "      <td>3.0</td>\n",
       "      <td>4</td>\n",
       "    </tr>\n",
       "    <tr>\n",
       "      <th>2</th>\n",
       "      <td>5.0</td>\n",
       "      <td>6</td>\n",
       "    </tr>\n",
       "  </tbody>\n",
       "</table>\n",
       "</div>"
      ],
      "text/plain": [
       "     0  1\n",
       "0  1.0  2\n",
       "1  3.0  4\n",
       "2  5.0  6"
      ]
     },
     "execution_count": 201,
     "metadata": {},
     "output_type": "execute_result"
    }
   ],
   "source": [
    "df = pd.DataFrame(data = li2)\n",
    "df"
   ]
  },
  {
   "cell_type": "code",
   "execution_count": 202,
   "id": "7e4c693e-bfe1-4b1c-b1af-6ef7513d7c89",
   "metadata": {},
   "outputs": [
    {
     "data": {
      "text/plain": [
       "pandas.core.frame.DataFrame"
      ]
     },
     "execution_count": 202,
     "metadata": {},
     "output_type": "execute_result"
    }
   ],
   "source": [
    "type(df)"
   ]
  },
  {
   "cell_type": "code",
   "execution_count": 203,
   "id": "ebb1e05a-a153-492a-95c4-e7e35159fa9e",
   "metadata": {},
   "outputs": [
    {
     "data": {
      "text/plain": [
       "(3, 2)"
      ]
     },
     "execution_count": 203,
     "metadata": {},
     "output_type": "execute_result"
    }
   ],
   "source": [
    "df.shape"
   ]
  },
  {
   "cell_type": "code",
   "execution_count": 204,
   "id": "caf70dfb-649a-4d0e-9c73-523562459d98",
   "metadata": {},
   "outputs": [
    {
     "data": {
      "text/plain": [
       "RangeIndex(start=0, stop=3, step=1)"
      ]
     },
     "execution_count": 204,
     "metadata": {},
     "output_type": "execute_result"
    }
   ],
   "source": [
    "df.index"
   ]
  },
  {
   "cell_type": "code",
   "execution_count": 205,
   "id": "7a2e2efb-54d8-4a6f-8170-48d471380709",
   "metadata": {},
   "outputs": [
    {
     "data": {
      "text/plain": [
       "RangeIndex(start=0, stop=2, step=1)"
      ]
     },
     "execution_count": 205,
     "metadata": {},
     "output_type": "execute_result"
    }
   ],
   "source": [
    "df.columns"
   ]
  },
  {
   "cell_type": "code",
   "execution_count": 206,
   "id": "0c1b9ef5-4187-49e4-8546-3b9866a255ee",
   "metadata": {},
   "outputs": [
    {
     "data": {
      "text/plain": [
       "0    float64\n",
       "1     object\n",
       "dtype: object"
      ]
     },
     "execution_count": 206,
     "metadata": {},
     "output_type": "execute_result"
    }
   ],
   "source": [
    "df.dtypes"
   ]
  },
  {
   "cell_type": "code",
   "execution_count": 207,
   "id": "3346c115-6f6d-46b0-a84a-672619ed1979",
   "metadata": {},
   "outputs": [
    {
     "data": {
      "text/plain": [
       "array([[1.0, 2],\n",
       "       [3.0, 4],\n",
       "       [5.0, '6']], dtype=object)"
      ]
     },
     "execution_count": 207,
     "metadata": {},
     "output_type": "execute_result"
    }
   ],
   "source": [
    "df.values"
   ]
  },
  {
   "cell_type": "code",
   "execution_count": 208,
   "id": "7d18c1ec-40e9-4461-91aa-998c1f4d9977",
   "metadata": {},
   "outputs": [
    {
     "name": "stdout",
     "output_type": "stream",
     "text": [
      "<class 'pandas.core.frame.DataFrame'>\n",
      "RangeIndex: 3 entries, 0 to 2\n",
      "Data columns (total 2 columns):\n",
      " #   Column  Non-Null Count  Dtype  \n",
      "---  ------  --------------  -----  \n",
      " 0   0       3 non-null      float64\n",
      " 1   1       3 non-null      object \n",
      "dtypes: float64(1), object(1)\n",
      "memory usage: 180.0+ bytes\n"
     ]
    }
   ],
   "source": [
    "df.info()"
   ]
  },
  {
   "cell_type": "code",
   "execution_count": 210,
   "id": "639c2fc0-0d0b-4c92-aa47-ac0c280208e8",
   "metadata": {},
   "outputs": [
    {
     "data": {
      "text/html": [
       "<div>\n",
       "<style scoped>\n",
       "    .dataframe tbody tr th:only-of-type {\n",
       "        vertical-align: middle;\n",
       "    }\n",
       "\n",
       "    .dataframe tbody tr th {\n",
       "        vertical-align: top;\n",
       "    }\n",
       "\n",
       "    .dataframe thead th {\n",
       "        text-align: right;\n",
       "    }\n",
       "</style>\n",
       "<table border=\"1\" class=\"dataframe\">\n",
       "  <thead>\n",
       "    <tr style=\"text-align: right;\">\n",
       "      <th></th>\n",
       "      <th>0</th>\n",
       "      <th>1</th>\n",
       "    </tr>\n",
       "  </thead>\n",
       "  <tbody>\n",
       "    <tr>\n",
       "      <th>1</th>\n",
       "      <td>1.0</td>\n",
       "      <td>2</td>\n",
       "    </tr>\n",
       "    <tr>\n",
       "      <th>2</th>\n",
       "      <td>3.0</td>\n",
       "      <td>4</td>\n",
       "    </tr>\n",
       "    <tr>\n",
       "      <th>3</th>\n",
       "      <td>5.0</td>\n",
       "      <td>6</td>\n",
       "    </tr>\n",
       "  </tbody>\n",
       "</table>\n",
       "</div>"
      ],
      "text/plain": [
       "     0  1\n",
       "1  1.0  2\n",
       "2  3.0  4\n",
       "3  5.0  6"
      ]
     },
     "execution_count": 210,
     "metadata": {},
     "output_type": "execute_result"
    }
   ],
   "source": [
    "df.index = range(1,4)\n",
    "df"
   ]
  },
  {
   "cell_type": "code",
   "execution_count": 240,
   "id": "d6437665-40e0-4102-9b23-45f65855d277",
   "metadata": {},
   "outputs": [
    {
     "data": {
      "text/html": [
       "<div>\n",
       "<style scoped>\n",
       "    .dataframe tbody tr th:only-of-type {\n",
       "        vertical-align: middle;\n",
       "    }\n",
       "\n",
       "    .dataframe tbody tr th {\n",
       "        vertical-align: top;\n",
       "    }\n",
       "\n",
       "    .dataframe thead th {\n",
       "        text-align: right;\n",
       "    }\n",
       "</style>\n",
       "<table border=\"1\" class=\"dataframe\">\n",
       "  <thead>\n",
       "    <tr style=\"text-align: right;\">\n",
       "      <th></th>\n",
       "      <th>A</th>\n",
       "      <th>B</th>\n",
       "    </tr>\n",
       "  </thead>\n",
       "  <tbody>\n",
       "    <tr>\n",
       "      <th>1</th>\n",
       "      <td>1.0</td>\n",
       "      <td>2</td>\n",
       "    </tr>\n",
       "    <tr>\n",
       "      <th>2</th>\n",
       "      <td>3.0</td>\n",
       "      <td>4</td>\n",
       "    </tr>\n",
       "    <tr>\n",
       "      <th>3</th>\n",
       "      <td>5.0</td>\n",
       "      <td>6</td>\n",
       "    </tr>\n",
       "  </tbody>\n",
       "</table>\n",
       "</div>"
      ],
      "text/plain": [
       "     A  B\n",
       "1  1.0  2\n",
       "2  3.0  4\n",
       "3  5.0  6"
      ]
     },
     "execution_count": 240,
     "metadata": {},
     "output_type": "execute_result"
    }
   ],
   "source": [
    "df.columns = ['A', 'B']\n",
    "df"
   ]
  },
  {
   "cell_type": "code",
   "execution_count": 241,
   "id": "0aff36f9-c4d3-414a-9ba0-7321da1c5bcc",
   "metadata": {},
   "outputs": [
    {
     "data": {
      "text/html": [
       "<div>\n",
       "<style scoped>\n",
       "    .dataframe tbody tr th:only-of-type {\n",
       "        vertical-align: middle;\n",
       "    }\n",
       "\n",
       "    .dataframe tbody tr th {\n",
       "        vertical-align: top;\n",
       "    }\n",
       "\n",
       "    .dataframe thead th {\n",
       "        text-align: right;\n",
       "    }\n",
       "</style>\n",
       "<table border=\"1\" class=\"dataframe\">\n",
       "  <thead>\n",
       "    <tr style=\"text-align: right;\">\n",
       "      <th></th>\n",
       "      <th>A</th>\n",
       "      <th>B</th>\n",
       "    </tr>\n",
       "  </thead>\n",
       "  <tbody>\n",
       "    <tr>\n",
       "      <th>1</th>\n",
       "      <td>1.0</td>\n",
       "      <td>2</td>\n",
       "    </tr>\n",
       "    <tr>\n",
       "      <th>2</th>\n",
       "      <td>3.0</td>\n",
       "      <td>4</td>\n",
       "    </tr>\n",
       "    <tr>\n",
       "      <th>3</th>\n",
       "      <td>5.0</td>\n",
       "      <td>6</td>\n",
       "    </tr>\n",
       "  </tbody>\n",
       "</table>\n",
       "</div>"
      ],
      "text/plain": [
       "     A  B\n",
       "1  1.0  2\n",
       "2  3.0  4\n",
       "3  5.0  6"
      ]
     },
     "execution_count": 241,
     "metadata": {},
     "output_type": "execute_result"
    }
   ],
   "source": [
    "pd.DataFrame(data = li2, index = range(1,4), columns=['A', 'B'])"
   ]
  },
  {
   "cell_type": "code",
   "execution_count": 242,
   "id": "87277f43-9da0-4564-99cb-e2e47dd36101",
   "metadata": {},
   "outputs": [
    {
     "data": {
      "text/html": [
       "<div>\n",
       "<style scoped>\n",
       "    .dataframe tbody tr th:only-of-type {\n",
       "        vertical-align: middle;\n",
       "    }\n",
       "\n",
       "    .dataframe tbody tr th {\n",
       "        vertical-align: top;\n",
       "    }\n",
       "\n",
       "    .dataframe thead th {\n",
       "        text-align: right;\n",
       "    }\n",
       "</style>\n",
       "<table border=\"1\" class=\"dataframe\">\n",
       "  <thead>\n",
       "    <tr style=\"text-align: right;\">\n",
       "      <th></th>\n",
       "      <th>A</th>\n",
       "      <th>B</th>\n",
       "    </tr>\n",
       "  </thead>\n",
       "  <tbody>\n",
       "    <tr>\n",
       "      <th>1</th>\n",
       "      <td>1.0</td>\n",
       "      <td>2</td>\n",
       "    </tr>\n",
       "    <tr>\n",
       "      <th>2</th>\n",
       "      <td>3.0</td>\n",
       "      <td>4</td>\n",
       "    </tr>\n",
       "    <tr>\n",
       "      <th>3</th>\n",
       "      <td>5.0</td>\n",
       "      <td>6</td>\n",
       "    </tr>\n",
       "  </tbody>\n",
       "</table>\n",
       "</div>"
      ],
      "text/plain": [
       "     A  B\n",
       "1  1.0  2\n",
       "2  3.0  4\n",
       "3  5.0  6"
      ]
     },
     "execution_count": 242,
     "metadata": {},
     "output_type": "execute_result"
    }
   ],
   "source": [
    "df"
   ]
  },
  {
   "cell_type": "code",
   "execution_count": 243,
   "id": "ddf48832-aa88-4000-8fe3-671a2f7e4f78",
   "metadata": {},
   "outputs": [
    {
     "data": {
      "text/plain": [
       "A    1.0\n",
       "B      2\n",
       "Name: 1, dtype: object"
      ]
     },
     "execution_count": 243,
     "metadata": {},
     "output_type": "execute_result"
    }
   ],
   "source": [
    "df.iloc[0]"
   ]
  },
  {
   "cell_type": "code",
   "execution_count": 244,
   "id": "858b36d6-7720-4380-ab44-a79e501200ef",
   "metadata": {},
   "outputs": [
    {
     "data": {
      "text/html": [
       "<div>\n",
       "<style scoped>\n",
       "    .dataframe tbody tr th:only-of-type {\n",
       "        vertical-align: middle;\n",
       "    }\n",
       "\n",
       "    .dataframe tbody tr th {\n",
       "        vertical-align: top;\n",
       "    }\n",
       "\n",
       "    .dataframe thead th {\n",
       "        text-align: right;\n",
       "    }\n",
       "</style>\n",
       "<table border=\"1\" class=\"dataframe\">\n",
       "  <thead>\n",
       "    <tr style=\"text-align: right;\">\n",
       "      <th></th>\n",
       "      <th>A</th>\n",
       "      <th>B</th>\n",
       "    </tr>\n",
       "  </thead>\n",
       "  <tbody>\n",
       "    <tr>\n",
       "      <th>1</th>\n",
       "      <td>1.0</td>\n",
       "      <td>2</td>\n",
       "    </tr>\n",
       "    <tr>\n",
       "      <th>2</th>\n",
       "      <td>3.0</td>\n",
       "      <td>4</td>\n",
       "    </tr>\n",
       "  </tbody>\n",
       "</table>\n",
       "</div>"
      ],
      "text/plain": [
       "     A  B\n",
       "1  1.0  2\n",
       "2  3.0  4"
      ]
     },
     "execution_count": 244,
     "metadata": {},
     "output_type": "execute_result"
    }
   ],
   "source": [
    "df.iloc[0:2]"
   ]
  },
  {
   "cell_type": "code",
   "execution_count": 245,
   "id": "aedb8ab5-3cd0-46e7-abd9-e39c17466a4c",
   "metadata": {},
   "outputs": [
    {
     "data": {
      "text/html": [
       "<div>\n",
       "<style scoped>\n",
       "    .dataframe tbody tr th:only-of-type {\n",
       "        vertical-align: middle;\n",
       "    }\n",
       "\n",
       "    .dataframe tbody tr th {\n",
       "        vertical-align: top;\n",
       "    }\n",
       "\n",
       "    .dataframe thead th {\n",
       "        text-align: right;\n",
       "    }\n",
       "</style>\n",
       "<table border=\"1\" class=\"dataframe\">\n",
       "  <thead>\n",
       "    <tr style=\"text-align: right;\">\n",
       "      <th></th>\n",
       "      <th>A</th>\n",
       "      <th>B</th>\n",
       "    </tr>\n",
       "  </thead>\n",
       "  <tbody>\n",
       "    <tr>\n",
       "      <th>2</th>\n",
       "      <td>3.0</td>\n",
       "      <td>4</td>\n",
       "    </tr>\n",
       "    <tr>\n",
       "      <th>1</th>\n",
       "      <td>1.0</td>\n",
       "      <td>2</td>\n",
       "    </tr>\n",
       "  </tbody>\n",
       "</table>\n",
       "</div>"
      ],
      "text/plain": [
       "     A  B\n",
       "2  3.0  4\n",
       "1  1.0  2"
      ]
     },
     "execution_count": 245,
     "metadata": {},
     "output_type": "execute_result"
    }
   ],
   "source": [
    "df.iloc[[1,0]]"
   ]
  },
  {
   "cell_type": "code",
   "execution_count": 246,
   "id": "5e5618ca-dae1-4f9b-a6e7-83eb5d1865ab",
   "metadata": {},
   "outputs": [
    {
     "data": {
      "text/html": [
       "<div>\n",
       "<style scoped>\n",
       "    .dataframe tbody tr th:only-of-type {\n",
       "        vertical-align: middle;\n",
       "    }\n",
       "\n",
       "    .dataframe tbody tr th {\n",
       "        vertical-align: top;\n",
       "    }\n",
       "\n",
       "    .dataframe thead th {\n",
       "        text-align: right;\n",
       "    }\n",
       "</style>\n",
       "<table border=\"1\" class=\"dataframe\">\n",
       "  <thead>\n",
       "    <tr style=\"text-align: right;\">\n",
       "      <th></th>\n",
       "      <th>A</th>\n",
       "      <th>B</th>\n",
       "    </tr>\n",
       "  </thead>\n",
       "  <tbody>\n",
       "    <tr>\n",
       "      <th>2</th>\n",
       "      <td>3.0</td>\n",
       "      <td>4</td>\n",
       "    </tr>\n",
       "    <tr>\n",
       "      <th>1</th>\n",
       "      <td>1.0</td>\n",
       "      <td>2</td>\n",
       "    </tr>\n",
       "  </tbody>\n",
       "</table>\n",
       "</div>"
      ],
      "text/plain": [
       "     A  B\n",
       "2  3.0  4\n",
       "1  1.0  2"
      ]
     },
     "execution_count": 246,
     "metadata": {},
     "output_type": "execute_result"
    }
   ],
   "source": [
    "df.iloc[[1,0], :]"
   ]
  },
  {
   "cell_type": "code",
   "execution_count": 247,
   "id": "aa0b5512-5cf2-485b-8970-144bf61b9795",
   "metadata": {},
   "outputs": [
    {
     "data": {
      "text/plain": [
       "1    1.0\n",
       "2    3.0\n",
       "3    5.0\n",
       "Name: A, dtype: float64"
      ]
     },
     "execution_count": 247,
     "metadata": {},
     "output_type": "execute_result"
    }
   ],
   "source": [
    "df.iloc[:, 0]"
   ]
  },
  {
   "cell_type": "code",
   "execution_count": 248,
   "id": "c6c28d63-0c26-4b40-86e4-e925162b5800",
   "metadata": {},
   "outputs": [
    {
     "data": {
      "text/html": [
       "<div>\n",
       "<style scoped>\n",
       "    .dataframe tbody tr th:only-of-type {\n",
       "        vertical-align: middle;\n",
       "    }\n",
       "\n",
       "    .dataframe tbody tr th {\n",
       "        vertical-align: top;\n",
       "    }\n",
       "\n",
       "    .dataframe thead th {\n",
       "        text-align: right;\n",
       "    }\n",
       "</style>\n",
       "<table border=\"1\" class=\"dataframe\">\n",
       "  <thead>\n",
       "    <tr style=\"text-align: right;\">\n",
       "      <th></th>\n",
       "      <th>A</th>\n",
       "      <th>B</th>\n",
       "    </tr>\n",
       "  </thead>\n",
       "  <tbody>\n",
       "    <tr>\n",
       "      <th>1</th>\n",
       "      <td>1.0</td>\n",
       "      <td>2</td>\n",
       "    </tr>\n",
       "    <tr>\n",
       "      <th>2</th>\n",
       "      <td>3.0</td>\n",
       "      <td>4</td>\n",
       "    </tr>\n",
       "    <tr>\n",
       "      <th>3</th>\n",
       "      <td>5.0</td>\n",
       "      <td>6</td>\n",
       "    </tr>\n",
       "  </tbody>\n",
       "</table>\n",
       "</div>"
      ],
      "text/plain": [
       "     A  B\n",
       "1  1.0  2\n",
       "2  3.0  4\n",
       "3  5.0  6"
      ]
     },
     "execution_count": 248,
     "metadata": {},
     "output_type": "execute_result"
    }
   ],
   "source": [
    "df.iloc[:, 0:2]"
   ]
  },
  {
   "cell_type": "code",
   "execution_count": 249,
   "id": "ea856466-b6f1-4d00-81a3-20099b4c2277",
   "metadata": {},
   "outputs": [
    {
     "data": {
      "text/html": [
       "<div>\n",
       "<style scoped>\n",
       "    .dataframe tbody tr th:only-of-type {\n",
       "        vertical-align: middle;\n",
       "    }\n",
       "\n",
       "    .dataframe tbody tr th {\n",
       "        vertical-align: top;\n",
       "    }\n",
       "\n",
       "    .dataframe thead th {\n",
       "        text-align: right;\n",
       "    }\n",
       "</style>\n",
       "<table border=\"1\" class=\"dataframe\">\n",
       "  <thead>\n",
       "    <tr style=\"text-align: right;\">\n",
       "      <th></th>\n",
       "      <th>B</th>\n",
       "      <th>A</th>\n",
       "    </tr>\n",
       "  </thead>\n",
       "  <tbody>\n",
       "    <tr>\n",
       "      <th>1</th>\n",
       "      <td>2</td>\n",
       "      <td>1.0</td>\n",
       "    </tr>\n",
       "    <tr>\n",
       "      <th>2</th>\n",
       "      <td>4</td>\n",
       "      <td>3.0</td>\n",
       "    </tr>\n",
       "    <tr>\n",
       "      <th>3</th>\n",
       "      <td>6</td>\n",
       "      <td>5.0</td>\n",
       "    </tr>\n",
       "  </tbody>\n",
       "</table>\n",
       "</div>"
      ],
      "text/plain": [
       "   B    A\n",
       "1  2  1.0\n",
       "2  4  3.0\n",
       "3  6  5.0"
      ]
     },
     "execution_count": 249,
     "metadata": {},
     "output_type": "execute_result"
    }
   ],
   "source": [
    "df.iloc[:, [1,0]]"
   ]
  },
  {
   "cell_type": "code",
   "execution_count": 250,
   "id": "4feb4114-8952-40e4-9ca3-b01c877885b3",
   "metadata": {},
   "outputs": [
    {
     "data": {
      "text/html": [
       "<div>\n",
       "<style scoped>\n",
       "    .dataframe tbody tr th:only-of-type {\n",
       "        vertical-align: middle;\n",
       "    }\n",
       "\n",
       "    .dataframe tbody tr th {\n",
       "        vertical-align: top;\n",
       "    }\n",
       "\n",
       "    .dataframe thead th {\n",
       "        text-align: right;\n",
       "    }\n",
       "</style>\n",
       "<table border=\"1\" class=\"dataframe\">\n",
       "  <thead>\n",
       "    <tr style=\"text-align: right;\">\n",
       "      <th></th>\n",
       "      <th>A</th>\n",
       "      <th>B</th>\n",
       "    </tr>\n",
       "  </thead>\n",
       "  <tbody>\n",
       "    <tr>\n",
       "      <th>1</th>\n",
       "      <td>1.0</td>\n",
       "      <td>2</td>\n",
       "    </tr>\n",
       "    <tr>\n",
       "      <th>2</th>\n",
       "      <td>3.0</td>\n",
       "      <td>4</td>\n",
       "    </tr>\n",
       "    <tr>\n",
       "      <th>3</th>\n",
       "      <td>5.0</td>\n",
       "      <td>6</td>\n",
       "    </tr>\n",
       "  </tbody>\n",
       "</table>\n",
       "</div>"
      ],
      "text/plain": [
       "     A  B\n",
       "1  1.0  2\n",
       "2  3.0  4\n",
       "3  5.0  6"
      ]
     },
     "execution_count": 250,
     "metadata": {},
     "output_type": "execute_result"
    }
   ],
   "source": [
    "df"
   ]
  },
  {
   "cell_type": "code",
   "execution_count": 251,
   "id": "aa09e558-ea50-4edc-8079-3224baf0217f",
   "metadata": {},
   "outputs": [
    {
     "data": {
      "text/plain": [
       "A    1.0\n",
       "B      2\n",
       "Name: 1, dtype: object"
      ]
     },
     "execution_count": 251,
     "metadata": {},
     "output_type": "execute_result"
    }
   ],
   "source": [
    "df.loc[1]"
   ]
  },
  {
   "cell_type": "code",
   "execution_count": 252,
   "id": "da406529-3427-4d43-976c-05ae47f45d2c",
   "metadata": {},
   "outputs": [
    {
     "data": {
      "text/html": [
       "<div>\n",
       "<style scoped>\n",
       "    .dataframe tbody tr th:only-of-type {\n",
       "        vertical-align: middle;\n",
       "    }\n",
       "\n",
       "    .dataframe tbody tr th {\n",
       "        vertical-align: top;\n",
       "    }\n",
       "\n",
       "    .dataframe thead th {\n",
       "        text-align: right;\n",
       "    }\n",
       "</style>\n",
       "<table border=\"1\" class=\"dataframe\">\n",
       "  <thead>\n",
       "    <tr style=\"text-align: right;\">\n",
       "      <th></th>\n",
       "      <th>A</th>\n",
       "      <th>B</th>\n",
       "    </tr>\n",
       "  </thead>\n",
       "  <tbody>\n",
       "    <tr>\n",
       "      <th>1</th>\n",
       "      <td>1.0</td>\n",
       "      <td>2</td>\n",
       "    </tr>\n",
       "    <tr>\n",
       "      <th>2</th>\n",
       "      <td>3.0</td>\n",
       "      <td>4</td>\n",
       "    </tr>\n",
       "  </tbody>\n",
       "</table>\n",
       "</div>"
      ],
      "text/plain": [
       "     A  B\n",
       "1  1.0  2\n",
       "2  3.0  4"
      ]
     },
     "execution_count": 252,
     "metadata": {},
     "output_type": "execute_result"
    }
   ],
   "source": [
    "df.loc[1:2]"
   ]
  },
  {
   "cell_type": "code",
   "execution_count": 253,
   "id": "deebb979-f307-46b6-8913-61d13459af3d",
   "metadata": {},
   "outputs": [
    {
     "data": {
      "text/html": [
       "<div>\n",
       "<style scoped>\n",
       "    .dataframe tbody tr th:only-of-type {\n",
       "        vertical-align: middle;\n",
       "    }\n",
       "\n",
       "    .dataframe tbody tr th {\n",
       "        vertical-align: top;\n",
       "    }\n",
       "\n",
       "    .dataframe thead th {\n",
       "        text-align: right;\n",
       "    }\n",
       "</style>\n",
       "<table border=\"1\" class=\"dataframe\">\n",
       "  <thead>\n",
       "    <tr style=\"text-align: right;\">\n",
       "      <th></th>\n",
       "      <th>A</th>\n",
       "      <th>B</th>\n",
       "    </tr>\n",
       "  </thead>\n",
       "  <tbody>\n",
       "    <tr>\n",
       "      <th>2</th>\n",
       "      <td>3.0</td>\n",
       "      <td>4</td>\n",
       "    </tr>\n",
       "    <tr>\n",
       "      <th>1</th>\n",
       "      <td>1.0</td>\n",
       "      <td>2</td>\n",
       "    </tr>\n",
       "  </tbody>\n",
       "</table>\n",
       "</div>"
      ],
      "text/plain": [
       "     A  B\n",
       "2  3.0  4\n",
       "1  1.0  2"
      ]
     },
     "execution_count": 253,
     "metadata": {},
     "output_type": "execute_result"
    }
   ],
   "source": [
    "df.loc[[2,1]]"
   ]
  },
  {
   "cell_type": "code",
   "execution_count": 254,
   "id": "f50325cc-9d1b-4f69-890b-099b5833af1f",
   "metadata": {},
   "outputs": [
    {
     "data": {
      "text/html": [
       "<div>\n",
       "<style scoped>\n",
       "    .dataframe tbody tr th:only-of-type {\n",
       "        vertical-align: middle;\n",
       "    }\n",
       "\n",
       "    .dataframe tbody tr th {\n",
       "        vertical-align: top;\n",
       "    }\n",
       "\n",
       "    .dataframe thead th {\n",
       "        text-align: right;\n",
       "    }\n",
       "</style>\n",
       "<table border=\"1\" class=\"dataframe\">\n",
       "  <thead>\n",
       "    <tr style=\"text-align: right;\">\n",
       "      <th></th>\n",
       "      <th>A</th>\n",
       "      <th>B</th>\n",
       "    </tr>\n",
       "  </thead>\n",
       "  <tbody>\n",
       "    <tr>\n",
       "      <th>2</th>\n",
       "      <td>3.0</td>\n",
       "      <td>4</td>\n",
       "    </tr>\n",
       "    <tr>\n",
       "      <th>1</th>\n",
       "      <td>1.0</td>\n",
       "      <td>2</td>\n",
       "    </tr>\n",
       "  </tbody>\n",
       "</table>\n",
       "</div>"
      ],
      "text/plain": [
       "     A  B\n",
       "2  3.0  4\n",
       "1  1.0  2"
      ]
     },
     "execution_count": 254,
     "metadata": {},
     "output_type": "execute_result"
    }
   ],
   "source": [
    "df.loc[[2,1], :]"
   ]
  },
  {
   "cell_type": "code",
   "execution_count": 255,
   "id": "be18f82c-6a71-4b24-ae51-87fe455b07da",
   "metadata": {},
   "outputs": [
    {
     "data": {
      "text/plain": [
       "1    1.0\n",
       "2    3.0\n",
       "3    5.0\n",
       "Name: A, dtype: float64"
      ]
     },
     "execution_count": 255,
     "metadata": {},
     "output_type": "execute_result"
    }
   ],
   "source": [
    "df.loc[:, 'A']"
   ]
  },
  {
   "cell_type": "code",
   "execution_count": 256,
   "id": "b0118dbb-bc06-4532-8fde-c95c809bdb8c",
   "metadata": {},
   "outputs": [
    {
     "data": {
      "text/html": [
       "<div>\n",
       "<style scoped>\n",
       "    .dataframe tbody tr th:only-of-type {\n",
       "        vertical-align: middle;\n",
       "    }\n",
       "\n",
       "    .dataframe tbody tr th {\n",
       "        vertical-align: top;\n",
       "    }\n",
       "\n",
       "    .dataframe thead th {\n",
       "        text-align: right;\n",
       "    }\n",
       "</style>\n",
       "<table border=\"1\" class=\"dataframe\">\n",
       "  <thead>\n",
       "    <tr style=\"text-align: right;\">\n",
       "      <th></th>\n",
       "      <th>A</th>\n",
       "      <th>B</th>\n",
       "    </tr>\n",
       "  </thead>\n",
       "  <tbody>\n",
       "    <tr>\n",
       "      <th>1</th>\n",
       "      <td>1.0</td>\n",
       "      <td>2</td>\n",
       "    </tr>\n",
       "    <tr>\n",
       "      <th>2</th>\n",
       "      <td>3.0</td>\n",
       "      <td>4</td>\n",
       "    </tr>\n",
       "    <tr>\n",
       "      <th>3</th>\n",
       "      <td>5.0</td>\n",
       "      <td>6</td>\n",
       "    </tr>\n",
       "  </tbody>\n",
       "</table>\n",
       "</div>"
      ],
      "text/plain": [
       "     A  B\n",
       "1  1.0  2\n",
       "2  3.0  4\n",
       "3  5.0  6"
      ]
     },
     "execution_count": 256,
     "metadata": {},
     "output_type": "execute_result"
    }
   ],
   "source": [
    "df.loc[:,'A': 'B']"
   ]
  },
  {
   "cell_type": "code",
   "execution_count": 257,
   "id": "91d8da9c-5eab-4884-bb51-b2762c93629f",
   "metadata": {},
   "outputs": [
    {
     "data": {
      "text/html": [
       "<div>\n",
       "<style scoped>\n",
       "    .dataframe tbody tr th:only-of-type {\n",
       "        vertical-align: middle;\n",
       "    }\n",
       "\n",
       "    .dataframe tbody tr th {\n",
       "        vertical-align: top;\n",
       "    }\n",
       "\n",
       "    .dataframe thead th {\n",
       "        text-align: right;\n",
       "    }\n",
       "</style>\n",
       "<table border=\"1\" class=\"dataframe\">\n",
       "  <thead>\n",
       "    <tr style=\"text-align: right;\">\n",
       "      <th></th>\n",
       "      <th>B</th>\n",
       "      <th>A</th>\n",
       "    </tr>\n",
       "  </thead>\n",
       "  <tbody>\n",
       "    <tr>\n",
       "      <th>1</th>\n",
       "      <td>2</td>\n",
       "      <td>1.0</td>\n",
       "    </tr>\n",
       "    <tr>\n",
       "      <th>2</th>\n",
       "      <td>4</td>\n",
       "      <td>3.0</td>\n",
       "    </tr>\n",
       "    <tr>\n",
       "      <th>3</th>\n",
       "      <td>6</td>\n",
       "      <td>5.0</td>\n",
       "    </tr>\n",
       "  </tbody>\n",
       "</table>\n",
       "</div>"
      ],
      "text/plain": [
       "   B    A\n",
       "1  2  1.0\n",
       "2  4  3.0\n",
       "3  6  5.0"
      ]
     },
     "execution_count": 257,
     "metadata": {},
     "output_type": "execute_result"
    }
   ],
   "source": [
    "df.loc[:,['B', 'A']]"
   ]
  },
  {
   "cell_type": "code",
   "execution_count": 258,
   "id": "dc974f29-c96f-4aaf-919b-edded793278e",
   "metadata": {},
   "outputs": [
    {
     "data": {
      "text/html": [
       "<div>\n",
       "<style scoped>\n",
       "    .dataframe tbody tr th:only-of-type {\n",
       "        vertical-align: middle;\n",
       "    }\n",
       "\n",
       "    .dataframe tbody tr th {\n",
       "        vertical-align: top;\n",
       "    }\n",
       "\n",
       "    .dataframe thead th {\n",
       "        text-align: right;\n",
       "    }\n",
       "</style>\n",
       "<table border=\"1\" class=\"dataframe\">\n",
       "  <thead>\n",
       "    <tr style=\"text-align: right;\">\n",
       "      <th></th>\n",
       "      <th>A</th>\n",
       "      <th>B</th>\n",
       "    </tr>\n",
       "  </thead>\n",
       "  <tbody>\n",
       "    <tr>\n",
       "      <th>1</th>\n",
       "      <td>1.0</td>\n",
       "      <td>2</td>\n",
       "    </tr>\n",
       "    <tr>\n",
       "      <th>2</th>\n",
       "      <td>3.0</td>\n",
       "      <td>4</td>\n",
       "    </tr>\n",
       "    <tr>\n",
       "      <th>3</th>\n",
       "      <td>5.0</td>\n",
       "      <td>6</td>\n",
       "    </tr>\n",
       "    <tr>\n",
       "      <th>4</th>\n",
       "      <td>7.0</td>\n",
       "      <td>8.0</td>\n",
       "    </tr>\n",
       "  </tbody>\n",
       "</table>\n",
       "</div>"
      ],
      "text/plain": [
       "     A    B\n",
       "1  1.0    2\n",
       "2  3.0    4\n",
       "3  5.0    6\n",
       "4  7.0  8.0"
      ]
     },
     "execution_count": 258,
     "metadata": {},
     "output_type": "execute_result"
    }
   ],
   "source": [
    "df.loc[4] = [7.0, 8]\n",
    "df"
   ]
  },
  {
   "cell_type": "code",
   "execution_count": 263,
   "id": "33f4d1b3-df98-40ec-b57b-d1b3207131d2",
   "metadata": {},
   "outputs": [
    {
     "data": {
      "text/html": [
       "<div>\n",
       "<style scoped>\n",
       "    .dataframe tbody tr th:only-of-type {\n",
       "        vertical-align: middle;\n",
       "    }\n",
       "\n",
       "    .dataframe tbody tr th {\n",
       "        vertical-align: top;\n",
       "    }\n",
       "\n",
       "    .dataframe thead th {\n",
       "        text-align: right;\n",
       "    }\n",
       "</style>\n",
       "<table border=\"1\" class=\"dataframe\">\n",
       "  <thead>\n",
       "    <tr style=\"text-align: right;\">\n",
       "      <th></th>\n",
       "      <th>A</th>\n",
       "      <th>B</th>\n",
       "      <th>C</th>\n",
       "    </tr>\n",
       "  </thead>\n",
       "  <tbody>\n",
       "    <tr>\n",
       "      <th>1</th>\n",
       "      <td>1.0</td>\n",
       "      <td>2</td>\n",
       "      <td>a</td>\n",
       "    </tr>\n",
       "    <tr>\n",
       "      <th>2</th>\n",
       "      <td>3.0</td>\n",
       "      <td>4</td>\n",
       "      <td>b</td>\n",
       "    </tr>\n",
       "    <tr>\n",
       "      <th>3</th>\n",
       "      <td>5.0</td>\n",
       "      <td>6</td>\n",
       "      <td>c</td>\n",
       "    </tr>\n",
       "    <tr>\n",
       "      <th>4</th>\n",
       "      <td>7.0</td>\n",
       "      <td>8.0</td>\n",
       "      <td>d</td>\n",
       "    </tr>\n",
       "  </tbody>\n",
       "</table>\n",
       "</div>"
      ],
      "text/plain": [
       "     A    B  C\n",
       "1  1.0    2  a\n",
       "2  3.0    4  b\n",
       "3  5.0    6  c\n",
       "4  7.0  8.0  d"
      ]
     },
     "execution_count": 263,
     "metadata": {},
     "output_type": "execute_result"
    }
   ],
   "source": [
    "df['C'] = ['a', 'b', 'c', 'd']\n",
    "df"
   ]
  },
  {
   "cell_type": "code",
   "execution_count": 264,
   "id": "6bdf7eef-045b-4f53-8f2a-4669a414c901",
   "metadata": {},
   "outputs": [
    {
     "data": {
      "text/html": [
       "<div>\n",
       "<style scoped>\n",
       "    .dataframe tbody tr th:only-of-type {\n",
       "        vertical-align: middle;\n",
       "    }\n",
       "\n",
       "    .dataframe tbody tr th {\n",
       "        vertical-align: top;\n",
       "    }\n",
       "\n",
       "    .dataframe thead th {\n",
       "        text-align: right;\n",
       "    }\n",
       "</style>\n",
       "<table border=\"1\" class=\"dataframe\">\n",
       "  <thead>\n",
       "    <tr style=\"text-align: right;\">\n",
       "      <th></th>\n",
       "      <th>A</th>\n",
       "      <th>B</th>\n",
       "      <th>C</th>\n",
       "    </tr>\n",
       "  </thead>\n",
       "  <tbody>\n",
       "    <tr>\n",
       "      <th>1</th>\n",
       "      <td>1.0</td>\n",
       "      <td>2</td>\n",
       "      <td>a</td>\n",
       "    </tr>\n",
       "    <tr>\n",
       "      <th>2</th>\n",
       "      <td>3.0</td>\n",
       "      <td>4</td>\n",
       "      <td>b</td>\n",
       "    </tr>\n",
       "    <tr>\n",
       "      <th>3</th>\n",
       "      <td>5.0</td>\n",
       "      <td>6</td>\n",
       "      <td>c</td>\n",
       "    </tr>\n",
       "    <tr>\n",
       "      <th>4</th>\n",
       "      <td>7.0</td>\n",
       "      <td>8.0</td>\n",
       "      <td>D</td>\n",
       "    </tr>\n",
       "  </tbody>\n",
       "</table>\n",
       "</div>"
      ],
      "text/plain": [
       "     A    B  C\n",
       "1  1.0    2  a\n",
       "2  3.0    4  b\n",
       "3  5.0    6  c\n",
       "4  7.0  8.0  D"
      ]
     },
     "execution_count": 264,
     "metadata": {},
     "output_type": "execute_result"
    }
   ],
   "source": [
    "df.loc[4, 'C'] = 'D'\n",
    "df"
   ]
  },
  {
   "cell_type": "code",
   "execution_count": 265,
   "id": "ef55a69a-272c-48bf-ade5-2cf2fe23b254",
   "metadata": {},
   "outputs": [
    {
     "data": {
      "text/html": [
       "<div>\n",
       "<style scoped>\n",
       "    .dataframe tbody tr th:only-of-type {\n",
       "        vertical-align: middle;\n",
       "    }\n",
       "\n",
       "    .dataframe tbody tr th {\n",
       "        vertical-align: top;\n",
       "    }\n",
       "\n",
       "    .dataframe thead th {\n",
       "        text-align: right;\n",
       "    }\n",
       "</style>\n",
       "<table border=\"1\" class=\"dataframe\">\n",
       "  <thead>\n",
       "    <tr style=\"text-align: right;\">\n",
       "      <th></th>\n",
       "      <th>A</th>\n",
       "      <th>B</th>\n",
       "    </tr>\n",
       "  </thead>\n",
       "  <tbody>\n",
       "    <tr>\n",
       "      <th>1</th>\n",
       "      <td>1.0</td>\n",
       "      <td>2</td>\n",
       "    </tr>\n",
       "    <tr>\n",
       "      <th>2</th>\n",
       "      <td>3.0</td>\n",
       "      <td>4</td>\n",
       "    </tr>\n",
       "    <tr>\n",
       "      <th>3</th>\n",
       "      <td>5.0</td>\n",
       "      <td>6</td>\n",
       "    </tr>\n",
       "  </tbody>\n",
       "</table>\n",
       "</div>"
      ],
      "text/plain": [
       "     A  B\n",
       "1  1.0  2\n",
       "2  3.0  4\n",
       "3  5.0  6"
      ]
     },
     "execution_count": 265,
     "metadata": {},
     "output_type": "execute_result"
    }
   ],
   "source": [
    "df.drop(index = 4, columns='C')"
   ]
  },
  {
   "cell_type": "code",
   "execution_count": 405,
   "id": "c2f69f17-3f6a-4b49-8dcf-d1f4b0ba9525",
   "metadata": {},
   "outputs": [],
   "source": [
    "import os\n",
    "import numpy as np\n",
    "import pandas as pd\n",
    "import chardet"
   ]
  },
  {
   "cell_type": "code",
   "execution_count": 406,
   "id": "ce77e308-e019-4649-b8c9-c2f3d3d3f89c",
   "metadata": {},
   "outputs": [
    {
     "data": {
      "text/plain": [
       "'C:\\\\Users\\\\user\\\\Documents\\\\project\\\\data'"
      ]
     },
     "execution_count": 406,
     "metadata": {},
     "output_type": "execute_result"
    }
   ],
   "source": [
    "os.getcwd()"
   ]
  },
  {
   "cell_type": "code",
   "execution_count": 407,
   "id": "93ae02d6-6d7a-4418-9a6c-d07402253637",
   "metadata": {},
   "outputs": [
    {
     "data": {
      "text/plain": [
       "'C:\\\\Users\\\\user\\\\Documents\\\\project\\\\code'"
      ]
     },
     "execution_count": 407,
     "metadata": {},
     "output_type": "execute_result"
    }
   ],
   "source": [
    "os.chdir(path= 'C:\\\\Users\\\\user\\\\Documents\\\\project\\\\code')\n",
    "os.getcwd()"
   ]
  },
  {
   "cell_type": "code",
   "execution_count": 408,
   "id": "1c3d3a9a-00c3-4c49-954c-fa9ea75b4b04",
   "metadata": {},
   "outputs": [
    {
     "data": {
      "text/plain": [
       "'C:\\\\Users\\\\user\\\\Documents\\\\project'"
      ]
     },
     "execution_count": 408,
     "metadata": {},
     "output_type": "execute_result"
    }
   ],
   "source": [
    "os.chdir(path ='..')\n",
    "os.getcwd()"
   ]
  },
  {
   "cell_type": "code",
   "execution_count": 409,
   "id": "335873f7-a648-4672-ba70-76c563dd4338",
   "metadata": {},
   "outputs": [
    {
     "data": {
      "text/plain": [
       "'C:\\\\Users\\\\user\\\\Documents\\\\project\\\\code'"
      ]
     },
     "execution_count": 409,
     "metadata": {},
     "output_type": "execute_result"
    }
   ],
   "source": [
    "os.chdir(path = './code')\n",
    "os.getcwd()"
   ]
  },
  {
   "cell_type": "code",
   "execution_count": 410,
   "id": "7b4c6e75-34fc-4568-930f-f699b15b35c9",
   "metadata": {},
   "outputs": [
    {
     "data": {
      "text/plain": [
       "'C:\\\\Users\\\\user\\\\Documents\\\\project\\\\data'"
      ]
     },
     "execution_count": 410,
     "metadata": {},
     "output_type": "execute_result"
    }
   ],
   "source": [
    "os.chdir(path = '../data')\n",
    "os.getcwd()"
   ]
  },
  {
   "cell_type": "code",
   "execution_count": 411,
   "id": "b92a2c7f-1a83-4e7a-ade7-a445f43adcae",
   "metadata": {},
   "outputs": [
    {
     "data": {
      "text/plain": [
       "'C:\\\\Users\\\\user\\\\Documents\\\\project\\\\data'"
      ]
     },
     "execution_count": 411,
     "metadata": {},
     "output_type": "execute_result"
    }
   ],
   "source": [
    "os.chdir(path = r'C:\\Users\\user\\Documents\\project\\data')\n",
    "os.getcwd()"
   ]
  },
  {
   "cell_type": "code",
   "execution_count": 412,
   "id": "a23dc842-0366-4dcc-821b-c6ccaa9bcd9a",
   "metadata": {},
   "outputs": [],
   "source": [
    "os.mkdir(path = 'temp')"
   ]
  },
  {
   "cell_type": "code",
   "execution_count": 413,
   "id": "83afd9be-c98d-4106-abb0-01a1cbc2caa9",
   "metadata": {},
   "outputs": [
    {
     "data": {
      "text/plain": [
       "['APT_Detail_Seoul_2024.csv',\n",
       " 'APT_Detail_Seoul_2024.xlsx',\n",
       " 'APT_Price_Seoul(2020~2024).xlsx',\n",
       " 'APT_Price_Seoul_2020.csv',\n",
       " 'APT_Price_Seoul_2021.csv',\n",
       " 'APT_Price_Seoul_2022.csv',\n",
       " 'APT_Price_Seoul_2023.csv',\n",
       " 'APT_Price_Seoul_2024.csv',\n",
       " 'KBO_Hitter_Stats_2024.csv',\n",
       " 'KBO_Pitcher_Stats_2024.csv',\n",
       " 'MPRC_2024.csv',\n",
       " 'MPRC_2024.xlsx',\n",
       " 'MPRC_List.xlsx',\n",
       " 'MPRC_List_2.xlsx',\n",
       " 'NA_Sample.xlsx',\n",
       " 'temp',\n",
       " 'test.png',\n",
       " 'test.xlsx']"
      ]
     },
     "execution_count": 413,
     "metadata": {},
     "output_type": "execute_result"
    }
   ],
   "source": [
    "os.listdir()"
   ]
  },
  {
   "cell_type": "code",
   "execution_count": 414,
   "id": "06785da3-52a6-4eb8-991b-60a4916fd180",
   "metadata": {},
   "outputs": [],
   "source": [
    "os.rmdir(path = 'temp')"
   ]
  },
  {
   "cell_type": "code",
   "execution_count": 415,
   "id": "90e1eaa6-deb3-462e-9a0e-b993352ab1fd",
   "metadata": {},
   "outputs": [
    {
     "name": "stdout",
     "output_type": "stream",
     "text": [
      "APT_Detail_Seoul_2024.xlsx\n",
      "APT_Price_Seoul(2020~2024).xlsx\n",
      "MPRC_2024.xlsx\n",
      "MPRC_List.xlsx\n",
      "MPRC_List_2.xlsx\n",
      "NA_Sample.xlsx\n",
      "test.xlsx\n"
     ]
    }
   ],
   "source": [
    "files = os.listdir()\n",
    "for file in files:\n",
    "    if 'xlsx' in file:\n",
    "        print(file)"
   ]
  },
  {
   "cell_type": "code",
   "execution_count": 416,
   "id": "0d6e6d30-35ba-4d0f-8236-c12c70fcc295",
   "metadata": {},
   "outputs": [
    {
     "data": {
      "text/plain": [
       "['APT_Detail_Seoul_2024.xlsx',\n",
       " 'APT_Price_Seoul(2020~2024).xlsx',\n",
       " 'MPRC_2024.xlsx',\n",
       " 'MPRC_List.xlsx',\n",
       " 'MPRC_List_2.xlsx',\n",
       " 'NA_Sample.xlsx',\n",
       " 'test.xlsx']"
      ]
     },
     "execution_count": 416,
     "metadata": {},
     "output_type": "execute_result"
    }
   ],
   "source": [
    "[file for file in files if 'xlsx' in file]"
   ]
  },
  {
   "cell_type": "code",
   "execution_count": 417,
   "id": "b1368554-ab14-4353-867b-d93312ea82b0",
   "metadata": {
    "scrolled": true
   },
   "outputs": [
    {
     "data": {
      "text/html": [
       "<div>\n",
       "<style scoped>\n",
       "    .dataframe tbody tr th:only-of-type {\n",
       "        vertical-align: middle;\n",
       "    }\n",
       "\n",
       "    .dataframe tbody tr th {\n",
       "        vertical-align: top;\n",
       "    }\n",
       "\n",
       "    .dataframe thead th {\n",
       "        text-align: right;\n",
       "    }\n",
       "</style>\n",
       "<table border=\"1\" class=\"dataframe\">\n",
       "  <thead>\n",
       "    <tr style=\"text-align: right;\">\n",
       "      <th></th>\n",
       "      <th>Unnamed: 0</th>\n",
       "      <th>데이터셋 소개</th>\n",
       "      <th>Unnamed: 2</th>\n",
       "      <th>Unnamed: 3</th>\n",
       "      <th>Unnamed: 4</th>\n",
       "      <th>Unnamed: 5</th>\n",
       "      <th>Unnamed: 6</th>\n",
       "      <th>Unnamed: 7</th>\n",
       "      <th>Unnamed: 8</th>\n",
       "      <th>Unnamed: 9</th>\n",
       "      <th>Unnamed: 10</th>\n",
       "      <th>Unnamed: 11</th>\n",
       "      <th>Unnamed: 12</th>\n",
       "      <th>Unnamed: 13</th>\n",
       "      <th>Unnamed: 14</th>\n",
       "      <th>Unnamed: 15</th>\n",
       "    </tr>\n",
       "  </thead>\n",
       "  <tbody>\n",
       "    <tr>\n",
       "      <th>0</th>\n",
       "      <td>NaN</td>\n",
       "      <td>- 2020년 서울특별시 아파트 매매가격</td>\n",
       "      <td>NaN</td>\n",
       "      <td>NaN</td>\n",
       "      <td>NaN</td>\n",
       "      <td>NaN</td>\n",
       "      <td>NaN</td>\n",
       "      <td>NaN</td>\n",
       "      <td>NaN</td>\n",
       "      <td>NaN</td>\n",
       "      <td>NaN</td>\n",
       "      <td>NaN</td>\n",
       "      <td>NaN</td>\n",
       "      <td>NaN</td>\n",
       "      <td>NaN</td>\n",
       "      <td>NaN</td>\n",
       "    </tr>\n",
       "    <tr>\n",
       "      <th>1</th>\n",
       "      <td>NaN</td>\n",
       "      <td>NaN</td>\n",
       "      <td>NaN</td>\n",
       "      <td>NaN</td>\n",
       "      <td>NaN</td>\n",
       "      <td>NaN</td>\n",
       "      <td>NaN</td>\n",
       "      <td>NaN</td>\n",
       "      <td>NaN</td>\n",
       "      <td>NaN</td>\n",
       "      <td>NaN</td>\n",
       "      <td>NaN</td>\n",
       "      <td>NaN</td>\n",
       "      <td>NaN</td>\n",
       "      <td>NaN</td>\n",
       "      <td>NaN</td>\n",
       "    </tr>\n",
       "    <tr>\n",
       "      <th>2</th>\n",
       "      <td>NaN</td>\n",
       "      <td>거래금액</td>\n",
       "      <td>지역코드</td>\n",
       "      <td>아파트</td>\n",
       "      <td>시도명</td>\n",
       "      <td>시군구</td>\n",
       "      <td>법정동</td>\n",
       "      <td>지번</td>\n",
       "      <td>건축년도</td>\n",
       "      <td>년</td>\n",
       "      <td>월</td>\n",
       "      <td>일</td>\n",
       "      <td>등기일자</td>\n",
       "      <td>매도자</td>\n",
       "      <td>전용면적</td>\n",
       "      <td>층</td>\n",
       "    </tr>\n",
       "    <tr>\n",
       "      <th>3</th>\n",
       "      <td>NaN</td>\n",
       "      <td>100,500</td>\n",
       "      <td>11680</td>\n",
       "      <td>삼익대청아파트</td>\n",
       "      <td>서울특별시</td>\n",
       "      <td>강남구</td>\n",
       "      <td>개포동</td>\n",
       "      <td>12</td>\n",
       "      <td>1992</td>\n",
       "      <td>2020</td>\n",
       "      <td>1</td>\n",
       "      <td>31</td>\n",
       "      <td>NaN</td>\n",
       "      <td>NaN</td>\n",
       "      <td>39.53</td>\n",
       "      <td>13</td>\n",
       "    </tr>\n",
       "    <tr>\n",
       "      <th>4</th>\n",
       "      <td>NaN</td>\n",
       "      <td>203,000</td>\n",
       "      <td>11680</td>\n",
       "      <td>개포자이</td>\n",
       "      <td>서울특별시</td>\n",
       "      <td>강남구</td>\n",
       "      <td>개포동</td>\n",
       "      <td>12-2</td>\n",
       "      <td>2004</td>\n",
       "      <td>2020</td>\n",
       "      <td>1</td>\n",
       "      <td>6</td>\n",
       "      <td>NaN</td>\n",
       "      <td>NaN</td>\n",
       "      <td>134.3</td>\n",
       "      <td>17</td>\n",
       "    </tr>\n",
       "    <tr>\n",
       "      <th>...</th>\n",
       "      <td>...</td>\n",
       "      <td>...</td>\n",
       "      <td>...</td>\n",
       "      <td>...</td>\n",
       "      <td>...</td>\n",
       "      <td>...</td>\n",
       "      <td>...</td>\n",
       "      <td>...</td>\n",
       "      <td>...</td>\n",
       "      <td>...</td>\n",
       "      <td>...</td>\n",
       "      <td>...</td>\n",
       "      <td>...</td>\n",
       "      <td>...</td>\n",
       "      <td>...</td>\n",
       "      <td>...</td>\n",
       "    </tr>\n",
       "    <tr>\n",
       "      <th>83984</th>\n",
       "      <td>NaN</td>\n",
       "      <td>54,800</td>\n",
       "      <td>11260</td>\n",
       "      <td>현대휴앤미</td>\n",
       "      <td>서울특별시</td>\n",
       "      <td>중랑구</td>\n",
       "      <td>중화동</td>\n",
       "      <td>11</td>\n",
       "      <td>2007</td>\n",
       "      <td>2020</td>\n",
       "      <td>12</td>\n",
       "      <td>3</td>\n",
       "      <td>NaN</td>\n",
       "      <td>NaN</td>\n",
       "      <td>100.17</td>\n",
       "      <td>5</td>\n",
       "    </tr>\n",
       "    <tr>\n",
       "      <th>83985</th>\n",
       "      <td>NaN</td>\n",
       "      <td>59,800</td>\n",
       "      <td>11260</td>\n",
       "      <td>한신아파트상가동유치원동(103~109)</td>\n",
       "      <td>서울특별시</td>\n",
       "      <td>중랑구</td>\n",
       "      <td>중화동</td>\n",
       "      <td>450</td>\n",
       "      <td>1997</td>\n",
       "      <td>2020</td>\n",
       "      <td>12</td>\n",
       "      <td>1</td>\n",
       "      <td>NaN</td>\n",
       "      <td>NaN</td>\n",
       "      <td>59.76</td>\n",
       "      <td>17</td>\n",
       "    </tr>\n",
       "    <tr>\n",
       "      <th>83986</th>\n",
       "      <td>NaN</td>\n",
       "      <td>58,000</td>\n",
       "      <td>11260</td>\n",
       "      <td>한신아파트상가동유치원동(103~109)</td>\n",
       "      <td>서울특별시</td>\n",
       "      <td>중랑구</td>\n",
       "      <td>중화동</td>\n",
       "      <td>450</td>\n",
       "      <td>1997</td>\n",
       "      <td>2020</td>\n",
       "      <td>12</td>\n",
       "      <td>5</td>\n",
       "      <td>NaN</td>\n",
       "      <td>NaN</td>\n",
       "      <td>59.76</td>\n",
       "      <td>19</td>\n",
       "    </tr>\n",
       "    <tr>\n",
       "      <th>83987</th>\n",
       "      <td>NaN</td>\n",
       "      <td>57,500</td>\n",
       "      <td>11260</td>\n",
       "      <td>한영(101)</td>\n",
       "      <td>서울특별시</td>\n",
       "      <td>중랑구</td>\n",
       "      <td>중화동</td>\n",
       "      <td>274-51</td>\n",
       "      <td>2003</td>\n",
       "      <td>2020</td>\n",
       "      <td>12</td>\n",
       "      <td>1</td>\n",
       "      <td>NaN</td>\n",
       "      <td>NaN</td>\n",
       "      <td>116.25</td>\n",
       "      <td>6</td>\n",
       "    </tr>\n",
       "    <tr>\n",
       "      <th>83988</th>\n",
       "      <td>NaN</td>\n",
       "      <td>62,500</td>\n",
       "      <td>11260</td>\n",
       "      <td>한신아파트상가동유치원동(103~109)</td>\n",
       "      <td>서울특별시</td>\n",
       "      <td>중랑구</td>\n",
       "      <td>중화동</td>\n",
       "      <td>450</td>\n",
       "      <td>1997</td>\n",
       "      <td>2020</td>\n",
       "      <td>12</td>\n",
       "      <td>11</td>\n",
       "      <td>NaN</td>\n",
       "      <td>NaN</td>\n",
       "      <td>59.76</td>\n",
       "      <td>19</td>\n",
       "    </tr>\n",
       "  </tbody>\n",
       "</table>\n",
       "<p>83989 rows × 16 columns</p>\n",
       "</div>"
      ],
      "text/plain": [
       "       Unnamed: 0                 데이터셋 소개 Unnamed: 2             Unnamed: 3  \\\n",
       "0             NaN  - 2020년 서울특별시 아파트 매매가격        NaN                    NaN   \n",
       "1             NaN                     NaN        NaN                    NaN   \n",
       "2             NaN                    거래금액       지역코드                    아파트   \n",
       "3             NaN                 100,500      11680                삼익대청아파트   \n",
       "4             NaN                 203,000      11680                   개포자이   \n",
       "...           ...                     ...        ...                    ...   \n",
       "83984         NaN                  54,800      11260                  현대휴앤미   \n",
       "83985         NaN                  59,800      11260  한신아파트상가동유치원동(103~109)   \n",
       "83986         NaN                  58,000      11260  한신아파트상가동유치원동(103~109)   \n",
       "83987         NaN                  57,500      11260                한영(101)   \n",
       "83988         NaN                  62,500      11260  한신아파트상가동유치원동(103~109)   \n",
       "\n",
       "      Unnamed: 4 Unnamed: 5 Unnamed: 6 Unnamed: 7 Unnamed: 8 Unnamed: 9  \\\n",
       "0            NaN        NaN        NaN        NaN        NaN        NaN   \n",
       "1            NaN        NaN        NaN        NaN        NaN        NaN   \n",
       "2            시도명        시군구        법정동         지번       건축년도          년   \n",
       "3          서울특별시        강남구        개포동         12       1992       2020   \n",
       "4          서울특별시        강남구        개포동       12-2       2004       2020   \n",
       "...          ...        ...        ...        ...        ...        ...   \n",
       "83984      서울특별시        중랑구        중화동         11       2007       2020   \n",
       "83985      서울특별시        중랑구        중화동        450       1997       2020   \n",
       "83986      서울특별시        중랑구        중화동        450       1997       2020   \n",
       "83987      서울특별시        중랑구        중화동     274-51       2003       2020   \n",
       "83988      서울특별시        중랑구        중화동        450       1997       2020   \n",
       "\n",
       "      Unnamed: 10 Unnamed: 11 Unnamed: 12 Unnamed: 13 Unnamed: 14 Unnamed: 15  \n",
       "0             NaN         NaN         NaN         NaN         NaN         NaN  \n",
       "1             NaN         NaN         NaN         NaN         NaN         NaN  \n",
       "2               월           일        등기일자         매도자        전용면적           층  \n",
       "3               1          31         NaN         NaN       39.53          13  \n",
       "4               1           6         NaN         NaN       134.3          17  \n",
       "...           ...         ...         ...         ...         ...         ...  \n",
       "83984          12           3         NaN         NaN      100.17           5  \n",
       "83985          12           1         NaN         NaN       59.76          17  \n",
       "83986          12           5         NaN         NaN       59.76          19  \n",
       "83987          12           1         NaN         NaN      116.25           6  \n",
       "83988          12          11         NaN         NaN       59.76          19  \n",
       "\n",
       "[83989 rows x 16 columns]"
      ]
     },
     "execution_count": 417,
     "metadata": {},
     "output_type": "execute_result"
    }
   ],
   "source": [
    "pd.read_excel('APT_Price_Seoul(2020~2024).xlsx')"
   ]
  },
  {
   "cell_type": "code",
   "execution_count": 418,
   "id": "9fbe9514-9027-46a6-baf7-24c9b3806ddc",
   "metadata": {},
   "outputs": [
    {
     "name": "stdout",
     "output_type": "stream",
     "text": [
      "CPU times: total: 4.97 s\n",
      "Wall time: 17.7 s\n"
     ]
    }
   ],
   "source": [
    "%%time\n",
    "dfs = pd.read_excel(io = 'APT_Price_Seoul(2020~2024).xlsx', \n",
    "sheet_name = None, \n",
    "usecols = range(1,16), \n",
    "skiprows = 3, \n",
    "thousands = ',')"
   ]
  },
  {
   "cell_type": "code",
   "execution_count": 419,
   "id": "d8df548e-283a-4dda-b9a4-9d4198291175",
   "metadata": {
    "scrolled": true
   },
   "outputs": [
    {
     "data": {
      "text/plain": [
       "{'2020년':          거래금액   지역코드                    아파트    시도명  시군구  법정동      지번  건축년도  \\\n",
       " 0      100500  11680                삼익대청아파트  서울특별시  강남구  개포동      12  1992   \n",
       " 1      203000  11680                   개포자이  서울특별시  강남구  개포동    12-2  2004   \n",
       " 2      180000  11680                개포주공6단지  서울특별시  강남구  개포동     185  1983   \n",
       " 3      285000  11680               디에이치아너힐즈  서울특별시  강남구  개포동    1281  2019   \n",
       " 4      171000  11680                개포주공7단지  서울특별시  강남구  개포동     185  1983   \n",
       " ...       ...    ...                    ...    ...  ...  ...     ...   ...   \n",
       " 83981   54800  11260                  현대휴앤미  서울특별시  중랑구  중화동      11  2007   \n",
       " 83982   59800  11260  한신아파트상가동유치원동(103~109)  서울특별시  중랑구  중화동     450  1997   \n",
       " 83983   58000  11260  한신아파트상가동유치원동(103~109)  서울특별시  중랑구  중화동     450  1997   \n",
       " 83984   57500  11260                한영(101)  서울특별시  중랑구  중화동  274-51  2003   \n",
       " 83985   62500  11260  한신아파트상가동유치원동(103~109)  서울특별시  중랑구  중화동     450  1997   \n",
       " \n",
       "           년   월   일  등기일자  매도자    전용면적   층  \n",
       " 0      2020   1  31   NaN  NaN   39.53  13  \n",
       " 1      2020   1   6   NaN  NaN  134.30  17  \n",
       " 2      2020   1  14   NaN  NaN   60.13  14  \n",
       " 3      2020   1   4   NaN  NaN   94.29  12  \n",
       " 4      2020   1  12   NaN  NaN   60.76   2  \n",
       " ...     ...  ..  ..   ...  ...     ...  ..  \n",
       " 83981  2020  12   3   NaN  NaN  100.17   5  \n",
       " 83982  2020  12   1   NaN  NaN   59.76  17  \n",
       " 83983  2020  12   5   NaN  NaN   59.76  19  \n",
       " 83984  2020  12   1   NaN  NaN  116.25   6  \n",
       " 83985  2020  12  11   NaN  NaN   59.76  19  \n",
       " \n",
       " [83986 rows x 15 columns],\n",
       " '2021년':          거래금액   지역코드         아파트    시도명  시군구  법정동      지번  건축년도     년   월   일  \\\n",
       " 0      245000  11680   개포래미안포레스트  서울특별시  강남구  개포동    1282  2020  2021   1  17   \n",
       " 1      111000  11680  성원대치2단지아파트  서울특별시  강남구  개포동      12  1992  2021   1  21   \n",
       " 2      235000  11680     개포주공7단지  서울특별시  강남구  개포동     185  1983  2021   1  30   \n",
       " 3      267000  11680    래미안블레스티지  서울특별시  강남구  개포동    1280  2019  2021   1  14   \n",
       " 4      310000  11680         현대2  서울특별시  강남구  개포동     654  1986  2021   1  30   \n",
       " ...       ...    ...         ...    ...  ...  ...     ...   ...   ...  ..  ..   \n",
       " 43333   50000  11260     한영(101)  서울특별시  중랑구  중화동  274-51  2003  2021  11   4   \n",
       " 43334   69500  11260       청원다미소  서울특별시  중랑구  중화동  286-22  2004  2021  12  31   \n",
       " 43335   96000  11260     동양엔파트2차  서울특별시  중랑구  중화동     454  2013  2021  12   4   \n",
       " 43336   77500  11260       청원다미소  서울특별시  중랑구  중화동  286-22  2004  2021  12   4   \n",
       " 43337   32500  11260     한솔e(B동)  서울특별시  중랑구  중화동    19-3  2004  2021  12  13   \n",
       " \n",
       "        등기일자  매도자     전용면적   층  \n",
       " 0       NaN  NaN   74.660   7  \n",
       " 1       NaN  NaN   33.180  12  \n",
       " 2       NaN  NaN   73.260   1  \n",
       " 3       NaN  NaN   84.943   6  \n",
       " 4       NaN  NaN  165.080   1  \n",
       " ...     ...  ...      ...  ..  \n",
       " 43333   NaN  NaN   84.690   2  \n",
       " 43334   NaN  NaN   84.770   5  \n",
       " 43335   NaN  NaN   84.870   7  \n",
       " 43336   NaN  NaN   84.820  10  \n",
       " 43337   NaN  NaN   82.650   3  \n",
       " \n",
       " [43338 rows x 15 columns],\n",
       " '2022년':          거래금액   지역코드                    아파트    시도명  시군구  법정동      지번  건축년도  \\\n",
       " 0      280000  11680                개포주공6단지  서울특별시  강남구  개포동     185  1983   \n",
       " 1      272000  11680                    현대2  서울특별시  강남구  개포동     654  1986   \n",
       " 2      120000  11680             성원대치2단지아파트  서울특별시  강남구  개포동      12  1992   \n",
       " 3      300000  11680               래미안블레스티지  서울특별시  강남구  개포동    1280  2019   \n",
       " 4      125000  11680             성원대치2단지아파트  서울특별시  강남구  개포동      12  1992   \n",
       " ...       ...    ...                    ...    ...  ...  ...     ...   ...   \n",
       " 12751   74000  11260  한신아파트상가동유치원동(103~109)  서울특별시  중랑구  중화동     450  1997   \n",
       " 12752   11400  11260                  범양프레체  서울특별시  중랑구  중화동   208-4  2012   \n",
       " 12753   23000  11260                     금강  서울특별시  중랑구  중화동  297-84  2003   \n",
       " 12754   69500  11260              삼익아파트.상가동  서울특별시  중랑구  중화동     438  1995   \n",
       " 12755   11500  11260                  범양프레체  서울특별시  중랑구  중화동   208-4  2012   \n",
       " \n",
       "           년   월   일  등기일자  매도자    전용면적   층  \n",
       " 0      2022   1  15   NaN  NaN  83.210   8  \n",
       " 1      2022   1  15   NaN  NaN  84.810   8  \n",
       " 2      2022   1  25   NaN  NaN  33.180   8  \n",
       " 3      2022   1  15   NaN  NaN  84.943   7  \n",
       " 4      2022   1   8   NaN  NaN  33.180   7  \n",
       " ...     ...  ..  ..   ...  ...     ...  ..  \n",
       " 12751  2022   7  20   NaN  NaN  59.760   3  \n",
       " 12752  2022   7  14   NaN  NaN  17.940  14  \n",
       " 12753  2022   8  31   NaN  NaN  58.050   5  \n",
       " 12754  2022   9  17   NaN  NaN  84.900   8  \n",
       " 12755  2022  10   3   NaN  NaN  17.940   8  \n",
       " \n",
       " [12756 rows x 15 columns],\n",
       " '2023년':          거래금액   지역코드                    아파트    시도명  시군구  법정동      지번  건축년도  \\\n",
       " 0       97000  11680                삼익대청아파트  서울특별시  강남구  개포동      12  1992   \n",
       " 1       85500  11680             성원대치2단지아파트  서울특별시  강남구  개포동      12  1992   \n",
       " 2       90000  11680                 개포자이르네  서울특별시  강남구  개포동    1283  2022   \n",
       " 3      171000  11680               래미안블레스티지  서울특별시  강남구  개포동    1280  2019   \n",
       " 4       86000  11680             성원대치2단지아파트  서울특별시  강남구  개포동      12  1992   \n",
       " ...       ...    ...                    ...    ...  ...  ...     ...   ...   \n",
       " 35626   74350  11260  한신아파트상가동유치원동(103~109)  서울특별시  중랑구  중화동     450  1997   \n",
       " 35627   60000  11260  한신아파트상가동유치원동(103~109)  서울특별시  중랑구  중화동     450  1997   \n",
       " 35628   60000  11260  한신아파트상가동유치원동(102~102)  서울특별시  중랑구  중화동     450  1998   \n",
       " 35629   73000  11260  한신아파트상가동유치원동(103~109)  서울특별시  중랑구  중화동     450  1997   \n",
       " 35630   47500  11260                한영(101)  서울특별시  중랑구  중화동  274-51  2003   \n",
       " \n",
       "           년   월   일       등기일자  매도자     전용면적   층  \n",
       " 0      2023   1  17 2023-05-10  NaN  39.5300   8  \n",
       " 1      2023   1  28 2023-04-10  NaN  33.1800   9  \n",
       " 2      2023   1  17 2023-03-31  NaN  50.8665   4  \n",
       " 3      2023   1  14 2023-03-30  NaN  59.9670  19  \n",
       " 4      2023   1  30 2023-04-28  NaN  33.1800  11  \n",
       " ...     ...  ..  ..        ...  ...      ...  ..  \n",
       " 35626  2023  12  21 2024-04-19  NaN  84.8700   6  \n",
       " 35627  2023  12   9 2024-02-26  NaN  59.7600  11  \n",
       " 35628  2023  12   2 2024-02-29  NaN  59.7600   7  \n",
       " 35629  2023  12   7 2024-02-27  NaN  84.6900   8  \n",
       " 35630  2023  12   3 2024-02-13  NaN  71.8300   2  \n",
       " \n",
       " [35631 rows x 15 columns],\n",
       " '2024년':          거래금액   지역코드                    아파트    시도명  시군구  법정동     지번  건축년도  \\\n",
       " 0      219000  11680               디에이치아너힐즈  서울특별시  강남구  개포동   1281  2019   \n",
       " 1      175000  11680                개포주공7단지  서울특별시  강남구  개포동    185  1983   \n",
       " 2      200000  11680               래미안블레스티지  서울특별시  강남구  개포동   1280  2019   \n",
       " 3      175000  11680                개포주공7단지  서울특별시  강남구  개포동    185  1983   \n",
       " 4      282000  11680                    현대2  서울특별시  강남구  개포동    654  1986   \n",
       " ...       ...    ...                    ...    ...  ...  ...    ...   ...   \n",
       " 56188   74000  11260  한신아파트상가동유치원동(102~102)  서울특별시  중랑구  중화동    450  1998   \n",
       " 56189   50500  11260              삼익아파트.상가동  서울특별시  중랑구  중화동    438  1995   \n",
       " 56190   60000  11260  한신아파트상가동유치원동(103~109)  서울특별시  중랑구  중화동    450  1997   \n",
       " 56191   67000  11260  한신아파트상가동유치원동(102~102)  서울특별시  중랑구  중화동    450  1998   \n",
       " 56192   11000  11260                  범양프레체  서울특별시  중랑구  중화동  208-4  2012   \n",
       " \n",
       "           년   월   일       등기일자 매도자      전용면적   층  \n",
       " 0      2024   1  30 2024-04-30  개인   59.8732  17  \n",
       " 1      2024   1  31 2024-03-20  개인   53.4600   5  \n",
       " 2      2024   1  27 2024-02-29  개인   59.9670   9  \n",
       " 3      2024   1  31        NaT  개인   53.4600   5  \n",
       " 4      2024   1  19 2024-05-30  개인  131.8300   1  \n",
       " ...     ...  ..  ..        ...  ..       ...  ..  \n",
       " 56188  2024  11  21 2024-12-13  개인   84.0300  11  \n",
       " 56189  2024  11  13 2024-12-18  개인   59.3400  10  \n",
       " 56190  2024  11  18 2024-11-20  개인   59.7600   4  \n",
       " 56191  2024  11   2        NaT  개인   59.7600   9  \n",
       " 56192  2024  12   7        NaT  개인   17.9400  15  \n",
       " \n",
       " [56193 rows x 15 columns]}"
      ]
     },
     "execution_count": 419,
     "metadata": {},
     "output_type": "execute_result"
    }
   ],
   "source": [
    "dfs"
   ]
  },
  {
   "cell_type": "code",
   "execution_count": 420,
   "id": "de840ee9-04ec-45b6-9971-31da615d54f7",
   "metadata": {},
   "outputs": [
    {
     "name": "stderr",
     "output_type": "stream",
     "text": [
      "C:\\Users\\user\\AppData\\Local\\Temp\\ipykernel_14404\\4240166552.py:1: FutureWarning: The behavior of DataFrame concatenation with empty or all-NA entries is deprecated. In a future version, this will no longer exclude empty or all-NA columns when determining the result dtypes. To retain the old behavior, exclude the relevant entries before the concat operation.\n",
      "  df1 = pd.concat(objs= dfs, ignore_index = True)\n"
     ]
    },
    {
     "data": {
      "text/html": [
       "<div>\n",
       "<style scoped>\n",
       "    .dataframe tbody tr th:only-of-type {\n",
       "        vertical-align: middle;\n",
       "    }\n",
       "\n",
       "    .dataframe tbody tr th {\n",
       "        vertical-align: top;\n",
       "    }\n",
       "\n",
       "    .dataframe thead th {\n",
       "        text-align: right;\n",
       "    }\n",
       "</style>\n",
       "<table border=\"1\" class=\"dataframe\">\n",
       "  <thead>\n",
       "    <tr style=\"text-align: right;\">\n",
       "      <th></th>\n",
       "      <th>거래금액</th>\n",
       "      <th>지역코드</th>\n",
       "      <th>아파트</th>\n",
       "      <th>시도명</th>\n",
       "      <th>시군구</th>\n",
       "      <th>법정동</th>\n",
       "      <th>지번</th>\n",
       "      <th>건축년도</th>\n",
       "      <th>년</th>\n",
       "      <th>월</th>\n",
       "      <th>일</th>\n",
       "      <th>등기일자</th>\n",
       "      <th>매도자</th>\n",
       "      <th>전용면적</th>\n",
       "      <th>층</th>\n",
       "    </tr>\n",
       "  </thead>\n",
       "  <tbody>\n",
       "    <tr>\n",
       "      <th>0</th>\n",
       "      <td>100500</td>\n",
       "      <td>11680</td>\n",
       "      <td>삼익대청아파트</td>\n",
       "      <td>서울특별시</td>\n",
       "      <td>강남구</td>\n",
       "      <td>개포동</td>\n",
       "      <td>12</td>\n",
       "      <td>1992</td>\n",
       "      <td>2020</td>\n",
       "      <td>1</td>\n",
       "      <td>31</td>\n",
       "      <td>NaT</td>\n",
       "      <td>NaN</td>\n",
       "      <td>39.53</td>\n",
       "      <td>13</td>\n",
       "    </tr>\n",
       "    <tr>\n",
       "      <th>1</th>\n",
       "      <td>203000</td>\n",
       "      <td>11680</td>\n",
       "      <td>개포자이</td>\n",
       "      <td>서울특별시</td>\n",
       "      <td>강남구</td>\n",
       "      <td>개포동</td>\n",
       "      <td>12-2</td>\n",
       "      <td>2004</td>\n",
       "      <td>2020</td>\n",
       "      <td>1</td>\n",
       "      <td>6</td>\n",
       "      <td>NaT</td>\n",
       "      <td>NaN</td>\n",
       "      <td>134.30</td>\n",
       "      <td>17</td>\n",
       "    </tr>\n",
       "    <tr>\n",
       "      <th>2</th>\n",
       "      <td>180000</td>\n",
       "      <td>11680</td>\n",
       "      <td>개포주공6단지</td>\n",
       "      <td>서울특별시</td>\n",
       "      <td>강남구</td>\n",
       "      <td>개포동</td>\n",
       "      <td>185</td>\n",
       "      <td>1983</td>\n",
       "      <td>2020</td>\n",
       "      <td>1</td>\n",
       "      <td>14</td>\n",
       "      <td>NaT</td>\n",
       "      <td>NaN</td>\n",
       "      <td>60.13</td>\n",
       "      <td>14</td>\n",
       "    </tr>\n",
       "    <tr>\n",
       "      <th>3</th>\n",
       "      <td>285000</td>\n",
       "      <td>11680</td>\n",
       "      <td>디에이치아너힐즈</td>\n",
       "      <td>서울특별시</td>\n",
       "      <td>강남구</td>\n",
       "      <td>개포동</td>\n",
       "      <td>1281</td>\n",
       "      <td>2019</td>\n",
       "      <td>2020</td>\n",
       "      <td>1</td>\n",
       "      <td>4</td>\n",
       "      <td>NaT</td>\n",
       "      <td>NaN</td>\n",
       "      <td>94.29</td>\n",
       "      <td>12</td>\n",
       "    </tr>\n",
       "    <tr>\n",
       "      <th>4</th>\n",
       "      <td>171000</td>\n",
       "      <td>11680</td>\n",
       "      <td>개포주공7단지</td>\n",
       "      <td>서울특별시</td>\n",
       "      <td>강남구</td>\n",
       "      <td>개포동</td>\n",
       "      <td>185</td>\n",
       "      <td>1983</td>\n",
       "      <td>2020</td>\n",
       "      <td>1</td>\n",
       "      <td>12</td>\n",
       "      <td>NaT</td>\n",
       "      <td>NaN</td>\n",
       "      <td>60.76</td>\n",
       "      <td>2</td>\n",
       "    </tr>\n",
       "    <tr>\n",
       "      <th>...</th>\n",
       "      <td>...</td>\n",
       "      <td>...</td>\n",
       "      <td>...</td>\n",
       "      <td>...</td>\n",
       "      <td>...</td>\n",
       "      <td>...</td>\n",
       "      <td>...</td>\n",
       "      <td>...</td>\n",
       "      <td>...</td>\n",
       "      <td>...</td>\n",
       "      <td>...</td>\n",
       "      <td>...</td>\n",
       "      <td>...</td>\n",
       "      <td>...</td>\n",
       "      <td>...</td>\n",
       "    </tr>\n",
       "    <tr>\n",
       "      <th>231899</th>\n",
       "      <td>74000</td>\n",
       "      <td>11260</td>\n",
       "      <td>한신아파트상가동유치원동(102~102)</td>\n",
       "      <td>서울특별시</td>\n",
       "      <td>중랑구</td>\n",
       "      <td>중화동</td>\n",
       "      <td>450</td>\n",
       "      <td>1998</td>\n",
       "      <td>2024</td>\n",
       "      <td>11</td>\n",
       "      <td>21</td>\n",
       "      <td>2024-12-13</td>\n",
       "      <td>개인</td>\n",
       "      <td>84.03</td>\n",
       "      <td>11</td>\n",
       "    </tr>\n",
       "    <tr>\n",
       "      <th>231900</th>\n",
       "      <td>50500</td>\n",
       "      <td>11260</td>\n",
       "      <td>삼익아파트.상가동</td>\n",
       "      <td>서울특별시</td>\n",
       "      <td>중랑구</td>\n",
       "      <td>중화동</td>\n",
       "      <td>438</td>\n",
       "      <td>1995</td>\n",
       "      <td>2024</td>\n",
       "      <td>11</td>\n",
       "      <td>13</td>\n",
       "      <td>2024-12-18</td>\n",
       "      <td>개인</td>\n",
       "      <td>59.34</td>\n",
       "      <td>10</td>\n",
       "    </tr>\n",
       "    <tr>\n",
       "      <th>231901</th>\n",
       "      <td>60000</td>\n",
       "      <td>11260</td>\n",
       "      <td>한신아파트상가동유치원동(103~109)</td>\n",
       "      <td>서울특별시</td>\n",
       "      <td>중랑구</td>\n",
       "      <td>중화동</td>\n",
       "      <td>450</td>\n",
       "      <td>1997</td>\n",
       "      <td>2024</td>\n",
       "      <td>11</td>\n",
       "      <td>18</td>\n",
       "      <td>2024-11-20</td>\n",
       "      <td>개인</td>\n",
       "      <td>59.76</td>\n",
       "      <td>4</td>\n",
       "    </tr>\n",
       "    <tr>\n",
       "      <th>231902</th>\n",
       "      <td>67000</td>\n",
       "      <td>11260</td>\n",
       "      <td>한신아파트상가동유치원동(102~102)</td>\n",
       "      <td>서울특별시</td>\n",
       "      <td>중랑구</td>\n",
       "      <td>중화동</td>\n",
       "      <td>450</td>\n",
       "      <td>1998</td>\n",
       "      <td>2024</td>\n",
       "      <td>11</td>\n",
       "      <td>2</td>\n",
       "      <td>NaT</td>\n",
       "      <td>개인</td>\n",
       "      <td>59.76</td>\n",
       "      <td>9</td>\n",
       "    </tr>\n",
       "    <tr>\n",
       "      <th>231903</th>\n",
       "      <td>11000</td>\n",
       "      <td>11260</td>\n",
       "      <td>범양프레체</td>\n",
       "      <td>서울특별시</td>\n",
       "      <td>중랑구</td>\n",
       "      <td>중화동</td>\n",
       "      <td>208-4</td>\n",
       "      <td>2012</td>\n",
       "      <td>2024</td>\n",
       "      <td>12</td>\n",
       "      <td>7</td>\n",
       "      <td>NaT</td>\n",
       "      <td>개인</td>\n",
       "      <td>17.94</td>\n",
       "      <td>15</td>\n",
       "    </tr>\n",
       "  </tbody>\n",
       "</table>\n",
       "<p>231904 rows × 15 columns</p>\n",
       "</div>"
      ],
      "text/plain": [
       "          거래금액   지역코드                    아파트    시도명  시군구  법정동     지번  건축년도  \\\n",
       "0       100500  11680                삼익대청아파트  서울특별시  강남구  개포동     12  1992   \n",
       "1       203000  11680                   개포자이  서울특별시  강남구  개포동   12-2  2004   \n",
       "2       180000  11680                개포주공6단지  서울특별시  강남구  개포동    185  1983   \n",
       "3       285000  11680               디에이치아너힐즈  서울특별시  강남구  개포동   1281  2019   \n",
       "4       171000  11680                개포주공7단지  서울특별시  강남구  개포동    185  1983   \n",
       "...        ...    ...                    ...    ...  ...  ...    ...   ...   \n",
       "231899   74000  11260  한신아파트상가동유치원동(102~102)  서울특별시  중랑구  중화동    450  1998   \n",
       "231900   50500  11260              삼익아파트.상가동  서울특별시  중랑구  중화동    438  1995   \n",
       "231901   60000  11260  한신아파트상가동유치원동(103~109)  서울특별시  중랑구  중화동    450  1997   \n",
       "231902   67000  11260  한신아파트상가동유치원동(102~102)  서울특별시  중랑구  중화동    450  1998   \n",
       "231903   11000  11260                  범양프레체  서울특별시  중랑구  중화동  208-4  2012   \n",
       "\n",
       "           년   월   일       등기일자  매도자    전용면적   층  \n",
       "0       2020   1  31        NaT  NaN   39.53  13  \n",
       "1       2020   1   6        NaT  NaN  134.30  17  \n",
       "2       2020   1  14        NaT  NaN   60.13  14  \n",
       "3       2020   1   4        NaT  NaN   94.29  12  \n",
       "4       2020   1  12        NaT  NaN   60.76   2  \n",
       "...      ...  ..  ..        ...  ...     ...  ..  \n",
       "231899  2024  11  21 2024-12-13   개인   84.03  11  \n",
       "231900  2024  11  13 2024-12-18   개인   59.34  10  \n",
       "231901  2024  11  18 2024-11-20   개인   59.76   4  \n",
       "231902  2024  11   2        NaT   개인   59.76   9  \n",
       "231903  2024  12   7        NaT   개인   17.94  15  \n",
       "\n",
       "[231904 rows x 15 columns]"
      ]
     },
     "execution_count": 420,
     "metadata": {},
     "output_type": "execute_result"
    }
   ],
   "source": [
    "df1 = pd.concat(objs= dfs, ignore_index = True)\n",
    "df1"
   ]
  },
  {
   "cell_type": "code",
   "execution_count": 421,
   "id": "98952ca5-55c9-470d-8f3d-f6c0103e2e74",
   "metadata": {
    "scrolled": true
   },
   "outputs": [
    {
     "name": "stdout",
     "output_type": "stream",
     "text": [
      "<class 'pandas.core.frame.DataFrame'>\n",
      "RangeIndex: 231904 entries, 0 to 231903\n",
      "Data columns (total 15 columns):\n",
      " #   Column  Non-Null Count   Dtype         \n",
      "---  ------  --------------   -----         \n",
      " 0   거래금액    231904 non-null  int64         \n",
      " 1   지역코드    231904 non-null  int64         \n",
      " 2   아파트     231904 non-null  object        \n",
      " 3   시도명     231904 non-null  object        \n",
      " 4   시군구     231904 non-null  object        \n",
      " 5   법정동     231904 non-null  object        \n",
      " 6   지번      231904 non-null  object        \n",
      " 7   건축년도    231904 non-null  int64         \n",
      " 8   년       231904 non-null  int64         \n",
      " 9   월       231904 non-null  int64         \n",
      " 10  일       231904 non-null  int64         \n",
      " 11  등기일자    79535 non-null   datetime64[ns]\n",
      " 12  매도자     56193 non-null   object        \n",
      " 13  전용면적    231904 non-null  float64       \n",
      " 14  층       231904 non-null  int64         \n",
      "dtypes: datetime64[ns](1), float64(1), int64(7), object(6)\n",
      "memory usage: 26.5+ MB\n"
     ]
    }
   ],
   "source": [
    "df1.info()"
   ]
  },
  {
   "cell_type": "code",
   "execution_count": 422,
   "id": "ba9d363d-0af0-4d82-9899-91aa31ee8ac0",
   "metadata": {},
   "outputs": [
    {
     "name": "stdout",
     "output_type": "stream",
     "text": [
      "CPU times: total: 14.8 s\n",
      "Wall time: 34.6 s\n"
     ]
    }
   ],
   "source": [
    "%time df1.to_excel('test.xlsx', index = False)"
   ]
  },
  {
   "cell_type": "code",
   "execution_count": 423,
   "id": "6a6e5e9d-6dd2-42ad-8a17-4c9b35bf101e",
   "metadata": {
    "scrolled": true
   },
   "outputs": [
    {
     "data": {
      "text/html": [
       "<div>\n",
       "<style scoped>\n",
       "    .dataframe tbody tr th:only-of-type {\n",
       "        vertical-align: middle;\n",
       "    }\n",
       "\n",
       "    .dataframe tbody tr th {\n",
       "        vertical-align: top;\n",
       "    }\n",
       "\n",
       "    .dataframe thead th {\n",
       "        text-align: right;\n",
       "    }\n",
       "</style>\n",
       "<table border=\"1\" class=\"dataframe\">\n",
       "  <thead>\n",
       "    <tr style=\"text-align: right;\">\n",
       "      <th></th>\n",
       "      <th>거래금액</th>\n",
       "      <th>지역코드</th>\n",
       "      <th>아파트</th>\n",
       "      <th>시도명</th>\n",
       "      <th>시군구</th>\n",
       "      <th>법정동</th>\n",
       "      <th>지번</th>\n",
       "      <th>건축년도</th>\n",
       "      <th>년</th>\n",
       "      <th>월</th>\n",
       "      <th>일</th>\n",
       "      <th>등기일자</th>\n",
       "      <th>매도자</th>\n",
       "      <th>전용면적</th>\n",
       "      <th>층</th>\n",
       "    </tr>\n",
       "  </thead>\n",
       "  <tbody>\n",
       "    <tr>\n",
       "      <th>0</th>\n",
       "      <td>100500</td>\n",
       "      <td>11680</td>\n",
       "      <td>삼익대청아파트</td>\n",
       "      <td>서울특별시</td>\n",
       "      <td>강남구</td>\n",
       "      <td>개포동</td>\n",
       "      <td>12</td>\n",
       "      <td>1992</td>\n",
       "      <td>2020</td>\n",
       "      <td>1</td>\n",
       "      <td>31</td>\n",
       "      <td>NaT</td>\n",
       "      <td>NaN</td>\n",
       "      <td>39.53</td>\n",
       "      <td>13</td>\n",
       "    </tr>\n",
       "    <tr>\n",
       "      <th>1</th>\n",
       "      <td>203000</td>\n",
       "      <td>11680</td>\n",
       "      <td>개포자이</td>\n",
       "      <td>서울특별시</td>\n",
       "      <td>강남구</td>\n",
       "      <td>개포동</td>\n",
       "      <td>12-2</td>\n",
       "      <td>2004</td>\n",
       "      <td>2020</td>\n",
       "      <td>1</td>\n",
       "      <td>6</td>\n",
       "      <td>NaT</td>\n",
       "      <td>NaN</td>\n",
       "      <td>134.30</td>\n",
       "      <td>17</td>\n",
       "    </tr>\n",
       "    <tr>\n",
       "      <th>2</th>\n",
       "      <td>180000</td>\n",
       "      <td>11680</td>\n",
       "      <td>개포주공6단지</td>\n",
       "      <td>서울특별시</td>\n",
       "      <td>강남구</td>\n",
       "      <td>개포동</td>\n",
       "      <td>185</td>\n",
       "      <td>1983</td>\n",
       "      <td>2020</td>\n",
       "      <td>1</td>\n",
       "      <td>14</td>\n",
       "      <td>NaT</td>\n",
       "      <td>NaN</td>\n",
       "      <td>60.13</td>\n",
       "      <td>14</td>\n",
       "    </tr>\n",
       "    <tr>\n",
       "      <th>3</th>\n",
       "      <td>285000</td>\n",
       "      <td>11680</td>\n",
       "      <td>디에이치아너힐즈</td>\n",
       "      <td>서울특별시</td>\n",
       "      <td>강남구</td>\n",
       "      <td>개포동</td>\n",
       "      <td>1281</td>\n",
       "      <td>2019</td>\n",
       "      <td>2020</td>\n",
       "      <td>1</td>\n",
       "      <td>4</td>\n",
       "      <td>NaT</td>\n",
       "      <td>NaN</td>\n",
       "      <td>94.29</td>\n",
       "      <td>12</td>\n",
       "    </tr>\n",
       "    <tr>\n",
       "      <th>4</th>\n",
       "      <td>171000</td>\n",
       "      <td>11680</td>\n",
       "      <td>개포주공7단지</td>\n",
       "      <td>서울특별시</td>\n",
       "      <td>강남구</td>\n",
       "      <td>개포동</td>\n",
       "      <td>185</td>\n",
       "      <td>1983</td>\n",
       "      <td>2020</td>\n",
       "      <td>1</td>\n",
       "      <td>12</td>\n",
       "      <td>NaT</td>\n",
       "      <td>NaN</td>\n",
       "      <td>60.76</td>\n",
       "      <td>2</td>\n",
       "    </tr>\n",
       "  </tbody>\n",
       "</table>\n",
       "</div>"
      ],
      "text/plain": [
       "     거래금액   지역코드       아파트    시도명  시군구  법정동    지번  건축년도     년  월   일 등기일자  \\\n",
       "0  100500  11680   삼익대청아파트  서울특별시  강남구  개포동    12  1992  2020  1  31  NaT   \n",
       "1  203000  11680      개포자이  서울특별시  강남구  개포동  12-2  2004  2020  1   6  NaT   \n",
       "2  180000  11680   개포주공6단지  서울특별시  강남구  개포동   185  1983  2020  1  14  NaT   \n",
       "3  285000  11680  디에이치아너힐즈  서울특별시  강남구  개포동  1281  2019  2020  1   4  NaT   \n",
       "4  171000  11680   개포주공7단지  서울특별시  강남구  개포동   185  1983  2020  1  12  NaT   \n",
       "\n",
       "   매도자    전용면적   층  \n",
       "0  NaN   39.53  13  \n",
       "1  NaN  134.30  17  \n",
       "2  NaN   60.13  14  \n",
       "3  NaN   94.29  12  \n",
       "4  NaN   60.76   2  "
      ]
     },
     "execution_count": 423,
     "metadata": {},
     "output_type": "execute_result"
    }
   ],
   "source": [
    "df1.head()"
   ]
  },
  {
   "cell_type": "code",
   "execution_count": 424,
   "id": "4c1b494e-a3aa-4295-b9cd-b4a273dcf164",
   "metadata": {},
   "outputs": [
    {
     "data": {
      "text/html": [
       "<div>\n",
       "<style scoped>\n",
       "    .dataframe tbody tr th:only-of-type {\n",
       "        vertical-align: middle;\n",
       "    }\n",
       "\n",
       "    .dataframe tbody tr th {\n",
       "        vertical-align: top;\n",
       "    }\n",
       "\n",
       "    .dataframe thead th {\n",
       "        text-align: right;\n",
       "    }\n",
       "</style>\n",
       "<table border=\"1\" class=\"dataframe\">\n",
       "  <thead>\n",
       "    <tr style=\"text-align: right;\">\n",
       "      <th></th>\n",
       "      <th>거래금액</th>\n",
       "      <th>지역코드</th>\n",
       "      <th>아파트</th>\n",
       "      <th>시도명</th>\n",
       "      <th>시군구</th>\n",
       "      <th>법정동</th>\n",
       "      <th>지번</th>\n",
       "      <th>건축년도</th>\n",
       "      <th>년</th>\n",
       "      <th>월</th>\n",
       "      <th>일</th>\n",
       "      <th>등기일자</th>\n",
       "      <th>매도자</th>\n",
       "      <th>전용면적</th>\n",
       "      <th>층</th>\n",
       "    </tr>\n",
       "  </thead>\n",
       "  <tbody>\n",
       "    <tr>\n",
       "      <th>231899</th>\n",
       "      <td>74000</td>\n",
       "      <td>11260</td>\n",
       "      <td>한신아파트상가동유치원동(102~102)</td>\n",
       "      <td>서울특별시</td>\n",
       "      <td>중랑구</td>\n",
       "      <td>중화동</td>\n",
       "      <td>450</td>\n",
       "      <td>1998</td>\n",
       "      <td>2024</td>\n",
       "      <td>11</td>\n",
       "      <td>21</td>\n",
       "      <td>2024-12-13</td>\n",
       "      <td>개인</td>\n",
       "      <td>84.03</td>\n",
       "      <td>11</td>\n",
       "    </tr>\n",
       "    <tr>\n",
       "      <th>231900</th>\n",
       "      <td>50500</td>\n",
       "      <td>11260</td>\n",
       "      <td>삼익아파트.상가동</td>\n",
       "      <td>서울특별시</td>\n",
       "      <td>중랑구</td>\n",
       "      <td>중화동</td>\n",
       "      <td>438</td>\n",
       "      <td>1995</td>\n",
       "      <td>2024</td>\n",
       "      <td>11</td>\n",
       "      <td>13</td>\n",
       "      <td>2024-12-18</td>\n",
       "      <td>개인</td>\n",
       "      <td>59.34</td>\n",
       "      <td>10</td>\n",
       "    </tr>\n",
       "    <tr>\n",
       "      <th>231901</th>\n",
       "      <td>60000</td>\n",
       "      <td>11260</td>\n",
       "      <td>한신아파트상가동유치원동(103~109)</td>\n",
       "      <td>서울특별시</td>\n",
       "      <td>중랑구</td>\n",
       "      <td>중화동</td>\n",
       "      <td>450</td>\n",
       "      <td>1997</td>\n",
       "      <td>2024</td>\n",
       "      <td>11</td>\n",
       "      <td>18</td>\n",
       "      <td>2024-11-20</td>\n",
       "      <td>개인</td>\n",
       "      <td>59.76</td>\n",
       "      <td>4</td>\n",
       "    </tr>\n",
       "    <tr>\n",
       "      <th>231902</th>\n",
       "      <td>67000</td>\n",
       "      <td>11260</td>\n",
       "      <td>한신아파트상가동유치원동(102~102)</td>\n",
       "      <td>서울특별시</td>\n",
       "      <td>중랑구</td>\n",
       "      <td>중화동</td>\n",
       "      <td>450</td>\n",
       "      <td>1998</td>\n",
       "      <td>2024</td>\n",
       "      <td>11</td>\n",
       "      <td>2</td>\n",
       "      <td>NaT</td>\n",
       "      <td>개인</td>\n",
       "      <td>59.76</td>\n",
       "      <td>9</td>\n",
       "    </tr>\n",
       "    <tr>\n",
       "      <th>231903</th>\n",
       "      <td>11000</td>\n",
       "      <td>11260</td>\n",
       "      <td>범양프레체</td>\n",
       "      <td>서울특별시</td>\n",
       "      <td>중랑구</td>\n",
       "      <td>중화동</td>\n",
       "      <td>208-4</td>\n",
       "      <td>2012</td>\n",
       "      <td>2024</td>\n",
       "      <td>12</td>\n",
       "      <td>7</td>\n",
       "      <td>NaT</td>\n",
       "      <td>개인</td>\n",
       "      <td>17.94</td>\n",
       "      <td>15</td>\n",
       "    </tr>\n",
       "  </tbody>\n",
       "</table>\n",
       "</div>"
      ],
      "text/plain": [
       "         거래금액   지역코드                    아파트    시도명  시군구  법정동     지번  건축년도  \\\n",
       "231899  74000  11260  한신아파트상가동유치원동(102~102)  서울특별시  중랑구  중화동    450  1998   \n",
       "231900  50500  11260              삼익아파트.상가동  서울특별시  중랑구  중화동    438  1995   \n",
       "231901  60000  11260  한신아파트상가동유치원동(103~109)  서울특별시  중랑구  중화동    450  1997   \n",
       "231902  67000  11260  한신아파트상가동유치원동(102~102)  서울특별시  중랑구  중화동    450  1998   \n",
       "231903  11000  11260                  범양프레체  서울특별시  중랑구  중화동  208-4  2012   \n",
       "\n",
       "           년   월   일       등기일자 매도자   전용면적   층  \n",
       "231899  2024  11  21 2024-12-13  개인  84.03  11  \n",
       "231900  2024  11  13 2024-12-18  개인  59.34  10  \n",
       "231901  2024  11  18 2024-11-20  개인  59.76   4  \n",
       "231902  2024  11   2        NaT  개인  59.76   9  \n",
       "231903  2024  12   7        NaT  개인  17.94  15  "
      ]
     },
     "execution_count": 424,
     "metadata": {},
     "output_type": "execute_result"
    }
   ],
   "source": [
    "df1.tail()"
   ]
  },
  {
   "cell_type": "code",
   "execution_count": 425,
   "id": "edcf698d-3e57-466f-adc0-1f3f7730eb42",
   "metadata": {},
   "outputs": [
    {
     "data": {
      "text/html": [
       "<div>\n",
       "<style scoped>\n",
       "    .dataframe tbody tr th:only-of-type {\n",
       "        vertical-align: middle;\n",
       "    }\n",
       "\n",
       "    .dataframe tbody tr th {\n",
       "        vertical-align: top;\n",
       "    }\n",
       "\n",
       "    .dataframe thead th {\n",
       "        text-align: right;\n",
       "    }\n",
       "</style>\n",
       "<table border=\"1\" class=\"dataframe\">\n",
       "  <thead>\n",
       "    <tr style=\"text-align: right;\">\n",
       "      <th></th>\n",
       "      <th>거래금액</th>\n",
       "      <th>지역코드</th>\n",
       "      <th>아파트</th>\n",
       "      <th>시도명</th>\n",
       "      <th>시군구</th>\n",
       "      <th>법정동</th>\n",
       "      <th>지번</th>\n",
       "      <th>건축년도</th>\n",
       "      <th>년</th>\n",
       "      <th>월</th>\n",
       "      <th>일</th>\n",
       "      <th>등기일자</th>\n",
       "      <th>매도자</th>\n",
       "      <th>전용면적</th>\n",
       "      <th>층</th>\n",
       "    </tr>\n",
       "  </thead>\n",
       "  <tbody>\n",
       "    <tr>\n",
       "      <th>163874</th>\n",
       "      <td>59800</td>\n",
       "      <td>11290</td>\n",
       "      <td>삼부컨비니언</td>\n",
       "      <td>서울특별시</td>\n",
       "      <td>성북구</td>\n",
       "      <td>길음동</td>\n",
       "      <td>1276</td>\n",
       "      <td>1998</td>\n",
       "      <td>2023</td>\n",
       "      <td>9</td>\n",
       "      <td>20</td>\n",
       "      <td>2023-12-15</td>\n",
       "      <td>NaN</td>\n",
       "      <td>59.94</td>\n",
       "      <td>14</td>\n",
       "    </tr>\n",
       "    <tr>\n",
       "      <th>220404</th>\n",
       "      <td>105000</td>\n",
       "      <td>11710</td>\n",
       "      <td>한강극동</td>\n",
       "      <td>서울특별시</td>\n",
       "      <td>송파구</td>\n",
       "      <td>풍납동</td>\n",
       "      <td>508</td>\n",
       "      <td>1995</td>\n",
       "      <td>2024</td>\n",
       "      <td>6</td>\n",
       "      <td>22</td>\n",
       "      <td>2024-07-25</td>\n",
       "      <td>개인</td>\n",
       "      <td>84.76</td>\n",
       "      <td>13</td>\n",
       "    </tr>\n",
       "    <tr>\n",
       "      <th>219634</th>\n",
       "      <td>313000</td>\n",
       "      <td>11710</td>\n",
       "      <td>레이크팰리스</td>\n",
       "      <td>서울특별시</td>\n",
       "      <td>송파구</td>\n",
       "      <td>잠실동</td>\n",
       "      <td>44</td>\n",
       "      <td>2006</td>\n",
       "      <td>2024</td>\n",
       "      <td>7</td>\n",
       "      <td>9</td>\n",
       "      <td>2024-09-05</td>\n",
       "      <td>개인</td>\n",
       "      <td>135.82</td>\n",
       "      <td>28</td>\n",
       "    </tr>\n",
       "    <tr>\n",
       "      <th>56702</th>\n",
       "      <td>144000</td>\n",
       "      <td>11200</td>\n",
       "      <td>현대I-PARK</td>\n",
       "      <td>서울특별시</td>\n",
       "      <td>성동구</td>\n",
       "      <td>성수동2가</td>\n",
       "      <td>834</td>\n",
       "      <td>2003</td>\n",
       "      <td>2020</td>\n",
       "      <td>10</td>\n",
       "      <td>6</td>\n",
       "      <td>NaT</td>\n",
       "      <td>NaN</td>\n",
       "      <td>116.22</td>\n",
       "      <td>11</td>\n",
       "    </tr>\n",
       "    <tr>\n",
       "      <th>181564</th>\n",
       "      <td>96000</td>\n",
       "      <td>11740</td>\n",
       "      <td>고덕리엔파크3단지</td>\n",
       "      <td>서울특별시</td>\n",
       "      <td>강동구</td>\n",
       "      <td>상일동</td>\n",
       "      <td>490</td>\n",
       "      <td>2011</td>\n",
       "      <td>2024</td>\n",
       "      <td>9</td>\n",
       "      <td>28</td>\n",
       "      <td>2024-12-16</td>\n",
       "      <td>개인</td>\n",
       "      <td>84.83</td>\n",
       "      <td>5</td>\n",
       "    </tr>\n",
       "  </tbody>\n",
       "</table>\n",
       "</div>"
      ],
      "text/plain": [
       "          거래금액   지역코드        아파트    시도명  시군구    법정동    지번  건축년도     년   월   일  \\\n",
       "163874   59800  11290     삼부컨비니언  서울특별시  성북구    길음동  1276  1998  2023   9  20   \n",
       "220404  105000  11710       한강극동  서울특별시  송파구    풍납동   508  1995  2024   6  22   \n",
       "219634  313000  11710     레이크팰리스  서울특별시  송파구    잠실동    44  2006  2024   7   9   \n",
       "56702   144000  11200   현대I-PARK  서울특별시  성동구  성수동2가   834  2003  2020  10   6   \n",
       "181564   96000  11740  고덕리엔파크3단지  서울특별시  강동구    상일동   490  2011  2024   9  28   \n",
       "\n",
       "             등기일자  매도자    전용면적   층  \n",
       "163874 2023-12-15  NaN   59.94  14  \n",
       "220404 2024-07-25   개인   84.76  13  \n",
       "219634 2024-09-05   개인  135.82  28  \n",
       "56702         NaT  NaN  116.22  11  \n",
       "181564 2024-12-16   개인   84.83   5  "
      ]
     },
     "execution_count": 425,
     "metadata": {},
     "output_type": "execute_result"
    }
   ],
   "source": [
    "df1.sample(n=5, random_state =1234)"
   ]
  },
  {
   "cell_type": "code",
   "execution_count": 426,
   "id": "2a57d863-f0ba-44c8-bc6b-00b5ab14b1fa",
   "metadata": {},
   "outputs": [],
   "source": [
    "files = os.listdir()\n",
    "files = [file for file in files if 'Price' in file and 'csv'  in file]"
   ]
  },
  {
   "cell_type": "code",
   "execution_count": 427,
   "id": "e58324a7-4dfe-4229-88bf-5d309c2219f2",
   "metadata": {
    "collapsed": true,
    "jupyter": {
     "outputs_hidden": true
    },
    "scrolled": true
   },
   "outputs": [
    {
     "ename": "UnicodeDecodeError",
     "evalue": "'utf-8' codec can't decode byte 0xb0 in position 0: invalid start byte",
     "output_type": "error",
     "traceback": [
      "\u001b[31m---------------------------------------------------------------------------\u001b[39m",
      "\u001b[31mUnicodeDecodeError\u001b[39m                        Traceback (most recent call last)",
      "\u001b[36mCell\u001b[39m\u001b[36m \u001b[39m\u001b[32mIn[427]\u001b[39m\u001b[32m, line 1\u001b[39m\n\u001b[32m----> \u001b[39m\u001b[32m1\u001b[39m \u001b[43mpd\u001b[49m\u001b[43m.\u001b[49m\u001b[43mread_csv\u001b[49m\u001b[43m(\u001b[49m\u001b[43mfiles\u001b[49m\u001b[43m[\u001b[49m\u001b[32;43m0\u001b[39;49m\u001b[43m]\u001b[49m\u001b[43m)\u001b[49m\n",
      "\u001b[36mFile \u001b[39m\u001b[32m~\\AppData\\Local\\Programs\\Python\\Python312\\Lib\\site-packages\\pandas\\io\\parsers\\readers.py:1026\u001b[39m, in \u001b[36mread_csv\u001b[39m\u001b[34m(filepath_or_buffer, sep, delimiter, header, names, index_col, usecols, dtype, engine, converters, true_values, false_values, skipinitialspace, skiprows, skipfooter, nrows, na_values, keep_default_na, na_filter, verbose, skip_blank_lines, parse_dates, infer_datetime_format, keep_date_col, date_parser, date_format, dayfirst, cache_dates, iterator, chunksize, compression, thousands, decimal, lineterminator, quotechar, quoting, doublequote, escapechar, comment, encoding, encoding_errors, dialect, on_bad_lines, delim_whitespace, low_memory, memory_map, float_precision, storage_options, dtype_backend)\u001b[39m\n\u001b[32m   1013\u001b[39m kwds_defaults = _refine_defaults_read(\n\u001b[32m   1014\u001b[39m     dialect,\n\u001b[32m   1015\u001b[39m     delimiter,\n\u001b[32m   (...)\u001b[39m\u001b[32m   1022\u001b[39m     dtype_backend=dtype_backend,\n\u001b[32m   1023\u001b[39m )\n\u001b[32m   1024\u001b[39m kwds.update(kwds_defaults)\n\u001b[32m-> \u001b[39m\u001b[32m1026\u001b[39m \u001b[38;5;28;01mreturn\u001b[39;00m \u001b[43m_read\u001b[49m\u001b[43m(\u001b[49m\u001b[43mfilepath_or_buffer\u001b[49m\u001b[43m,\u001b[49m\u001b[43m \u001b[49m\u001b[43mkwds\u001b[49m\u001b[43m)\u001b[49m\n",
      "\u001b[36mFile \u001b[39m\u001b[32m~\\AppData\\Local\\Programs\\Python\\Python312\\Lib\\site-packages\\pandas\\io\\parsers\\readers.py:620\u001b[39m, in \u001b[36m_read\u001b[39m\u001b[34m(filepath_or_buffer, kwds)\u001b[39m\n\u001b[32m    617\u001b[39m _validate_names(kwds.get(\u001b[33m\"\u001b[39m\u001b[33mnames\u001b[39m\u001b[33m\"\u001b[39m, \u001b[38;5;28;01mNone\u001b[39;00m))\n\u001b[32m    619\u001b[39m \u001b[38;5;66;03m# Create the parser.\u001b[39;00m\n\u001b[32m--> \u001b[39m\u001b[32m620\u001b[39m parser = \u001b[43mTextFileReader\u001b[49m\u001b[43m(\u001b[49m\u001b[43mfilepath_or_buffer\u001b[49m\u001b[43m,\u001b[49m\u001b[43m \u001b[49m\u001b[43m*\u001b[49m\u001b[43m*\u001b[49m\u001b[43mkwds\u001b[49m\u001b[43m)\u001b[49m\n\u001b[32m    622\u001b[39m \u001b[38;5;28;01mif\u001b[39;00m chunksize \u001b[38;5;129;01mor\u001b[39;00m iterator:\n\u001b[32m    623\u001b[39m     \u001b[38;5;28;01mreturn\u001b[39;00m parser\n",
      "\u001b[36mFile \u001b[39m\u001b[32m~\\AppData\\Local\\Programs\\Python\\Python312\\Lib\\site-packages\\pandas\\io\\parsers\\readers.py:1620\u001b[39m, in \u001b[36mTextFileReader.__init__\u001b[39m\u001b[34m(self, f, engine, **kwds)\u001b[39m\n\u001b[32m   1617\u001b[39m     \u001b[38;5;28mself\u001b[39m.options[\u001b[33m\"\u001b[39m\u001b[33mhas_index_names\u001b[39m\u001b[33m\"\u001b[39m] = kwds[\u001b[33m\"\u001b[39m\u001b[33mhas_index_names\u001b[39m\u001b[33m\"\u001b[39m]\n\u001b[32m   1619\u001b[39m \u001b[38;5;28mself\u001b[39m.handles: IOHandles | \u001b[38;5;28;01mNone\u001b[39;00m = \u001b[38;5;28;01mNone\u001b[39;00m\n\u001b[32m-> \u001b[39m\u001b[32m1620\u001b[39m \u001b[38;5;28mself\u001b[39m._engine = \u001b[38;5;28;43mself\u001b[39;49m\u001b[43m.\u001b[49m\u001b[43m_make_engine\u001b[49m\u001b[43m(\u001b[49m\u001b[43mf\u001b[49m\u001b[43m,\u001b[49m\u001b[43m \u001b[49m\u001b[38;5;28;43mself\u001b[39;49m\u001b[43m.\u001b[49m\u001b[43mengine\u001b[49m\u001b[43m)\u001b[49m\n",
      "\u001b[36mFile \u001b[39m\u001b[32m~\\AppData\\Local\\Programs\\Python\\Python312\\Lib\\site-packages\\pandas\\io\\parsers\\readers.py:1898\u001b[39m, in \u001b[36mTextFileReader._make_engine\u001b[39m\u001b[34m(self, f, engine)\u001b[39m\n\u001b[32m   1895\u001b[39m     \u001b[38;5;28;01mraise\u001b[39;00m \u001b[38;5;167;01mValueError\u001b[39;00m(msg)\n\u001b[32m   1897\u001b[39m \u001b[38;5;28;01mtry\u001b[39;00m:\n\u001b[32m-> \u001b[39m\u001b[32m1898\u001b[39m     \u001b[38;5;28;01mreturn\u001b[39;00m \u001b[43mmapping\u001b[49m\u001b[43m[\u001b[49m\u001b[43mengine\u001b[49m\u001b[43m]\u001b[49m\u001b[43m(\u001b[49m\u001b[43mf\u001b[49m\u001b[43m,\u001b[49m\u001b[43m \u001b[49m\u001b[43m*\u001b[49m\u001b[43m*\u001b[49m\u001b[38;5;28;43mself\u001b[39;49m\u001b[43m.\u001b[49m\u001b[43moptions\u001b[49m\u001b[43m)\u001b[49m\n\u001b[32m   1899\u001b[39m \u001b[38;5;28;01mexcept\u001b[39;00m \u001b[38;5;167;01mException\u001b[39;00m:\n\u001b[32m   1900\u001b[39m     \u001b[38;5;28;01mif\u001b[39;00m \u001b[38;5;28mself\u001b[39m.handles \u001b[38;5;129;01mis\u001b[39;00m \u001b[38;5;129;01mnot\u001b[39;00m \u001b[38;5;28;01mNone\u001b[39;00m:\n",
      "\u001b[36mFile \u001b[39m\u001b[32m~\\AppData\\Local\\Programs\\Python\\Python312\\Lib\\site-packages\\pandas\\io\\parsers\\c_parser_wrapper.py:93\u001b[39m, in \u001b[36mCParserWrapper.__init__\u001b[39m\u001b[34m(self, src, **kwds)\u001b[39m\n\u001b[32m     90\u001b[39m \u001b[38;5;28;01mif\u001b[39;00m kwds[\u001b[33m\"\u001b[39m\u001b[33mdtype_backend\u001b[39m\u001b[33m\"\u001b[39m] == \u001b[33m\"\u001b[39m\u001b[33mpyarrow\u001b[39m\u001b[33m\"\u001b[39m:\n\u001b[32m     91\u001b[39m     \u001b[38;5;66;03m# Fail here loudly instead of in cython after reading\u001b[39;00m\n\u001b[32m     92\u001b[39m     import_optional_dependency(\u001b[33m\"\u001b[39m\u001b[33mpyarrow\u001b[39m\u001b[33m\"\u001b[39m)\n\u001b[32m---> \u001b[39m\u001b[32m93\u001b[39m \u001b[38;5;28mself\u001b[39m._reader = \u001b[43mparsers\u001b[49m\u001b[43m.\u001b[49m\u001b[43mTextReader\u001b[49m\u001b[43m(\u001b[49m\u001b[43msrc\u001b[49m\u001b[43m,\u001b[49m\u001b[43m \u001b[49m\u001b[43m*\u001b[49m\u001b[43m*\u001b[49m\u001b[43mkwds\u001b[49m\u001b[43m)\u001b[49m\n\u001b[32m     95\u001b[39m \u001b[38;5;28mself\u001b[39m.unnamed_cols = \u001b[38;5;28mself\u001b[39m._reader.unnamed_cols\n\u001b[32m     97\u001b[39m \u001b[38;5;66;03m# error: Cannot determine type of 'names'\u001b[39;00m\n",
      "\u001b[36mFile \u001b[39m\u001b[32mparsers.pyx:574\u001b[39m, in \u001b[36mpandas._libs.parsers.TextReader.__cinit__\u001b[39m\u001b[34m()\u001b[39m\n",
      "\u001b[36mFile \u001b[39m\u001b[32mparsers.pyx:663\u001b[39m, in \u001b[36mpandas._libs.parsers.TextReader._get_header\u001b[39m\u001b[34m()\u001b[39m\n",
      "\u001b[36mFile \u001b[39m\u001b[32mparsers.pyx:874\u001b[39m, in \u001b[36mpandas._libs.parsers.TextReader._tokenize_rows\u001b[39m\u001b[34m()\u001b[39m\n",
      "\u001b[36mFile \u001b[39m\u001b[32mparsers.pyx:891\u001b[39m, in \u001b[36mpandas._libs.parsers.TextReader._check_tokenize_status\u001b[39m\u001b[34m()\u001b[39m\n",
      "\u001b[36mFile \u001b[39m\u001b[32mparsers.pyx:2053\u001b[39m, in \u001b[36mpandas._libs.parsers.raise_parser_error\u001b[39m\u001b[34m()\u001b[39m\n",
      "\u001b[36mFile \u001b[39m\u001b[32m<frozen codecs>:322\u001b[39m, in \u001b[36mdecode\u001b[39m\u001b[34m(self, input, final)\u001b[39m\n",
      "\u001b[31mUnicodeDecodeError\u001b[39m: 'utf-8' codec can't decode byte 0xb0 in position 0: invalid start byte"
     ]
    }
   ],
   "source": [
    "pd.read_csv(files[0])"
   ]
  },
  {
   "cell_type": "code",
   "execution_count": 428,
   "id": "d7f28161-1965-431e-87c7-68a87be3637d",
   "metadata": {},
   "outputs": [],
   "source": [
    "with open(file = files[0], mode = 'rb') as file:\n",
    "    text = file.read()"
   ]
  },
  {
   "cell_type": "code",
   "execution_count": 429,
   "id": "e75449df-7893-4728-943a-fe0e8c13e11f",
   "metadata": {},
   "outputs": [
    {
     "data": {
      "text/plain": [
       "b'\\xb0\\xc5\\xb7\\xa1\\xb1\\xdd\\xbe\\xd7,\\xc1\\xf6\\xbf\\xaa\\xc4\\xda\\xb5\\xe5,\\xbe\\xc6\\xc6\\xc4\\xc6\\xae,\\xbd\\xc3\\xb5\\xb5\\xb8\\xed,\\xbd\\xc3\\xb1\\xba\\xb1\\xb8,\\xb9\\xfd\\xc1\\xa4\\xb5\\xbf,\\xc1\\xf6\\xb9\\xf8,\\xb0\\xc7\\xc3\\xe0\\xb3\\xe2\\xb5\\xb5,\\xb3\\xe2,\\xbf\\xf9,\\xc0\\xcf,\\xb5\\xee\\xb1\\xe2\\xc0\\xcf\\xc0\\xda,\\xb8\\xc5\\xb5\\xb5\\xc0\\xda,\\xc0\\xfc\\xbf\\xeb\\xb8\\xe9\\xc0\\xfb,\\xc3\\xfe\\n\"10'"
      ]
     },
     "execution_count": 429,
     "metadata": {},
     "output_type": "execute_result"
    }
   ],
   "source": [
    "text[0:100]"
   ]
  },
  {
   "cell_type": "code",
   "execution_count": 430,
   "id": "b7d5d897-ebf6-48ad-9f3c-d2b6b2a35c2f",
   "metadata": {},
   "outputs": [
    {
     "name": "stdout",
     "output_type": "stream",
     "text": [
      "CPU times: total: 0 ns\n",
      "Wall time: 1.8 ms\n"
     ]
    },
    {
     "data": {
      "text/plain": [
       "{'encoding': 'EUC-KR', 'confidence': 0.99, 'language': 'Korean'}"
      ]
     },
     "execution_count": 430,
     "metadata": {},
     "output_type": "execute_result"
    }
   ],
   "source": [
    "%time chardet.detect(text[0:100])"
   ]
  },
  {
   "cell_type": "code",
   "execution_count": 431,
   "id": "6c7dedc3-ac19-401f-b968-5a5bcc7e7c3a",
   "metadata": {},
   "outputs": [
    {
     "name": "stdout",
     "output_type": "stream",
     "text": [
      "CPU times: total: 2 s\n",
      "Wall time: 7.25 s\n"
     ]
    },
    {
     "data": {
      "text/plain": [
       "{'encoding': 'CP949', 'confidence': 0.99, 'language': 'Korean'}"
      ]
     },
     "execution_count": 431,
     "metadata": {},
     "output_type": "execute_result"
    }
   ],
   "source": [
    "%time chardet.detect(text)"
   ]
  },
  {
   "cell_type": "code",
   "execution_count": 432,
   "id": "d37404e5-ae89-4fd0-a8a1-a9c7815c2b25",
   "metadata": {
    "scrolled": true
   },
   "outputs": [
    {
     "name": "stdout",
     "output_type": "stream",
     "text": [
      "CPU times: total: 31.2 ms\n",
      "Wall time: 156 ms\n"
     ]
    },
    {
     "data": {
      "text/html": [
       "<div>\n",
       "<style scoped>\n",
       "    .dataframe tbody tr th:only-of-type {\n",
       "        vertical-align: middle;\n",
       "    }\n",
       "\n",
       "    .dataframe tbody tr th {\n",
       "        vertical-align: top;\n",
       "    }\n",
       "\n",
       "    .dataframe thead th {\n",
       "        text-align: right;\n",
       "    }\n",
       "</style>\n",
       "<table border=\"1\" class=\"dataframe\">\n",
       "  <thead>\n",
       "    <tr style=\"text-align: right;\">\n",
       "      <th></th>\n",
       "      <th>거래금액</th>\n",
       "      <th>지역코드</th>\n",
       "      <th>아파트</th>\n",
       "      <th>시도명</th>\n",
       "      <th>시군구</th>\n",
       "      <th>법정동</th>\n",
       "      <th>지번</th>\n",
       "      <th>건축년도</th>\n",
       "      <th>년</th>\n",
       "      <th>월</th>\n",
       "      <th>일</th>\n",
       "      <th>등기일자</th>\n",
       "      <th>매도자</th>\n",
       "      <th>전용면적</th>\n",
       "      <th>층</th>\n",
       "    </tr>\n",
       "  </thead>\n",
       "  <tbody>\n",
       "    <tr>\n",
       "      <th>0</th>\n",
       "      <td>100,500</td>\n",
       "      <td>11680</td>\n",
       "      <td>삼익대청아파트</td>\n",
       "      <td>서울특별시</td>\n",
       "      <td>강남구</td>\n",
       "      <td>개포동</td>\n",
       "      <td>12</td>\n",
       "      <td>1992</td>\n",
       "      <td>2020</td>\n",
       "      <td>1</td>\n",
       "      <td>31</td>\n",
       "      <td>NaN</td>\n",
       "      <td>NaN</td>\n",
       "      <td>39.53</td>\n",
       "      <td>13</td>\n",
       "    </tr>\n",
       "    <tr>\n",
       "      <th>1</th>\n",
       "      <td>203,000</td>\n",
       "      <td>11680</td>\n",
       "      <td>개포자이</td>\n",
       "      <td>서울특별시</td>\n",
       "      <td>강남구</td>\n",
       "      <td>개포동</td>\n",
       "      <td>12-2</td>\n",
       "      <td>2004</td>\n",
       "      <td>2020</td>\n",
       "      <td>1</td>\n",
       "      <td>6</td>\n",
       "      <td>NaN</td>\n",
       "      <td>NaN</td>\n",
       "      <td>134.30</td>\n",
       "      <td>17</td>\n",
       "    </tr>\n",
       "    <tr>\n",
       "      <th>2</th>\n",
       "      <td>180,000</td>\n",
       "      <td>11680</td>\n",
       "      <td>개포주공6단지</td>\n",
       "      <td>서울특별시</td>\n",
       "      <td>강남구</td>\n",
       "      <td>개포동</td>\n",
       "      <td>185</td>\n",
       "      <td>1983</td>\n",
       "      <td>2020</td>\n",
       "      <td>1</td>\n",
       "      <td>14</td>\n",
       "      <td>NaN</td>\n",
       "      <td>NaN</td>\n",
       "      <td>60.13</td>\n",
       "      <td>14</td>\n",
       "    </tr>\n",
       "    <tr>\n",
       "      <th>3</th>\n",
       "      <td>285,000</td>\n",
       "      <td>11680</td>\n",
       "      <td>디에이치아너힐즈</td>\n",
       "      <td>서울특별시</td>\n",
       "      <td>강남구</td>\n",
       "      <td>개포동</td>\n",
       "      <td>1281</td>\n",
       "      <td>2019</td>\n",
       "      <td>2020</td>\n",
       "      <td>1</td>\n",
       "      <td>4</td>\n",
       "      <td>NaN</td>\n",
       "      <td>NaN</td>\n",
       "      <td>94.29</td>\n",
       "      <td>12</td>\n",
       "    </tr>\n",
       "    <tr>\n",
       "      <th>4</th>\n",
       "      <td>171,000</td>\n",
       "      <td>11680</td>\n",
       "      <td>개포주공7단지</td>\n",
       "      <td>서울특별시</td>\n",
       "      <td>강남구</td>\n",
       "      <td>개포동</td>\n",
       "      <td>185</td>\n",
       "      <td>1983</td>\n",
       "      <td>2020</td>\n",
       "      <td>1</td>\n",
       "      <td>12</td>\n",
       "      <td>NaN</td>\n",
       "      <td>NaN</td>\n",
       "      <td>60.76</td>\n",
       "      <td>2</td>\n",
       "    </tr>\n",
       "    <tr>\n",
       "      <th>...</th>\n",
       "      <td>...</td>\n",
       "      <td>...</td>\n",
       "      <td>...</td>\n",
       "      <td>...</td>\n",
       "      <td>...</td>\n",
       "      <td>...</td>\n",
       "      <td>...</td>\n",
       "      <td>...</td>\n",
       "      <td>...</td>\n",
       "      <td>...</td>\n",
       "      <td>...</td>\n",
       "      <td>...</td>\n",
       "      <td>...</td>\n",
       "      <td>...</td>\n",
       "      <td>...</td>\n",
       "    </tr>\n",
       "    <tr>\n",
       "      <th>83981</th>\n",
       "      <td>54,800</td>\n",
       "      <td>11260</td>\n",
       "      <td>현대휴앤미</td>\n",
       "      <td>서울특별시</td>\n",
       "      <td>중랑구</td>\n",
       "      <td>중화동</td>\n",
       "      <td>11</td>\n",
       "      <td>2007</td>\n",
       "      <td>2020</td>\n",
       "      <td>12</td>\n",
       "      <td>3</td>\n",
       "      <td>NaN</td>\n",
       "      <td>NaN</td>\n",
       "      <td>100.17</td>\n",
       "      <td>5</td>\n",
       "    </tr>\n",
       "    <tr>\n",
       "      <th>83982</th>\n",
       "      <td>59,800</td>\n",
       "      <td>11260</td>\n",
       "      <td>한신아파트상가동유치원동(103~109)</td>\n",
       "      <td>서울특별시</td>\n",
       "      <td>중랑구</td>\n",
       "      <td>중화동</td>\n",
       "      <td>450</td>\n",
       "      <td>1997</td>\n",
       "      <td>2020</td>\n",
       "      <td>12</td>\n",
       "      <td>1</td>\n",
       "      <td>NaN</td>\n",
       "      <td>NaN</td>\n",
       "      <td>59.76</td>\n",
       "      <td>17</td>\n",
       "    </tr>\n",
       "    <tr>\n",
       "      <th>83983</th>\n",
       "      <td>58,000</td>\n",
       "      <td>11260</td>\n",
       "      <td>한신아파트상가동유치원동(103~109)</td>\n",
       "      <td>서울특별시</td>\n",
       "      <td>중랑구</td>\n",
       "      <td>중화동</td>\n",
       "      <td>450</td>\n",
       "      <td>1997</td>\n",
       "      <td>2020</td>\n",
       "      <td>12</td>\n",
       "      <td>5</td>\n",
       "      <td>NaN</td>\n",
       "      <td>NaN</td>\n",
       "      <td>59.76</td>\n",
       "      <td>19</td>\n",
       "    </tr>\n",
       "    <tr>\n",
       "      <th>83984</th>\n",
       "      <td>57,500</td>\n",
       "      <td>11260</td>\n",
       "      <td>한영(101)</td>\n",
       "      <td>서울특별시</td>\n",
       "      <td>중랑구</td>\n",
       "      <td>중화동</td>\n",
       "      <td>274-51</td>\n",
       "      <td>2003</td>\n",
       "      <td>2020</td>\n",
       "      <td>12</td>\n",
       "      <td>1</td>\n",
       "      <td>NaN</td>\n",
       "      <td>NaN</td>\n",
       "      <td>116.25</td>\n",
       "      <td>6</td>\n",
       "    </tr>\n",
       "    <tr>\n",
       "      <th>83985</th>\n",
       "      <td>62,500</td>\n",
       "      <td>11260</td>\n",
       "      <td>한신아파트상가동유치원동(103~109)</td>\n",
       "      <td>서울특별시</td>\n",
       "      <td>중랑구</td>\n",
       "      <td>중화동</td>\n",
       "      <td>450</td>\n",
       "      <td>1997</td>\n",
       "      <td>2020</td>\n",
       "      <td>12</td>\n",
       "      <td>11</td>\n",
       "      <td>NaN</td>\n",
       "      <td>NaN</td>\n",
       "      <td>59.76</td>\n",
       "      <td>19</td>\n",
       "    </tr>\n",
       "  </tbody>\n",
       "</table>\n",
       "<p>83986 rows × 15 columns</p>\n",
       "</div>"
      ],
      "text/plain": [
       "          거래금액   지역코드                    아파트    시도명  시군구  법정동      지번  건축년도  \\\n",
       "0      100,500  11680                삼익대청아파트  서울특별시  강남구  개포동      12  1992   \n",
       "1      203,000  11680                   개포자이  서울특별시  강남구  개포동    12-2  2004   \n",
       "2      180,000  11680                개포주공6단지  서울특별시  강남구  개포동     185  1983   \n",
       "3      285,000  11680               디에이치아너힐즈  서울특별시  강남구  개포동    1281  2019   \n",
       "4      171,000  11680                개포주공7단지  서울특별시  강남구  개포동     185  1983   \n",
       "...        ...    ...                    ...    ...  ...  ...     ...   ...   \n",
       "83981   54,800  11260                  현대휴앤미  서울특별시  중랑구  중화동      11  2007   \n",
       "83982   59,800  11260  한신아파트상가동유치원동(103~109)  서울특별시  중랑구  중화동     450  1997   \n",
       "83983   58,000  11260  한신아파트상가동유치원동(103~109)  서울특별시  중랑구  중화동     450  1997   \n",
       "83984   57,500  11260                한영(101)  서울특별시  중랑구  중화동  274-51  2003   \n",
       "83985   62,500  11260  한신아파트상가동유치원동(103~109)  서울특별시  중랑구  중화동     450  1997   \n",
       "\n",
       "          년   월   일  등기일자  매도자    전용면적   층  \n",
       "0      2020   1  31   NaN  NaN   39.53  13  \n",
       "1      2020   1   6   NaN  NaN  134.30  17  \n",
       "2      2020   1  14   NaN  NaN   60.13  14  \n",
       "3      2020   1   4   NaN  NaN   94.29  12  \n",
       "4      2020   1  12   NaN  NaN   60.76   2  \n",
       "...     ...  ..  ..   ...  ...     ...  ..  \n",
       "83981  2020  12   3   NaN  NaN  100.17   5  \n",
       "83982  2020  12   1   NaN  NaN   59.76  17  \n",
       "83983  2020  12   5   NaN  NaN   59.76  19  \n",
       "83984  2020  12   1   NaN  NaN  116.25   6  \n",
       "83985  2020  12  11   NaN  NaN   59.76  19  \n",
       "\n",
       "[83986 rows x 15 columns]"
      ]
     },
     "execution_count": 432,
     "metadata": {},
     "output_type": "execute_result"
    }
   ],
   "source": [
    "%time pd.read_csv(files[0], encoding = 'CP949')"
   ]
  },
  {
   "cell_type": "code",
   "execution_count": 436,
   "id": "8070557a-ed5d-475d-9b9d-35308c82de41",
   "metadata": {},
   "outputs": [
    {
     "name": "stdout",
     "output_type": "stream",
     "text": [
      "CPU times: total: 141 ms\n",
      "Wall time: 514 ms\n"
     ]
    }
   ],
   "source": [
    "%%time\n",
    "df2 = pd.DataFrame()\n",
    "for file in files:\n",
    "    df = pd.read_csv(filepath_or_buffer = file, encoding = 'CP949')\n",
    "    df2 = pd.concat(objs = [df2, df], ignore_index = True)"
   ]
  },
  {
   "cell_type": "code",
   "execution_count": 439,
   "id": "c4e016d9-ac8e-41d0-81ec-21c11ba75ae5",
   "metadata": {},
   "outputs": [
    {
     "name": "stdout",
     "output_type": "stream",
     "text": [
      "CPU times: total: 172 ms\n",
      "Wall time: 489 ms\n"
     ]
    }
   ],
   "source": [
    "%%time\n",
    "df2 = pd.DataFrame()\n",
    "for file in files:\n",
    "    df = pd.read_csv(file, encoding = 'CP949',\n",
    "                    parse_dates = ['등기일자'],\n",
    "                    thousands = ',')\n",
    "    df2 = pd.concat(objs = [df2, df], ignore_index = True)"
   ]
  },
  {
   "cell_type": "code",
   "execution_count": 440,
   "id": "924ecdf5-e6ea-4681-b06e-925fe968063d",
   "metadata": {},
   "outputs": [
    {
     "data": {
      "text/html": [
       "<div>\n",
       "<style scoped>\n",
       "    .dataframe tbody tr th:only-of-type {\n",
       "        vertical-align: middle;\n",
       "    }\n",
       "\n",
       "    .dataframe tbody tr th {\n",
       "        vertical-align: top;\n",
       "    }\n",
       "\n",
       "    .dataframe thead th {\n",
       "        text-align: right;\n",
       "    }\n",
       "</style>\n",
       "<table border=\"1\" class=\"dataframe\">\n",
       "  <thead>\n",
       "    <tr style=\"text-align: right;\">\n",
       "      <th></th>\n",
       "      <th>거래금액</th>\n",
       "      <th>지역코드</th>\n",
       "      <th>아파트</th>\n",
       "      <th>시도명</th>\n",
       "      <th>시군구</th>\n",
       "      <th>법정동</th>\n",
       "      <th>지번</th>\n",
       "      <th>건축년도</th>\n",
       "      <th>년</th>\n",
       "      <th>월</th>\n",
       "      <th>일</th>\n",
       "      <th>등기일자</th>\n",
       "      <th>매도자</th>\n",
       "      <th>전용면적</th>\n",
       "      <th>층</th>\n",
       "    </tr>\n",
       "  </thead>\n",
       "  <tbody>\n",
       "    <tr>\n",
       "      <th>231899</th>\n",
       "      <td>74000</td>\n",
       "      <td>11260</td>\n",
       "      <td>한신아파트상가동유치원동(102~102)</td>\n",
       "      <td>서울특별시</td>\n",
       "      <td>중랑구</td>\n",
       "      <td>중화동</td>\n",
       "      <td>450</td>\n",
       "      <td>1998</td>\n",
       "      <td>2024</td>\n",
       "      <td>11</td>\n",
       "      <td>21</td>\n",
       "      <td>2024-12-13</td>\n",
       "      <td>개인</td>\n",
       "      <td>84.03</td>\n",
       "      <td>11</td>\n",
       "    </tr>\n",
       "    <tr>\n",
       "      <th>231900</th>\n",
       "      <td>50500</td>\n",
       "      <td>11260</td>\n",
       "      <td>삼익아파트.상가동</td>\n",
       "      <td>서울특별시</td>\n",
       "      <td>중랑구</td>\n",
       "      <td>중화동</td>\n",
       "      <td>438</td>\n",
       "      <td>1995</td>\n",
       "      <td>2024</td>\n",
       "      <td>11</td>\n",
       "      <td>13</td>\n",
       "      <td>2024-12-18</td>\n",
       "      <td>개인</td>\n",
       "      <td>59.34</td>\n",
       "      <td>10</td>\n",
       "    </tr>\n",
       "    <tr>\n",
       "      <th>231901</th>\n",
       "      <td>60000</td>\n",
       "      <td>11260</td>\n",
       "      <td>한신아파트상가동유치원동(103~109)</td>\n",
       "      <td>서울특별시</td>\n",
       "      <td>중랑구</td>\n",
       "      <td>중화동</td>\n",
       "      <td>450</td>\n",
       "      <td>1997</td>\n",
       "      <td>2024</td>\n",
       "      <td>11</td>\n",
       "      <td>18</td>\n",
       "      <td>2024-11-20</td>\n",
       "      <td>개인</td>\n",
       "      <td>59.76</td>\n",
       "      <td>4</td>\n",
       "    </tr>\n",
       "    <tr>\n",
       "      <th>231902</th>\n",
       "      <td>67000</td>\n",
       "      <td>11260</td>\n",
       "      <td>한신아파트상가동유치원동(102~102)</td>\n",
       "      <td>서울특별시</td>\n",
       "      <td>중랑구</td>\n",
       "      <td>중화동</td>\n",
       "      <td>450</td>\n",
       "      <td>1998</td>\n",
       "      <td>2024</td>\n",
       "      <td>11</td>\n",
       "      <td>2</td>\n",
       "      <td>NaT</td>\n",
       "      <td>개인</td>\n",
       "      <td>59.76</td>\n",
       "      <td>9</td>\n",
       "    </tr>\n",
       "    <tr>\n",
       "      <th>231903</th>\n",
       "      <td>11000</td>\n",
       "      <td>11260</td>\n",
       "      <td>범양프레체</td>\n",
       "      <td>서울특별시</td>\n",
       "      <td>중랑구</td>\n",
       "      <td>중화동</td>\n",
       "      <td>208-4</td>\n",
       "      <td>2012</td>\n",
       "      <td>2024</td>\n",
       "      <td>12</td>\n",
       "      <td>7</td>\n",
       "      <td>NaT</td>\n",
       "      <td>개인</td>\n",
       "      <td>17.94</td>\n",
       "      <td>15</td>\n",
       "    </tr>\n",
       "  </tbody>\n",
       "</table>\n",
       "</div>"
      ],
      "text/plain": [
       "         거래금액   지역코드                    아파트    시도명  시군구  법정동     지번  건축년도  \\\n",
       "231899  74000  11260  한신아파트상가동유치원동(102~102)  서울특별시  중랑구  중화동    450  1998   \n",
       "231900  50500  11260              삼익아파트.상가동  서울특별시  중랑구  중화동    438  1995   \n",
       "231901  60000  11260  한신아파트상가동유치원동(103~109)  서울특별시  중랑구  중화동    450  1997   \n",
       "231902  67000  11260  한신아파트상가동유치원동(102~102)  서울특별시  중랑구  중화동    450  1998   \n",
       "231903  11000  11260                  범양프레체  서울특별시  중랑구  중화동  208-4  2012   \n",
       "\n",
       "           년   월   일       등기일자 매도자   전용면적   층  \n",
       "231899  2024  11  21 2024-12-13  개인  84.03  11  \n",
       "231900  2024  11  13 2024-12-18  개인  59.34  10  \n",
       "231901  2024  11  18 2024-11-20  개인  59.76   4  \n",
       "231902  2024  11   2        NaT  개인  59.76   9  \n",
       "231903  2024  12   7        NaT  개인  17.94  15  "
      ]
     },
     "execution_count": 440,
     "metadata": {},
     "output_type": "execute_result"
    }
   ],
   "source": [
    "df2.tail()"
   ]
  },
  {
   "cell_type": "code",
   "execution_count": 441,
   "id": "2df2d422-04e0-4bd4-8438-626673dccb1e",
   "metadata": {
    "jupyter": {
     "source_hidden": true
    }
   },
   "outputs": [
    {
     "name": "stdout",
     "output_type": "stream",
     "text": [
      "<class 'pandas.core.frame.DataFrame'>\n",
      "RangeIndex: 231904 entries, 0 to 231903\n",
      "Data columns (total 15 columns):\n",
      " #   Column  Non-Null Count   Dtype         \n",
      "---  ------  --------------   -----         \n",
      " 0   거래금액    231904 non-null  int64         \n",
      " 1   지역코드    231904 non-null  int64         \n",
      " 2   아파트     231904 non-null  object        \n",
      " 3   시도명     231904 non-null  object        \n",
      " 4   시군구     231904 non-null  object        \n",
      " 5   법정동     231904 non-null  object        \n",
      " 6   지번      231904 non-null  object        \n",
      " 7   건축년도    231904 non-null  int64         \n",
      " 8   년       231904 non-null  int64         \n",
      " 9   월       231904 non-null  int64         \n",
      " 10  일       231904 non-null  int64         \n",
      " 11  등기일자    79535 non-null   datetime64[ns]\n",
      " 12  매도자     56193 non-null   object        \n",
      " 13  전용면적    231904 non-null  float64       \n",
      " 14  층       231904 non-null  int64         \n",
      "dtypes: datetime64[ns](1), float64(1), int64(7), object(6)\n",
      "memory usage: 26.5+ MB\n"
     ]
    }
   ],
   "source": [
    "df2.info()"
   ]
  },
  {
   "cell_type": "code",
   "execution_count": 443,
   "id": "3ad19b90-32c9-4b62-96aa-eb8629206238",
   "metadata": {},
   "outputs": [
    {
     "name": "stdout",
     "output_type": "stream",
     "text": [
      "CPU times: total: 422 ms\n",
      "Wall time: 606 ms\n"
     ]
    }
   ],
   "source": [
    "%time df2.to_csv('test.csv', index = False)"
   ]
  },
  {
   "cell_type": "code",
   "execution_count": 444,
   "id": "3bf20db4-aa92-44d6-a5a9-a62ee7313bbb",
   "metadata": {},
   "outputs": [],
   "source": [
    "with open(file = 'test.csv', mode = 'rb') as file:\n",
    "    text = file.read()"
   ]
  },
  {
   "cell_type": "code",
   "execution_count": 445,
   "id": "38a72bbe-8dfc-49f0-8986-d94fc50c689a",
   "metadata": {},
   "outputs": [
    {
     "data": {
      "text/plain": [
       "{'encoding': 'utf-8', 'confidence': 0.99, 'language': ''}"
      ]
     },
     "execution_count": 445,
     "metadata": {},
     "output_type": "execute_result"
    }
   ],
   "source": [
    "chardet.detect(text[0:100])"
   ]
  },
  {
   "cell_type": "code",
   "execution_count": 449,
   "id": "dc0064f7-ba81-4b88-a741-012c32737cd7",
   "metadata": {},
   "outputs": [
    {
     "name": "stdout",
     "output_type": "stream",
     "text": [
      "CPU times: total: 219 ms\n",
      "Wall time: 398 ms\n",
      "<class 'pandas.core.frame.DataFrame'>\n",
      "RangeIndex: 231904 entries, 0 to 231903\n",
      "Data columns (total 15 columns):\n",
      " #   Column  Non-Null Count   Dtype  \n",
      "---  ------  --------------   -----  \n",
      " 0   거래금액    231904 non-null  int64  \n",
      " 1   지역코드    231904 non-null  int64  \n",
      " 2   아파트     231904 non-null  object \n",
      " 3   시도명     231904 non-null  object \n",
      " 4   시군구     231904 non-null  object \n",
      " 5   법정동     231904 non-null  object \n",
      " 6   지번      231904 non-null  object \n",
      " 7   건축년도    231904 non-null  int64  \n",
      " 8   년       231904 non-null  int64  \n",
      " 9   월       231904 non-null  int64  \n",
      " 10  일       231904 non-null  int64  \n",
      " 11  등기일자    79535 non-null   object \n",
      " 12  매도자     56193 non-null   object \n",
      " 13  전용면적    231904 non-null  float64\n",
      " 14  층       231904 non-null  int64  \n",
      "dtypes: float64(1), int64(7), object(7)\n",
      "memory usage: 26.5+ MB\n"
     ]
    }
   ],
   "source": [
    "%time df3 = pd.read_csv('test.csv', low_memory = False)\n",
    "df3.info()"
   ]
  },
  {
   "cell_type": "code",
   "execution_count": 462,
   "id": "f9aada04-fca7-45bd-b550-e1e3773053bf",
   "metadata": {},
   "outputs": [
    {
     "name": "stdout",
     "output_type": "stream",
     "text": [
      "CPU times: total: 31.2 ms\n",
      "Wall time: 122 ms\n"
     ]
    }
   ],
   "source": [
    "%time df2.to_pickle('test.pkl')"
   ]
  },
  {
   "cell_type": "code",
   "execution_count": 463,
   "id": "e82911b4-9ef1-4c11-ba86-2a544e3a0c86",
   "metadata": {
    "scrolled": true
   },
   "outputs": [
    {
     "name": "stdout",
     "output_type": "stream",
     "text": [
      "CPU times: total: 46.9 ms\n",
      "Wall time: 113 ms\n",
      "<class 'pandas.core.frame.DataFrame'>\n",
      "RangeIndex: 231904 entries, 0 to 231903\n",
      "Data columns (total 15 columns):\n",
      " #   Column  Non-Null Count   Dtype         \n",
      "---  ------  --------------   -----         \n",
      " 0   거래금액    231904 non-null  int64         \n",
      " 1   지역코드    231904 non-null  int64         \n",
      " 2   아파트     231904 non-null  object        \n",
      " 3   시도명     231904 non-null  object        \n",
      " 4   시군구     231904 non-null  object        \n",
      " 5   법정동     231904 non-null  object        \n",
      " 6   지번      231904 non-null  object        \n",
      " 7   건축년도    231904 non-null  int64         \n",
      " 8   년       231904 non-null  int64         \n",
      " 9   월       231904 non-null  int64         \n",
      " 10  일       231904 non-null  int64         \n",
      " 11  등기일자    79535 non-null   datetime64[ns]\n",
      " 12  매도자     56193 non-null   object        \n",
      " 13  전용면적    231904 non-null  float64       \n",
      " 14  층       231904 non-null  int64         \n",
      "dtypes: datetime64[ns](1), float64(1), int64(7), object(6)\n",
      "memory usage: 26.5+ MB\n"
     ]
    }
   ],
   "source": [
    "%time df4 = pd.read_pickle('test.pkl')\n",
    "df4.info()"
   ]
  },
  {
   "cell_type": "code",
   "execution_count": 464,
   "id": "6177829e-35de-4e61-b1aa-1f7eedeb4f4f",
   "metadata": {},
   "outputs": [],
   "source": [
    "os.rename(src ='test.pkl', dst = 'APT_List.pkl')"
   ]
  },
  {
   "cell_type": "code",
   "execution_count": 465,
   "id": "b5b55034-f14b-45f4-bd14-e3cc8c674cfd",
   "metadata": {},
   "outputs": [],
   "source": [
    "pd.to_pickle(obj = [df1, df2, df3], filepath_or_buffer = 'testAll.pkl')"
   ]
  },
  {
   "cell_type": "code",
   "execution_count": 466,
   "id": "3da060b9-3b26-411b-8875-7e9e9f0e60c3",
   "metadata": {
    "scrolled": true
   },
   "outputs": [
    {
     "data": {
      "text/plain": [
       "[          거래금액   지역코드                    아파트    시도명  시군구  법정동     지번  건축년도  \\\n",
       " 0       100500  11680                삼익대청아파트  서울특별시  강남구  개포동     12  1992   \n",
       " 1       203000  11680                   개포자이  서울특별시  강남구  개포동   12-2  2004   \n",
       " 2       180000  11680                개포주공6단지  서울특별시  강남구  개포동    185  1983   \n",
       " 3       285000  11680               디에이치아너힐즈  서울특별시  강남구  개포동   1281  2019   \n",
       " 4       171000  11680                개포주공7단지  서울특별시  강남구  개포동    185  1983   \n",
       " ...        ...    ...                    ...    ...  ...  ...    ...   ...   \n",
       " 231899   74000  11260  한신아파트상가동유치원동(102~102)  서울특별시  중랑구  중화동    450  1998   \n",
       " 231900   50500  11260              삼익아파트.상가동  서울특별시  중랑구  중화동    438  1995   \n",
       " 231901   60000  11260  한신아파트상가동유치원동(103~109)  서울특별시  중랑구  중화동    450  1997   \n",
       " 231902   67000  11260  한신아파트상가동유치원동(102~102)  서울특별시  중랑구  중화동    450  1998   \n",
       " 231903   11000  11260                  범양프레체  서울특별시  중랑구  중화동  208-4  2012   \n",
       " \n",
       "            년   월   일       등기일자  매도자    전용면적   층  \n",
       " 0       2020   1  31        NaT  NaN   39.53  13  \n",
       " 1       2020   1   6        NaT  NaN  134.30  17  \n",
       " 2       2020   1  14        NaT  NaN   60.13  14  \n",
       " 3       2020   1   4        NaT  NaN   94.29  12  \n",
       " 4       2020   1  12        NaT  NaN   60.76   2  \n",
       " ...      ...  ..  ..        ...  ...     ...  ..  \n",
       " 231899  2024  11  21 2024-12-13   개인   84.03  11  \n",
       " 231900  2024  11  13 2024-12-18   개인   59.34  10  \n",
       " 231901  2024  11  18 2024-11-20   개인   59.76   4  \n",
       " 231902  2024  11   2        NaT   개인   59.76   9  \n",
       " 231903  2024  12   7        NaT   개인   17.94  15  \n",
       " \n",
       " [231904 rows x 15 columns],\n",
       "           거래금액   지역코드                    아파트    시도명  시군구  법정동     지번  건축년도  \\\n",
       " 0       100500  11680                삼익대청아파트  서울특별시  강남구  개포동     12  1992   \n",
       " 1       203000  11680                   개포자이  서울특별시  강남구  개포동   12-2  2004   \n",
       " 2       180000  11680                개포주공6단지  서울특별시  강남구  개포동    185  1983   \n",
       " 3       285000  11680               디에이치아너힐즈  서울특별시  강남구  개포동   1281  2019   \n",
       " 4       171000  11680                개포주공7단지  서울특별시  강남구  개포동    185  1983   \n",
       " ...        ...    ...                    ...    ...  ...  ...    ...   ...   \n",
       " 231899   74000  11260  한신아파트상가동유치원동(102~102)  서울특별시  중랑구  중화동    450  1998   \n",
       " 231900   50500  11260              삼익아파트.상가동  서울특별시  중랑구  중화동    438  1995   \n",
       " 231901   60000  11260  한신아파트상가동유치원동(103~109)  서울특별시  중랑구  중화동    450  1997   \n",
       " 231902   67000  11260  한신아파트상가동유치원동(102~102)  서울특별시  중랑구  중화동    450  1998   \n",
       " 231903   11000  11260                  범양프레체  서울특별시  중랑구  중화동  208-4  2012   \n",
       " \n",
       "            년   월   일       등기일자  매도자    전용면적   층  \n",
       " 0       2020   1  31        NaT  NaN   39.53  13  \n",
       " 1       2020   1   6        NaT  NaN  134.30  17  \n",
       " 2       2020   1  14        NaT  NaN   60.13  14  \n",
       " 3       2020   1   4        NaT  NaN   94.29  12  \n",
       " 4       2020   1  12        NaT  NaN   60.76   2  \n",
       " ...      ...  ..  ..        ...  ...     ...  ..  \n",
       " 231899  2024  11  21 2024-12-13   개인   84.03  11  \n",
       " 231900  2024  11  13 2024-12-18   개인   59.34  10  \n",
       " 231901  2024  11  18 2024-11-20   개인   59.76   4  \n",
       " 231902  2024  11   2        NaT   개인   59.76   9  \n",
       " 231903  2024  12   7        NaT   개인   17.94  15  \n",
       " \n",
       " [231904 rows x 15 columns],\n",
       "           거래금액   지역코드                    아파트    시도명  시군구  법정동     지번  건축년도  \\\n",
       " 0       100500  11680                삼익대청아파트  서울특별시  강남구  개포동     12  1992   \n",
       " 1       203000  11680                   개포자이  서울특별시  강남구  개포동   12-2  2004   \n",
       " 2       180000  11680                개포주공6단지  서울특별시  강남구  개포동    185  1983   \n",
       " 3       285000  11680               디에이치아너힐즈  서울특별시  강남구  개포동   1281  2019   \n",
       " 4       171000  11680                개포주공7단지  서울특별시  강남구  개포동    185  1983   \n",
       " ...        ...    ...                    ...    ...  ...  ...    ...   ...   \n",
       " 231899   74000  11260  한신아파트상가동유치원동(102~102)  서울특별시  중랑구  중화동    450  1998   \n",
       " 231900   50500  11260              삼익아파트.상가동  서울특별시  중랑구  중화동    438  1995   \n",
       " 231901   60000  11260  한신아파트상가동유치원동(103~109)  서울특별시  중랑구  중화동    450  1997   \n",
       " 231902   67000  11260  한신아파트상가동유치원동(102~102)  서울특별시  중랑구  중화동    450  1998   \n",
       " 231903   11000  11260                  범양프레체  서울특별시  중랑구  중화동  208-4  2012   \n",
       " \n",
       "            년   월   일        등기일자  매도자    전용면적   층  \n",
       " 0       2020   1  31         NaN  NaN   39.53  13  \n",
       " 1       2020   1   6         NaN  NaN  134.30  17  \n",
       " 2       2020   1  14         NaN  NaN   60.13  14  \n",
       " 3       2020   1   4         NaN  NaN   94.29  12  \n",
       " 4       2020   1  12         NaN  NaN   60.76   2  \n",
       " ...      ...  ..  ..         ...  ...     ...  ..  \n",
       " 231899  2024  11  21  2024-12-13   개인   84.03  11  \n",
       " 231900  2024  11  13  2024-12-18   개인   59.34  10  \n",
       " 231901  2024  11  18  2024-11-20   개인   59.76   4  \n",
       " 231902  2024  11   2         NaN   개인   59.76   9  \n",
       " 231903  2024  12   7         NaN   개인   17.94  15  \n",
       " \n",
       " [231904 rows x 15 columns]]"
      ]
     },
     "execution_count": 466,
     "metadata": {},
     "output_type": "execute_result"
    }
   ],
   "source": [
    "pd.read_pickle(filepath_or_buffer = 'testAll.pkl')"
   ]
  },
  {
   "cell_type": "code",
   "execution_count": 467,
   "id": "cc071bda-b172-4043-a7d6-1c5be24d5e1a",
   "metadata": {},
   "outputs": [],
   "source": [
    "a = 1,\n",
    "b = 2.0,\n",
    "c = '3'"
   ]
  },
  {
   "cell_type": "code",
   "execution_count": 468,
   "id": "4564b020-d6be-4343-bcef-f4d6d59e573d",
   "metadata": {},
   "outputs": [],
   "source": [
    "pd.to_pickle(obj = [a,b,c], filepath_or_buffer = 'testAll2.pkl')"
   ]
  },
  {
   "cell_type": "code",
   "execution_count": 469,
   "id": "e4af4c82-9e76-4816-aa17-10b250c92bb9",
   "metadata": {},
   "outputs": [],
   "source": [
    "d, e, f = pd.read_pickle(filepath_or_buffer = 'testAll2.pkl')"
   ]
  },
  {
   "cell_type": "code",
   "execution_count": 470,
   "id": "a946f6c0-4687-4846-b4ca-5c6554fafcef",
   "metadata": {},
   "outputs": [
    {
     "name": "stdout",
     "output_type": "stream",
     "text": [
      "(1,)\n",
      "(2.0,)\n",
      "3\n"
     ]
    }
   ],
   "source": [
    "print(d)\n",
    "print(e)\n",
    "print(f)"
   ]
  },
  {
   "cell_type": "code",
   "execution_count": 473,
   "id": "a80139db-853b-4c00-9e46-3cb75d2fdb38",
   "metadata": {},
   "outputs": [],
   "source": [
    "files = os.listdir()\n",
    "files = [file for file in files if 'test' in file]"
   ]
  },
  {
   "cell_type": "code",
   "execution_count": 474,
   "id": "ca8cf889-dab0-4371-ba28-8ec514268d00",
   "metadata": {},
   "outputs": [],
   "source": [
    "for file in files:\n",
    "    os.remove(file)"
   ]
  },
  {
   "cell_type": "code",
   "execution_count": 475,
   "id": "b8b5a9d0-1f94-4906-9637-a72ac768565d",
   "metadata": {},
   "outputs": [
    {
     "data": {
      "text/plain": [
       "['APT_Detail_Seoul_2024.csv',\n",
       " 'APT_Detail_Seoul_2024.xlsx',\n",
       " 'APT_List.pk1',\n",
       " 'APT_List.pkl',\n",
       " 'APT_Price_Seoul(2020~2024).xlsx',\n",
       " 'APT_Price_Seoul_2020.csv',\n",
       " 'APT_Price_Seoul_2021.csv',\n",
       " 'APT_Price_Seoul_2022.csv',\n",
       " 'APT_Price_Seoul_2023.csv',\n",
       " 'APT_Price_Seoul_2024.csv',\n",
       " 'KBO_Hitter_Stats_2024.csv',\n",
       " 'KBO_Pitcher_Stats_2024.csv',\n",
       " 'MPRC_2024.csv',\n",
       " 'MPRC_2024.xlsx',\n",
       " 'MPRC_List.xlsx',\n",
       " 'MPRC_List_2.xlsx',\n",
       " 'NA_Sample.xlsx']"
      ]
     },
     "execution_count": 475,
     "metadata": {},
     "output_type": "execute_result"
    }
   ],
   "source": [
    "os.listdir()"
   ]
  },
  {
   "cell_type": "code",
   "execution_count": null,
   "id": "a74fa833-81fb-4e26-bf43-78d236000c9a",
   "metadata": {},
   "outputs": [],
   "source": []
  }
 ],
 "metadata": {
  "kernelspec": {
   "display_name": "Python 3 (ipykernel)",
   "language": "python",
   "name": "python3"
  },
  "language_info": {
   "codemirror_mode": {
    "name": "ipython",
    "version": 3
   },
   "file_extension": ".py",
   "mimetype": "text/x-python",
   "name": "python",
   "nbconvert_exporter": "python",
   "pygments_lexer": "ipython3",
   "version": "3.12.10"
  }
 },
 "nbformat": 4,
 "nbformat_minor": 5
}
