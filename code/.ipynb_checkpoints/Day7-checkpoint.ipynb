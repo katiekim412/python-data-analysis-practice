{
 "cells": [
  {
   "cell_type": "code",
   "execution_count": null,
   "id": "530dfbbb-eafb-46e8-9ae4-a55bd2522942",
   "metadata": {},
   "outputs": [],
   "source": [
    "import os\n",
    "import numpy as np\n",
    "import pandas as pd\n",
    "\n",
    "pd.set_option('display.float_format', lambda x: f'{x:.2f}')"
   ]
  },
  {
   "cell_type": "code",
   "execution_count": null,
   "id": "fd280ec9-8466-442d-9906-ad58449f52ff",
   "metadata": {},
   "outputs": [],
   "source": [
    "os.getcwd()"
   ]
  },
  {
   "cell_type": "code",
   "execution_count": null,
   "id": "6be0b156-28c3-4b99-a904-019f2f0f18f3",
   "metadata": {},
   "outputs": [],
   "source": [
    "os.chdir(path ='../data')"
   ]
  },
  {
   "cell_type": "code",
   "execution_count": null,
   "id": "ef894edb-975a-4e90-8801-a7962c1c73d8",
   "metadata": {},
   "outputs": [],
   "source": [
    "os.listdir()"
   ]
  },
  {
   "cell_type": "code",
   "execution_count": null,
   "id": "4aadf435-81b4-496a-89ac-f7e756222f42",
   "metadata": {},
   "outputs": [],
   "source": [
    "apt = pd.read_pickle('APT_List.pk1')"
   ]
  },
  {
   "cell_type": "code",
   "execution_count": null,
   "id": "29e5722d-958f-42b9-b1f9-d6c87fe74066",
   "metadata": {},
   "outputs": [],
   "source": [
    "apt.info()"
   ]
  },
  {
   "cell_type": "code",
   "execution_count": null,
   "id": "e7426d8f-0acf-4ffb-bd08-bf42990ee40f",
   "metadata": {},
   "outputs": [],
   "source": [
    "apt.isna().sum()"
   ]
  },
  {
   "cell_type": "code",
   "execution_count": null,
   "id": "28144e96-5bd8-4d90-9250-72d46385d238",
   "metadata": {},
   "outputs": [],
   "source": [
    "apt = apt.dropna(axis = 1)\n",
    "apt.shape"
   ]
  },
  {
   "cell_type": "code",
   "execution_count": null,
   "id": "ed94f58d-209a-4047-af28-e29d9d04d80b",
   "metadata": {
    "scrolled": true
   },
   "outputs": [],
   "source": [
    "apt = apt.drop(columns = '지역코드')\n",
    "apt.head()"
   ]
  },
  {
   "cell_type": "code",
   "execution_count": null,
   "id": "51f43bd5-f756-45b4-8bc1-80ae420aad52",
   "metadata": {},
   "outputs": [],
   "source": [
    "apt.columns = ['거래금액', '단지명', '시도명', '시군구', '법정동', '지번', '입주년도', '계약년도', '계약월', '계약일', '전용면적', '층']"
   ]
  },
  {
   "cell_type": "code",
   "execution_count": null,
   "id": "38cbfa59-c50d-4bcc-9151-c015bb18a45a",
   "metadata": {},
   "outputs": [],
   "source": [
    "apt['평당금액'] = apt['거래금액'] / apt['전용면적'] *3.3\n",
    "apt['거래금액'] = apt['거래금액'] / 10000\n",
    "apt['경과년수'] = apt['계약년도'] - apt['입주년도']\n",
    "apt.head()"
   ]
  },
  {
   "cell_type": "code",
   "execution_count": null,
   "id": "47f7b8ad-8d8f-4b02-864a-bea9f7f5ea39",
   "metadata": {},
   "outputs": [],
   "source": [
    "str_join = lambda x : ' '.join(x)"
   ]
  },
  {
   "cell_type": "code",
   "execution_count": null,
   "id": "f186c165-4075-474c-a3b8-7d41dd5870ff",
   "metadata": {},
   "outputs": [],
   "source": [
    "cols = ['시도명', '시군구', '법정동', '지번']"
   ]
  },
  {
   "cell_type": "code",
   "execution_count": null,
   "id": "cab53b6c-6883-4ace-a048-b0a7c3330f49",
   "metadata": {},
   "outputs": [],
   "source": [
    "apt['주소'] = apt[cols].apply(func = str_join, axis = 1)"
   ]
  },
  {
   "cell_type": "code",
   "execution_count": null,
   "id": "13d65150-9d0d-4ecf-a798-e4a37a380da9",
   "metadata": {},
   "outputs": [],
   "source": [
    "apt.head()"
   ]
  },
  {
   "cell_type": "code",
   "execution_count": null,
   "id": "8cfd6f4f-58b6-4581-bbf1-0b97a6995bb1",
   "metadata": {},
   "outputs": [],
   "source": [
    "cols = ['계약년도', '계약월', '계약일']"
   ]
  },
  {
   "cell_type": "code",
   "execution_count": null,
   "id": "83f0370e-7df9-4de2-900b-73b4352924a4",
   "metadata": {},
   "outputs": [],
   "source": [
    "apt[cols] = apt[cols].astype(str)\n",
    "apt.dtypes"
   ]
  },
  {
   "cell_type": "code",
   "execution_count": null,
   "id": "37d0428c-a78f-4197-a8e3-71526db9787b",
   "metadata": {},
   "outputs": [],
   "source": [
    "str_join = lambda x : '-'.join(x)"
   ]
  },
  {
   "cell_type": "code",
   "execution_count": null,
   "id": "67741cdf-e75c-4548-9abf-926acd75dbc4",
   "metadata": {},
   "outputs": [],
   "source": [
    "apt['계약일자'] = apt[cols].apply(func = str_join, axis = 1)\n",
    "apt.head()"
   ]
  },
  {
   "cell_type": "code",
   "execution_count": null,
   "id": "e0451ee5-4da2-47ed-a109-f082ae2e42ad",
   "metadata": {},
   "outputs": [],
   "source": [
    "apt['계약일자'] = apt['계약일자'].astype('datetime64[ns]')\n",
    "apt.dtypes"
   ]
  },
  {
   "cell_type": "code",
   "execution_count": null,
   "id": "a469c01e-9d87-4447-9400-b54319544a42",
   "metadata": {},
   "outputs": [],
   "source": [
    "os.listdir()"
   ]
  },
  {
   "cell_type": "code",
   "execution_count": null,
   "id": "5c0ed908-5b21-4a78-940d-6a06d8298e08",
   "metadata": {},
   "outputs": [],
   "source": [
    "dtl = pd.read_excel('APT_Detail_Seoul_2024.xlsx')"
   ]
  },
  {
   "cell_type": "code",
   "execution_count": null,
   "id": "7b1864fa-7695-4670-9f88-04f63c1668e8",
   "metadata": {},
   "outputs": [],
   "source": [
    "dtl.head()"
   ]
  },
  {
   "cell_type": "code",
   "execution_count": null,
   "id": "74a393f7-0d72-4c84-8fad-9db5b9b310fe",
   "metadata": {},
   "outputs": [],
   "source": [
    "dtl = dtl.rename(columns={'아파트명':'단지명', '지번주소':'주소'})"
   ]
  },
  {
   "cell_type": "code",
   "execution_count": null,
   "id": "626b459b-0551-496b-b9ac-30b1e67778ed",
   "metadata": {},
   "outputs": [],
   "source": [
    "len(set(apt['단지명']))"
   ]
  },
  {
   "cell_type": "code",
   "execution_count": null,
   "id": "0cb045a0-436f-4f99-9b2f-1c469470380f",
   "metadata": {},
   "outputs": [],
   "source": [
    "len(set(apt['단지명']) & set(dtl['단지명']))"
   ]
  },
  {
   "cell_type": "code",
   "execution_count": null,
   "id": "6defd078-2943-4904-a544-e4231cffc57f",
   "metadata": {},
   "outputs": [],
   "source": [
    "len(set(apt['주소']))"
   ]
  },
  {
   "cell_type": "code",
   "execution_count": null,
   "id": "54b5413c-14ec-46e0-a744-a9d9c4c6bcad",
   "metadata": {},
   "outputs": [],
   "source": [
    "len(set(apt['주소']) & set(dtl['주소']))"
   ]
  },
  {
   "cell_type": "code",
   "execution_count": null,
   "id": "4e6b0c93-729b-455e-a375-7b8897688cd4",
   "metadata": {},
   "outputs": [],
   "source": [
    "display(apt['주소'].head())\n",
    "display(dtl['주소'].head())"
   ]
  },
  {
   "cell_type": "code",
   "execution_count": null,
   "id": "ed1c8e2d-8cd3-47ca-bd0b-b5a0c1d2c2cc",
   "metadata": {},
   "outputs": [],
   "source": [
    "apt['주소'] = apt['주소'].str.replace(pat='특별', repl= \"\")"
   ]
  },
  {
   "cell_type": "code",
   "execution_count": null,
   "id": "187b74cb-c82e-4ad2-b3f1-a8f74021d7c5",
   "metadata": {},
   "outputs": [],
   "source": [
    "len(set(apt['주소']) & set(dtl['주소']))"
   ]
  },
  {
   "cell_type": "code",
   "execution_count": null,
   "id": "a3e67f5f-fb52-497e-ab31-10faff5898b4",
   "metadata": {},
   "outputs": [],
   "source": [
    "cond = apt['경과년수'].ge(30)"
   ]
  },
  {
   "cell_type": "code",
   "execution_count": null,
   "id": "8c7a4b82-d055-4fa7-82e3-bdf379584c0a",
   "metadata": {},
   "outputs": [],
   "source": [
    "apt['재건축'] = np.where(cond, '충족', '부족')"
   ]
  },
  {
   "cell_type": "code",
   "execution_count": null,
   "id": "2ca4dcb9-ac51-42b0-8c0a-9788cd173dc1",
   "metadata": {},
   "outputs": [],
   "source": [
    "df4 = apt.loc[:, '거래금액':'재건축'].sample(n=5, random_state =4)\n",
    "df4"
   ]
  },
  {
   "cell_type": "code",
   "execution_count": null,
   "id": "2ce3c732-edd4-453a-b9ec-1e6b404daadf",
   "metadata": {},
   "outputs": [],
   "source": [
    "df4['시군구']"
   ]
  },
  {
   "cell_type": "code",
   "execution_count": null,
   "id": "ce0269a4-cee8-443c-a99d-4e51d08f8442",
   "metadata": {},
   "outputs": [],
   "source": [
    "df4.duplicated()"
   ]
  },
  {
   "cell_type": "code",
   "execution_count": null,
   "id": "cdb685c0-3e0a-4414-8555-aea53cde1f08",
   "metadata": {},
   "outputs": [],
   "source": [
    "df4['시군구']"
   ]
  },
  {
   "cell_type": "code",
   "execution_count": null,
   "id": "ffe86872-4201-40bf-926a-23bcb6b2b55e",
   "metadata": {},
   "outputs": [],
   "source": [
    "df4.duplicated(subset = '시군구')"
   ]
  },
  {
   "cell_type": "code",
   "execution_count": null,
   "id": "a1030021-1956-446a-ab4d-75d23e65dd22",
   "metadata": {},
   "outputs": [],
   "source": [
    "df4.drop_duplicates(subset='시군구', keep = False)"
   ]
  },
  {
   "cell_type": "code",
   "execution_count": null,
   "id": "764546c9-c97b-49b7-9853-18143c0e781c",
   "metadata": {
    "scrolled": true
   },
   "outputs": [],
   "source": [
    "dups = dtl.duplicated(subset = '주소', keep = False)\n",
    "dtl.loc[dups, :]"
   ]
  },
  {
   "cell_type": "code",
   "execution_count": null,
   "id": "fd3a56b3-b934-4a9f-9d0e-ea836e3ddde8",
   "metadata": {},
   "outputs": [],
   "source": [
    "dtl = dtl.drop_duplicates(subset='주소')\n",
    "dtl.shape"
   ]
  },
  {
   "cell_type": "code",
   "execution_count": null,
   "id": "da2d2304-eaf4-4860-8d3d-899810fed3ab",
   "metadata": {},
   "outputs": [],
   "source": [
    "set(apt.columns) & set(dtl.columns)"
   ]
  },
  {
   "cell_type": "code",
   "execution_count": null,
   "id": "8ecad7e3-bb5c-4cd2-9aa4-a13442d62ffd",
   "metadata": {},
   "outputs": [],
   "source": [
    "cols = ['주소', '세대수', '주차대수']"
   ]
  },
  {
   "cell_type": "code",
   "execution_count": null,
   "id": "838b8ac9-9aa6-4fa3-a7c5-8cd2ea8860b1",
   "metadata": {
    "scrolled": true
   },
   "outputs": [],
   "source": [
    "apt = pd.merge(left = apt, right = dtl[cols], how = 'inner', on='주소')"
   ]
  },
  {
   "cell_type": "raw",
   "id": "cabd8a5a-e605-4ddd-b341-42ebf5889651",
   "metadata": {
    "scrolled": true
   },
   "source": [
    "pd.merge(left = apt, right = dtl[cols], how = 'outer', on='주소')"
   ]
  },
  {
   "cell_type": "raw",
   "id": "b1e88e78-7dcc-4fe5-a141-6d7ec59cf1c4",
   "metadata": {
    "collapsed": true,
    "jupyter": {
     "outputs_hidden": true
    },
    "scrolled": true
   },
   "source": [
    "pd.merge(left = apt, right = dtl[cols], how = 'left', on='주소')"
   ]
  },
  {
   "cell_type": "code",
   "execution_count": null,
   "id": "99d54d88-7f6c-4f18-8af3-67a51eaba5d2",
   "metadata": {},
   "outputs": [],
   "source": []
  }
 ],
 "metadata": {
  "kernelspec": {
   "display_name": "Python 3 (ipykernel)",
   "language": "python",
   "name": "python3"
  },
  "language_info": {
   "codemirror_mode": {
    "name": "ipython",
    "version": 3
   },
   "file_extension": ".py",
   "mimetype": "text/x-python",
   "name": "python",
   "nbconvert_exporter": "python",
   "pygments_lexer": "ipython3",
   "version": "3.12.10"
  }
 },
 "nbformat": 4,
 "nbformat_minor": 5
}
