{
 "cells": [
  {
   "cell_type": "code",
   "execution_count": 1,
   "id": "a0ee6cda-4be6-47ee-a6f0-fd4353a0b439",
   "metadata": {},
   "outputs": [],
   "source": [
    "a123 = 1"
   ]
  },
  {
   "cell_type": "code",
   "execution_count": 2,
   "id": "68ada322-3490-43e9-a252-3202f6c99b69",
   "metadata": {},
   "outputs": [],
   "source": [
    "_a123 = 2"
   ]
  },
  {
   "cell_type": "code",
   "execution_count": 3,
   "id": "15087886-b684-4102-968a-0893994d4401",
   "metadata": {},
   "outputs": [
    {
     "ename": "SyntaxError",
     "evalue": "invalid decimal literal (167407203.py, line 1)",
     "output_type": "error",
     "traceback": [
      "  \u001b[36mCell\u001b[39m\u001b[36m \u001b[39m\u001b[32mIn[3]\u001b[39m\u001b[32m, line 1\u001b[39m\n\u001b[31m    \u001b[39m\u001b[31m1a = 3\u001b[39m\n    ^\n\u001b[31mSyntaxError\u001b[39m\u001b[31m:\u001b[39m invalid decimal literal\n"
     ]
    }
   ],
   "source": [
    "1a = 3"
   ]
  },
  {
   "cell_type": "code",
   "execution_count": 4,
   "id": "e58584f4-4bce-41d3-a56d-4aa5533e780f",
   "metadata": {},
   "outputs": [],
   "source": [
    "A123 = 1.0"
   ]
  },
  {
   "cell_type": "code",
   "execution_count": 5,
   "id": "448c94f4-4f8d-40ce-8506-bb2ef6be120e",
   "metadata": {},
   "outputs": [],
   "source": [
    "변수 = '3'"
   ]
  },
  {
   "cell_type": "code",
   "execution_count": 6,
   "id": "7628ef87-29fb-4327-a49a-1dbc107e1eeb",
   "metadata": {},
   "outputs": [
    {
     "name": "stdout",
     "output_type": "stream",
     "text": [
      "\n",
      "Here is a list of the Python keywords.  Enter any keyword to get more help.\n",
      "\n",
      "False               class               from                or\n",
      "None                continue            global              pass\n",
      "True                def                 if                  raise\n",
      "and                 del                 import              return\n",
      "as                  elif                in                  try\n",
      "assert              else                is                  while\n",
      "async               except              lambda              with\n",
      "await               finally             nonlocal            yield\n",
      "break               for                 not                 \n",
      "\n"
     ]
    }
   ],
   "source": [
    "help('keywords')"
   ]
  },
  {
   "cell_type": "code",
   "execution_count": 7,
   "id": "6fd02d88-f8b3-4841-b67e-6efe8b9a1b42",
   "metadata": {},
   "outputs": [
    {
     "ename": "SyntaxError",
     "evalue": "cannot assign to False (3882790611.py, line 1)",
     "output_type": "error",
     "traceback": [
      "  \u001b[36mCell\u001b[39m\u001b[36m \u001b[39m\u001b[32mIn[7]\u001b[39m\u001b[32m, line 1\u001b[39m\n\u001b[31m    \u001b[39m\u001b[31mFalse = '1'\u001b[39m\n    ^\n\u001b[31mSyntaxError\u001b[39m\u001b[31m:\u001b[39m cannot assign to False\n"
     ]
    }
   ],
   "source": [
    "False = '1'"
   ]
  },
  {
   "cell_type": "code",
   "execution_count": 8,
   "id": "6621c444-79c9-4b2a-a0e0-22a238610a16",
   "metadata": {},
   "outputs": [
    {
     "data": {
      "text/plain": [
       "1"
      ]
     },
     "execution_count": 8,
     "metadata": {},
     "output_type": "execute_result"
    }
   ],
   "source": [
    "abs(1)"
   ]
  },
  {
   "cell_type": "code",
   "execution_count": 9,
   "id": "abf3e450-4ece-4735-a01b-b19df9bddfc1",
   "metadata": {},
   "outputs": [
    {
     "data": {
      "text/plain": [
       "1"
      ]
     },
     "execution_count": 9,
     "metadata": {},
     "output_type": "execute_result"
    }
   ],
   "source": [
    "abs(-1)"
   ]
  },
  {
   "cell_type": "code",
   "execution_count": 10,
   "id": "a0d3b837-0452-48d4-83fd-0b11380382c7",
   "metadata": {},
   "outputs": [],
   "source": [
    "abs = '1'"
   ]
  },
  {
   "cell_type": "code",
   "execution_count": 11,
   "id": "85f36453-1962-4406-897d-ea72f5152f6a",
   "metadata": {
    "collapsed": true,
    "jupyter": {
     "outputs_hidden": true
    }
   },
   "outputs": [
    {
     "ename": "TypeError",
     "evalue": "'str' object is not callable",
     "output_type": "error",
     "traceback": [
      "\u001b[31m---------------------------------------------------------------------------\u001b[39m",
      "\u001b[31mTypeError\u001b[39m                                 Traceback (most recent call last)",
      "\u001b[36mCell\u001b[39m\u001b[36m \u001b[39m\u001b[32mIn[11]\u001b[39m\u001b[32m, line 1\u001b[39m\n\u001b[32m----> \u001b[39m\u001b[32m1\u001b[39m \u001b[38;5;28;43mabs\u001b[39;49m\u001b[43m(\u001b[49m\u001b[43m-\u001b[49m\u001b[32;43m1\u001b[39;49m\u001b[43m)\u001b[49m\n",
      "\u001b[31mTypeError\u001b[39m: 'str' object is not callable"
     ]
    }
   ],
   "source": [
    "abs(-1)"
   ]
  },
  {
   "cell_type": "code",
   "execution_count": 12,
   "id": "33dfbed0-1b65-4d65-89d4-ed274e79d07b",
   "metadata": {},
   "outputs": [
    {
     "data": {
      "text/plain": [
       "'1'"
      ]
     },
     "execution_count": 12,
     "metadata": {},
     "output_type": "execute_result"
    }
   ],
   "source": [
    "abs"
   ]
  },
  {
   "cell_type": "code",
   "execution_count": 13,
   "id": "52676d22-1352-4dad-a65f-71947cc7c90a",
   "metadata": {},
   "outputs": [],
   "source": [
    "del abs"
   ]
  },
  {
   "cell_type": "code",
   "execution_count": 14,
   "id": "20ffc7b9-28ae-46bf-b132-cf2e799b178b",
   "metadata": {},
   "outputs": [
    {
     "data": {
      "text/plain": [
       "1"
      ]
     },
     "execution_count": 14,
     "metadata": {},
     "output_type": "execute_result"
    }
   ],
   "source": [
    "abs(-1)"
   ]
  },
  {
   "cell_type": "code",
   "execution_count": 15,
   "id": "1cba429e-6793-44ee-9235-0fa6a27df11c",
   "metadata": {},
   "outputs": [
    {
     "data": {
      "text/plain": [
       "140719579548088"
      ]
     },
     "execution_count": 15,
     "metadata": {},
     "output_type": "execute_result"
    }
   ],
   "source": [
    "a = 1\n",
    "id(a)"
   ]
  },
  {
   "cell_type": "code",
   "execution_count": 16,
   "id": "7c123e4d-efc4-4305-b68c-cdfc8705c827",
   "metadata": {},
   "outputs": [
    {
     "data": {
      "text/plain": [
       "140719579548120"
      ]
     },
     "execution_count": 16,
     "metadata": {},
     "output_type": "execute_result"
    }
   ],
   "source": [
    "a = 2\n",
    "id(a)"
   ]
  },
  {
   "cell_type": "code",
   "execution_count": 20,
   "id": "baa643fe-5350-48a8-a5f3-94ce11724666",
   "metadata": {},
   "outputs": [
    {
     "data": {
      "text/plain": [
       "1"
      ]
     },
     "execution_count": 20,
     "metadata": {},
     "output_type": "execute_result"
    }
   ],
   "source": [
    "# 값을 변수에 할당하면 콘솔에 아무것도 출력되지 않습니다.\n",
    "a = 1\n",
    "a"
   ]
  },
  {
   "cell_type": "code",
   "execution_count": 19,
   "id": "e2563c3f-51dc-4c1c-9580-02464e2b4cd7",
   "metadata": {},
   "outputs": [
    {
     "name": "stdout",
     "output_type": "stream",
     "text": [
      "1\n"
     ]
    }
   ],
   "source": [
    "print(a)"
   ]
  },
  {
   "cell_type": "code",
   "execution_count": 21,
   "id": "35a6c498-e448-48ab-b9a6-88508758215a",
   "metadata": {},
   "outputs": [
    {
     "data": {
      "text/plain": [
       "140719579548088"
      ]
     },
     "execution_count": 21,
     "metadata": {},
     "output_type": "execute_result"
    }
   ],
   "source": [
    "id(a)"
   ]
  },
  {
   "cell_type": "code",
   "execution_count": 22,
   "id": "9a7cd6c5-d557-4a82-ad02-064361d1c411",
   "metadata": {},
   "outputs": [
    {
     "data": {
      "text/plain": [
       "140719579548376"
      ]
     },
     "execution_count": 22,
     "metadata": {},
     "output_type": "execute_result"
    }
   ],
   "source": [
    "a = 10\n",
    "id(a)"
   ]
  },
  {
   "cell_type": "code",
   "execution_count": 23,
   "id": "3e333d2d-31d0-4850-a9c0-d8094c3b0802",
   "metadata": {},
   "outputs": [
    {
     "data": {
      "text/plain": [
       "int"
      ]
     },
     "execution_count": 23,
     "metadata": {},
     "output_type": "execute_result"
    }
   ],
   "source": [
    "type(a)"
   ]
  },
  {
   "cell_type": "code",
   "execution_count": 24,
   "id": "f8fbdc96-be5b-4447-90b4-8fda7b5646f0",
   "metadata": {
    "collapsed": true,
    "jupyter": {
     "outputs_hidden": true
    },
    "scrolled": true
   },
   "outputs": [
    {
     "data": {
      "text/plain": [
       "['__abs__',\n",
       " '__add__',\n",
       " '__and__',\n",
       " '__bool__',\n",
       " '__ceil__',\n",
       " '__class__',\n",
       " '__delattr__',\n",
       " '__dir__',\n",
       " '__divmod__',\n",
       " '__doc__',\n",
       " '__eq__',\n",
       " '__float__',\n",
       " '__floor__',\n",
       " '__floordiv__',\n",
       " '__format__',\n",
       " '__ge__',\n",
       " '__getattribute__',\n",
       " '__getnewargs__',\n",
       " '__getstate__',\n",
       " '__gt__',\n",
       " '__hash__',\n",
       " '__index__',\n",
       " '__init__',\n",
       " '__init_subclass__',\n",
       " '__int__',\n",
       " '__invert__',\n",
       " '__le__',\n",
       " '__lshift__',\n",
       " '__lt__',\n",
       " '__mod__',\n",
       " '__mul__',\n",
       " '__ne__',\n",
       " '__neg__',\n",
       " '__new__',\n",
       " '__or__',\n",
       " '__pos__',\n",
       " '__pow__',\n",
       " '__radd__',\n",
       " '__rand__',\n",
       " '__rdivmod__',\n",
       " '__reduce__',\n",
       " '__reduce_ex__',\n",
       " '__repr__',\n",
       " '__rfloordiv__',\n",
       " '__rlshift__',\n",
       " '__rmod__',\n",
       " '__rmul__',\n",
       " '__ror__',\n",
       " '__round__',\n",
       " '__rpow__',\n",
       " '__rrshift__',\n",
       " '__rshift__',\n",
       " '__rsub__',\n",
       " '__rtruediv__',\n",
       " '__rxor__',\n",
       " '__setattr__',\n",
       " '__sizeof__',\n",
       " '__str__',\n",
       " '__sub__',\n",
       " '__subclasshook__',\n",
       " '__truediv__',\n",
       " '__trunc__',\n",
       " '__xor__',\n",
       " 'as_integer_ratio',\n",
       " 'bit_count',\n",
       " 'bit_length',\n",
       " 'conjugate',\n",
       " 'denominator',\n",
       " 'from_bytes',\n",
       " 'imag',\n",
       " 'is_integer',\n",
       " 'numerator',\n",
       " 'real',\n",
       " 'to_bytes']"
      ]
     },
     "execution_count": 24,
     "metadata": {},
     "output_type": "execute_result"
    }
   ],
   "source": [
    "dir(a)"
   ]
  },
  {
   "cell_type": "code",
   "execution_count": 25,
   "id": "75858a90-cf22-4e7b-a3b5-2ee3b7497981",
   "metadata": {},
   "outputs": [
    {
     "data": {
      "text/plain": [
       "1"
      ]
     },
     "execution_count": 25,
     "metadata": {},
     "output_type": "execute_result"
    }
   ],
   "source": [
    "# 변수명 오른쪽에 마침표를 찍고 탭을 누르면 해당 변수가 가리키는 객체에 정의된\n",
    "# 속성과 방식을 확인할 수 있습니다. \n",
    "# instance는 속성(데이터)이고, function은 함수(방식)입니다.\n",
    "a.denominator"
   ]
  },
  {
   "cell_type": "code",
   "execution_count": 26,
   "id": "c5ff6acb-d9fb-4276-8362-0613ef6c5c9d",
   "metadata": {},
   "outputs": [
    {
     "data": {
      "text/plain": [
       "10"
      ]
     },
     "execution_count": 26,
     "metadata": {},
     "output_type": "execute_result"
    }
   ],
   "source": [
    "a.numerator"
   ]
  },
  {
   "cell_type": "code",
   "execution_count": 27,
   "id": "c42cd7ff-c905-432a-b280-fb90beda2eb4",
   "metadata": {},
   "outputs": [
    {
     "data": {
      "text/plain": [
       "<function int.bit_length()>"
      ]
     },
     "execution_count": 27,
     "metadata": {},
     "output_type": "execute_result"
    }
   ],
   "source": [
    "a.bit_length"
   ]
  },
  {
   "cell_type": "code",
   "execution_count": 28,
   "id": "61acc89e-c9a7-4948-bdfc-15750b9cbd59",
   "metadata": {},
   "outputs": [
    {
     "data": {
      "text/plain": [
       "4"
      ]
     },
     "execution_count": 28,
     "metadata": {},
     "output_type": "execute_result"
    }
   ],
   "source": [
    "a.bit_length()"
   ]
  },
  {
   "cell_type": "code",
   "execution_count": 29,
   "id": "8e1ac472-7e5c-4085-a711-8314b7a37999",
   "metadata": {},
   "outputs": [
    {
     "data": {
      "text/plain": [
       "5"
      ]
     },
     "execution_count": 29,
     "metadata": {},
     "output_type": "execute_result"
    }
   ],
   "source": [
    "a = 5\n",
    "a"
   ]
  },
  {
   "cell_type": "code",
   "execution_count": 30,
   "id": "e886c44a-f794-45a9-8352-f19f70a8d1b4",
   "metadata": {},
   "outputs": [
    {
     "data": {
      "text/plain": [
       "int"
      ]
     },
     "execution_count": 30,
     "metadata": {},
     "output_type": "execute_result"
    }
   ],
   "source": [
    "type(a)"
   ]
  },
  {
   "cell_type": "code",
   "execution_count": 31,
   "id": "db0e8d10-cd19-4880-aa9f-9add122a20a5",
   "metadata": {},
   "outputs": [
    {
     "data": {
      "text/plain": [
       "5.0"
      ]
     },
     "execution_count": 31,
     "metadata": {},
     "output_type": "execute_result"
    }
   ],
   "source": [
    "b = 5.0\n",
    "b"
   ]
  },
  {
   "cell_type": "code",
   "execution_count": 32,
   "id": "46020551-42b7-4dd5-a5e9-cceabbcdb913",
   "metadata": {},
   "outputs": [
    {
     "data": {
      "text/plain": [
       "float"
      ]
     },
     "execution_count": 32,
     "metadata": {},
     "output_type": "execute_result"
    }
   ],
   "source": [
    "type(b)"
   ]
  },
  {
   "cell_type": "code",
   "execution_count": 33,
   "id": "7914e893-c334-4fde-ade0-c4e83be90407",
   "metadata": {},
   "outputs": [
    {
     "data": {
      "text/plain": [
       "'Life is too short, '"
      ]
     },
     "execution_count": 33,
     "metadata": {},
     "output_type": "execute_result"
    }
   ],
   "source": [
    "sen1 = 'Life is too short, '\n",
    "sen1"
   ]
  },
  {
   "cell_type": "code",
   "execution_count": 34,
   "id": "af781fe1-839d-4165-aa4d-b1042950310a",
   "metadata": {},
   "outputs": [
    {
     "data": {
      "text/plain": [
       "'you need Python!'"
      ]
     },
     "execution_count": 34,
     "metadata": {},
     "output_type": "execute_result"
    }
   ],
   "source": [
    "sen2 = \"you need Python!\"\n",
    "sen2"
   ]
  },
  {
   "cell_type": "code",
   "execution_count": 36,
   "id": "f75d4922-08e8-43bc-9f28-4d1df78cb0b2",
   "metadata": {},
   "outputs": [
    {
     "data": {
      "text/plain": [
       "'you need Python!'"
      ]
     },
     "execution_count": 36,
     "metadata": {},
     "output_type": "execute_result"
    }
   ],
   "source": [
    "sen1\n",
    "sen2"
   ]
  },
  {
   "cell_type": "code",
   "execution_count": 35,
   "id": "f4dd00ba-c2fa-4104-ae46-e0af72f4de7a",
   "metadata": {},
   "outputs": [
    {
     "name": "stdout",
     "output_type": "stream",
     "text": [
      "Life is too short, \n",
      "you need Python!\n"
     ]
    }
   ],
   "source": [
    "print(sen1)\n",
    "print(sen2)"
   ]
  },
  {
   "cell_type": "code",
   "execution_count": 37,
   "id": "72cb4c76-9a82-43bf-938e-8e1f6bcc33c6",
   "metadata": {},
   "outputs": [
    {
     "name": "stdout",
     "output_type": "stream",
     "text": [
      "Life is too short,  you need Python!\n"
     ]
    }
   ],
   "source": [
    "# print() 괄호 안에 여러 변수명을 나열하면 변수가 가리키는 객체를 하나의 문자열로 결합합니다.\n",
    "print(sen1, sen2)"
   ]
  },
  {
   "cell_type": "code",
   "execution_count": 38,
   "id": "cf61bca6-3e79-4e6b-9176-94f7145ab347",
   "metadata": {},
   "outputs": [
    {
     "data": {
      "text/plain": [
       "str"
      ]
     },
     "execution_count": 38,
     "metadata": {},
     "output_type": "execute_result"
    }
   ],
   "source": [
    "type(sen2)"
   ]
  },
  {
   "cell_type": "code",
   "execution_count": 39,
   "id": "952cfdf2-8bf4-4daa-8d7b-ab43fa453053",
   "metadata": {},
   "outputs": [
    {
     "data": {
      "text/plain": [
       "16"
      ]
     },
     "execution_count": 39,
     "metadata": {},
     "output_type": "execute_result"
    }
   ],
   "source": [
    "# len() 괄호 안에 문자열을 가리키는 변수를 지정하면 글자 개수를 반환합니다.\n",
    "len(sen2)"
   ]
  },
  {
   "cell_type": "code",
   "execution_count": 40,
   "id": "0305713d-184c-4fce-b38c-ee4ae2552324",
   "metadata": {},
   "outputs": [
    {
     "data": {
      "text/plain": [
       "'I am a boy'"
      ]
     },
     "execution_count": 40,
     "metadata": {},
     "output_type": "execute_result"
    }
   ],
   "source": [
    "'I am a boy'"
   ]
  },
  {
   "cell_type": "code",
   "execution_count": 41,
   "id": "f9e85af0-495c-47c8-8a72-bf296c71ca40",
   "metadata": {
    "collapsed": true,
    "jupyter": {
     "outputs_hidden": true
    }
   },
   "outputs": [
    {
     "ename": "SyntaxError",
     "evalue": "unterminated string literal (detected at line 1) (4033123515.py, line 1)",
     "output_type": "error",
     "traceback": [
      "  \u001b[36mCell\u001b[39m\u001b[36m \u001b[39m\u001b[32mIn[41]\u001b[39m\u001b[32m, line 1\u001b[39m\n\u001b[31m    \u001b[39m\u001b[31m'I'm a boy'\u001b[39m\n              ^\n\u001b[31mSyntaxError\u001b[39m\u001b[31m:\u001b[39m unterminated string literal (detected at line 1)\n"
     ]
    }
   ],
   "source": [
    "# 따옴표는 시퀀스를 스트링으로 만드는 기능이 있죠.\n",
    "'I'm a boy'"
   ]
  },
  {
   "cell_type": "code",
   "execution_count": 42,
   "id": "13ac40ac-fb9d-44f8-81ba-e54cfdfcb306",
   "metadata": {},
   "outputs": [
    {
     "data": {
      "text/plain": [
       "\"I'm a boy\""
      ]
     },
     "execution_count": 42,
     "metadata": {},
     "output_type": "execute_result"
    }
   ],
   "source": [
    "\"I'm a boy\""
   ]
  },
  {
   "cell_type": "code",
   "execution_count": 43,
   "id": "5f4da359-081b-47c7-8678-e527e6cfc5aa",
   "metadata": {},
   "outputs": [
    {
     "data": {
      "text/plain": [
       "\"I'm a boy\""
      ]
     },
     "execution_count": 43,
     "metadata": {},
     "output_type": "execute_result"
    }
   ],
   "source": [
    "# 이스케이프(\\)는 메타문자의 기능을 해제합니다.\n",
    "# 메타문자는 어떤 기능을 갖는 특수 문자입니다.\n",
    "'I\\'m a boy'"
   ]
  },
  {
   "cell_type": "code",
   "execution_count": 45,
   "id": "d1da2caa-fd79-473a-a783-87ee977287ea",
   "metadata": {},
   "outputs": [
    {
     "data": {
      "text/plain": [
       "'C:\\\\user\\\\cute\\\\'"
      ]
     },
     "execution_count": 45,
     "metadata": {},
     "output_type": "execute_result"
    }
   ],
   "source": [
    "'C:\\\\user\\\\cute\\\\'"
   ]
  },
  {
   "cell_type": "code",
   "execution_count": 47,
   "id": "aed93343-87ec-450b-a311-f1b1a26f5695",
   "metadata": {},
   "outputs": [
    {
     "data": {
      "text/plain": [
       "'Are you a \"boy\" too?'"
      ]
     },
     "execution_count": 47,
     "metadata": {},
     "output_type": "execute_result"
    }
   ],
   "source": [
    "\"Are you a \\\"boy\\\" too?\""
   ]
  },
  {
   "cell_type": "code",
   "execution_count": 48,
   "id": "0c9c096c-118e-43ba-aa11-e187fb040f1e",
   "metadata": {},
   "outputs": [
    {
     "data": {
      "text/plain": [
       "'나는 행복합니다.\\n이글스라 행복합니다.'"
      ]
     },
     "execution_count": 48,
     "metadata": {},
     "output_type": "execute_result"
    }
   ],
   "source": [
    "# \\n은 개행문자라고 쓰고 엔터를 입력한 것입니다.\n",
    "# \\t는 탭입니다.\n",
    "'''나는 행복합니다.\n",
    "이글스라 행복합니다.'''"
   ]
  },
  {
   "cell_type": "code",
   "execution_count": 49,
   "id": "aa5068fa-766b-4bbe-81ca-7e7230e23ac4",
   "metadata": {},
   "outputs": [
    {
     "data": {
      "text/plain": [
       "'나는 행복합니다.\\n이글스라 행복합니다.'"
      ]
     },
     "execution_count": 49,
     "metadata": {},
     "output_type": "execute_result"
    }
   ],
   "source": [
    "\"\"\"나는 행복합니다.\n",
    "이글스라 행복합니다.\"\"\""
   ]
  },
  {
   "cell_type": "code",
   "execution_count": 50,
   "id": "580b6b75-c990-4b4d-8f07-2ff39cf2a232",
   "metadata": {},
   "outputs": [
    {
     "data": {
      "text/plain": [
       "1.0"
      ]
     },
     "execution_count": 50,
     "metadata": {},
     "output_type": "execute_result"
    }
   ],
   "source": [
    "float(1)"
   ]
  },
  {
   "cell_type": "code",
   "execution_count": 51,
   "id": "0a77e12c-94c1-455e-8a63-769188d8f579",
   "metadata": {},
   "outputs": [
    {
     "data": {
      "text/plain": [
       "'1'"
      ]
     },
     "execution_count": 51,
     "metadata": {},
     "output_type": "execute_result"
    }
   ],
   "source": [
    "str(1)"
   ]
  },
  {
   "cell_type": "code",
   "execution_count": 52,
   "id": "4b08210f-091a-41be-8a05-74e862b7a371",
   "metadata": {},
   "outputs": [
    {
     "data": {
      "text/plain": [
       "1"
      ]
     },
     "execution_count": 52,
     "metadata": {},
     "output_type": "execute_result"
    }
   ],
   "source": [
    "int(1.2)"
   ]
  },
  {
   "cell_type": "code",
   "execution_count": 53,
   "id": "2c840766-e55e-4d2d-b749-c6cdc615272f",
   "metadata": {},
   "outputs": [
    {
     "data": {
      "text/plain": [
       "'1.2'"
      ]
     },
     "execution_count": 53,
     "metadata": {},
     "output_type": "execute_result"
    }
   ],
   "source": [
    "str(1.2)"
   ]
  },
  {
   "cell_type": "code",
   "execution_count": 54,
   "id": "f40fe520-2c18-46ea-8651-0786eada147c",
   "metadata": {},
   "outputs": [
    {
     "data": {
      "text/plain": [
       "1.2"
      ]
     },
     "execution_count": 54,
     "metadata": {},
     "output_type": "execute_result"
    }
   ],
   "source": [
    "float('1.2')"
   ]
  },
  {
   "cell_type": "code",
   "execution_count": 55,
   "id": "b510d543-07b7-4c55-bf04-3a3d9a4f6127",
   "metadata": {},
   "outputs": [
    {
     "ename": "ValueError",
     "evalue": "invalid literal for int() with base 10: '1.2'",
     "output_type": "error",
     "traceback": [
      "\u001b[31m---------------------------------------------------------------------------\u001b[39m",
      "\u001b[31mValueError\u001b[39m                                Traceback (most recent call last)",
      "\u001b[36mCell\u001b[39m\u001b[36m \u001b[39m\u001b[32mIn[55]\u001b[39m\u001b[32m, line 1\u001b[39m\n\u001b[32m----> \u001b[39m\u001b[32m1\u001b[39m \u001b[38;5;28;43mint\u001b[39;49m\u001b[43m(\u001b[49m\u001b[33;43m'\u001b[39;49m\u001b[33;43m1.2\u001b[39;49m\u001b[33;43m'\u001b[39;49m\u001b[43m)\u001b[49m\n",
      "\u001b[31mValueError\u001b[39m: invalid literal for int() with base 10: '1.2'"
     ]
    }
   ],
   "source": [
    "int('1.2')"
   ]
  },
  {
   "cell_type": "code",
   "execution_count": 56,
   "id": "591f8cde-2b5b-4ae1-a8a9-2e875aa18d9d",
   "metadata": {},
   "outputs": [
    {
     "data": {
      "text/plain": [
       "1"
      ]
     },
     "execution_count": 56,
     "metadata": {},
     "output_type": "execute_result"
    }
   ],
   "source": [
    "int(float('1.2'))"
   ]
  },
  {
   "cell_type": "code",
   "execution_count": 57,
   "id": "1ef22558-dc35-4d49-b597-4875ea2c23f4",
   "metadata": {},
   "outputs": [
    {
     "data": {
      "text/plain": [
       "True"
      ]
     },
     "execution_count": 57,
     "metadata": {},
     "output_type": "execute_result"
    }
   ],
   "source": [
    "# True는 정수 1, False 정수 0\n",
    "t = True\n",
    "t"
   ]
  },
  {
   "cell_type": "code",
   "execution_count": 58,
   "id": "e2b282d9-ec61-4143-b436-2e2fa0ce2631",
   "metadata": {},
   "outputs": [
    {
     "data": {
      "text/plain": [
       "bool"
      ]
     },
     "execution_count": 58,
     "metadata": {},
     "output_type": "execute_result"
    }
   ],
   "source": [
    "type(t)"
   ]
  },
  {
   "cell_type": "code",
   "execution_count": 59,
   "id": "3dff8719-b08e-4d3e-abd7-f5d31da51f1f",
   "metadata": {},
   "outputs": [
    {
     "data": {
      "text/plain": [
       "1"
      ]
     },
     "execution_count": 59,
     "metadata": {},
     "output_type": "execute_result"
    }
   ],
   "source": [
    "True + False"
   ]
  },
  {
   "cell_type": "code",
   "execution_count": 68,
   "id": "43e5dec2-9d23-4c08-a3c1-2cd9822cb11a",
   "metadata": {},
   "outputs": [
    {
     "name": "stdout",
     "output_type": "stream",
     "text": [
      "7\n",
      "3\n",
      "10\n",
      "25\n",
      "2.5\n",
      "1\n",
      "2\n"
     ]
    }
   ],
   "source": [
    "print(a + 2)\n",
    "print(a - 2)\n",
    "print(a * 2)\n",
    "print(a ** 2)\n",
    "print(a / 2)\n",
    "print(a % 2)\n",
    "print(a // 2)"
   ]
  },
  {
   "cell_type": "code",
   "execution_count": 69,
   "id": "d9787a93-a804-4e50-9145-59b35dd85d1f",
   "metadata": {},
   "outputs": [
    {
     "data": {
      "text/plain": [
       "6"
      ]
     },
     "execution_count": 69,
     "metadata": {},
     "output_type": "execute_result"
    }
   ],
   "source": [
    "a = 6\n",
    "a"
   ]
  },
  {
   "cell_type": "code",
   "execution_count": 70,
   "id": "2004eb2c-7ee6-44ab-b864-7098fd93b1b4",
   "metadata": {},
   "outputs": [
    {
     "data": {
      "text/plain": [
       "7"
      ]
     },
     "execution_count": 70,
     "metadata": {},
     "output_type": "execute_result"
    }
   ],
   "source": [
    "a += 1\n",
    "a"
   ]
  },
  {
   "cell_type": "code",
   "execution_count": 71,
   "id": "7f8001b1-f677-4f26-a894-e8789e2043a1",
   "metadata": {},
   "outputs": [
    {
     "data": {
      "text/plain": [
       "3.0"
      ]
     },
     "execution_count": 71,
     "metadata": {},
     "output_type": "execute_result"
    }
   ],
   "source": [
    "b -= 2\n",
    "b"
   ]
  },
  {
   "cell_type": "code",
   "execution_count": 72,
   "id": "64d6a821-e947-4cb5-bc81-cc79f1f65bbe",
   "metadata": {},
   "outputs": [
    {
     "data": {
      "text/plain": [
       "True"
      ]
     },
     "execution_count": 72,
     "metadata": {},
     "output_type": "execute_result"
    }
   ],
   "source": [
    "a > 4"
   ]
  },
  {
   "cell_type": "code",
   "execution_count": 73,
   "id": "a59d6d5e-ffd7-417f-96b5-909f41434ee1",
   "metadata": {},
   "outputs": [
    {
     "data": {
      "text/plain": [
       "True"
      ]
     },
     "execution_count": 73,
     "metadata": {},
     "output_type": "execute_result"
    }
   ],
   "source": [
    "a >= 4"
   ]
  },
  {
   "cell_type": "code",
   "execution_count": 74,
   "id": "40ca74dd-4c31-4c96-a35d-a5560603f0e7",
   "metadata": {},
   "outputs": [
    {
     "data": {
      "text/plain": [
       "False"
      ]
     },
     "execution_count": 74,
     "metadata": {},
     "output_type": "execute_result"
    }
   ],
   "source": [
    "a < 4"
   ]
  },
  {
   "cell_type": "code",
   "execution_count": 75,
   "id": "16e9a482-2ad4-4892-ab5a-0bf098238910",
   "metadata": {},
   "outputs": [
    {
     "data": {
      "text/plain": [
       "False"
      ]
     },
     "execution_count": 75,
     "metadata": {},
     "output_type": "execute_result"
    }
   ],
   "source": [
    "a <= 4"
   ]
  },
  {
   "cell_type": "code",
   "execution_count": 76,
   "id": "09b54e0c-cd3c-4895-ab49-bf8bde1abc6e",
   "metadata": {},
   "outputs": [
    {
     "data": {
      "text/plain": [
       "False"
      ]
     },
     "execution_count": 76,
     "metadata": {},
     "output_type": "execute_result"
    }
   ],
   "source": [
    "a == 4"
   ]
  },
  {
   "cell_type": "code",
   "execution_count": 77,
   "id": "4cf48cb7-dd28-4acb-8433-b79cd20a4fd9",
   "metadata": {},
   "outputs": [
    {
     "data": {
      "text/plain": [
       "True"
      ]
     },
     "execution_count": 77,
     "metadata": {},
     "output_type": "execute_result"
    }
   ],
   "source": [
    "a != 4"
   ]
  },
  {
   "cell_type": "code",
   "execution_count": 78,
   "id": "a3ca6549-48e1-4ba3-839d-037bb6a2a05c",
   "metadata": {},
   "outputs": [
    {
     "name": "stdout",
     "output_type": "stream",
     "text": [
      "True\n",
      "False\n"
     ]
    }
   ],
   "source": [
    "print(a > 4)\n",
    "print(b > 4)"
   ]
  },
  {
   "cell_type": "code",
   "execution_count": 79,
   "id": "93ea99e1-dbb2-4e6f-a4b0-bb96ca3af7c4",
   "metadata": {},
   "outputs": [
    {
     "data": {
      "text/plain": [
       "False"
      ]
     },
     "execution_count": 79,
     "metadata": {},
     "output_type": "execute_result"
    }
   ],
   "source": [
    "a > 4 and b > 4"
   ]
  },
  {
   "cell_type": "code",
   "execution_count": 80,
   "id": "2714dcd5-6481-4fa1-b80f-9a867ebae05e",
   "metadata": {},
   "outputs": [
    {
     "data": {
      "text/plain": [
       "True"
      ]
     },
     "execution_count": 80,
     "metadata": {},
     "output_type": "execute_result"
    }
   ],
   "source": [
    "a > 4 or b > 4"
   ]
  },
  {
   "cell_type": "code",
   "execution_count": 81,
   "id": "eeb36d43-4179-415d-b468-355ba9f4be13",
   "metadata": {},
   "outputs": [
    {
     "data": {
      "text/plain": [
       "False"
      ]
     },
     "execution_count": 81,
     "metadata": {},
     "output_type": "execute_result"
    }
   ],
   "source": [
    "not (a > 4 or b > 4)"
   ]
  },
  {
   "cell_type": "raw",
   "id": "e31d1635-9833-445a-9c6b-3688a72fabfb",
   "metadata": {},
   "source": [
    "name = '홍길동'\n",
    "rate = 3.2"
   ]
  },
  {
   "cell_type": "code",
   "execution_count": 84,
   "id": "f279c604-c2ae-41ae-b1e7-ece9047e1cb3",
   "metadata": {},
   "outputs": [
    {
     "name": "stdout",
     "output_type": "stream",
     "text": [
      "홍길동\n",
      "3.2\n"
     ]
    }
   ],
   "source": [
    "name, rate = '홍길동', 3.2\n",
    "print(name)\n",
    "print(rate)"
   ]
  },
  {
   "cell_type": "code",
   "execution_count": 87,
   "id": "0e343fe5-d345-4a8e-bffb-21bb24611b8a",
   "metadata": {},
   "outputs": [
    {
     "data": {
      "text/plain": [
       "'홍길동 고객님의 이자율은 3.2%입니다.'"
      ]
     },
     "execution_count": 87,
     "metadata": {},
     "output_type": "execute_result"
    }
   ],
   "source": [
    "name + ' 고객님의 이자율은 ' + str(rate) + '%입니다.'"
   ]
  },
  {
   "cell_type": "code",
   "execution_count": 88,
   "id": "8348ccd7-0eab-4c21-b4e1-4a138c620d76",
   "metadata": {},
   "outputs": [
    {
     "data": {
      "text/plain": [
       "'홍길동 고객님의 이자율은 3.200000 %입니다.'"
      ]
     },
     "execution_count": 88,
     "metadata": {},
     "output_type": "execute_result"
    }
   ],
   "source": [
    "# 문자열 포맷팅: 포맷 코드 사용\n",
    "'%s 고객님의 이자율은 %f %%입니다.' %(name, rate)"
   ]
  },
  {
   "cell_type": "code",
   "execution_count": 89,
   "id": "14002545-9cd8-4f0a-ae10-7ed894db7adb",
   "metadata": {},
   "outputs": [
    {
     "data": {
      "text/plain": [
       "'홍길동 고객님의 이자율은 3.20 %입니다.'"
      ]
     },
     "execution_count": 89,
     "metadata": {},
     "output_type": "execute_result"
    }
   ],
   "source": [
    "'%s 고객님의 이자율은 %.2f %%입니다.' %(name, rate)"
   ]
  },
  {
   "cell_type": "code",
   "execution_count": 93,
   "id": "e2fc5d8e-784d-48a6-81d6-b58f7cd1d85c",
   "metadata": {},
   "outputs": [
    {
     "data": {
      "text/plain": [
       "'홍길동 고객님의 이자율은 3.20 %입니다.'"
      ]
     },
     "execution_count": 93,
     "metadata": {},
     "output_type": "execute_result"
    }
   ],
   "source": [
    "# 문자열 포맷팅: format() 메서드 사용\n",
    "'{} 고객님의 이자율은 {:.2f} %입니다.'.format(name, rate)"
   ]
  },
  {
   "cell_type": "code",
   "execution_count": 97,
   "id": "1f6c7d7a-64b7-43ef-a918-c916696d3e0c",
   "metadata": {},
   "outputs": [
    {
     "data": {
      "text/plain": [
       "'홍길동 고객님의 이자율은 3.20 %입니다.'"
      ]
     },
     "execution_count": 97,
     "metadata": {},
     "output_type": "execute_result"
    }
   ],
   "source": [
    "# 문자열 포맷팅: f-string 사용\n",
    "f'{name} 고객님의 이자율은 {rate:.2f} %입니다.'"
   ]
  },
  {
   "cell_type": "code",
   "execution_count": 99,
   "id": "a54ac6b2-2175-4070-a1ea-a513f298076f",
   "metadata": {},
   "outputs": [
    {
     "name": "stdin",
     "output_type": "stream",
     "text": [
      "이름:  손흥민\n",
      "이자율:  0.8\n"
     ]
    },
    {
     "data": {
      "text/plain": [
       "'손흥민 고객님의 이자율은 0.80 %입니다.'"
      ]
     },
     "execution_count": 99,
     "metadata": {},
     "output_type": "execute_result"
    }
   ],
   "source": [
    "# input()는 사용자가 입력한 값을 문자열로 변수에 할당합니다.\n",
    "# 따라서 실수로 형 변환을 하려면 float()를 거쳐야 합니다.\n",
    "name = input('이름: ')\n",
    "rate = float(input('이자율: '))\n",
    "f'{name} 고객님의 이자율은 {rate:.2f} %입니다.'"
   ]
  },
  {
   "cell_type": "code",
   "execution_count": 101,
   "id": "c22cc5fc-1dc1-41ad-9204-69ed04664a3d",
   "metadata": {},
   "outputs": [
    {
     "name": "stdin",
     "output_type": "stream",
     "text": [
      "x:  5\n",
      "y:  6\n"
     ]
    },
    {
     "data": {
      "text/plain": [
       "'5.0 * 6.0 = 30.0'"
      ]
     },
     "execution_count": 101,
     "metadata": {},
     "output_type": "execute_result"
    }
   ],
   "source": [
    "# x와 y를 입력받아서 두 수의 곱을 반환하는 코드를 만들어 보세요.\n",
    "# {x} * {y} = {x * y}\n",
    "x = float(input('x: '))\n",
    "y = float(input('y: '))\n",
    "f'{x} * {y} = {x * y}'"
   ]
  },
  {
   "cell_type": "code",
   "execution_count": 103,
   "id": "0112e96f-ed13-48ab-8b12-30046272ecb7",
   "metadata": {},
   "outputs": [
    {
     "name": "stdin",
     "output_type": "stream",
     "text": [
      "몸무게(kg):  65\n",
      "키(cm):  185\n"
     ]
    },
    {
     "data": {
      "text/plain": [
       "'당신의 신체질량지수는 19.0입니다.'"
      ]
     },
     "execution_count": 103,
     "metadata": {},
     "output_type": "execute_result"
    }
   ],
   "source": [
    "# 신체질량지수(bmi)\n",
    "weight = float(input('몸무게(kg): '))\n",
    "height = float(input('키(cm): '))\n",
    "bmi = weight / (height/100) ** 2\n",
    "f'당신의 신체질량지수는 {bmi:.1f}입니다.'"
   ]
  },
  {
   "cell_type": "code",
   "execution_count": 106,
   "id": "2fc4ecb7-3ebe-4be1-a707-717810b9e8c2",
   "metadata": {},
   "outputs": [
    {
     "data": {
      "text/plain": [
       "'손흥민고객님!손흥민고객님!손흥민고객님!'"
      ]
     },
     "execution_count": 106,
     "metadata": {},
     "output_type": "execute_result"
    }
   ],
   "source": [
    "(name + '고객님!') * 3"
   ]
  },
  {
   "cell_type": "code",
   "execution_count": 107,
   "id": "82dc2081-74de-416f-80fc-6fe04cf7e3bf",
   "metadata": {},
   "outputs": [
    {
     "data": {
      "text/plain": [
       "False"
      ]
     },
     "execution_count": 107,
     "metadata": {},
     "output_type": "execute_result"
    }
   ],
   "source": [
    "'홍' in name"
   ]
  },
  {
   "cell_type": "code",
   "execution_count": 108,
   "id": "f61ad700-9f13-4e0f-89a9-6c60556c6e01",
   "metadata": {},
   "outputs": [
    {
     "data": {
      "text/plain": [
       "True"
      ]
     },
     "execution_count": 108,
     "metadata": {},
     "output_type": "execute_result"
    }
   ],
   "source": [
    "'흥' in name"
   ]
  },
  {
   "cell_type": "code",
   "execution_count": 109,
   "id": "5d4f36dd-4d9f-4a02-86d9-a91fc9d03660",
   "metadata": {},
   "outputs": [],
   "source": [
    "sen3 = '아버지가 안방에 들어가신다.'"
   ]
  },
  {
   "cell_type": "code",
   "execution_count": 110,
   "id": "629bd8d5-05a1-4ef6-b3cc-cf51d11dde40",
   "metadata": {},
   "outputs": [
    {
     "data": {
      "text/plain": [
       "'아'"
      ]
     },
     "execution_count": 110,
     "metadata": {},
     "output_type": "execute_result"
    }
   ],
   "source": [
    "sen3[0]"
   ]
  },
  {
   "cell_type": "code",
   "execution_count": 111,
   "id": "5f23541a-56a1-4d3f-b882-647efa9a4d1d",
   "metadata": {},
   "outputs": [
    {
     "data": {
      "text/plain": [
       "'버'"
      ]
     },
     "execution_count": 111,
     "metadata": {},
     "output_type": "execute_result"
    }
   ],
   "source": [
    "sen3[1]"
   ]
  },
  {
   "cell_type": "code",
   "execution_count": 112,
   "id": "6e12f14e-feea-46a1-8079-6c5ca6e46c46",
   "metadata": {},
   "outputs": [
    {
     "data": {
      "text/plain": [
       "'아버지'"
      ]
     },
     "execution_count": 112,
     "metadata": {},
     "output_type": "execute_result"
    }
   ],
   "source": [
    "sen3[0] + sen3[1] + sen3[2]"
   ]
  },
  {
   "cell_type": "code",
   "execution_count": 113,
   "id": "281790c9-16a5-4610-87f4-6be1c8541212",
   "metadata": {},
   "outputs": [
    {
     "data": {
      "text/plain": [
       "'들어가신다.'"
      ]
     },
     "execution_count": 113,
     "metadata": {},
     "output_type": "execute_result"
    }
   ],
   "source": [
    "sen3[9] + sen3[10] + sen3[11] + sen3[12] + sen3[13] + sen3[14]"
   ]
  },
  {
   "cell_type": "code",
   "execution_count": 114,
   "id": "7ac6a14a-94db-4772-8db1-96d018224e2d",
   "metadata": {},
   "outputs": [
    {
     "data": {
      "text/plain": [
       "'아버지'"
      ]
     },
     "execution_count": 114,
     "metadata": {},
     "output_type": "execute_result"
    }
   ],
   "source": [
    "sen3[0:3]"
   ]
  },
  {
   "cell_type": "code",
   "execution_count": 115,
   "id": "4e0dc849-ec2b-472a-b159-7073a8b2bc64",
   "metadata": {},
   "outputs": [
    {
     "data": {
      "text/plain": [
       "'아버지'"
      ]
     },
     "execution_count": 115,
     "metadata": {},
     "output_type": "execute_result"
    }
   ],
   "source": [
    "sen3[:3]"
   ]
  },
  {
   "cell_type": "code",
   "execution_count": 116,
   "id": "ce7484f8-9c0e-46d6-b775-c5b8292f8ed6",
   "metadata": {},
   "outputs": [
    {
     "data": {
      "text/plain": [
       "'들어가신다.'"
      ]
     },
     "execution_count": 116,
     "metadata": {},
     "output_type": "execute_result"
    }
   ],
   "source": [
    "sen3[9:15]"
   ]
  },
  {
   "cell_type": "code",
   "execution_count": 117,
   "id": "435002fa-b658-48d3-957c-1139097a549a",
   "metadata": {},
   "outputs": [
    {
     "data": {
      "text/plain": [
       "'들어가신다.'"
      ]
     },
     "execution_count": 117,
     "metadata": {},
     "output_type": "execute_result"
    }
   ],
   "source": [
    "sen3[9:]"
   ]
  },
  {
   "cell_type": "code",
   "execution_count": 118,
   "id": "3b94660f-1fbb-4642-a317-90436ef301ce",
   "metadata": {},
   "outputs": [
    {
     "data": {
      "text/plain": [
       "'아버지가 안방에 들어가신다.'"
      ]
     },
     "execution_count": 118,
     "metadata": {},
     "output_type": "execute_result"
    }
   ],
   "source": [
    "sen3[:]"
   ]
  },
  {
   "cell_type": "code",
   "execution_count": 119,
   "id": "8880db95-c429-481a-80b7-27977ff9408c",
   "metadata": {},
   "outputs": [
    {
     "data": {
      "text/plain": [
       "'안방에'"
      ]
     },
     "execution_count": 119,
     "metadata": {},
     "output_type": "execute_result"
    }
   ],
   "source": [
    "sen3[5:8]"
   ]
  },
  {
   "cell_type": "code",
   "execution_count": 120,
   "id": "a1ce6fdf-0600-4599-affb-3fe2a4b1de20",
   "metadata": {},
   "outputs": [],
   "source": [
    "news = \"양주시가 지난 9일 옥정호수도서관 예술극장에서 '2024년 양주 클라우드 캠프' 수료생과 클라우드 분야 협력기업 간 매칭데이를 개최했다. '양주 클라우드 캠프'는 4차 산업혁명 시대를 이끌어 갈 미래산업 직종 중 클라우드 분야 인재를 육성하기 위한 프로그램으로, 국내 클라우드 관련 기업과의 협업을 통해 진행된다.\""
   ]
  },
  {
   "cell_type": "code",
   "execution_count": 127,
   "id": "3bac69b6-1274-4dce-b579-9807bc8f2c41",
   "metadata": {},
   "outputs": [],
   "source": [
    "keyword = '클라우드'"
   ]
  },
  {
   "cell_type": "code",
   "execution_count": 128,
   "id": "7af1f65c-27e3-4391-aeb7-f407b487a6d4",
   "metadata": {},
   "outputs": [
    {
     "data": {
      "text/plain": [
       "True"
      ]
     },
     "execution_count": 128,
     "metadata": {},
     "output_type": "execute_result"
    }
   ],
   "source": [
    "keyword in news"
   ]
  },
  {
   "cell_type": "code",
   "execution_count": 129,
   "id": "a1f3cb81-f74d-48a4-87d0-f27db7e4a1b8",
   "metadata": {},
   "outputs": [
    {
     "data": {
      "text/plain": [
       "5"
      ]
     },
     "execution_count": 129,
     "metadata": {},
     "output_type": "execute_result"
    }
   ],
   "source": [
    "news.count(keyword)"
   ]
  },
  {
   "cell_type": "code",
   "execution_count": 130,
   "id": "349e3f07-82e2-440f-9461-6ce3234fc876",
   "metadata": {},
   "outputs": [
    {
     "data": {
      "text/plain": [
       "36"
      ]
     },
     "execution_count": 130,
     "metadata": {},
     "output_type": "execute_result"
    }
   ],
   "source": [
    "# 함수 또는 메서드 괄호 안에 커서를 클릭하고 shift + tab 키를 동시에 누르면\n",
    "# 해당 함수 또는 메서드의 설명서를 확인할 수 있습니다.\n",
    "news.index(keyword)"
   ]
  },
  {
   "cell_type": "code",
   "execution_count": 131,
   "id": "be665fc7-f2e9-4692-b9eb-250cceaffde3",
   "metadata": {},
   "outputs": [
    {
     "data": {
      "text/plain": [
       "50"
      ]
     },
     "execution_count": 131,
     "metadata": {},
     "output_type": "execute_result"
    }
   ],
   "source": [
    "news.index(keyword, 37)"
   ]
  },
  {
   "cell_type": "code",
   "execution_count": 132,
   "id": "d5d06804-ff70-42c8-adec-32b7384b806f",
   "metadata": {},
   "outputs": [
    {
     "data": {
      "text/plain": [
       "81"
      ]
     },
     "execution_count": 132,
     "metadata": {},
     "output_type": "execute_result"
    }
   ],
   "source": [
    "news.index(keyword, 51)"
   ]
  },
  {
   "cell_type": "code",
   "execution_count": 133,
   "id": "6725fe5d-a721-4d84-b04c-f4f114a1e9e7",
   "metadata": {},
   "outputs": [
    {
     "data": {
      "text/plain": [
       "119"
      ]
     },
     "execution_count": 133,
     "metadata": {},
     "output_type": "execute_result"
    }
   ],
   "source": [
    "news.index(keyword, 82)"
   ]
  },
  {
   "cell_type": "code",
   "execution_count": 134,
   "id": "0599d207-f069-4a1c-b103-989dc20f4fb8",
   "metadata": {},
   "outputs": [
    {
     "data": {
      "text/plain": [
       "150"
      ]
     },
     "execution_count": 134,
     "metadata": {},
     "output_type": "execute_result"
    }
   ],
   "source": [
    "news.index(keyword, 120)"
   ]
  },
  {
   "cell_type": "code",
   "execution_count": 135,
   "id": "736ee93f-a568-4822-b702-4df5561d00dd",
   "metadata": {
    "collapsed": true,
    "jupyter": {
     "outputs_hidden": true
    }
   },
   "outputs": [
    {
     "ename": "ValueError",
     "evalue": "substring not found",
     "output_type": "error",
     "traceback": [
      "\u001b[31m---------------------------------------------------------------------------\u001b[39m",
      "\u001b[31mValueError\u001b[39m                                Traceback (most recent call last)",
      "\u001b[36mCell\u001b[39m\u001b[36m \u001b[39m\u001b[32mIn[135]\u001b[39m\u001b[32m, line 1\u001b[39m\n\u001b[32m----> \u001b[39m\u001b[32m1\u001b[39m \u001b[43mnews\u001b[49m\u001b[43m.\u001b[49m\u001b[43mindex\u001b[49m\u001b[43m(\u001b[49m\u001b[43mkeyword\u001b[49m\u001b[43m,\u001b[49m\u001b[43m \u001b[49m\u001b[32;43m151\u001b[39;49m\u001b[43m)\u001b[49m\n",
      "\u001b[31mValueError\u001b[39m: substring not found"
     ]
    }
   ],
   "source": [
    "news.index(keyword, 151)"
   ]
  },
  {
   "cell_type": "code",
   "execution_count": 138,
   "id": "efc2c302-50b8-4ae7-85db-c823637c6489",
   "metadata": {},
   "outputs": [
    {
     "data": {
      "text/plain": [
       "36"
      ]
     },
     "execution_count": 138,
     "metadata": {},
     "output_type": "execute_result"
    }
   ],
   "source": [
    "news.index(keyword)"
   ]
  },
  {
   "cell_type": "code",
   "execution_count": 139,
   "id": "c97bb4eb-4e71-4759-ac99-bd3748147ac7",
   "metadata": {},
   "outputs": [
    {
     "data": {
      "text/plain": [
       "'클라우드'"
      ]
     },
     "execution_count": 139,
     "metadata": {},
     "output_type": "execute_result"
    }
   ],
   "source": [
    "news[36:40]"
   ]
  },
  {
   "cell_type": "code",
   "execution_count": 140,
   "id": "a5654546-4f30-4428-b2ed-6034826d167b",
   "metadata": {},
   "outputs": [
    {
     "data": {
      "text/plain": [
       "'클라우드'"
      ]
     },
     "execution_count": 140,
     "metadata": {},
     "output_type": "execute_result"
    }
   ],
   "source": [
    "idx = news.index(keyword)\n",
    "news[idx:idx+4]"
   ]
  },
  {
   "cell_type": "code",
   "execution_count": 142,
   "id": "68bcec31-3f72-4a74-855f-6d4ada8b1e7e",
   "metadata": {},
   "outputs": [],
   "source": [
    "news = \"협력기업 관계자는 \\\"양주 클라우드 캠프는 MSP에서 필요한 기술인재를 양성하고, 기업의 수요에 맞는 인재를 선발할 수 있는 과정\\\"이라며, \\\"앞으로도 클라우드 운영 전문가 양성을 위해 지속해서 협력하겠다\\\"고 밝혔다. 강수현 시장은 \\\"양주 클라우드 캠프를 통해 양주시의 청년들이 4차 산업혁명 시대의 인재로 거듭나길 바란다\\\"며, \\\"현장실습을 통해 배우고 익힌 실무지식을 바탕으로 양주 청년의 자부심과 책임감을 보여달라\\\"고 전했다.\""
   ]
  },
  {
   "cell_type": "code",
   "execution_count": 162,
   "id": "dbc75c25-5d04-4806-91bd-fdbe18e212b2",
   "metadata": {},
   "outputs": [],
   "source": [
    "news = \"\"\"협력기업 관계자는 \"양주 클라우드 캠프는 MSP에서 필요한 기술인재를 양성하고, 기업의 수요에 맞는 인재를 선발할 수 있는 과정\"이라며, \"앞으로도 클라우드 운영 전문가 양성을 위해 지속해서 협력하겠다\"고 밝혔다. \n",
    "\n",
    "강수현 시장은 \"양주 클라우드 캠프를 통해 양주시의 청년들이 4차 산업혁명 시대의 인재로 거듭나길 바란다\"며, \"현장실습을 통해 배우고 익힌 실무지식을 바탕으로 양주 청년의 자부심과 책임감을 보여달라\"고 전했다.\n",
    "\n",
    "출처 : 경인매일 - 세력에 타협하지 않는 신문(https://www.kmaeil.com)\"\"\""
   ]
  },
  {
   "cell_type": "code",
   "execution_count": 165,
   "id": "364f9081-5a4d-411b-8a25-dd0da77bd7f0",
   "metadata": {},
   "outputs": [
    {
     "data": {
      "text/plain": [
       "'협력기업 관계자는 양주 클라우드 캠프는 MSP에서 필요한 기술인재를 양성하고, 기업의 수요에 맞는 인재를 선발할 수 있는 과정이라며, 앞으로도 클라우드 운영 전문가 양성을 위해 지속해서 협력하겠다고 밝혔다. \\n\\n강수현 시장은 양주 클라우드 캠프를 통해 양주시의 청년들이 4차 산업혁명 시대의 인재로 거듭나길 바란다며, 현장실습을 통해 배우고 익힌 실무지식을 바탕으로 양주 청년의 자부심과 책임감을 보여달라고 전했다.\\n\\n출처 : 경인매일 - 세력에 타협하지 않는 신문(https://www.kmaeil.com)'"
      ]
     },
     "execution_count": 165,
     "metadata": {},
     "output_type": "execute_result"
    }
   ],
   "source": [
    "news = news.replace('\"', '')\n",
    "news"
   ]
  },
  {
   "cell_type": "code",
   "execution_count": 172,
   "id": "a8df7b1a-1973-4218-a36a-4acf9125802c",
   "metadata": {},
   "outputs": [
    {
     "data": {
      "text/plain": [
       "'협력기업 관계자는 양주 cloud camp는 msp에서 필요한 기술인재를 양성하고, 기업의 수요에 맞는 인재를 선발할 수 있는 과정이라며, 앞으로도 cloud 운영 전문가 양성을 위해 지속해서 협력하겠다고 밝혔다. 강수현 시장은 양주 cloud camp를 통해 양주시의 청년들이 4차 산업혁명 시대의 인재로 거듭나길 바란다며, 현장실습을 통해 배우고 익힌 실무지식을 바탕으로 양주 청년의 자부심과 책임감을 보여달라고 전했다.출처 : 경인매일 - 세력에 타협하지 않는 신문(https://www.kmaeil.com)'"
      ]
     },
     "execution_count": 172,
     "metadata": {},
     "output_type": "execute_result"
    }
   ],
   "source": [
    "# method chaining: 메서드 체이닝\n",
    "news = news.replace('\\n', '').replace('클라우드', 'Cloud').replace('캠프', 'Camp').upper().lower()\n",
    "news"
   ]
  },
  {
   "cell_type": "code",
   "execution_count": 177,
   "id": "17f73d7d-5fde-472e-a7c6-bde1d1ae48eb",
   "metadata": {},
   "outputs": [
    {
     "name": "stdout",
     "output_type": "stream",
     "text": [
      "협력기업 관계자는 양주 cloud camp는 msp에서 필요한 기술인재를 양성하고, 기업의 수요에 맞는 인재를 선발할 수 있는 과정이라며, 앞으로도 cloud 운영 전문가 양성을 위해 지속해서 협력하겠다고 밝혔다. 김수현 시장은 양주 cloud camp를 통해 양주시의 청년들이 4차 산업혁명 시대의 인재로 거듭나길 바란다며, 현장실습을 통해 배우고 익힌 실무지식을 바탕으로 양주 청년의 자부심과 책임감을 보여달라고 전했다.출처 : 경인매일 - 세력에 타협하지 않는 신문(https://www.naver.com)\n"
     ]
    }
   ],
   "source": [
    "mayor = '김수현'\n",
    "url = 'https://www.naver.com'\n",
    "news = f'협력기업 관계자는 양주 cloud camp는 msp에서 필요한 기술인재를 양성하고, 기업의 수요에 맞는 인재를 선발할 수 있는 과정이라며, 앞으로도 cloud 운영 전문가 양성을 위해 지속해서 협력하겠다고 밝혔다. {mayor} 시장은 양주 cloud camp를 통해 양주시의 청년들이 4차 산업혁명 시대의 인재로 거듭나길 바란다며, 현장실습을 통해 배우고 익힌 실무지식을 바탕으로 양주 청년의 자부심과 책임감을 보여달라고 전했다.출처 : 경인매일 - 세력에 타협하지 않는 신문({url})'\n",
    "print(news)"
   ]
  },
  {
   "cell_type": "code",
   "execution_count": null,
   "id": "0017405f-9893-4304-b610-01c10679494f",
   "metadata": {},
   "outputs": [],
   "source": []
  },
  {
   "cell_type": "code",
   "execution_count": 143,
   "id": "7e7336e0-5c24-45fc-8426-5adedb68ce99",
   "metadata": {},
   "outputs": [
    {
     "data": {
      "text/plain": [
       "'\\n 파이썬 \\t 문자열 \\t 다루기 \\n'"
      ]
     },
     "execution_count": 143,
     "metadata": {},
     "output_type": "execute_result"
    }
   ],
   "source": [
    "sen4 = '\\n 파이썬 \\t 문자열 \\t 다루기 \\n'\n",
    "sen4"
   ]
  },
  {
   "cell_type": "code",
   "execution_count": 144,
   "id": "87141c0d-56eb-43e1-84cb-a2ed9b08a766",
   "metadata": {},
   "outputs": [
    {
     "name": "stdout",
     "output_type": "stream",
     "text": [
      "\n",
      " 파이썬 \t 문자열 \t 다루기 \n",
      "\n"
     ]
    }
   ],
   "source": [
    "print(sen4)"
   ]
  },
  {
   "cell_type": "code",
   "execution_count": 148,
   "id": "86a20551-c60c-4ccd-bad0-ac5824d10ccb",
   "metadata": {},
   "outputs": [],
   "source": [
    "# 어떤 코드 실행 결과를 원본 변수에 재할당하면 돌이킬 수 없다!\n",
    "sen4 = sen4.strip()"
   ]
  },
  {
   "cell_type": "code",
   "execution_count": 149,
   "id": "7b3832d6-3e30-45ab-b626-cebf1302a8b3",
   "metadata": {},
   "outputs": [
    {
     "data": {
      "text/plain": [
       "'파이썬 \\t 문자열 \\t 다루기'"
      ]
     },
     "execution_count": 149,
     "metadata": {},
     "output_type": "execute_result"
    }
   ],
   "source": [
    "sen4"
   ]
  },
  {
   "cell_type": "code",
   "execution_count": 150,
   "id": "cc4911e1-d8d5-4b04-bb59-4b7fe309fac0",
   "metadata": {},
   "outputs": [],
   "source": [
    "sen4 = '\\n 파이썬 \\t 문자열 \\t 다루기 \\n'"
   ]
  },
  {
   "cell_type": "code",
   "execution_count": 152,
   "id": "1aa91795-9e01-476b-9fba-18d03f9223a6",
   "metadata": {},
   "outputs": [
    {
     "data": {
      "text/plain": [
       "'\\n 파이썬 문자열 다루기 \\n'"
      ]
     },
     "execution_count": 152,
     "metadata": {},
     "output_type": "execute_result"
    }
   ],
   "source": [
    "sen4.replace(' \\t ', ' ')"
   ]
  },
  {
   "cell_type": "code",
   "execution_count": 155,
   "id": "37ea7950-3b03-4b3d-819b-0f04e050c0e0",
   "metadata": {},
   "outputs": [
    {
     "data": {
      "text/plain": [
       "'\\n 파이썬 \\t 문자열 \\t 다루기 \\n'"
      ]
     },
     "execution_count": 155,
     "metadata": {},
     "output_type": "execute_result"
    }
   ],
   "source": [
    "sen4"
   ]
  },
  {
   "cell_type": "code",
   "execution_count": 154,
   "id": "55fbc0b4-63d1-4453-bbc3-61a4e1b3f504",
   "metadata": {},
   "outputs": [
    {
     "data": {
      "text/plain": [
       "['\\n 파이썬 ', ' 문자열 ', ' 다루기 \\n']"
      ]
     },
     "execution_count": 154,
     "metadata": {},
     "output_type": "execute_result"
    }
   ],
   "source": [
    "sen4.split('\\t')"
   ]
  },
  {
   "cell_type": "code",
   "execution_count": 156,
   "id": "19e091a1-50db-4ba8-835c-db2faee0a3a0",
   "metadata": {},
   "outputs": [
    {
     "data": {
      "text/plain": [
       "['파이썬', '문자열', '다루기']"
      ]
     },
     "execution_count": 156,
     "metadata": {},
     "output_type": "execute_result"
    }
   ],
   "source": [
    "strs = sen4.split()\n",
    "strs"
   ]
  },
  {
   "cell_type": "code",
   "execution_count": 157,
   "id": "a886734e-bdc4-4139-9873-e439cafcc0b1",
   "metadata": {},
   "outputs": [
    {
     "data": {
      "text/plain": [
       "'파이썬 문자열 다루기'"
      ]
     },
     "execution_count": 157,
     "metadata": {},
     "output_type": "execute_result"
    }
   ],
   "source": [
    "' '.join(strs)"
   ]
  },
  {
   "cell_type": "code",
   "execution_count": 158,
   "id": "4295ae11-99e7-4ae4-b655-37ebad1d74fa",
   "metadata": {},
   "outputs": [],
   "source": [
    "addr = '서울특별시 강남구 역삼동 1번지'"
   ]
  },
  {
   "cell_type": "code",
   "execution_count": 160,
   "id": "cf6d59bb-9f19-413c-9a20-5a89aef2b023",
   "metadata": {},
   "outputs": [],
   "source": [
    "addr2 = addr.split()"
   ]
  },
  {
   "cell_type": "code",
   "execution_count": 161,
   "id": "cc80131f-9f1c-49cc-b806-603f3444c116",
   "metadata": {},
   "outputs": [
    {
     "data": {
      "text/plain": [
       "'서울특별시 강남구 역삼동 1번지'"
      ]
     },
     "execution_count": 161,
     "metadata": {},
     "output_type": "execute_result"
    }
   ],
   "source": [
    "' '.join(addr2)"
   ]
  },
  {
   "cell_type": "code",
   "execution_count": 179,
   "id": "98a91f10-c671-4096-b769-23e654f0bfd8",
   "metadata": {},
   "outputs": [
    {
     "name": "stdout",
     "output_type": "stream",
     "text": [
      "1\n"
     ]
    }
   ],
   "source": [
    "x1 = 0\n",
    "x1 += 1\n",
    "print(x1)"
   ]
  },
  {
   "cell_type": "code",
   "execution_count": 180,
   "id": "8cf05725-b52b-4081-bb56-bbfea6f56df4",
   "metadata": {},
   "outputs": [
    {
     "data": {
      "text/plain": [
       "'\\n 파이썬 \\t 문자열 \\t 다루기 \\n'"
      ]
     },
     "execution_count": 180,
     "metadata": {},
     "output_type": "execute_result"
    }
   ],
   "source": [
    "sen4"
   ]
  },
  {
   "cell_type": "code",
   "execution_count": 181,
   "id": "642525dc-e3c1-4609-8450-798f8e56cd72",
   "metadata": {},
   "outputs": [
    {
     "data": {
      "text/plain": [
       "19"
      ]
     },
     "execution_count": 181,
     "metadata": {},
     "output_type": "execute_result"
    }
   ],
   "source": [
    "# 이스케이프 시퀀스는 한 글자로 인식합니다.\n",
    "# https://learn.microsoft.com/ko-kr/cpp/c-language/escape-sequences?view=msvc-170\n",
    "len(sen4)"
   ]
  },
  {
   "cell_type": "code",
   "execution_count": 182,
   "id": "3a387a75-ddee-47a0-8d61-b4381d1bf8ee",
   "metadata": {},
   "outputs": [
    {
     "data": {
      "text/plain": [
       "[1, 2.0, '3']"
      ]
     },
     "execution_count": 182,
     "metadata": {},
     "output_type": "execute_result"
    }
   ],
   "source": [
    "li1 = [1, 2.0, '3']\n",
    "li1"
   ]
  },
  {
   "cell_type": "code",
   "execution_count": 183,
   "id": "376e1fe2-e1a1-4c1d-899a-81c249887e2d",
   "metadata": {},
   "outputs": [
    {
     "data": {
      "text/plain": [
       "list"
      ]
     },
     "execution_count": 183,
     "metadata": {},
     "output_type": "execute_result"
    }
   ],
   "source": [
    "type(li1)"
   ]
  },
  {
   "cell_type": "code",
   "execution_count": 184,
   "id": "6862069a-5e42-4cbe-87c2-5c15962b98f6",
   "metadata": {},
   "outputs": [
    {
     "data": {
      "text/plain": [
       "[1, 3, 5, 3]"
      ]
     },
     "execution_count": 184,
     "metadata": {},
     "output_type": "execute_result"
    }
   ],
   "source": [
    "li2 = [1, 3, 5, 3]\n",
    "li2"
   ]
  },
  {
   "cell_type": "code",
   "execution_count": 185,
   "id": "5f97adee-9ace-4834-997e-9b04935bd72d",
   "metadata": {},
   "outputs": [
    {
     "data": {
      "text/plain": [
       "4"
      ]
     },
     "execution_count": 185,
     "metadata": {},
     "output_type": "execute_result"
    }
   ],
   "source": [
    "len(li2)"
   ]
  },
  {
   "cell_type": "code",
   "execution_count": 186,
   "id": "644bfc23-709a-49fd-a18a-6bbfdb23fada",
   "metadata": {},
   "outputs": [
    {
     "data": {
      "text/plain": [
       "[[1, 2.0, '3'], [1, 3, 5, 3]]"
      ]
     },
     "execution_count": 186,
     "metadata": {},
     "output_type": "execute_result"
    }
   ],
   "source": [
    "[li1, li2]"
   ]
  },
  {
   "cell_type": "code",
   "execution_count": 187,
   "id": "e7e0db93-b3c8-42c3-adb2-e561aaa54a3d",
   "metadata": {},
   "outputs": [
    {
     "data": {
      "text/plain": [
       "2"
      ]
     },
     "execution_count": 187,
     "metadata": {},
     "output_type": "execute_result"
    }
   ],
   "source": [
    "li0 = [li1, li2]\n",
    "len(li0)"
   ]
  },
  {
   "cell_type": "code",
   "execution_count": 188,
   "id": "d83b4158-48f6-4e61-8671-55003ab05645",
   "metadata": {},
   "outputs": [
    {
     "data": {
      "text/plain": [
       "[1, 2.0, '3', 1, 3, 5, 3]"
      ]
     },
     "execution_count": 188,
     "metadata": {},
     "output_type": "execute_result"
    }
   ],
   "source": [
    "li1 + li2"
   ]
  },
  {
   "cell_type": "code",
   "execution_count": 189,
   "id": "4c980ed7-ad42-4636-b74b-32aaa00d296a",
   "metadata": {},
   "outputs": [
    {
     "data": {
      "text/plain": [
       "[98, 85, 79, 92, 89, 83]"
      ]
     },
     "execution_count": 189,
     "metadata": {},
     "output_type": "execute_result"
    }
   ],
   "source": [
    "kor = [98, 85, 79]\n",
    "eng = [92, 89, 83]\n",
    "kor + eng"
   ]
  },
  {
   "cell_type": "code",
   "execution_count": 190,
   "id": "8f9fbf41-3a3d-4d0c-b105-39683371e063",
   "metadata": {},
   "outputs": [
    {
     "data": {
      "text/plain": [
       "[1, 3, 5, 3, 1, 3, 5, 3]"
      ]
     },
     "execution_count": 190,
     "metadata": {},
     "output_type": "execute_result"
    }
   ],
   "source": [
    "li2 * 2"
   ]
  },
  {
   "cell_type": "code",
   "execution_count": 191,
   "id": "6fa4afb3-6cd2-42d3-8e27-c2b457cc8029",
   "metadata": {},
   "outputs": [
    {
     "data": {
      "text/plain": [
       "[1, 3, 5, 3]"
      ]
     },
     "execution_count": 191,
     "metadata": {},
     "output_type": "execute_result"
    }
   ],
   "source": [
    "li2"
   ]
  },
  {
   "cell_type": "code",
   "execution_count": 192,
   "id": "8d3817bc-98b6-405c-816a-980077eae106",
   "metadata": {},
   "outputs": [
    {
     "data": {
      "text/plain": [
       "True"
      ]
     },
     "execution_count": 192,
     "metadata": {},
     "output_type": "execute_result"
    }
   ],
   "source": [
    "1 in li2"
   ]
  },
  {
   "cell_type": "code",
   "execution_count": 193,
   "id": "26773071-a349-4b9d-b0b5-a29b158d285a",
   "metadata": {},
   "outputs": [
    {
     "data": {
      "text/plain": [
       "False"
      ]
     },
     "execution_count": 193,
     "metadata": {},
     "output_type": "execute_result"
    }
   ],
   "source": [
    "2 in li2"
   ]
  },
  {
   "cell_type": "code",
   "execution_count": 194,
   "id": "07df2d29-049a-41f6-bcec-eaaa6ca69ad8",
   "metadata": {},
   "outputs": [
    {
     "data": {
      "text/plain": [
       "[1, 2.0, '3']"
      ]
     },
     "execution_count": 194,
     "metadata": {},
     "output_type": "execute_result"
    }
   ],
   "source": [
    "li1"
   ]
  },
  {
   "cell_type": "code",
   "execution_count": 195,
   "id": "ffc56172-dd15-4ee7-add8-d08c3f601adc",
   "metadata": {},
   "outputs": [
    {
     "data": {
      "text/plain": [
       "True"
      ]
     },
     "execution_count": 195,
     "metadata": {},
     "output_type": "execute_result"
    }
   ],
   "source": [
    "2 in li1"
   ]
  },
  {
   "cell_type": "code",
   "execution_count": 196,
   "id": "1d463fed-5ce2-4975-8463-126a6d51d189",
   "metadata": {},
   "outputs": [
    {
     "data": {
      "text/plain": [
       "False"
      ]
     },
     "execution_count": 196,
     "metadata": {},
     "output_type": "execute_result"
    }
   ],
   "source": [
    "3 in li1"
   ]
  },
  {
   "cell_type": "code",
   "execution_count": 197,
   "id": "5bc2971c-d07c-49b8-b83c-b7dcbaa9d74c",
   "metadata": {},
   "outputs": [],
   "source": [
    "li3 = [1, 2, '3', '4', ['가', '나', '다']]"
   ]
  },
  {
   "cell_type": "code",
   "execution_count": 198,
   "id": "9e6e9eed-76d0-4ed6-9143-8ad417259273",
   "metadata": {},
   "outputs": [
    {
     "data": {
      "text/plain": [
       "1"
      ]
     },
     "execution_count": 198,
     "metadata": {},
     "output_type": "execute_result"
    }
   ],
   "source": [
    "li3[0]"
   ]
  },
  {
   "cell_type": "code",
   "execution_count": 199,
   "id": "130ba421-13b0-4f80-af96-a11ae51b8429",
   "metadata": {},
   "outputs": [
    {
     "data": {
      "text/plain": [
       "'3'"
      ]
     },
     "execution_count": 199,
     "metadata": {},
     "output_type": "execute_result"
    }
   ],
   "source": [
    "li3[2]"
   ]
  },
  {
   "cell_type": "code",
   "execution_count": 200,
   "id": "1e95985d-57e5-47e6-9df6-ad837a1daf9d",
   "metadata": {},
   "outputs": [
    {
     "data": {
      "text/plain": [
       "['가', '나', '다']"
      ]
     },
     "execution_count": 200,
     "metadata": {},
     "output_type": "execute_result"
    }
   ],
   "source": [
    "li3[-1]"
   ]
  },
  {
   "cell_type": "code",
   "execution_count": 201,
   "id": "37caa14c-3c3f-4fa5-ae40-3de1ea7c4e46",
   "metadata": {},
   "outputs": [
    {
     "data": {
      "text/plain": [
       "3"
      ]
     },
     "execution_count": 201,
     "metadata": {},
     "output_type": "execute_result"
    }
   ],
   "source": [
    "li3[0] + li3[1]"
   ]
  },
  {
   "cell_type": "code",
   "execution_count": 202,
   "id": "1a15cf5f-a582-4b0e-855c-5ca45ae6d385",
   "metadata": {},
   "outputs": [
    {
     "data": {
      "text/plain": [
       "'34'"
      ]
     },
     "execution_count": 202,
     "metadata": {},
     "output_type": "execute_result"
    }
   ],
   "source": [
    "li3[2] + li3[3]"
   ]
  },
  {
   "cell_type": "code",
   "execution_count": 204,
   "id": "e1892061-c363-4029-b157-a917ddadc55c",
   "metadata": {},
   "outputs": [
    {
     "data": {
      "text/plain": [
       "5"
      ]
     },
     "execution_count": 204,
     "metadata": {},
     "output_type": "execute_result"
    }
   ],
   "source": [
    "li3[1] + int(li3[2])"
   ]
  },
  {
   "cell_type": "code",
   "execution_count": 205,
   "id": "2bd682f1-71cb-4752-88d8-287c20d56e5c",
   "metadata": {},
   "outputs": [
    {
     "data": {
      "text/plain": [
       "'23'"
      ]
     },
     "execution_count": 205,
     "metadata": {},
     "output_type": "execute_result"
    }
   ],
   "source": [
    "str(li3[1]) + li3[2]"
   ]
  },
  {
   "cell_type": "code",
   "execution_count": 207,
   "id": "8f2e3fb9-5ab7-4bcb-a85c-7b53bf5c2e7e",
   "metadata": {},
   "outputs": [
    {
     "data": {
      "text/plain": [
       "'가나다'"
      ]
     },
     "execution_count": 207,
     "metadata": {},
     "output_type": "execute_result"
    }
   ],
   "source": [
    "# li3를 이용해서 문자열 '가나다'를 만들어보세요.\n",
    "''.join(li3[4])"
   ]
  },
  {
   "cell_type": "code",
   "execution_count": 208,
   "id": "13f89246-608f-45ec-b118-e3000d0b75f4",
   "metadata": {},
   "outputs": [
    {
     "data": {
      "text/plain": [
       "'가-나-다'"
      ]
     },
     "execution_count": 208,
     "metadata": {},
     "output_type": "execute_result"
    }
   ],
   "source": [
    "# '가-나-다'\n",
    "'-'.join(li3[4])"
   ]
  },
  {
   "cell_type": "code",
   "execution_count": 209,
   "id": "e9fa6aeb-d901-47d5-9594-d997e48fc49c",
   "metadata": {},
   "outputs": [
    {
     "data": {
      "text/plain": [
       "[1, 2, '3', '4']"
      ]
     },
     "execution_count": 209,
     "metadata": {},
     "output_type": "execute_result"
    }
   ],
   "source": [
    "li3[0:4]"
   ]
  },
  {
   "cell_type": "code",
   "execution_count": 210,
   "id": "59cb2318-83c2-4b77-a6bc-0192ed47acc4",
   "metadata": {},
   "outputs": [
    {
     "data": {
      "text/plain": [
       "[['가', '나', '다']]"
      ]
     },
     "execution_count": 210,
     "metadata": {},
     "output_type": "execute_result"
    }
   ],
   "source": [
    "li3[4:]"
   ]
  },
  {
   "cell_type": "code",
   "execution_count": 211,
   "id": "2786dd85-57a0-46b4-bab0-83e32a4e006e",
   "metadata": {},
   "outputs": [
    {
     "data": {
      "text/plain": [
       "1"
      ]
     },
     "execution_count": 211,
     "metadata": {},
     "output_type": "execute_result"
    }
   ],
   "source": [
    "len(li3[4:])"
   ]
  },
  {
   "cell_type": "code",
   "execution_count": 213,
   "id": "81afd633-4a46-41e4-aefa-0b5b985cbdf4",
   "metadata": {},
   "outputs": [
    {
     "data": {
      "text/plain": [
       "['가', '나', '다']"
      ]
     },
     "execution_count": 213,
     "metadata": {},
     "output_type": "execute_result"
    }
   ],
   "source": [
    "li3[4]"
   ]
  },
  {
   "cell_type": "code",
   "execution_count": 212,
   "id": "65899bb7-6b5c-4db4-a6d1-5143f17ba790",
   "metadata": {},
   "outputs": [
    {
     "data": {
      "text/plain": [
       "3"
      ]
     },
     "execution_count": 212,
     "metadata": {},
     "output_type": "execute_result"
    }
   ],
   "source": [
    "len(li3[4])"
   ]
  },
  {
   "cell_type": "code",
   "execution_count": 216,
   "id": "25fc1533-73bc-41a0-b490-c0637a58c9de",
   "metadata": {},
   "outputs": [
    {
     "data": {
      "text/plain": [
       "'가'"
      ]
     },
     "execution_count": 216,
     "metadata": {},
     "output_type": "execute_result"
    }
   ],
   "source": [
    "li3[4:][0][0]"
   ]
  },
  {
   "cell_type": "code",
   "execution_count": 217,
   "id": "39748921-3c62-47aa-8abf-74cfdb0351c3",
   "metadata": {},
   "outputs": [
    {
     "data": {
      "text/plain": [
       "'가'"
      ]
     },
     "execution_count": 217,
     "metadata": {},
     "output_type": "execute_result"
    }
   ],
   "source": [
    "li3[4][0]"
   ]
  },
  {
   "cell_type": "code",
   "execution_count": 218,
   "id": "2d2e4a63-f785-45ee-b042-4df01214df1e",
   "metadata": {},
   "outputs": [
    {
     "data": {
      "text/plain": [
       "[1, 2, '3', '4', ['가', '나', '다']]"
      ]
     },
     "execution_count": 218,
     "metadata": {},
     "output_type": "execute_result"
    }
   ],
   "source": [
    "li3"
   ]
  },
  {
   "cell_type": "code",
   "execution_count": 219,
   "id": "ee3bef67-21a0-4241-be68-b5079071539b",
   "metadata": {},
   "outputs": [
    {
     "data": {
      "text/plain": [
       "3"
      ]
     },
     "execution_count": 219,
     "metadata": {},
     "output_type": "execute_result"
    }
   ],
   "source": [
    "li3[0] + li3[1]"
   ]
  },
  {
   "cell_type": "code",
   "execution_count": 220,
   "id": "2e9dbebc-7705-44f5-9618-5699081bd306",
   "metadata": {},
   "outputs": [
    {
     "data": {
      "text/plain": [
       "[1, 2]"
      ]
     },
     "execution_count": 220,
     "metadata": {},
     "output_type": "execute_result"
    }
   ],
   "source": [
    "li3[0:1] + li3[1:2]"
   ]
  },
  {
   "cell_type": "code",
   "execution_count": 221,
   "id": "afcaa58d-bfc5-4c26-9ef9-82bcfcfae469",
   "metadata": {},
   "outputs": [
    {
     "ename": "TypeError",
     "evalue": "list indices must be integers or slices, not list",
     "output_type": "error",
     "traceback": [
      "\u001b[31m---------------------------------------------------------------------------\u001b[39m",
      "\u001b[31mTypeError\u001b[39m                                 Traceback (most recent call last)",
      "\u001b[36mCell\u001b[39m\u001b[36m \u001b[39m\u001b[32mIn[221]\u001b[39m\u001b[32m, line 1\u001b[39m\n\u001b[32m----> \u001b[39m\u001b[32m1\u001b[39m \u001b[43mli3\u001b[49m\u001b[43m[\u001b[49m\u001b[43m[\u001b[49m\u001b[32;43m0\u001b[39;49m\u001b[43m,\u001b[49m\u001b[43m \u001b[49m\u001b[32;43m2\u001b[39;49m\u001b[43m]\u001b[49m\u001b[43m]\u001b[49m\n",
      "\u001b[31mTypeError\u001b[39m: list indices must be integers or slices, not list"
     ]
    }
   ],
   "source": [
    "li3[[0, 2]]"
   ]
  },
  {
   "cell_type": "code",
   "execution_count": 223,
   "id": "9c9130a9-058b-4eb7-aeb1-e45964c756cd",
   "metadata": {},
   "outputs": [
    {
     "data": {
      "text/plain": [
       "[1, '3']"
      ]
     },
     "execution_count": 223,
     "metadata": {},
     "output_type": "execute_result"
    }
   ],
   "source": [
    "[li3[0], li3[2]]"
   ]
  },
  {
   "cell_type": "code",
   "execution_count": null,
   "id": "375e8d17-ca2a-4706-9514-757b28cf35d5",
   "metadata": {},
   "outputs": [],
   "source": []
  }
 ],
 "metadata": {
  "kernelspec": {
   "display_name": "Python 3 (ipykernel)",
   "language": "python",
   "name": "python3"
  },
  "language_info": {
   "codemirror_mode": {
    "name": "ipython",
    "version": 3
   },
   "file_extension": ".py",
   "mimetype": "text/x-python",
   "name": "python",
   "nbconvert_exporter": "python",
   "pygments_lexer": "ipython3",
   "version": "3.12.10"
  }
 },
 "nbformat": 4,
 "nbformat_minor": 5
}
