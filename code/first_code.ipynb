{
 "cells": [
  {
   "cell_type": "markdown",
   "id": "d5f80b7b-585c-4e8c-9f04-23820a1c2d10",
   "metadata": {},
   "source": [
    "# 첫 번째 코드"
   ]
  },
  {
   "cell_type": "markdown",
   "id": "2c88151d-73a5-43c5-a1e0-c1f74174119a",
   "metadata": {},
   "source": [
    "## 파이썬 문법 기초\n",
    "- **변수와 객체**\n",
    "- _단순 자료형_\n",
    "  - 정수\n",
    "  - 실수\n",
    "  - 문자열\n",
    "  - 부울\n",
    "- ~복합 자료형~"
   ]
  },
  {
   "cell_type": "code",
   "execution_count": 1,
   "id": "41538d4b-d3ed-427b-b183-28ffaabf9728",
   "metadata": {},
   "outputs": [
    {
     "name": "stdout",
     "output_type": "stream",
     "text": [
      "hello world\n"
     ]
    }
   ],
   "source": [
    "# 셀(cell) 안에 파이썬 코드와 주석을 입력\n",
    "# 코드를 실행할 때 위에 메뉴 중 삼각형(오른쪽 모양) 버튼을 클릭하거나\n",
    "# shift + enter 키를 동시에 누름\n",
    "print('hello world')"
   ]
  },
  {
   "cell_type": "code",
   "execution_count": 2,
   "id": "0a9605c5-abce-4320-acc4-744442ff298a",
   "metadata": {},
   "outputs": [
    {
     "name": "stdout",
     "output_type": "stream",
     "text": [
      "hello world\n"
     ]
    }
   ],
   "source": [
    "print('hello world')"
   ]
  },
  {
   "cell_type": "code",
   "execution_count": 3,
   "id": "fd02578b-05ee-457a-99c0-65117d2b0736",
   "metadata": {},
   "outputs": [
    {
     "data": {
      "text/plain": [
       "2"
      ]
     },
     "execution_count": 3,
     "metadata": {},
     "output_type": "execute_result"
    }
   ],
   "source": [
    "# 코드를 실행했을 때 객체가 생성되면 output 순번이 같이 출력됨\n",
    "1 + 1"
   ]
  },
  {
   "cell_type": "raw",
   "id": "b96ce055-77cd-49a0-b622-939d9c659c5c",
   "metadata": {},
   "source": [
    "name = input('당신의 이름은?')\n",
    "print(name)\n",
    "name + '고객님'"
   ]
  },
  {
   "cell_type": "code",
   "execution_count": 5,
   "id": "465d8449-d731-446f-b288-f5709140bde2",
   "metadata": {},
   "outputs": [
    {
     "data": {
      "text/plain": [
       "3"
      ]
     },
     "execution_count": 5,
     "metadata": {},
     "output_type": "execute_result"
    }
   ],
   "source": [
    "1 + 2"
   ]
  },
  {
   "cell_type": "code",
   "execution_count": null,
   "id": "b100e6d7-d58c-401f-bf7a-49bed38865f3",
   "metadata": {},
   "outputs": [],
   "source": []
  }
 ],
 "metadata": {
  "kernelspec": {
   "display_name": "Python 3 (ipykernel)",
   "language": "python",
   "name": "python3"
  },
  "language_info": {
   "codemirror_mode": {
    "name": "ipython",
    "version": 3
   },
   "file_extension": ".py",
   "mimetype": "text/x-python",
   "name": "python",
   "nbconvert_exporter": "python",
   "pygments_lexer": "ipython3",
   "version": "3.12.10"
  }
 },
 "nbformat": 4,
 "nbformat_minor": 5
}
