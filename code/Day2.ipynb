{
 "cells": [
  {
   "cell_type": "code",
   "execution_count": null,
   "id": "0bc27b3b-8b19-434d-a64a-1c7681877821",
   "metadata": {},
   "outputs": [],
   "source": [
    "li1 = [1, 2.0, '3']\n",
    "li1"
   ]
  },
  {
   "cell_type": "code",
   "execution_count": null,
   "id": "10a40364-f394-4d7f-a405-49ca179d3f05",
   "metadata": {},
   "outputs": [],
   "source": [
    "li2 = [1, 3, 5, 3]\n",
    "li2"
   ]
  },
  {
   "cell_type": "code",
   "execution_count": null,
   "id": "384a6748-7e11-44d3-a65a-7e32ee5d03ab",
   "metadata": {},
   "outputs": [],
   "source": [
    "li3 = [1, 2, '3', '4', ['가', '나', '다']]\n",
    "li3"
   ]
  },
  {
   "cell_type": "code",
   "execution_count": null,
   "id": "9427b38e-026d-496f-9b9f-e2a8bf1587c2",
   "metadata": {},
   "outputs": [],
   "source": [
    "li1 + li2"
   ]
  },
  {
   "cell_type": "code",
   "execution_count": null,
   "id": "266fb951-2841-4330-87d5-087a1e6c7850",
   "metadata": {},
   "outputs": [],
   "source": [
    "li2 * 2"
   ]
  },
  {
   "cell_type": "code",
   "execution_count": null,
   "id": "cc30a82b-28c0-4e8c-b915-96f8e9cadbc0",
   "metadata": {},
   "outputs": [],
   "source": [
    "1 in li2"
   ]
  },
  {
   "cell_type": "code",
   "execution_count": null,
   "id": "d87c66b8-2eac-4962-98f2-b6279c8bd750",
   "metadata": {},
   "outputs": [],
   "source": [
    "li3"
   ]
  },
  {
   "cell_type": "code",
   "execution_count": null,
   "id": "e03807d5-69d6-422a-b60a-9e8f816f3832",
   "metadata": {},
   "outputs": [],
   "source": [
    "li3[0]"
   ]
  },
  {
   "cell_type": "code",
   "execution_count": null,
   "id": "286837b9-f588-4062-850c-b8565d6824a7",
   "metadata": {},
   "outputs": [],
   "source": [
    "li3[2]"
   ]
  },
  {
   "cell_type": "code",
   "execution_count": null,
   "id": "7845811c-1fa7-4161-bd57-460fce8d577d",
   "metadata": {},
   "outputs": [],
   "source": [
    "li3[4]"
   ]
  },
  {
   "cell_type": "code",
   "execution_count": null,
   "id": "171b1fce-79c2-43bb-9c76-2ce768d20af6",
   "metadata": {},
   "outputs": [],
   "source": [
    "li3[0:2]"
   ]
  },
  {
   "cell_type": "code",
   "execution_count": null,
   "id": "3ffce67f-ae15-4e85-9a9e-8e2fc13ee07a",
   "metadata": {},
   "outputs": [],
   "source": [
    "li3[:2]"
   ]
  },
  {
   "cell_type": "code",
   "execution_count": null,
   "id": "f3b43be9-9edf-443b-baf8-85413dfe286b",
   "metadata": {},
   "outputs": [],
   "source": [
    "li3[4:]"
   ]
  },
  {
   "cell_type": "code",
   "execution_count": null,
   "id": "e3c8cd58-0890-4796-a7bd-5a478daf5703",
   "metadata": {},
   "outputs": [],
   "source": [
    "ints = range(6)\n",
    "ints"
   ]
  },
  {
   "cell_type": "code",
   "execution_count": null,
   "id": "bf431f80-8f2a-4e8f-bb12-da6239e1e916",
   "metadata": {},
   "outputs": [],
   "source": [
    "type(ints)"
   ]
  },
  {
   "cell_type": "code",
   "execution_count": null,
   "id": "52ccfb91-f18a-4e33-892f-ae0e6f6c112b",
   "metadata": {},
   "outputs": [],
   "source": [
    "list(ints)"
   ]
  },
  {
   "cell_type": "code",
   "execution_count": null,
   "id": "c22ce7a5-7559-4951-b1f6-c249e86dcc3b",
   "metadata": {},
   "outputs": [],
   "source": [
    "list(range(1, 6))"
   ]
  },
  {
   "cell_type": "code",
   "execution_count": null,
   "id": "b173ed13-9be8-4ba0-8c5d-d59153efa8f2",
   "metadata": {},
   "outputs": [],
   "source": [
    "list(range(1, 6, 2))"
   ]
  },
  {
   "cell_type": "code",
   "execution_count": null,
   "id": "c6c01203-efb6-4815-b288-00942e9039c2",
   "metadata": {},
   "outputs": [],
   "source": [
    "list(range(0, 1, 0.1))"
   ]
  },
  {
   "cell_type": "code",
   "execution_count": null,
   "id": "af50cf81-9229-4d05-92ab-448d018c546d",
   "metadata": {},
   "outputs": [],
   "source": [
    "li4 = list(range(6))\n",
    "li4"
   ]
  },
  {
   "cell_type": "code",
   "execution_count": null,
   "id": "933bf767-1cdb-4226-8834-1a2635b91c05",
   "metadata": {},
   "outputs": [],
   "source": [
    "li4[1:4:2]"
   ]
  },
  {
   "cell_type": "code",
   "execution_count": null,
   "id": "37ef3dc9-d1c8-4143-9708-fb271d23a970",
   "metadata": {},
   "outputs": [],
   "source": [
    "li4[:4:2]"
   ]
  },
  {
   "cell_type": "code",
   "execution_count": null,
   "id": "b8354690-8ec5-4482-933a-2d0a1ab988f7",
   "metadata": {},
   "outputs": [],
   "source": [
    "li4[1::2]"
   ]
  },
  {
   "cell_type": "code",
   "execution_count": null,
   "id": "230af911-a379-4c87-8782-8d6a6c9bca68",
   "metadata": {},
   "outputs": [],
   "source": [
    "li4[::2]"
   ]
  },
  {
   "cell_type": "code",
   "execution_count": null,
   "id": "60e718a1-fde0-4735-9a8b-7f472bc4e89f",
   "metadata": {},
   "outputs": [],
   "source": [
    "li4 = list(range(6))"
   ]
  },
  {
   "cell_type": "code",
   "execution_count": null,
   "id": "6e145fda-4eb5-452f-81d5-2edc1667ba11",
   "metadata": {},
   "outputs": [],
   "source": [
    "# None은 Not Defined이므로 아예 없애버리는 것!\n",
    "li4.append(6)"
   ]
  },
  {
   "cell_type": "code",
   "execution_count": null,
   "id": "3fa159e5-a929-4dcd-a2f8-98b782946f34",
   "metadata": {},
   "outputs": [],
   "source": [
    "li4"
   ]
  },
  {
   "cell_type": "code",
   "execution_count": null,
   "id": "c61ccd64-095d-4de9-b62c-86e5b2d2e307",
   "metadata": {},
   "outputs": [],
   "source": [
    "li4.append([7, 8])\n",
    "li4"
   ]
  },
  {
   "cell_type": "code",
   "execution_count": null,
   "id": "8e3db970-8c3f-4502-8590-1e2ca68f5a72",
   "metadata": {},
   "outputs": [],
   "source": [
    "li4.extend([7, 8])\n",
    "li4"
   ]
  },
  {
   "cell_type": "code",
   "execution_count": null,
   "id": "3983707b-c692-41a6-8ece-677cbee7a998",
   "metadata": {},
   "outputs": [],
   "source": [
    "li4.insert(1, [7, 8])\n",
    "li4"
   ]
  },
  {
   "cell_type": "code",
   "execution_count": null,
   "id": "6cabe379-3f08-4eb6-8ed6-c1e22f156476",
   "metadata": {},
   "outputs": [],
   "source": [
    "li4.remove([7, 8])\n",
    "li4"
   ]
  },
  {
   "cell_type": "code",
   "execution_count": null,
   "id": "c734e09f-3403-4fef-9b04-c4da82357c30",
   "metadata": {},
   "outputs": [],
   "source": [
    "li4.remove([7, 8])\n",
    "li4"
   ]
  },
  {
   "cell_type": "code",
   "execution_count": null,
   "id": "92f41216-ccdf-4566-b422-cc78196e8e5d",
   "metadata": {},
   "outputs": [],
   "source": [
    "li4"
   ]
  },
  {
   "cell_type": "code",
   "execution_count": null,
   "id": "29ea71da-013a-4958-a625-c64fafd2e002",
   "metadata": {},
   "outputs": [],
   "source": [
    "li4.pop(6)"
   ]
  },
  {
   "cell_type": "code",
   "execution_count": null,
   "id": "381b1ddc-c427-4847-9a18-36d63b69f1ef",
   "metadata": {},
   "outputs": [],
   "source": [
    "li4"
   ]
  },
  {
   "cell_type": "code",
   "execution_count": null,
   "id": "91341cd7-28e4-4453-99cf-236dd186f31a",
   "metadata": {},
   "outputs": [],
   "source": [
    "li4.pop()"
   ]
  },
  {
   "cell_type": "code",
   "execution_count": null,
   "id": "03323df5-14cd-40bd-84f1-8945f1cc47c4",
   "metadata": {},
   "outputs": [],
   "source": [
    "li4"
   ]
  },
  {
   "cell_type": "code",
   "execution_count": null,
   "id": "50e89f67-1d1f-4b7d-a288-684a06ec84dc",
   "metadata": {},
   "outputs": [],
   "source": [
    "li4[0] = 6\n",
    "li4"
   ]
  },
  {
   "cell_type": "code",
   "execution_count": null,
   "id": "d0354bf2-a304-4290-8c4f-a677bc0bd7f3",
   "metadata": {},
   "outputs": [],
   "source": [
    "li4[1] = [1, 2]\n",
    "li4"
   ]
  },
  {
   "cell_type": "code",
   "execution_count": null,
   "id": "792d10a0-2490-4b89-b31c-ec9419d4bd47",
   "metadata": {},
   "outputs": [],
   "source": [
    "li4[1:3] = [2, 1]\n",
    "li4"
   ]
  },
  {
   "cell_type": "code",
   "execution_count": null,
   "id": "75b411b8-ae1e-4850-873e-32aab297fea8",
   "metadata": {},
   "outputs": [],
   "source": [
    "li4[3:4] = [3, 0]\n",
    "li4"
   ]
  },
  {
   "cell_type": "code",
   "execution_count": null,
   "id": "5a2c74fe-b4c8-42c7-a640-5cb36a02b3c0",
   "metadata": {},
   "outputs": [],
   "source": [
    "li4[4:5] = 1"
   ]
  },
  {
   "cell_type": "code",
   "execution_count": null,
   "id": "f5406a12-e890-45e9-a36c-3a045f7153cd",
   "metadata": {},
   "outputs": [],
   "source": [
    "li4"
   ]
  },
  {
   "cell_type": "code",
   "execution_count": null,
   "id": "b5753730-0d58-48c6-b7d1-21f987938f3b",
   "metadata": {},
   "outputs": [],
   "source": [
    "li4.sort()"
   ]
  },
  {
   "cell_type": "code",
   "execution_count": null,
   "id": "835d1a97-a430-4ecf-bc1a-c76f1a1868f2",
   "metadata": {},
   "outputs": [],
   "source": [
    "li4"
   ]
  },
  {
   "cell_type": "code",
   "execution_count": null,
   "id": "fdb28759-aaec-455c-8489-613a8b2a5245",
   "metadata": {},
   "outputs": [],
   "source": [
    "li4.sort(reverse = True)"
   ]
  },
  {
   "cell_type": "code",
   "execution_count": null,
   "id": "a5141d38-6a2e-479c-8c6c-8e44d4bf35bc",
   "metadata": {},
   "outputs": [],
   "source": [
    "li4"
   ]
  },
  {
   "cell_type": "code",
   "execution_count": null,
   "id": "d993cf49-0168-41fd-93ba-f085ee374b72",
   "metadata": {},
   "outputs": [],
   "source": [
    "li1"
   ]
  },
  {
   "cell_type": "code",
   "execution_count": null,
   "id": "d8b592b4-cb83-4870-ad89-58158da22d72",
   "metadata": {},
   "outputs": [],
   "source": [
    "li1.sort()"
   ]
  },
  {
   "cell_type": "code",
   "execution_count": null,
   "id": "ed713142-584e-48b7-b4ae-9443f9bf8b0b",
   "metadata": {},
   "outputs": [],
   "source": [
    "li1[2] = 3\n",
    "li1"
   ]
  },
  {
   "cell_type": "code",
   "execution_count": null,
   "id": "9cb13cea-b8c7-4249-bc7a-79114d94d5eb",
   "metadata": {},
   "outputs": [],
   "source": [
    "li1.sort()"
   ]
  },
  {
   "cell_type": "code",
   "execution_count": null,
   "id": "3d06ed95-6609-4ee2-a9b7-ed3c3c81365a",
   "metadata": {},
   "outputs": [],
   "source": [
    "li1"
   ]
  },
  {
   "cell_type": "code",
   "execution_count": null,
   "id": "ec93eb7b-41fb-4506-a25e-971b8021576a",
   "metadata": {},
   "outputs": [],
   "source": [
    "li1 = [1, 2.0, '3']"
   ]
  },
  {
   "cell_type": "code",
   "execution_count": null,
   "id": "c8627c95-b562-44e2-961f-21217647fbf6",
   "metadata": {},
   "outputs": [],
   "source": [
    "li1.reverse()"
   ]
  },
  {
   "cell_type": "code",
   "execution_count": null,
   "id": "edcb7ad9-1faf-4890-a852-e083f9459ffc",
   "metadata": {},
   "outputs": [],
   "source": [
    "li1"
   ]
  },
  {
   "cell_type": "code",
   "execution_count": null,
   "id": "db601ea8-dbe0-4bcf-81eb-31ce52f0534b",
   "metadata": {},
   "outputs": [],
   "source": [
    "sorted(li2)"
   ]
  },
  {
   "cell_type": "code",
   "execution_count": null,
   "id": "55f08ec8-62cb-4e74-9b5d-a0070c129942",
   "metadata": {},
   "outputs": [],
   "source": [
    "li2"
   ]
  },
  {
   "cell_type": "raw",
   "id": "3cf9b020-714a-463d-8296-543adefb6332",
   "metadata": {},
   "source": [
    "li2.sort()"
   ]
  },
  {
   "cell_type": "code",
   "execution_count": null,
   "id": "4a283e8c-46c0-421a-95fe-2033e3c57367",
   "metadata": {},
   "outputs": [],
   "source": [
    "li2 = sorted( li2)\n",
    "li2"
   ]
  },
  {
   "cell_type": "code",
   "execution_count": null,
   "id": "23c1ec7a-1c3f-4a07-9572-632a0c1d2978",
   "metadata": {},
   "outputs": [],
   "source": [
    "tup = (1, 2.0, '3')\n",
    "tup"
   ]
  },
  {
   "cell_type": "code",
   "execution_count": null,
   "id": "a47cdc13-b8bf-41d6-8125-d349ab7aa0e5",
   "metadata": {},
   "outputs": [],
   "source": [
    "type(tup)"
   ]
  },
  {
   "cell_type": "code",
   "execution_count": null,
   "id": "7bd8e20e-9c8f-4f77-8513-5768292958ed",
   "metadata": {},
   "outputs": [],
   "source": [
    "tup[2]"
   ]
  },
  {
   "cell_type": "code",
   "execution_count": null,
   "id": "effe2e71-f79e-403f-a283-c181e9b2dc17",
   "metadata": {},
   "outputs": [],
   "source": [
    "tup[2] = 3"
   ]
  },
  {
   "cell_type": "code",
   "execution_count": null,
   "id": "c89a1f0b-c833-439a-8ceb-f5ca0c3df22d",
   "metadata": {},
   "outputs": [],
   "source": [
    "list(tup)"
   ]
  },
  {
   "cell_type": "code",
   "execution_count": null,
   "id": "31efc4bb-350e-4f47-91d0-c5f9ff888b2a",
   "metadata": {},
   "outputs": [],
   "source": [
    "tup = list(tup)\n",
    "tup[2] = 3\n",
    "tup"
   ]
  },
  {
   "cell_type": "code",
   "execution_count": null,
   "id": "ff2f0cc5-31b5-4bf6-b4b2-5b4379def331",
   "metadata": {},
   "outputs": [],
   "source": [
    "tup = tuple(tup)\n",
    "tup"
   ]
  },
  {
   "cell_type": "code",
   "execution_count": null,
   "id": "dbc9ac78-5380-45c7-9643-a2f923e2132f",
   "metadata": {},
   "outputs": [],
   "source": [
    "set1 = {3, 1, 2, 1}\n",
    "set1"
   ]
  },
  {
   "cell_type": "code",
   "execution_count": null,
   "id": "1c1b9bf3-d38d-462c-9fef-852d95176ba1",
   "metadata": {},
   "outputs": [],
   "source": [
    "type(set1)"
   ]
  },
  {
   "cell_type": "code",
   "execution_count": null,
   "id": "b9c72ed2-fe8f-4b58-988f-f9885ee11a21",
   "metadata": {},
   "outputs": [],
   "source": [
    "set1[0]"
   ]
  },
  {
   "cell_type": "code",
   "execution_count": null,
   "id": "be71d1ea-e9e2-4cdd-8675-9628da4bc304",
   "metadata": {},
   "outputs": [],
   "source": [
    "li2"
   ]
  },
  {
   "cell_type": "code",
   "execution_count": null,
   "id": "0bf66849-beb2-46b2-b735-66adc27e6c02",
   "metadata": {},
   "outputs": [],
   "source": [
    "set2 = set(li2)\n",
    "set2"
   ]
  },
  {
   "cell_type": "code",
   "execution_count": null,
   "id": "21fe5a0a-5dcb-4c70-9e3a-8cb2095d9ec1",
   "metadata": {},
   "outputs": [],
   "source": [
    "set1 & set2"
   ]
  },
  {
   "cell_type": "code",
   "execution_count": null,
   "id": "9a980c15-dae8-44ca-994b-365385e5aac9",
   "metadata": {},
   "outputs": [],
   "source": [
    "set1 | set2"
   ]
  },
  {
   "cell_type": "code",
   "execution_count": null,
   "id": "5dbd5bb9-cc3b-4b2b-a6b7-5d38bb0ec099",
   "metadata": {},
   "outputs": [],
   "source": [
    "(set1 - set2) | (set2 - set1)"
   ]
  },
  {
   "cell_type": "code",
   "execution_count": null,
   "id": "6dc252fd-d227-4352-a6cc-4b5ba1f12c9c",
   "metadata": {},
   "outputs": [],
   "source": [
    "set1.symmetric_difference(set2)"
   ]
  },
  {
   "cell_type": "code",
   "execution_count": null,
   "id": "bb48a0b4-778e-467f-bab4-5faa91d2a954",
   "metadata": {},
   "outputs": [],
   "source": [
    "dct = {'item': 'pants', 'size': 'XL'}\n",
    "dct"
   ]
  },
  {
   "cell_type": "code",
   "execution_count": null,
   "id": "5f525031-77ba-4900-a66b-a4123e22913b",
   "metadata": {},
   "outputs": [],
   "source": [
    "type(dct)"
   ]
  },
  {
   "cell_type": "code",
   "execution_count": null,
   "id": "2f815e30-a3e3-49d3-9421-aa017bb81540",
   "metadata": {},
   "outputs": [],
   "source": [
    "dct.keys()"
   ]
  },
  {
   "cell_type": "code",
   "execution_count": null,
   "id": "86cb0d60-7407-4837-a669-aa0f43206ba1",
   "metadata": {},
   "outputs": [],
   "source": [
    "'item' in dct"
   ]
  },
  {
   "cell_type": "code",
   "execution_count": null,
   "id": "3ce394e6-cd84-4b11-8b97-23c16b7392e5",
   "metadata": {},
   "outputs": [],
   "source": [
    "'shop' in dct"
   ]
  },
  {
   "cell_type": "code",
   "execution_count": null,
   "id": "b2b8d514-3f9c-4904-821f-eeffdf3ebbee",
   "metadata": {},
   "outputs": [],
   "source": [
    "dct['item']"
   ]
  },
  {
   "cell_type": "code",
   "execution_count": null,
   "id": "cabf8254-2af2-4fbe-93fb-4780daae05dd",
   "metadata": {},
   "outputs": [],
   "source": [
    "dct['shop'] = 'A1'"
   ]
  },
  {
   "cell_type": "code",
   "execution_count": null,
   "id": "ce82db88-79e6-4bc1-a3b0-6229d9403856",
   "metadata": {},
   "outputs": [],
   "source": [
    "dct"
   ]
  },
  {
   "cell_type": "code",
   "execution_count": null,
   "id": "cf5bf292-021a-4962-b0d6-fe397174b5a5",
   "metadata": {},
   "outputs": [],
   "source": [
    "del dct['item']"
   ]
  },
  {
   "cell_type": "code",
   "execution_count": null,
   "id": "fe00c66d-4b95-42a2-bdff-d0b5a2e7c6fd",
   "metadata": {},
   "outputs": [],
   "source": [
    "dct"
   ]
  },
  {
   "cell_type": "code",
   "execution_count": null,
   "id": "dc0c653c-b7a0-46f9-bd21-d9a29e04765b",
   "metadata": {},
   "outputs": [],
   "source": [
    "dct['shop'] = 'A2'"
   ]
  },
  {
   "cell_type": "code",
   "execution_count": null,
   "id": "82da667a-bdcd-408e-9342-3cd5195ea83e",
   "metadata": {},
   "outputs": [],
   "source": [
    "dct"
   ]
  },
  {
   "cell_type": "code",
   "execution_count": null,
   "id": "37ac848a-a931-4fcc-b80a-870fc4c460ba",
   "metadata": {},
   "outputs": [],
   "source": [
    "dct[0]"
   ]
  },
  {
   "cell_type": "code",
   "execution_count": null,
   "id": "43656d5a-49b1-4b62-911e-60086700535f",
   "metadata": {},
   "outputs": [],
   "source": [
    "dct = {0: 'pants', 1: 'XL', 2: 'A2'}"
   ]
  },
  {
   "cell_type": "code",
   "execution_count": null,
   "id": "8715a6a0-d611-44ed-bbc0-b548b5cc36b5",
   "metadata": {},
   "outputs": [],
   "source": [
    "dct[0]"
   ]
  },
  {
   "cell_type": "code",
   "execution_count": null,
   "id": "d442ebaf-d1bf-43d4-9b4f-2b8baa5b0913",
   "metadata": {},
   "outputs": [],
   "source": [
    "score = input('점수: ')\n",
    "score"
   ]
  },
  {
   "cell_type": "code",
   "execution_count": null,
   "id": "6fb25d29-f53e-4695-a54d-48366f0bb6dc",
   "metadata": {},
   "outputs": [],
   "source": [
    "score = float(score)\n",
    "score >= 90"
   ]
  },
  {
   "cell_type": "code",
   "execution_count": null,
   "id": "5abe5218-3c1d-4ec5-8c1d-41c93f1a798b",
   "metadata": {},
   "outputs": [],
   "source": [
    "score = float(input('점수: '))\n",
    "if score >= 90:\n",
    "    print('합격')\n",
    "elif score >= 80:\n",
    "    print('재검사')\n",
    "else:\n",
    "    print('불합격')"
   ]
  },
  {
   "cell_type": "code",
   "execution_count": null,
   "id": "962de6ef-6f69-4b12-bc70-b6a4ce5f1a19",
   "metadata": {},
   "outputs": [],
   "source": [
    "# 0~100점을 입력받아서 90 이상이면 A, 80 이상이면 B, 70 이상이면 C, 60 이상이면 D, \n",
    "# 나머지는 F를 출력하는 학점 계산기를 만들어보세요.\n",
    "# 0 미만이거나 100 초과할 때는 '잘못 입력했습니다'를 출력하세요.\n",
    "score = float(input('점수: '))\n",
    "if score < 0 or score > 100:\n",
    "    print('잘못 입력했습니다.')\n",
    "elif score >= 90:\n",
    "    print('A')\n",
    "elif score >= 80:\n",
    "    print('B')\n",
    "elif score >= 70:\n",
    "    print('C')\n",
    "elif score >= 60:\n",
    "    print('D')\n",
    "else:\n",
    "    print('F')"
   ]
  },
  {
   "cell_type": "code",
   "execution_count": null,
   "id": "3947d72b-d47d-453e-869d-3ec2ad07402c",
   "metadata": {},
   "outputs": [],
   "source": [
    "scores = list(range(60, 101, 10))\n",
    "scores"
   ]
  },
  {
   "cell_type": "code",
   "execution_count": null,
   "id": "d189bb73-8436-4893-972a-da9a49134a62",
   "metadata": {},
   "outputs": [],
   "source": [
    "scores[0] >= 90"
   ]
  },
  {
   "cell_type": "code",
   "execution_count": null,
   "id": "abd3f3c3-9287-4602-8ad5-fa69f811c592",
   "metadata": {},
   "outputs": [],
   "source": [
    "i = 0\n",
    "if scores[i] >= 90:\n",
    "    print('합격')\n",
    "elif scores[i] >= 80:\n",
    "    print('재검사')\n",
    "else:\n",
    "    print('불합격')"
   ]
  },
  {
   "cell_type": "code",
   "execution_count": null,
   "id": "e92e168a-1a01-4190-80f1-db4927e4aa1b",
   "metadata": {},
   "outputs": [],
   "source": [
    "if scores[0] >= 90:\n",
    "    grade = '합격'\n",
    "elif scores[0] >= 80:\n",
    "    grade = '재검사'\n",
    "else:\n",
    "    grade = '불합격'\n",
    "grade"
   ]
  },
  {
   "cell_type": "code",
   "execution_count": null,
   "id": "80047d44-6ba0-42db-a982-4fb1f48dd3db",
   "metadata": {},
   "outputs": [],
   "source": [
    "grade = '합격' if scores[0] >= 90 else '재검사' if scores[0] >= 80 else '불합격'\n",
    "grade"
   ]
  },
  {
   "cell_type": "code",
   "execution_count": null,
   "id": "87d17c36-3b83-494e-ad70-3de7705aac72",
   "metadata": {},
   "outputs": [],
   "source": [
    "menu = ['짜장면', '짬뽕밥', '탕수육', '깐풍기', '전가복', '샥스핀']"
   ]
  },
  {
   "cell_type": "code",
   "execution_count": null,
   "id": "b2512826-5512-4048-a504-533cb4411c64",
   "metadata": {},
   "outputs": [],
   "source": [
    "for item in menu:\n",
    "    print(item, '시킬까요?', sep = ' ', end = '\\n')"
   ]
  },
  {
   "cell_type": "code",
   "execution_count": null,
   "id": "419e8ecf-fe86-4545-b661-f0436ed66021",
   "metadata": {},
   "outputs": [],
   "source": [
    "for item in menu:\n",
    "    print(item, '시킬까요?')\n",
    "    if item in ['짜장면', '짬뽕밥']:\n",
    "        print('-> 요리부터 주문합시다!')\n",
    "    print('-> 다음 요리는 뭔가요?', end = '\\n\\n')"
   ]
  },
  {
   "cell_type": "code",
   "execution_count": null,
   "id": "c3ae5f5c-c824-467e-a865-3c84bea2a0d9",
   "metadata": {},
   "outputs": [],
   "source": [
    "for item in menu:\n",
    "    print(item, '시킬까요?')\n",
    "    if item in ['짜장면', '짬뽕밥']:\n",
    "        continue\n",
    "    print('-> 다음 요리는 뭔가요?', end = '\\n\\n')"
   ]
  },
  {
   "cell_type": "code",
   "execution_count": null,
   "id": "11ced5a8-ec21-4cf6-92ae-40290770e153",
   "metadata": {},
   "outputs": [],
   "source": [
    "for item in menu:\n",
    "    print(item, '시킬까요?')\n",
    "    if item in ['전가복', '샥스핀']:\n",
    "        break\n",
    "    print('-> 다음 요리는 뭔가요?', end = '\\n\\n')"
   ]
  },
  {
   "cell_type": "code",
   "execution_count": null,
   "id": "cb3d4da7-ab7a-4389-8812-da3822bde8d8",
   "metadata": {
    "scrolled": true
   },
   "outputs": [],
   "source": [
    "for i in range(2, 20):\n",
    "    print(f'*** {i}단 ***')\n",
    "    for j in range(1, 20):\n",
    "        print(f'{i} * {j} = {i*j}')\n",
    "    print()\n",
    "print('반복문 실행 완료!')"
   ]
  },
  {
   "cell_type": "code",
   "execution_count": null,
   "id": "b98a5945-a1a7-44a9-986f-d665ef20cb9a",
   "metadata": {},
   "outputs": [],
   "source": [
    "nums = range(1, 11)\n",
    "sqrs = []\n",
    "for i in nums:\n",
    "    sqrs.append(i ** 2)\n",
    "sqrs"
   ]
  },
  {
   "cell_type": "code",
   "execution_count": null,
   "id": "1e1aaf8b-a742-4f51-a0d5-ffffb04bfda8",
   "metadata": {},
   "outputs": [],
   "source": [
    "sqrs = [i ** 2 for i in nums]"
   ]
  },
  {
   "cell_type": "code",
   "execution_count": null,
   "id": "3b82c684-bde6-4c6b-8073-c5b1d03390c8",
   "metadata": {},
   "outputs": [],
   "source": [
    "sqrs = []\n",
    "for i in nums:\n",
    "    if i % 2 == 0:\n",
    "        sqrs.append(i ** 2)\n",
    "sqrs"
   ]
  },
  {
   "cell_type": "code",
   "execution_count": null,
   "id": "7d0febd9-38ec-487f-9c56-c9e7ffd15c4c",
   "metadata": {},
   "outputs": [],
   "source": [
    "[i ** 2 for i in nums if i % 2 == 0]"
   ]
  },
  {
   "cell_type": "code",
   "execution_count": null,
   "id": "a95af912-3147-42ec-b62d-2d3eaa2e0221",
   "metadata": {},
   "outputs": [],
   "source": [
    "sqrs = []\n",
    "for i in nums:\n",
    "    if i % 2 == 0: \n",
    "        sqrs.append(i ** 2)\n",
    "    else: \n",
    "        sqrs.append(i * 2)\n",
    "sqrs"
   ]
  },
  {
   "cell_type": "code",
   "execution_count": null,
   "id": "c5187d56-08d7-4193-9644-27342dbdce35",
   "metadata": {},
   "outputs": [],
   "source": [
    "[i ** 2 if i % 2 == 0 else i * 2 for i in nums]"
   ]
  },
  {
   "cell_type": "code",
   "execution_count": null,
   "id": "270e3dbc-ee02-4ef4-928c-3c148cc34821",
   "metadata": {},
   "outputs": [],
   "source": [
    "menu"
   ]
  },
  {
   "cell_type": "code",
   "execution_count": null,
   "id": "6355288f-544f-4041-af93-ed7f2d6c391a",
   "metadata": {},
   "outputs": [],
   "source": [
    "for i, v in enumerate(menu):\n",
    "    print(f'{i}번 메뉴는 {v}입니다.')"
   ]
  },
  {
   "cell_type": "code",
   "execution_count": null,
   "id": "8b854d24-7b91-4166-be66-fc5f8d212bac",
   "metadata": {},
   "outputs": [],
   "source": [
    "cost = [10000, 11000, 20000, 28000, 60000, 60000]"
   ]
  },
  {
   "cell_type": "code",
   "execution_count": null,
   "id": "a74c5cdb-f5f0-4ba3-9adf-462c2d26bfd1",
   "metadata": {},
   "outputs": [],
   "source": [
    "for i, j in zip(menu, cost):\n",
    "    print(f'{i}의 가격은 {j:,}원입니다.')"
   ]
  },
  {
   "cell_type": "code",
   "execution_count": null,
   "id": "a1f8b5e3-ca39-4a1e-aecd-4b1ef4f01434",
   "metadata": {},
   "outputs": [],
   "source": [
    "kor = [98, 85, 79, 89, 92]\n",
    "eng = [84, 75, 88, 91, 85]"
   ]
  },
  {
   "cell_type": "code",
   "execution_count": null,
   "id": "62ba1372-5ccd-4329-a4a4-4c9298e2076f",
   "metadata": {},
   "outputs": [],
   "source": [
    "for k, e in zip(kor, eng):\n",
    "    print(f'평균 점수는 {(k + e)/2}입니다.')"
   ]
  },
  {
   "cell_type": "code",
   "execution_count": null,
   "id": "3746b210-a069-4bda-a171-c4075342c558",
   "metadata": {},
   "outputs": [],
   "source": [
    "for i in enumerate(zip(kor, eng)):\n",
    "    print(i)"
   ]
  },
  {
   "cell_type": "code",
   "execution_count": null,
   "id": "e3ad2a80-c687-42b1-bdea-5d16cdddbd88",
   "metadata": {},
   "outputs": [],
   "source": [
    "for i, (k, e) in enumerate(zip(kor, eng)):\n",
    "    print(f'{i+1}번 학생의 평균 점수는 {(k + e)/2}입니다.')"
   ]
  },
  {
   "cell_type": "code",
   "execution_count": null,
   "id": "e7a41369-b1f3-49d7-8829-408bb568efaf",
   "metadata": {},
   "outputs": [],
   "source": [
    "[(i+j)/2 for i, j in zip(kor, eng)]"
   ]
  },
  {
   "cell_type": "code",
   "execution_count": null,
   "id": "7961da9e-e59a-489b-b64a-34d2eec45157",
   "metadata": {},
   "outputs": [],
   "source": [
    "for i in nums:\n",
    "    if i % 3 == 0:\n",
    "        i = str(i)\n",
    "    print(i ** 2)"
   ]
  },
  {
   "cell_type": "code",
   "execution_count": null,
   "id": "4fe22c50-d3e1-424a-b004-36a15eb70bb6",
   "metadata": {},
   "outputs": [],
   "source": [
    "for i in nums:\n",
    "    try:\n",
    "        if i % 3 == 0:\n",
    "            i = str(i)\n",
    "        print(i ** 2)\n",
    "    except Exception as e:\n",
    "        print(e)"
   ]
  },
  {
   "cell_type": "code",
   "execution_count": null,
   "id": "b6030098-217f-4bed-89cf-5505969d4ee0",
   "metadata": {},
   "outputs": [],
   "source": [
    "i = 5"
   ]
  },
  {
   "cell_type": "code",
   "execution_count": null,
   "id": "9c2dd465-d0ca-45c0-bdf6-402603dad269",
   "metadata": {},
   "outputs": [],
   "source": [
    "while i >= 0:\n",
    "    print(i)\n",
    "    i -= 1"
   ]
  },
  {
   "cell_type": "code",
   "execution_count": null,
   "id": "27fc0cf6-735f-4fab-84c8-0dcf4d1c417e",
   "metadata": {},
   "outputs": [],
   "source": [
    "print(i)"
   ]
  },
  {
   "cell_type": "code",
   "execution_count": null,
   "id": "273ef4a8-c30b-430c-b11c-45a3c643210e",
   "metadata": {},
   "outputs": [],
   "source": [
    "while True:\n",
    "    i += 1\n",
    "    if i >= 10000:\n",
    "        break"
   ]
  },
  {
   "cell_type": "code",
   "execution_count": null,
   "id": "11aa04d7-9da1-4898-90dd-cc0831f15a78",
   "metadata": {},
   "outputs": [],
   "source": [
    "print(i)"
   ]
  },
  {
   "cell_type": "code",
   "execution_count": null,
   "id": "d210274d-37dd-442f-9466-959cc7e33da4",
   "metadata": {},
   "outputs": [],
   "source": [
    "while True:\n",
    "    i += 1"
   ]
  },
  {
   "cell_type": "code",
   "execution_count": null,
   "id": "faa87506-54f3-4517-a98e-4417b716e2e5",
   "metadata": {},
   "outputs": [],
   "source": [
    "print(i)"
   ]
  },
  {
   "cell_type": "code",
   "execution_count": null,
   "id": "dab3ea1f-c483-4160-ae1c-0661c4161df0",
   "metadata": {
    "scrolled": true
   },
   "outputs": [],
   "source": [
    "[f'{i} * {j} = {i*j}' for i in range(2, 10) for j in range(1, 10)]"
   ]
  },
  {
   "cell_type": "code",
   "execution_count": null,
   "id": "472e9331-d349-4f5e-98d1-29a1d77a1895",
   "metadata": {},
   "outputs": [],
   "source": [
    "def BMI(hgt, wgt):\n",
    "    bmi = wgt / (hgt/100) ** 2\n",
    "    return bmi"
   ]
  },
  {
   "cell_type": "code",
   "execution_count": null,
   "id": "2840a311-dac1-4e87-8b67-bd4dc5a9654f",
   "metadata": {},
   "outputs": [],
   "source": [
    "BMI(hgt = 185, wgt = 65)"
   ]
  },
  {
   "cell_type": "code",
   "execution_count": null,
   "id": "a4f11e19-4c6d-4f96-b097-b8b65b6f4bf5",
   "metadata": {},
   "outputs": [],
   "source": [
    "BMI(185, 65)"
   ]
  },
  {
   "cell_type": "code",
   "execution_count": null,
   "id": "91e1877b-1961-4ad8-a8d8-f53029d9fbd5",
   "metadata": {},
   "outputs": [],
   "source": [
    "BMI(65, 185)"
   ]
  },
  {
   "cell_type": "code",
   "execution_count": null,
   "id": "ca6e9891-91b7-4b76-8dd3-cf1d809e60bd",
   "metadata": {},
   "outputs": [],
   "source": [
    "BMI(wgt = 65, hgt = 185)"
   ]
  },
  {
   "cell_type": "code",
   "execution_count": null,
   "id": "f3b2483f-b643-4a90-a667-812d17348520",
   "metadata": {},
   "outputs": [],
   "source": [
    "BMI()"
   ]
  },
  {
   "cell_type": "code",
   "execution_count": null,
   "id": "880a06a5-bf6d-418e-aea0-5ca56b5c8d74",
   "metadata": {},
   "outputs": [],
   "source": [
    "def BMI(hgt = 175, wgt = 65):\n",
    "    '''\n",
    "    This function returns bmi from weight(kg) and height(cm).\n",
    "    이 함수는 체중과 키를 입력받아 신체질량지수를 반환합니다.\n",
    "    '''\n",
    "    bmi = wgt / (hgt/100) ** 2\n",
    "    return bmi"
   ]
  },
  {
   "cell_type": "code",
   "execution_count": null,
   "id": "2d3ed4e4-6dfd-48c7-bf05-da42ac1ed469",
   "metadata": {},
   "outputs": [],
   "source": [
    "BMI()"
   ]
  },
  {
   "cell_type": "code",
   "execution_count": null,
   "id": "e8712817-b57e-4bce-828b-b5d61c7f18ba",
   "metadata": {},
   "outputs": [],
   "source": [
    "BMI(hgt = 185, wgt = 65)"
   ]
  },
  {
   "cell_type": "code",
   "execution_count": null,
   "id": "0b3770fe-31d1-436b-adbb-a6131557634b",
   "metadata": {},
   "outputs": [],
   "source": [
    "def plus(a, b = 1):\n",
    "    return a + b"
   ]
  },
  {
   "cell_type": "code",
   "execution_count": null,
   "id": "70c792a4-a313-46ba-ab00-415345b13428",
   "metadata": {},
   "outputs": [],
   "source": [
    "def BMI(hgt = 175, wgt = 65):\n",
    "    '''\n",
    "    This function returns bmi from weight(kg) and height(cm).\n",
    "    이 함수는 체중과 키를 입력받아 신체질량지수를 반환합니다.\n",
    "    '''\n",
    "    return wgt / (hgt/100) ** 2"
   ]
  },
  {
   "cell_type": "code",
   "execution_count": null,
   "id": "2a2ad252-1453-4e5a-90ab-f0e44c645ede",
   "metadata": {},
   "outputs": [],
   "source": [
    "(lambda hgt, wgt: wgt / (hgt/100) ** 2)(185, 65)"
   ]
  },
  {
   "cell_type": "code",
   "execution_count": null,
   "id": "fbaa790f-639e-40af-b964-a2282e1376cc",
   "metadata": {},
   "outputs": [],
   "source": [
    "BMI2 = lambda hgt = 175, wgt = 65: wgt / (hgt/100) ** 2"
   ]
  },
  {
   "cell_type": "code",
   "execution_count": null,
   "id": "cdf329b9-2962-47cf-86f3-76c0a07c1baa",
   "metadata": {},
   "outputs": [],
   "source": [
    "BMI2(185, 65)"
   ]
  },
  {
   "cell_type": "code",
   "execution_count": null,
   "id": "436990d6-d123-45b7-967a-b40be1bc16ba",
   "metadata": {},
   "outputs": [],
   "source": [
    "BMI2()"
   ]
  },
  {
   "cell_type": "code",
   "execution_count": null,
   "id": "f67dc369-283a-455c-a365-ae54881b7004",
   "metadata": {},
   "outputs": [],
   "source": [
    "def BMI(hgt, wgt):\n",
    "    bmi = wgt / (hgt/100) ** 2\n",
    "    if bmi >= 25:\n",
    "        result = '비만'\n",
    "    elif bmi >= 23:\n",
    "        result = '과체중'\n",
    "    elif bmi >= 18:\n",
    "        result = '정상'\n",
    "    else:\n",
    "        result = '저체중'\n",
    "    return f'귀하의 신체질량지수는 {bmi:.1f}이고, 진단결과는 [{result}]입니다.'"
   ]
  },
  {
   "cell_type": "code",
   "execution_count": null,
   "id": "f173bd06-b539-490a-afa9-10c6ba0222a5",
   "metadata": {},
   "outputs": [],
   "source": [
    "BMI(hgt = 185, wgt = 65)"
   ]
  },
  {
   "cell_type": "code",
   "execution_count": null,
   "id": "8b865500-4da1-4cbe-8260-82502f5fc5b6",
   "metadata": {},
   "outputs": [],
   "source": [
    "def BMI():\n",
    "    wgt = float(input('체중을 kg으로 입력하세요: '))\n",
    "    hgt = float(input('키를 cm로 입력하세요: '))\n",
    "    bmi = wgt / (hgt/100) ** 2\n",
    "    if bmi >= 25:\n",
    "        result = '비만'\n",
    "    elif bmi >= 23:\n",
    "        result = '과체중'\n",
    "    elif bmi >= 18:\n",
    "        result = '정상'\n",
    "    else:\n",
    "        result = '저체중'\n",
    "    return f'귀하의 신체질량지수는 {bmi:.1f}이고, 진단결과는 [{result}]입니다.'"
   ]
  },
  {
   "cell_type": "code",
   "execution_count": null,
   "id": "f7c9a573-7dc1-4be6-9953-43218b5d69da",
   "metadata": {},
   "outputs": [],
   "source": [
    "BMI()"
   ]
  },
  {
   "cell_type": "code",
   "execution_count": null,
   "id": "c9ca9c4b-c0f5-41c0-8f3d-9f866ff7e6a9",
   "metadata": {},
   "outputs": [],
   "source": [
    "sqrs = map(lambda x: x ** 2, nums)\n",
    "sqrs"
   ]
  },
  {
   "cell_type": "code",
   "execution_count": null,
   "id": "3432e219-20c8-4792-8b3c-99f196fac639",
   "metadata": {},
   "outputs": [],
   "source": [
    "list(sqrs)"
   ]
  },
  {
   "cell_type": "code",
   "execution_count": null,
   "id": "8c3a09cf-194c-4e36-bd14-1e894776d20a",
   "metadata": {},
   "outputs": [],
   "source": [
    "[i ** 2 for i in nums]"
   ]
  },
  {
   "cell_type": "code",
   "execution_count": null,
   "id": "cc838c51-401d-45a0-b309-1d0de8332159",
   "metadata": {},
   "outputs": [],
   "source": [
    "# map()의 첫 번째 인수로 반복 실행할 함수를 지정합니다.\n",
    "# 이때 기존 함수는 괄호 없이 함수명만 지정합니다.\n",
    "# 기존 함수가 없으면 사용자 정의 함수 또는 람다 표현식을 지정합니다.\n",
    "# pandas에서는 map() 대신 apply()를 사용합니다.\n",
    "list(map(len, menu))"
   ]
  },
  {
   "cell_type": "code",
   "execution_count": null,
   "id": "83c0d411-1423-478d-ba24-8b74ecc2ed83",
   "metadata": {},
   "outputs": [],
   "source": [
    "# filter()는 첫 번째 인수를 만족하는 원소만 남깁니다.\n",
    "result = filter(lambda x: x % 2 == 0, nums)\n",
    "list(result)"
   ]
  },
  {
   "cell_type": "code",
   "execution_count": null,
   "id": "80b59b64-5559-4d59-a84a-17054ac3f046",
   "metadata": {},
   "outputs": [],
   "source": [
    "[i for i in nums if i % 2 == 0]"
   ]
  },
  {
   "cell_type": "code",
   "execution_count": null,
   "id": "868b325e-4181-4c2f-8e69-14e8027ef4c4",
   "metadata": {},
   "outputs": [],
   "source": [
    "sum(nums)"
   ]
  },
  {
   "cell_type": "code",
   "execution_count": null,
   "id": "ef9b713e-73f2-463b-af6d-e41287f76aae",
   "metadata": {},
   "outputs": [],
   "source": [
    "def sum(x, y = 0):\n",
    "    for i in x:\n",
    "        y -= i\n",
    "    return y"
   ]
  },
  {
   "cell_type": "code",
   "execution_count": null,
   "id": "f2a00026-839f-4908-9137-c7710f395503",
   "metadata": {},
   "outputs": [],
   "source": [
    "sum(nums)"
   ]
  },
  {
   "cell_type": "code",
   "execution_count": null,
   "id": "72baf93e-8f4f-4057-b32c-388e12565ab6",
   "metadata": {},
   "outputs": [],
   "source": [
    "%whos"
   ]
  },
  {
   "cell_type": "code",
   "execution_count": null,
   "id": "ab89afb6-3810-4f7e-a923-c394329ef3da",
   "metadata": {},
   "outputs": [],
   "source": [
    "del sum"
   ]
  },
  {
   "cell_type": "code",
   "execution_count": null,
   "id": "8bb01ae6-0288-48b9-bed6-6513599ca807",
   "metadata": {},
   "outputs": [],
   "source": [
    "%whos"
   ]
  },
  {
   "cell_type": "code",
   "execution_count": null,
   "id": "bb60425f-a9a4-44e3-adf3-24c359633ead",
   "metadata": {},
   "outputs": [],
   "source": [
    "sum(nums)"
   ]
  },
  {
   "cell_type": "code",
   "execution_count": null,
   "id": "9f75b08e-3662-496f-b5bf-52c7e43ffacf",
   "metadata": {},
   "outputs": [],
   "source": [
    "def plus(a, b, c):\n",
    "    return a + b + c"
   ]
  },
  {
   "cell_type": "code",
   "execution_count": null,
   "id": "b44f56ec-9ab7-468f-863a-e1dbe1170123",
   "metadata": {},
   "outputs": [],
   "source": [
    "plus(1, 2, 3)"
   ]
  },
  {
   "cell_type": "code",
   "execution_count": null,
   "id": "16f67bfc-0c97-4a4d-888d-add54a926be1",
   "metadata": {},
   "outputs": [],
   "source": [
    "plus(1, 2)"
   ]
  },
  {
   "cell_type": "code",
   "execution_count": null,
   "id": "03744fe8-9575-4572-8ab8-cb7a77f69c0b",
   "metadata": {},
   "outputs": [],
   "source": [
    "def printArgs(*args):\n",
    "    for i in args:\n",
    "        print(i)"
   ]
  },
  {
   "cell_type": "code",
   "execution_count": null,
   "id": "414a81ae-fe4c-435a-b1d6-e6c278733edb",
   "metadata": {},
   "outputs": [],
   "source": [
    "printArgs(1, 2, 3)"
   ]
  },
  {
   "cell_type": "code",
   "execution_count": null,
   "id": "428cb502-6a51-4065-9624-ed2cfb0aaec6",
   "metadata": {},
   "outputs": [],
   "source": [
    "# 가변 위치인수를 사용하여 원하는 개수만큼 값을 모두 더하는 함수를 만들어보세요.\n",
    "def plus(*args, y = 0):\n",
    "    for i in args:\n",
    "        y += i\n",
    "    return y"
   ]
  },
  {
   "cell_type": "code",
   "execution_count": null,
   "id": "67346a83-334e-4779-b341-4f7cada3ddbc",
   "metadata": {},
   "outputs": [],
   "source": [
    "plus(1, 2, 3, 4, 5, 6, 7, 8, 9, 10)"
   ]
  },
  {
   "cell_type": "code",
   "execution_count": null,
   "id": "b4fbab45-bcc5-49a7-8fe4-88d8fda73215",
   "metadata": {},
   "outputs": [],
   "source": [
    "def printKwargs(**kwargs):\n",
    "    for k, v in kwargs.items():\n",
    "        print(f'{k}: {v}')"
   ]
  },
  {
   "cell_type": "code",
   "execution_count": null,
   "id": "3463e53e-0f65-46d4-aea3-49d4f64cd034",
   "metadata": {},
   "outputs": [],
   "source": [
    "printKwargs(메뉴 = '순대국', 가격 = 9000, 평점 = 4.5)"
   ]
  },
  {
   "cell_type": "code",
   "execution_count": null,
   "id": "0c3ec044-634f-4839-be04-1b638502fe7e",
   "metadata": {},
   "outputs": [],
   "source": []
  },
  {
   "cell_type": "code",
   "execution_count": null,
   "id": "962e8109-e726-4073-ac50-89e71b647a3f",
   "metadata": {},
   "outputs": [],
   "source": []
  },
  {
   "cell_type": "code",
   "execution_count": null,
   "id": "268aec94-192a-4b47-9bac-216b7fb53b3a",
   "metadata": {},
   "outputs": [],
   "source": [
    "import myfuncs"
   ]
  },
  {
   "cell_type": "code",
   "execution_count": null,
   "id": "c9cb3df6-dd4a-4865-993b-158154b2df3e",
   "metadata": {},
   "outputs": [],
   "source": [
    "%whos"
   ]
  },
  {
   "cell_type": "code",
   "execution_count": null,
   "id": "9508e17b-e9d7-4236-b31f-3a9d479c2c2e",
   "metadata": {},
   "outputs": [],
   "source": [
    "myfuncs.BMI()"
   ]
  },
  {
   "cell_type": "code",
   "execution_count": null,
   "id": "78269e12-be11-47c7-a1c4-570bda7eaefc",
   "metadata": {},
   "outputs": [],
   "source": [
    "import myfuncs as mf"
   ]
  },
  {
   "cell_type": "code",
   "execution_count": null,
   "id": "388851cb-2dc3-4c5b-a97c-645e43dcf4fd",
   "metadata": {},
   "outputs": [],
   "source": [
    "%whos"
   ]
  },
  {
   "cell_type": "code",
   "execution_count": null,
   "id": "d64af4ad-2654-4d63-a957-1778440e4244",
   "metadata": {},
   "outputs": [],
   "source": [
    "mf.BMI()"
   ]
  },
  {
   "cell_type": "code",
   "execution_count": null,
   "id": "e31f0bbe-7606-49be-b57f-eeeeb724c967",
   "metadata": {},
   "outputs": [],
   "source": [
    "from myfuncs import BMI"
   ]
  },
  {
   "cell_type": "code",
   "execution_count": null,
   "id": "6a6b9145-afb4-4c12-89e1-cc0f185a99da",
   "metadata": {},
   "outputs": [],
   "source": [
    "%whos"
   ]
  },
  {
   "cell_type": "code",
   "execution_count": null,
   "id": "a24c1736-a59f-4388-b35d-0b9bf016db4b",
   "metadata": {},
   "outputs": [],
   "source": [
    "BMI()"
   ]
  },
  {
   "cell_type": "code",
   "execution_count": 2,
   "id": "69488f4e-9b1a-4c35-b60b-1ce6423e5163",
   "metadata": {},
   "outputs": [
    {
     "data": {
      "text/plain": [
       "['C:\\\\Users\\\\user\\\\AppData\\\\Local\\\\Programs\\\\Python\\\\Python312\\\\python312.zip',\n",
       " 'C:\\\\Users\\\\user\\\\AppData\\\\Local\\\\Programs\\\\Python\\\\Python312\\\\DLLs',\n",
       " 'C:\\\\Users\\\\user\\\\AppData\\\\Local\\\\Programs\\\\Python\\\\Python312\\\\Lib',\n",
       " 'C:\\\\Users\\\\user\\\\AppData\\\\Local\\\\Programs\\\\Python\\\\Python312',\n",
       " '',\n",
       " 'C:\\\\Users\\\\user\\\\AppData\\\\Local\\\\Programs\\\\Python\\\\Python312\\\\Lib\\\\site-packages',\n",
       " 'C:\\\\Users\\\\user\\\\AppData\\\\Local\\\\Programs\\\\Python\\\\Python312\\\\Lib\\\\site-packages\\\\win32',\n",
       " 'C:\\\\Users\\\\user\\\\AppData\\\\Local\\\\Programs\\\\Python\\\\Python312\\\\Lib\\\\site-packages\\\\win32\\\\lib',\n",
       " 'C:\\\\Users\\\\user\\\\AppData\\\\Local\\\\Programs\\\\Python\\\\Python312\\\\Lib\\\\site-packages\\\\Pythonwin']"
      ]
     },
     "execution_count": 2,
     "metadata": {},
     "output_type": "execute_result"
    }
   ],
   "source": [
    "# Python Path를 반환하는 코드\n",
    "# 가운데 빈 따옴표는 현재 주피터 노트북 파일이 저장된 폴더를 의미합니다.\n",
    "import sys\n",
    "sys.path"
   ]
  },
  {
   "cell_type": "code",
   "execution_count": 1,
   "id": "d3a5f79b-fe81-486d-a514-2e435540b56c",
   "metadata": {},
   "outputs": [],
   "source": [
    "import myfuncs"
   ]
  },
  {
   "cell_type": "code",
   "execution_count": null,
   "id": "2e23bc20-7332-4dd9-903b-d111997cebd3",
   "metadata": {},
   "outputs": [],
   "source": []
  }
 ],
 "metadata": {
  "kernelspec": {
   "display_name": "Python 3 (ipykernel)",
   "language": "python",
   "name": "python3"
  },
  "language_info": {
   "codemirror_mode": {
    "name": "ipython",
    "version": 3
   },
   "file_extension": ".py",
   "mimetype": "text/x-python",
   "name": "python",
   "nbconvert_exporter": "python",
   "pygments_lexer": "ipython3",
   "version": "3.12.10"
  }
 },
 "nbformat": 4,
 "nbformat_minor": 5
}
